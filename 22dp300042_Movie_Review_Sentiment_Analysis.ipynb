{
  "metadata": {
    "kernelspec": {
      "language": "python",
      "display_name": "Python 3",
      "name": "python3"
    },
    "language_info": {
      "name": "python",
      "version": "3.10.10",
      "mimetype": "text/x-python",
      "codemirror_mode": {
        "name": "ipython",
        "version": 3
      },
      "pygments_lexer": "ipython3",
      "nbconvert_exporter": "python",
      "file_extension": ".py"
    },
    "colab": {
      "provenance": [],
      "include_colab_link": true
    }
  },
  "nbformat_minor": 0,
  "nbformat": 4,
  "cells": [
    {
      "cell_type": "markdown",
      "metadata": {
        "id": "view-in-github",
        "colab_type": "text"
      },
      "source": [
        "<a href=\"https://colab.research.google.com/github/Sandipwagh9/Movie_Review_Sentiment_Analysis/blob/main/22dp300042_Movie_Review_Sentiment_Analysis.ipynb\" target=\"_parent\"><img src=\"https://colab.research.google.com/assets/colab-badge.svg\" alt=\"Open In Colab\"/></a>"
      ]
    },
    {
      "cell_type": "markdown",
      "source": [
        "Project-> Movie Review Sentiment Analysis"
      ],
      "metadata": {
        "id": "mwwFB8FTe39c"
      }
    },
    {
      "cell_type": "markdown",
      "source": [
        "# Libraries Used in Project"
      ],
      "metadata": {
        "id": "xodxoh9OFp3S"
      }
    },
    {
      "cell_type": "code",
      "source": [
        "#This are all Libraries which I have used in project Starting for EDA,Data Visualization,Preprocessing,Feature Extraction,Classification Model,evaluation\n",
        "import numpy as np\n",
        "import matplotlib.pyplot as plt\n",
        "import pandas as pd\n",
        "import seaborn as sns\n",
        "from imblearn.over_sampling import SMOTE\n",
        "from sklearn.dummy import DummyClassifier\n",
        "from sklearn.ensemble import VotingClassifier\n",
        "from sklearn.feature_extraction.text import TfidfVectorizer\n",
        "from sklearn.feature_extraction._stop_words import ENGLISH_STOP_WORDS\n",
        "from sklearn.feature_selection import SelectPercentile,f_classif,chi2\n",
        "from sklearn.impute import SimpleImputer\n",
        "from sklearn.linear_model import LogisticRegression\n",
        "from sklearn.linear_model import SGDClassifier\n",
        "from sklearn.model_selection import GridSearchCV\n",
        "from sklearn.model_selection import RandomizedSearchCV\n",
        "from sklearn.model_selection import train_test_split\n",
        "from sklearn.metrics import accuracy_score,classification_report, confusion_matrix,roc_curve, roc_auc_score, auc,make_scorer,f1_score\n",
        "from sklearn.pipeline import Pipeline\n",
        "from sklearn.preprocessing import StandardScaler,RobustScaler\n",
        "from sklearn.svm import LinearSVC\n",
        "from sklearn.svm import SVC\n",
        "from scipy.sparse import hstack, csr_matrix\n",
        "import xgboost as xgb"
      ],
      "metadata": {
        "id": "crFxKPWALO7n",
        "execution": {
          "iopub.status.busy": "2023-08-28T04:09:51.239954Z",
          "iopub.execute_input": "2023-08-28T04:09:51.240330Z",
          "iopub.status.idle": "2023-08-28T04:09:53.807071Z",
          "shell.execute_reply.started": "2023-08-28T04:09:51.240299Z",
          "shell.execute_reply": "2023-08-28T04:09:53.805974Z"
        },
        "trusted": true
      },
      "execution_count": null,
      "outputs": []
    },
    {
      "cell_type": "markdown",
      "source": [
        "# Data Reading"
      ],
      "metadata": {
        "id": "hJZDoQHyS1kl"
      }
    },
    {
      "cell_type": "code",
      "source": [
        "import numpy as np\n",
        "import pandas as pd"
      ],
      "metadata": {
        "id": "o96Sh0GcvkeJ",
        "execution": {
          "iopub.status.busy": "2023-08-28T04:10:26.651379Z",
          "iopub.execute_input": "2023-08-28T04:10:26.651812Z",
          "iopub.status.idle": "2023-08-28T04:10:26.665796Z",
          "shell.execute_reply.started": "2023-08-28T04:10:26.651779Z",
          "shell.execute_reply": "2023-08-28T04:10:26.664698Z"
        },
        "trusted": true
      },
      "execution_count": null,
      "outputs": []
    },
    {
      "cell_type": "code",
      "source": [
        "#By help of read_csv method of pandas library we are able to read train.csv file\n",
        "train_data_frame485 = pd.read_csv(\"/content/train.csv\")"
      ],
      "metadata": {
        "id": "dhPl7veLvn7Q",
        "execution": {
          "iopub.status.busy": "2023-08-28T04:10:27.526587Z",
          "iopub.execute_input": "2023-08-28T04:10:27.527223Z",
          "iopub.status.idle": "2023-08-28T04:10:28.887309Z",
          "shell.execute_reply.started": "2023-08-28T04:10:27.527186Z",
          "shell.execute_reply": "2023-08-28T04:10:28.886311Z"
        },
        "trusted": true
      },
      "execution_count": null,
      "outputs": []
    },
    {
      "cell_type": "code",
      "source": [
        "#By help of read_csv method of pandas library we are able to read test.csv file\n",
        "test_data_frame485 = pd.read_csv(\"/content/test.csv\")"
      ],
      "metadata": {
        "id": "Fqf77yC5wBQl",
        "execution": {
          "iopub.status.busy": "2023-08-28T04:10:28.888855Z",
          "iopub.execute_input": "2023-08-28T04:10:28.889147Z",
          "iopub.status.idle": "2023-08-28T04:10:29.223912Z",
          "shell.execute_reply.started": "2023-08-28T04:10:28.889122Z",
          "shell.execute_reply": "2023-08-28T04:10:29.223024Z"
        },
        "trusted": true
      },
      "execution_count": null,
      "outputs": []
    },
    {
      "cell_type": "code",
      "source": [
        "#By help of read_csv method of pandas library we are able to read movies.csv file\n",
        "movie_data_frame485 = pd.read_csv(\"/content/movies.csv\")"
      ],
      "metadata": {
        "execution": {
          "iopub.status.busy": "2023-08-28T04:10:29.225538Z",
          "iopub.execute_input": "2023-08-28T04:10:29.226257Z",
          "iopub.status.idle": "2023-08-28T04:10:30.133374Z",
          "shell.execute_reply.started": "2023-08-28T04:10:29.226217Z",
          "shell.execute_reply": "2023-08-28T04:10:30.132371Z"
        },
        "trusted": true,
        "id": "NZrKST90Fp3p"
      },
      "execution_count": null,
      "outputs": []
    },
    {
      "cell_type": "code",
      "source": [
        "#DataFrame.head() method is used to display first 5 rows of dataframe by Default\n",
        "movie_data_frame485.head()"
      ],
      "metadata": {
        "execution": {
          "iopub.status.busy": "2023-08-28T04:10:30.135518Z",
          "iopub.execute_input": "2023-08-28T04:10:30.136129Z",
          "iopub.status.idle": "2023-08-28T04:10:30.171499Z",
          "shell.execute_reply.started": "2023-08-28T04:10:30.136090Z",
          "shell.execute_reply": "2023-08-28T04:10:30.170762Z"
        },
        "trusted": true,
        "colab": {
          "base_uri": "https://localhost:8080/",
          "height": 538
        },
        "id": "PVDGDVMeFp3q",
        "outputId": "39ae021b-7641-4cb8-eb1d-3ed7f553a8e4"
      },
      "execution_count": null,
      "outputs": [
        {
          "output_type": "execute_result",
          "data": {
            "text/plain": [
              "                                             movieid  \\\n",
              "0                  han_solo_heroic_myth_wonder_woman   \n",
              "1              voyage_tyler_durden_han_solo_stardust   \n",
              "2  norman_bates_ferris_bueller_hermione_granger_v...   \n",
              "3                           elegant_hermione_granger   \n",
              "4                             adventure_rocky_balboa   \n",
              "\n",
              "                                               title  audienceScore rating  \\\n",
              "0                  Han Solo Heroic Myth Wonder Woman           50.0    NaN   \n",
              "1              Voyage Tyler Durden Han Solo Stardust            NaN    NaN   \n",
              "2  Norman Bates Ferris Bueller Hermione Granger V...           43.0    NaN   \n",
              "3                           Elegant Hermione Granger           60.0    NaN   \n",
              "4                             Adventure Rocky Balboa           70.0    NaN   \n",
              "\n",
              "  ratingContents releaseDateTheaters releaseDateStreaming  runtimeMinutes  \\\n",
              "0            NaN                 NaN           2018-08-25            75.0   \n",
              "1            NaN                 NaN           2020-02-11           114.0   \n",
              "2            NaN                 NaN                  NaN           120.0   \n",
              "3            NaN                 NaN           2020-10-23            90.0   \n",
              "4            NaN                 NaN           2017-03-27            80.0   \n",
              "\n",
              "                           genre originalLanguage        director boxOffice  \\\n",
              "0         Comedy, Horror, Sci-fi          English  Claude Nicolet       NaN   \n",
              "1                          Drama          English    Nathan Haack       NaN   \n",
              "2                          Drama           Korean   Theresa Smith       NaN   \n",
              "3     Action, Mystery & thriller          English    Donald Lewis       NaN   \n",
              "4  Fantasy, Adventure, Animation          English    Howard Simms       NaN   \n",
              "\n",
              "  distributor soundType  \n",
              "0         NaN       NaN  \n",
              "1         NaN       NaN  \n",
              "2         NaN       NaN  \n",
              "3         NaN       NaN  \n",
              "4         NaN       NaN  "
            ],
            "text/html": [
              "\n",
              "  <div id=\"df-15ce61f7-91d1-4dd9-8103-1a3685e9ea56\" class=\"colab-df-container\">\n",
              "    <div>\n",
              "<style scoped>\n",
              "    .dataframe tbody tr th:only-of-type {\n",
              "        vertical-align: middle;\n",
              "    }\n",
              "\n",
              "    .dataframe tbody tr th {\n",
              "        vertical-align: top;\n",
              "    }\n",
              "\n",
              "    .dataframe thead th {\n",
              "        text-align: right;\n",
              "    }\n",
              "</style>\n",
              "<table border=\"1\" class=\"dataframe\">\n",
              "  <thead>\n",
              "    <tr style=\"text-align: right;\">\n",
              "      <th></th>\n",
              "      <th>movieid</th>\n",
              "      <th>title</th>\n",
              "      <th>audienceScore</th>\n",
              "      <th>rating</th>\n",
              "      <th>ratingContents</th>\n",
              "      <th>releaseDateTheaters</th>\n",
              "      <th>releaseDateStreaming</th>\n",
              "      <th>runtimeMinutes</th>\n",
              "      <th>genre</th>\n",
              "      <th>originalLanguage</th>\n",
              "      <th>director</th>\n",
              "      <th>boxOffice</th>\n",
              "      <th>distributor</th>\n",
              "      <th>soundType</th>\n",
              "    </tr>\n",
              "  </thead>\n",
              "  <tbody>\n",
              "    <tr>\n",
              "      <th>0</th>\n",
              "      <td>han_solo_heroic_myth_wonder_woman</td>\n",
              "      <td>Han Solo Heroic Myth Wonder Woman</td>\n",
              "      <td>50.0</td>\n",
              "      <td>NaN</td>\n",
              "      <td>NaN</td>\n",
              "      <td>NaN</td>\n",
              "      <td>2018-08-25</td>\n",
              "      <td>75.0</td>\n",
              "      <td>Comedy, Horror, Sci-fi</td>\n",
              "      <td>English</td>\n",
              "      <td>Claude Nicolet</td>\n",
              "      <td>NaN</td>\n",
              "      <td>NaN</td>\n",
              "      <td>NaN</td>\n",
              "    </tr>\n",
              "    <tr>\n",
              "      <th>1</th>\n",
              "      <td>voyage_tyler_durden_han_solo_stardust</td>\n",
              "      <td>Voyage Tyler Durden Han Solo Stardust</td>\n",
              "      <td>NaN</td>\n",
              "      <td>NaN</td>\n",
              "      <td>NaN</td>\n",
              "      <td>NaN</td>\n",
              "      <td>2020-02-11</td>\n",
              "      <td>114.0</td>\n",
              "      <td>Drama</td>\n",
              "      <td>English</td>\n",
              "      <td>Nathan Haack</td>\n",
              "      <td>NaN</td>\n",
              "      <td>NaN</td>\n",
              "      <td>NaN</td>\n",
              "    </tr>\n",
              "    <tr>\n",
              "      <th>2</th>\n",
              "      <td>norman_bates_ferris_bueller_hermione_granger_v...</td>\n",
              "      <td>Norman Bates Ferris Bueller Hermione Granger V...</td>\n",
              "      <td>43.0</td>\n",
              "      <td>NaN</td>\n",
              "      <td>NaN</td>\n",
              "      <td>NaN</td>\n",
              "      <td>NaN</td>\n",
              "      <td>120.0</td>\n",
              "      <td>Drama</td>\n",
              "      <td>Korean</td>\n",
              "      <td>Theresa Smith</td>\n",
              "      <td>NaN</td>\n",
              "      <td>NaN</td>\n",
              "      <td>NaN</td>\n",
              "    </tr>\n",
              "    <tr>\n",
              "      <th>3</th>\n",
              "      <td>elegant_hermione_granger</td>\n",
              "      <td>Elegant Hermione Granger</td>\n",
              "      <td>60.0</td>\n",
              "      <td>NaN</td>\n",
              "      <td>NaN</td>\n",
              "      <td>NaN</td>\n",
              "      <td>2020-10-23</td>\n",
              "      <td>90.0</td>\n",
              "      <td>Action, Mystery &amp; thriller</td>\n",
              "      <td>English</td>\n",
              "      <td>Donald Lewis</td>\n",
              "      <td>NaN</td>\n",
              "      <td>NaN</td>\n",
              "      <td>NaN</td>\n",
              "    </tr>\n",
              "    <tr>\n",
              "      <th>4</th>\n",
              "      <td>adventure_rocky_balboa</td>\n",
              "      <td>Adventure Rocky Balboa</td>\n",
              "      <td>70.0</td>\n",
              "      <td>NaN</td>\n",
              "      <td>NaN</td>\n",
              "      <td>NaN</td>\n",
              "      <td>2017-03-27</td>\n",
              "      <td>80.0</td>\n",
              "      <td>Fantasy, Adventure, Animation</td>\n",
              "      <td>English</td>\n",
              "      <td>Howard Simms</td>\n",
              "      <td>NaN</td>\n",
              "      <td>NaN</td>\n",
              "      <td>NaN</td>\n",
              "    </tr>\n",
              "  </tbody>\n",
              "</table>\n",
              "</div>\n",
              "    <div class=\"colab-df-buttons\">\n",
              "\n",
              "  <div class=\"colab-df-container\">\n",
              "    <button class=\"colab-df-convert\" onclick=\"convertToInteractive('df-15ce61f7-91d1-4dd9-8103-1a3685e9ea56')\"\n",
              "            title=\"Convert this dataframe to an interactive table.\"\n",
              "            style=\"display:none;\">\n",
              "\n",
              "  <svg xmlns=\"http://www.w3.org/2000/svg\" height=\"24px\" viewBox=\"0 -960 960 960\">\n",
              "    <path d=\"M120-120v-720h720v720H120Zm60-500h600v-160H180v160Zm220 220h160v-160H400v160Zm0 220h160v-160H400v160ZM180-400h160v-160H180v160Zm440 0h160v-160H620v160ZM180-180h160v-160H180v160Zm440 0h160v-160H620v160Z\"/>\n",
              "  </svg>\n",
              "    </button>\n",
              "\n",
              "  <style>\n",
              "    .colab-df-container {\n",
              "      display:flex;\n",
              "      gap: 12px;\n",
              "    }\n",
              "\n",
              "    .colab-df-convert {\n",
              "      background-color: #E8F0FE;\n",
              "      border: none;\n",
              "      border-radius: 50%;\n",
              "      cursor: pointer;\n",
              "      display: none;\n",
              "      fill: #1967D2;\n",
              "      height: 32px;\n",
              "      padding: 0 0 0 0;\n",
              "      width: 32px;\n",
              "    }\n",
              "\n",
              "    .colab-df-convert:hover {\n",
              "      background-color: #E2EBFA;\n",
              "      box-shadow: 0px 1px 2px rgba(60, 64, 67, 0.3), 0px 1px 3px 1px rgba(60, 64, 67, 0.15);\n",
              "      fill: #174EA6;\n",
              "    }\n",
              "\n",
              "    .colab-df-buttons div {\n",
              "      margin-bottom: 4px;\n",
              "    }\n",
              "\n",
              "    [theme=dark] .colab-df-convert {\n",
              "      background-color: #3B4455;\n",
              "      fill: #D2E3FC;\n",
              "    }\n",
              "\n",
              "    [theme=dark] .colab-df-convert:hover {\n",
              "      background-color: #434B5C;\n",
              "      box-shadow: 0px 1px 3px 1px rgba(0, 0, 0, 0.15);\n",
              "      filter: drop-shadow(0px 1px 2px rgba(0, 0, 0, 0.3));\n",
              "      fill: #FFFFFF;\n",
              "    }\n",
              "  </style>\n",
              "\n",
              "    <script>\n",
              "      const buttonEl =\n",
              "        document.querySelector('#df-15ce61f7-91d1-4dd9-8103-1a3685e9ea56 button.colab-df-convert');\n",
              "      buttonEl.style.display =\n",
              "        google.colab.kernel.accessAllowed ? 'block' : 'none';\n",
              "\n",
              "      async function convertToInteractive(key) {\n",
              "        const element = document.querySelector('#df-15ce61f7-91d1-4dd9-8103-1a3685e9ea56');\n",
              "        const dataTable =\n",
              "          await google.colab.kernel.invokeFunction('convertToInteractive',\n",
              "                                                    [key], {});\n",
              "        if (!dataTable) return;\n",
              "\n",
              "        const docLinkHtml = 'Like what you see? Visit the ' +\n",
              "          '<a target=\"_blank\" href=https://colab.research.google.com/notebooks/data_table.ipynb>data table notebook</a>'\n",
              "          + ' to learn more about interactive tables.';\n",
              "        element.innerHTML = '';\n",
              "        dataTable['output_type'] = 'display_data';\n",
              "        await google.colab.output.renderOutput(dataTable, element);\n",
              "        const docLink = document.createElement('div');\n",
              "        docLink.innerHTML = docLinkHtml;\n",
              "        element.appendChild(docLink);\n",
              "      }\n",
              "    </script>\n",
              "  </div>\n",
              "\n",
              "\n",
              "<div id=\"df-49e9444d-255f-4ba0-9f35-ac484ae9f79f\">\n",
              "  <button class=\"colab-df-quickchart\" onclick=\"quickchart('df-49e9444d-255f-4ba0-9f35-ac484ae9f79f')\"\n",
              "            title=\"Suggest charts\"\n",
              "            style=\"display:none;\">\n",
              "\n",
              "<svg xmlns=\"http://www.w3.org/2000/svg\" height=\"24px\"viewBox=\"0 0 24 24\"\n",
              "     width=\"24px\">\n",
              "    <g>\n",
              "        <path d=\"M19 3H5c-1.1 0-2 .9-2 2v14c0 1.1.9 2 2 2h14c1.1 0 2-.9 2-2V5c0-1.1-.9-2-2-2zM9 17H7v-7h2v7zm4 0h-2V7h2v10zm4 0h-2v-4h2v4z\"/>\n",
              "    </g>\n",
              "</svg>\n",
              "  </button>\n",
              "\n",
              "<style>\n",
              "  .colab-df-quickchart {\n",
              "      --bg-color: #E8F0FE;\n",
              "      --fill-color: #1967D2;\n",
              "      --hover-bg-color: #E2EBFA;\n",
              "      --hover-fill-color: #174EA6;\n",
              "      --disabled-fill-color: #AAA;\n",
              "      --disabled-bg-color: #DDD;\n",
              "  }\n",
              "\n",
              "  [theme=dark] .colab-df-quickchart {\n",
              "      --bg-color: #3B4455;\n",
              "      --fill-color: #D2E3FC;\n",
              "      --hover-bg-color: #434B5C;\n",
              "      --hover-fill-color: #FFFFFF;\n",
              "      --disabled-bg-color: #3B4455;\n",
              "      --disabled-fill-color: #666;\n",
              "  }\n",
              "\n",
              "  .colab-df-quickchart {\n",
              "    background-color: var(--bg-color);\n",
              "    border: none;\n",
              "    border-radius: 50%;\n",
              "    cursor: pointer;\n",
              "    display: none;\n",
              "    fill: var(--fill-color);\n",
              "    height: 32px;\n",
              "    padding: 0;\n",
              "    width: 32px;\n",
              "  }\n",
              "\n",
              "  .colab-df-quickchart:hover {\n",
              "    background-color: var(--hover-bg-color);\n",
              "    box-shadow: 0 1px 2px rgba(60, 64, 67, 0.3), 0 1px 3px 1px rgba(60, 64, 67, 0.15);\n",
              "    fill: var(--button-hover-fill-color);\n",
              "  }\n",
              "\n",
              "  .colab-df-quickchart-complete:disabled,\n",
              "  .colab-df-quickchart-complete:disabled:hover {\n",
              "    background-color: var(--disabled-bg-color);\n",
              "    fill: var(--disabled-fill-color);\n",
              "    box-shadow: none;\n",
              "  }\n",
              "\n",
              "  .colab-df-spinner {\n",
              "    border: 2px solid var(--fill-color);\n",
              "    border-color: transparent;\n",
              "    border-bottom-color: var(--fill-color);\n",
              "    animation:\n",
              "      spin 1s steps(1) infinite;\n",
              "  }\n",
              "\n",
              "  @keyframes spin {\n",
              "    0% {\n",
              "      border-color: transparent;\n",
              "      border-bottom-color: var(--fill-color);\n",
              "      border-left-color: var(--fill-color);\n",
              "    }\n",
              "    20% {\n",
              "      border-color: transparent;\n",
              "      border-left-color: var(--fill-color);\n",
              "      border-top-color: var(--fill-color);\n",
              "    }\n",
              "    30% {\n",
              "      border-color: transparent;\n",
              "      border-left-color: var(--fill-color);\n",
              "      border-top-color: var(--fill-color);\n",
              "      border-right-color: var(--fill-color);\n",
              "    }\n",
              "    40% {\n",
              "      border-color: transparent;\n",
              "      border-right-color: var(--fill-color);\n",
              "      border-top-color: var(--fill-color);\n",
              "    }\n",
              "    60% {\n",
              "      border-color: transparent;\n",
              "      border-right-color: var(--fill-color);\n",
              "    }\n",
              "    80% {\n",
              "      border-color: transparent;\n",
              "      border-right-color: var(--fill-color);\n",
              "      border-bottom-color: var(--fill-color);\n",
              "    }\n",
              "    90% {\n",
              "      border-color: transparent;\n",
              "      border-bottom-color: var(--fill-color);\n",
              "    }\n",
              "  }\n",
              "</style>\n",
              "\n",
              "  <script>\n",
              "    async function quickchart(key) {\n",
              "      const quickchartButtonEl =\n",
              "        document.querySelector('#' + key + ' button');\n",
              "      quickchartButtonEl.disabled = true;  // To prevent multiple clicks.\n",
              "      quickchartButtonEl.classList.add('colab-df-spinner');\n",
              "      try {\n",
              "        const charts = await google.colab.kernel.invokeFunction(\n",
              "            'suggestCharts', [key], {});\n",
              "      } catch (error) {\n",
              "        console.error('Error during call to suggestCharts:', error);\n",
              "      }\n",
              "      quickchartButtonEl.classList.remove('colab-df-spinner');\n",
              "      quickchartButtonEl.classList.add('colab-df-quickchart-complete');\n",
              "    }\n",
              "    (() => {\n",
              "      let quickchartButtonEl =\n",
              "        document.querySelector('#df-49e9444d-255f-4ba0-9f35-ac484ae9f79f button');\n",
              "      quickchartButtonEl.style.display =\n",
              "        google.colab.kernel.accessAllowed ? 'block' : 'none';\n",
              "    })();\n",
              "  </script>\n",
              "</div>\n",
              "\n",
              "    </div>\n",
              "  </div>\n"
            ]
          },
          "metadata": {},
          "execution_count": 79
        }
      ]
    },
    {
      "cell_type": "code",
      "source": [
        "#DataFrame.head() method is used to display first 5 rows of dataframe by Default\n",
        "train_data_frame485.head()"
      ],
      "metadata": {
        "execution": {
          "iopub.status.busy": "2023-08-28T04:10:30.172459Z",
          "iopub.execute_input": "2023-08-28T04:10:30.173095Z",
          "iopub.status.idle": "2023-08-28T04:10:30.183631Z",
          "shell.execute_reply.started": "2023-08-28T04:10:30.173067Z",
          "shell.execute_reply": "2023-08-28T04:10:30.182558Z"
        },
        "trusted": true,
        "colab": {
          "base_uri": "https://localhost:8080/",
          "height": 206
        },
        "id": "8F5ziCoQFp3s",
        "outputId": "67e87407-bf87-4842-8803-179b41b96a8f"
      },
      "execution_count": null,
      "outputs": [
        {
          "output_type": "execute_result",
          "data": {
            "text/plain": [
              "                                             movieid         reviewerName  \\\n",
              "0                                   marvelous_pirate       Benjamin Henry   \n",
              "1          tony_montana_frodo_baggins_v_rocky_balboa        Felicia Lopez   \n",
              "2  darth_vader_katniss_everdeen_sorcerer_donnie_d...  Mr. Charles Burgess   \n",
              "3                                 lara_croft_glimmer         Ryan Barrett   \n",
              "4  jason_bourne_surreal_the_terminator_indiana_jones     Alexander Glover   \n",
              "\n",
              "   isFrequentReviewer                                         reviewText  \\\n",
              "0               False  Henry Selick’s first movie since 2009’s Corali...   \n",
              "1               False  With a cast that reads like the Vogue Oscar pa...   \n",
              "2                True  Creed II does not give us anything but another...   \n",
              "3               False  I know what you're thinking, but this is no Li...   \n",
              "4               False  Director Fernando Meirelles tells the story wi...   \n",
              "\n",
              "  sentiment  \n",
              "0  POSITIVE  \n",
              "1  NEGATIVE  \n",
              "2  POSITIVE  \n",
              "3  POSITIVE  \n",
              "4  POSITIVE  "
            ],
            "text/html": [
              "\n",
              "  <div id=\"df-8eeccf97-5f22-42f4-9e10-b5a7a69e1ee5\" class=\"colab-df-container\">\n",
              "    <div>\n",
              "<style scoped>\n",
              "    .dataframe tbody tr th:only-of-type {\n",
              "        vertical-align: middle;\n",
              "    }\n",
              "\n",
              "    .dataframe tbody tr th {\n",
              "        vertical-align: top;\n",
              "    }\n",
              "\n",
              "    .dataframe thead th {\n",
              "        text-align: right;\n",
              "    }\n",
              "</style>\n",
              "<table border=\"1\" class=\"dataframe\">\n",
              "  <thead>\n",
              "    <tr style=\"text-align: right;\">\n",
              "      <th></th>\n",
              "      <th>movieid</th>\n",
              "      <th>reviewerName</th>\n",
              "      <th>isFrequentReviewer</th>\n",
              "      <th>reviewText</th>\n",
              "      <th>sentiment</th>\n",
              "    </tr>\n",
              "  </thead>\n",
              "  <tbody>\n",
              "    <tr>\n",
              "      <th>0</th>\n",
              "      <td>marvelous_pirate</td>\n",
              "      <td>Benjamin Henry</td>\n",
              "      <td>False</td>\n",
              "      <td>Henry Selick’s first movie since 2009’s Corali...</td>\n",
              "      <td>POSITIVE</td>\n",
              "    </tr>\n",
              "    <tr>\n",
              "      <th>1</th>\n",
              "      <td>tony_montana_frodo_baggins_v_rocky_balboa</td>\n",
              "      <td>Felicia Lopez</td>\n",
              "      <td>False</td>\n",
              "      <td>With a cast that reads like the Vogue Oscar pa...</td>\n",
              "      <td>NEGATIVE</td>\n",
              "    </tr>\n",
              "    <tr>\n",
              "      <th>2</th>\n",
              "      <td>darth_vader_katniss_everdeen_sorcerer_donnie_d...</td>\n",
              "      <td>Mr. Charles Burgess</td>\n",
              "      <td>True</td>\n",
              "      <td>Creed II does not give us anything but another...</td>\n",
              "      <td>POSITIVE</td>\n",
              "    </tr>\n",
              "    <tr>\n",
              "      <th>3</th>\n",
              "      <td>lara_croft_glimmer</td>\n",
              "      <td>Ryan Barrett</td>\n",
              "      <td>False</td>\n",
              "      <td>I know what you're thinking, but this is no Li...</td>\n",
              "      <td>POSITIVE</td>\n",
              "    </tr>\n",
              "    <tr>\n",
              "      <th>4</th>\n",
              "      <td>jason_bourne_surreal_the_terminator_indiana_jones</td>\n",
              "      <td>Alexander Glover</td>\n",
              "      <td>False</td>\n",
              "      <td>Director Fernando Meirelles tells the story wi...</td>\n",
              "      <td>POSITIVE</td>\n",
              "    </tr>\n",
              "  </tbody>\n",
              "</table>\n",
              "</div>\n",
              "    <div class=\"colab-df-buttons\">\n",
              "\n",
              "  <div class=\"colab-df-container\">\n",
              "    <button class=\"colab-df-convert\" onclick=\"convertToInteractive('df-8eeccf97-5f22-42f4-9e10-b5a7a69e1ee5')\"\n",
              "            title=\"Convert this dataframe to an interactive table.\"\n",
              "            style=\"display:none;\">\n",
              "\n",
              "  <svg xmlns=\"http://www.w3.org/2000/svg\" height=\"24px\" viewBox=\"0 -960 960 960\">\n",
              "    <path d=\"M120-120v-720h720v720H120Zm60-500h600v-160H180v160Zm220 220h160v-160H400v160Zm0 220h160v-160H400v160ZM180-400h160v-160H180v160Zm440 0h160v-160H620v160ZM180-180h160v-160H180v160Zm440 0h160v-160H620v160Z\"/>\n",
              "  </svg>\n",
              "    </button>\n",
              "\n",
              "  <style>\n",
              "    .colab-df-container {\n",
              "      display:flex;\n",
              "      gap: 12px;\n",
              "    }\n",
              "\n",
              "    .colab-df-convert {\n",
              "      background-color: #E8F0FE;\n",
              "      border: none;\n",
              "      border-radius: 50%;\n",
              "      cursor: pointer;\n",
              "      display: none;\n",
              "      fill: #1967D2;\n",
              "      height: 32px;\n",
              "      padding: 0 0 0 0;\n",
              "      width: 32px;\n",
              "    }\n",
              "\n",
              "    .colab-df-convert:hover {\n",
              "      background-color: #E2EBFA;\n",
              "      box-shadow: 0px 1px 2px rgba(60, 64, 67, 0.3), 0px 1px 3px 1px rgba(60, 64, 67, 0.15);\n",
              "      fill: #174EA6;\n",
              "    }\n",
              "\n",
              "    .colab-df-buttons div {\n",
              "      margin-bottom: 4px;\n",
              "    }\n",
              "\n",
              "    [theme=dark] .colab-df-convert {\n",
              "      background-color: #3B4455;\n",
              "      fill: #D2E3FC;\n",
              "    }\n",
              "\n",
              "    [theme=dark] .colab-df-convert:hover {\n",
              "      background-color: #434B5C;\n",
              "      box-shadow: 0px 1px 3px 1px rgba(0, 0, 0, 0.15);\n",
              "      filter: drop-shadow(0px 1px 2px rgba(0, 0, 0, 0.3));\n",
              "      fill: #FFFFFF;\n",
              "    }\n",
              "  </style>\n",
              "\n",
              "    <script>\n",
              "      const buttonEl =\n",
              "        document.querySelector('#df-8eeccf97-5f22-42f4-9e10-b5a7a69e1ee5 button.colab-df-convert');\n",
              "      buttonEl.style.display =\n",
              "        google.colab.kernel.accessAllowed ? 'block' : 'none';\n",
              "\n",
              "      async function convertToInteractive(key) {\n",
              "        const element = document.querySelector('#df-8eeccf97-5f22-42f4-9e10-b5a7a69e1ee5');\n",
              "        const dataTable =\n",
              "          await google.colab.kernel.invokeFunction('convertToInteractive',\n",
              "                                                    [key], {});\n",
              "        if (!dataTable) return;\n",
              "\n",
              "        const docLinkHtml = 'Like what you see? Visit the ' +\n",
              "          '<a target=\"_blank\" href=https://colab.research.google.com/notebooks/data_table.ipynb>data table notebook</a>'\n",
              "          + ' to learn more about interactive tables.';\n",
              "        element.innerHTML = '';\n",
              "        dataTable['output_type'] = 'display_data';\n",
              "        await google.colab.output.renderOutput(dataTable, element);\n",
              "        const docLink = document.createElement('div');\n",
              "        docLink.innerHTML = docLinkHtml;\n",
              "        element.appendChild(docLink);\n",
              "      }\n",
              "    </script>\n",
              "  </div>\n",
              "\n",
              "\n",
              "<div id=\"df-72ada631-e7ab-4e7b-8d1c-969db674c2a6\">\n",
              "  <button class=\"colab-df-quickchart\" onclick=\"quickchart('df-72ada631-e7ab-4e7b-8d1c-969db674c2a6')\"\n",
              "            title=\"Suggest charts\"\n",
              "            style=\"display:none;\">\n",
              "\n",
              "<svg xmlns=\"http://www.w3.org/2000/svg\" height=\"24px\"viewBox=\"0 0 24 24\"\n",
              "     width=\"24px\">\n",
              "    <g>\n",
              "        <path d=\"M19 3H5c-1.1 0-2 .9-2 2v14c0 1.1.9 2 2 2h14c1.1 0 2-.9 2-2V5c0-1.1-.9-2-2-2zM9 17H7v-7h2v7zm4 0h-2V7h2v10zm4 0h-2v-4h2v4z\"/>\n",
              "    </g>\n",
              "</svg>\n",
              "  </button>\n",
              "\n",
              "<style>\n",
              "  .colab-df-quickchart {\n",
              "      --bg-color: #E8F0FE;\n",
              "      --fill-color: #1967D2;\n",
              "      --hover-bg-color: #E2EBFA;\n",
              "      --hover-fill-color: #174EA6;\n",
              "      --disabled-fill-color: #AAA;\n",
              "      --disabled-bg-color: #DDD;\n",
              "  }\n",
              "\n",
              "  [theme=dark] .colab-df-quickchart {\n",
              "      --bg-color: #3B4455;\n",
              "      --fill-color: #D2E3FC;\n",
              "      --hover-bg-color: #434B5C;\n",
              "      --hover-fill-color: #FFFFFF;\n",
              "      --disabled-bg-color: #3B4455;\n",
              "      --disabled-fill-color: #666;\n",
              "  }\n",
              "\n",
              "  .colab-df-quickchart {\n",
              "    background-color: var(--bg-color);\n",
              "    border: none;\n",
              "    border-radius: 50%;\n",
              "    cursor: pointer;\n",
              "    display: none;\n",
              "    fill: var(--fill-color);\n",
              "    height: 32px;\n",
              "    padding: 0;\n",
              "    width: 32px;\n",
              "  }\n",
              "\n",
              "  .colab-df-quickchart:hover {\n",
              "    background-color: var(--hover-bg-color);\n",
              "    box-shadow: 0 1px 2px rgba(60, 64, 67, 0.3), 0 1px 3px 1px rgba(60, 64, 67, 0.15);\n",
              "    fill: var(--button-hover-fill-color);\n",
              "  }\n",
              "\n",
              "  .colab-df-quickchart-complete:disabled,\n",
              "  .colab-df-quickchart-complete:disabled:hover {\n",
              "    background-color: var(--disabled-bg-color);\n",
              "    fill: var(--disabled-fill-color);\n",
              "    box-shadow: none;\n",
              "  }\n",
              "\n",
              "  .colab-df-spinner {\n",
              "    border: 2px solid var(--fill-color);\n",
              "    border-color: transparent;\n",
              "    border-bottom-color: var(--fill-color);\n",
              "    animation:\n",
              "      spin 1s steps(1) infinite;\n",
              "  }\n",
              "\n",
              "  @keyframes spin {\n",
              "    0% {\n",
              "      border-color: transparent;\n",
              "      border-bottom-color: var(--fill-color);\n",
              "      border-left-color: var(--fill-color);\n",
              "    }\n",
              "    20% {\n",
              "      border-color: transparent;\n",
              "      border-left-color: var(--fill-color);\n",
              "      border-top-color: var(--fill-color);\n",
              "    }\n",
              "    30% {\n",
              "      border-color: transparent;\n",
              "      border-left-color: var(--fill-color);\n",
              "      border-top-color: var(--fill-color);\n",
              "      border-right-color: var(--fill-color);\n",
              "    }\n",
              "    40% {\n",
              "      border-color: transparent;\n",
              "      border-right-color: var(--fill-color);\n",
              "      border-top-color: var(--fill-color);\n",
              "    }\n",
              "    60% {\n",
              "      border-color: transparent;\n",
              "      border-right-color: var(--fill-color);\n",
              "    }\n",
              "    80% {\n",
              "      border-color: transparent;\n",
              "      border-right-color: var(--fill-color);\n",
              "      border-bottom-color: var(--fill-color);\n",
              "    }\n",
              "    90% {\n",
              "      border-color: transparent;\n",
              "      border-bottom-color: var(--fill-color);\n",
              "    }\n",
              "  }\n",
              "</style>\n",
              "\n",
              "  <script>\n",
              "    async function quickchart(key) {\n",
              "      const quickchartButtonEl =\n",
              "        document.querySelector('#' + key + ' button');\n",
              "      quickchartButtonEl.disabled = true;  // To prevent multiple clicks.\n",
              "      quickchartButtonEl.classList.add('colab-df-spinner');\n",
              "      try {\n",
              "        const charts = await google.colab.kernel.invokeFunction(\n",
              "            'suggestCharts', [key], {});\n",
              "      } catch (error) {\n",
              "        console.error('Error during call to suggestCharts:', error);\n",
              "      }\n",
              "      quickchartButtonEl.classList.remove('colab-df-spinner');\n",
              "      quickchartButtonEl.classList.add('colab-df-quickchart-complete');\n",
              "    }\n",
              "    (() => {\n",
              "      let quickchartButtonEl =\n",
              "        document.querySelector('#df-72ada631-e7ab-4e7b-8d1c-969db674c2a6 button');\n",
              "      quickchartButtonEl.style.display =\n",
              "        google.colab.kernel.accessAllowed ? 'block' : 'none';\n",
              "    })();\n",
              "  </script>\n",
              "</div>\n",
              "\n",
              "    </div>\n",
              "  </div>\n"
            ]
          },
          "metadata": {},
          "execution_count": 80
        }
      ]
    },
    {
      "cell_type": "code",
      "source": [
        "#DataFrame.head() method is used to display first 5 rows of dataframe by Default\n",
        "test_data_frame485.head()"
      ],
      "metadata": {
        "execution": {
          "iopub.status.busy": "2023-08-28T04:10:30.184804Z",
          "iopub.execute_input": "2023-08-28T04:10:30.185114Z",
          "iopub.status.idle": "2023-08-28T04:10:30.200199Z",
          "shell.execute_reply.started": "2023-08-28T04:10:30.185089Z",
          "shell.execute_reply": "2023-08-28T04:10:30.199048Z"
        },
        "trusted": true,
        "colab": {
          "base_uri": "https://localhost:8080/",
          "height": 206
        },
        "id": "0-5-s1KtFp3u",
        "outputId": "626ddb5c-e4f4-43a9-aa3e-23b4a3ac2527"
      },
      "execution_count": null,
      "outputs": [
        {
          "output_type": "execute_result",
          "data": {
            "text/plain": [
              "                               movieid     reviewerName  isTopCritic  \\\n",
              "0            legend_marty_mcfly_oracle         John Kim        False   \n",
              "1  terminator_katniss_everdeen_glimmer     Brian Chaney        False   \n",
              "2          james_bond_labyrinth_gollum  Danielle Parker        False   \n",
              "3            v_quest_han_solo_wondrous    Brittany Lane        False   \n",
              "4        enigma_hulk_surreal_starlight    Justin Willis        False   \n",
              "\n",
              "                                          reviewText  \n",
              "0  Green slowly cranks up the dread with style an...  \n",
              "1  Philip Noyce's direction is elegant and unforc...  \n",
              "2  It wouldn't do to say what path Maria ultimate...  \n",
              "3  Pig is not exactly the arthouse John Wick that...  \n",
              "4  An imaginative no-budget musical of sorts abou...  "
            ],
            "text/html": [
              "\n",
              "  <div id=\"df-fafd6613-1e93-4cec-80aa-a80236fea149\" class=\"colab-df-container\">\n",
              "    <div>\n",
              "<style scoped>\n",
              "    .dataframe tbody tr th:only-of-type {\n",
              "        vertical-align: middle;\n",
              "    }\n",
              "\n",
              "    .dataframe tbody tr th {\n",
              "        vertical-align: top;\n",
              "    }\n",
              "\n",
              "    .dataframe thead th {\n",
              "        text-align: right;\n",
              "    }\n",
              "</style>\n",
              "<table border=\"1\" class=\"dataframe\">\n",
              "  <thead>\n",
              "    <tr style=\"text-align: right;\">\n",
              "      <th></th>\n",
              "      <th>movieid</th>\n",
              "      <th>reviewerName</th>\n",
              "      <th>isTopCritic</th>\n",
              "      <th>reviewText</th>\n",
              "    </tr>\n",
              "  </thead>\n",
              "  <tbody>\n",
              "    <tr>\n",
              "      <th>0</th>\n",
              "      <td>legend_marty_mcfly_oracle</td>\n",
              "      <td>John Kim</td>\n",
              "      <td>False</td>\n",
              "      <td>Green slowly cranks up the dread with style an...</td>\n",
              "    </tr>\n",
              "    <tr>\n",
              "      <th>1</th>\n",
              "      <td>terminator_katniss_everdeen_glimmer</td>\n",
              "      <td>Brian Chaney</td>\n",
              "      <td>False</td>\n",
              "      <td>Philip Noyce's direction is elegant and unforc...</td>\n",
              "    </tr>\n",
              "    <tr>\n",
              "      <th>2</th>\n",
              "      <td>james_bond_labyrinth_gollum</td>\n",
              "      <td>Danielle Parker</td>\n",
              "      <td>False</td>\n",
              "      <td>It wouldn't do to say what path Maria ultimate...</td>\n",
              "    </tr>\n",
              "    <tr>\n",
              "      <th>3</th>\n",
              "      <td>v_quest_han_solo_wondrous</td>\n",
              "      <td>Brittany Lane</td>\n",
              "      <td>False</td>\n",
              "      <td>Pig is not exactly the arthouse John Wick that...</td>\n",
              "    </tr>\n",
              "    <tr>\n",
              "      <th>4</th>\n",
              "      <td>enigma_hulk_surreal_starlight</td>\n",
              "      <td>Justin Willis</td>\n",
              "      <td>False</td>\n",
              "      <td>An imaginative no-budget musical of sorts abou...</td>\n",
              "    </tr>\n",
              "  </tbody>\n",
              "</table>\n",
              "</div>\n",
              "    <div class=\"colab-df-buttons\">\n",
              "\n",
              "  <div class=\"colab-df-container\">\n",
              "    <button class=\"colab-df-convert\" onclick=\"convertToInteractive('df-fafd6613-1e93-4cec-80aa-a80236fea149')\"\n",
              "            title=\"Convert this dataframe to an interactive table.\"\n",
              "            style=\"display:none;\">\n",
              "\n",
              "  <svg xmlns=\"http://www.w3.org/2000/svg\" height=\"24px\" viewBox=\"0 -960 960 960\">\n",
              "    <path d=\"M120-120v-720h720v720H120Zm60-500h600v-160H180v160Zm220 220h160v-160H400v160Zm0 220h160v-160H400v160ZM180-400h160v-160H180v160Zm440 0h160v-160H620v160ZM180-180h160v-160H180v160Zm440 0h160v-160H620v160Z\"/>\n",
              "  </svg>\n",
              "    </button>\n",
              "\n",
              "  <style>\n",
              "    .colab-df-container {\n",
              "      display:flex;\n",
              "      gap: 12px;\n",
              "    }\n",
              "\n",
              "    .colab-df-convert {\n",
              "      background-color: #E8F0FE;\n",
              "      border: none;\n",
              "      border-radius: 50%;\n",
              "      cursor: pointer;\n",
              "      display: none;\n",
              "      fill: #1967D2;\n",
              "      height: 32px;\n",
              "      padding: 0 0 0 0;\n",
              "      width: 32px;\n",
              "    }\n",
              "\n",
              "    .colab-df-convert:hover {\n",
              "      background-color: #E2EBFA;\n",
              "      box-shadow: 0px 1px 2px rgba(60, 64, 67, 0.3), 0px 1px 3px 1px rgba(60, 64, 67, 0.15);\n",
              "      fill: #174EA6;\n",
              "    }\n",
              "\n",
              "    .colab-df-buttons div {\n",
              "      margin-bottom: 4px;\n",
              "    }\n",
              "\n",
              "    [theme=dark] .colab-df-convert {\n",
              "      background-color: #3B4455;\n",
              "      fill: #D2E3FC;\n",
              "    }\n",
              "\n",
              "    [theme=dark] .colab-df-convert:hover {\n",
              "      background-color: #434B5C;\n",
              "      box-shadow: 0px 1px 3px 1px rgba(0, 0, 0, 0.15);\n",
              "      filter: drop-shadow(0px 1px 2px rgba(0, 0, 0, 0.3));\n",
              "      fill: #FFFFFF;\n",
              "    }\n",
              "  </style>\n",
              "\n",
              "    <script>\n",
              "      const buttonEl =\n",
              "        document.querySelector('#df-fafd6613-1e93-4cec-80aa-a80236fea149 button.colab-df-convert');\n",
              "      buttonEl.style.display =\n",
              "        google.colab.kernel.accessAllowed ? 'block' : 'none';\n",
              "\n",
              "      async function convertToInteractive(key) {\n",
              "        const element = document.querySelector('#df-fafd6613-1e93-4cec-80aa-a80236fea149');\n",
              "        const dataTable =\n",
              "          await google.colab.kernel.invokeFunction('convertToInteractive',\n",
              "                                                    [key], {});\n",
              "        if (!dataTable) return;\n",
              "\n",
              "        const docLinkHtml = 'Like what you see? Visit the ' +\n",
              "          '<a target=\"_blank\" href=https://colab.research.google.com/notebooks/data_table.ipynb>data table notebook</a>'\n",
              "          + ' to learn more about interactive tables.';\n",
              "        element.innerHTML = '';\n",
              "        dataTable['output_type'] = 'display_data';\n",
              "        await google.colab.output.renderOutput(dataTable, element);\n",
              "        const docLink = document.createElement('div');\n",
              "        docLink.innerHTML = docLinkHtml;\n",
              "        element.appendChild(docLink);\n",
              "      }\n",
              "    </script>\n",
              "  </div>\n",
              "\n",
              "\n",
              "<div id=\"df-04a065a4-840a-4c36-a604-0238630180de\">\n",
              "  <button class=\"colab-df-quickchart\" onclick=\"quickchart('df-04a065a4-840a-4c36-a604-0238630180de')\"\n",
              "            title=\"Suggest charts\"\n",
              "            style=\"display:none;\">\n",
              "\n",
              "<svg xmlns=\"http://www.w3.org/2000/svg\" height=\"24px\"viewBox=\"0 0 24 24\"\n",
              "     width=\"24px\">\n",
              "    <g>\n",
              "        <path d=\"M19 3H5c-1.1 0-2 .9-2 2v14c0 1.1.9 2 2 2h14c1.1 0 2-.9 2-2V5c0-1.1-.9-2-2-2zM9 17H7v-7h2v7zm4 0h-2V7h2v10zm4 0h-2v-4h2v4z\"/>\n",
              "    </g>\n",
              "</svg>\n",
              "  </button>\n",
              "\n",
              "<style>\n",
              "  .colab-df-quickchart {\n",
              "      --bg-color: #E8F0FE;\n",
              "      --fill-color: #1967D2;\n",
              "      --hover-bg-color: #E2EBFA;\n",
              "      --hover-fill-color: #174EA6;\n",
              "      --disabled-fill-color: #AAA;\n",
              "      --disabled-bg-color: #DDD;\n",
              "  }\n",
              "\n",
              "  [theme=dark] .colab-df-quickchart {\n",
              "      --bg-color: #3B4455;\n",
              "      --fill-color: #D2E3FC;\n",
              "      --hover-bg-color: #434B5C;\n",
              "      --hover-fill-color: #FFFFFF;\n",
              "      --disabled-bg-color: #3B4455;\n",
              "      --disabled-fill-color: #666;\n",
              "  }\n",
              "\n",
              "  .colab-df-quickchart {\n",
              "    background-color: var(--bg-color);\n",
              "    border: none;\n",
              "    border-radius: 50%;\n",
              "    cursor: pointer;\n",
              "    display: none;\n",
              "    fill: var(--fill-color);\n",
              "    height: 32px;\n",
              "    padding: 0;\n",
              "    width: 32px;\n",
              "  }\n",
              "\n",
              "  .colab-df-quickchart:hover {\n",
              "    background-color: var(--hover-bg-color);\n",
              "    box-shadow: 0 1px 2px rgba(60, 64, 67, 0.3), 0 1px 3px 1px rgba(60, 64, 67, 0.15);\n",
              "    fill: var(--button-hover-fill-color);\n",
              "  }\n",
              "\n",
              "  .colab-df-quickchart-complete:disabled,\n",
              "  .colab-df-quickchart-complete:disabled:hover {\n",
              "    background-color: var(--disabled-bg-color);\n",
              "    fill: var(--disabled-fill-color);\n",
              "    box-shadow: none;\n",
              "  }\n",
              "\n",
              "  .colab-df-spinner {\n",
              "    border: 2px solid var(--fill-color);\n",
              "    border-color: transparent;\n",
              "    border-bottom-color: var(--fill-color);\n",
              "    animation:\n",
              "      spin 1s steps(1) infinite;\n",
              "  }\n",
              "\n",
              "  @keyframes spin {\n",
              "    0% {\n",
              "      border-color: transparent;\n",
              "      border-bottom-color: var(--fill-color);\n",
              "      border-left-color: var(--fill-color);\n",
              "    }\n",
              "    20% {\n",
              "      border-color: transparent;\n",
              "      border-left-color: var(--fill-color);\n",
              "      border-top-color: var(--fill-color);\n",
              "    }\n",
              "    30% {\n",
              "      border-color: transparent;\n",
              "      border-left-color: var(--fill-color);\n",
              "      border-top-color: var(--fill-color);\n",
              "      border-right-color: var(--fill-color);\n",
              "    }\n",
              "    40% {\n",
              "      border-color: transparent;\n",
              "      border-right-color: var(--fill-color);\n",
              "      border-top-color: var(--fill-color);\n",
              "    }\n",
              "    60% {\n",
              "      border-color: transparent;\n",
              "      border-right-color: var(--fill-color);\n",
              "    }\n",
              "    80% {\n",
              "      border-color: transparent;\n",
              "      border-right-color: var(--fill-color);\n",
              "      border-bottom-color: var(--fill-color);\n",
              "    }\n",
              "    90% {\n",
              "      border-color: transparent;\n",
              "      border-bottom-color: var(--fill-color);\n",
              "    }\n",
              "  }\n",
              "</style>\n",
              "\n",
              "  <script>\n",
              "    async function quickchart(key) {\n",
              "      const quickchartButtonEl =\n",
              "        document.querySelector('#' + key + ' button');\n",
              "      quickchartButtonEl.disabled = true;  // To prevent multiple clicks.\n",
              "      quickchartButtonEl.classList.add('colab-df-spinner');\n",
              "      try {\n",
              "        const charts = await google.colab.kernel.invokeFunction(\n",
              "            'suggestCharts', [key], {});\n",
              "      } catch (error) {\n",
              "        console.error('Error during call to suggestCharts:', error);\n",
              "      }\n",
              "      quickchartButtonEl.classList.remove('colab-df-spinner');\n",
              "      quickchartButtonEl.classList.add('colab-df-quickchart-complete');\n",
              "    }\n",
              "    (() => {\n",
              "      let quickchartButtonEl =\n",
              "        document.querySelector('#df-04a065a4-840a-4c36-a604-0238630180de button');\n",
              "      quickchartButtonEl.style.display =\n",
              "        google.colab.kernel.accessAllowed ? 'block' : 'none';\n",
              "    })();\n",
              "  </script>\n",
              "</div>\n",
              "\n",
              "    </div>\n",
              "  </div>\n"
            ]
          },
          "metadata": {},
          "execution_count": 81
        }
      ]
    },
    {
      "cell_type": "markdown",
      "source": [
        "# Exploratory Data Analysis and Data Visualization"
      ],
      "metadata": {
        "id": "WRZKvVz2Fp3v"
      }
    },
    {
      "cell_type": "code",
      "source": [
        "#.shape is used to get Dimension of DataFrame\n",
        "movie_data_frame485.shape"
      ],
      "metadata": {
        "execution": {
          "iopub.status.busy": "2023-08-28T04:10:30.201368Z",
          "iopub.execute_input": "2023-08-28T04:10:30.201959Z",
          "iopub.status.idle": "2023-08-28T04:10:30.212240Z",
          "shell.execute_reply.started": "2023-08-28T04:10:30.201929Z",
          "shell.execute_reply": "2023-08-28T04:10:30.211142Z"
        },
        "trusted": true,
        "colab": {
          "base_uri": "https://localhost:8080/"
        },
        "id": "CGYlubvDFp3w",
        "outputId": "23452215-2602-436c-9844-53072cdb572f"
      },
      "execution_count": null,
      "outputs": [
        {
          "output_type": "execute_result",
          "data": {
            "text/plain": [
              "(143258, 14)"
            ]
          },
          "metadata": {},
          "execution_count": 82
        }
      ]
    },
    {
      "cell_type": "code",
      "source": [
        "#.shape is used to get Dimension of DataFrame\n",
        "train_data_frame485.shape"
      ],
      "metadata": {
        "execution": {
          "iopub.status.busy": "2023-08-28T04:10:30.213794Z",
          "iopub.execute_input": "2023-08-28T04:10:30.214199Z",
          "iopub.status.idle": "2023-08-28T04:10:30.224959Z",
          "shell.execute_reply.started": "2023-08-28T04:10:30.214171Z",
          "shell.execute_reply": "2023-08-28T04:10:30.223918Z"
        },
        "trusted": true,
        "colab": {
          "base_uri": "https://localhost:8080/"
        },
        "id": "pIaS5IipFp3y",
        "outputId": "29375ebe-22f2-4f71-c3ec-2d1b2b245236"
      },
      "execution_count": null,
      "outputs": [
        {
          "output_type": "execute_result",
          "data": {
            "text/plain": [
              "(162758, 5)"
            ]
          },
          "metadata": {},
          "execution_count": 83
        }
      ]
    },
    {
      "cell_type": "code",
      "source": [
        "#.shape is used to get Dimension of DataFrame\n",
        "test_data_frame485.shape"
      ],
      "metadata": {
        "execution": {
          "iopub.status.busy": "2023-08-28T04:10:30.226510Z",
          "iopub.execute_input": "2023-08-28T04:10:30.227138Z",
          "iopub.status.idle": "2023-08-28T04:10:30.237220Z",
          "shell.execute_reply.started": "2023-08-28T04:10:30.227100Z",
          "shell.execute_reply": "2023-08-28T04:10:30.236478Z"
        },
        "trusted": true,
        "colab": {
          "base_uri": "https://localhost:8080/"
        },
        "id": "ywDim4Y-Fp3z",
        "outputId": "875dae51-0228-4960-94c9-ac3f29e92226"
      },
      "execution_count": null,
      "outputs": [
        {
          "output_type": "execute_result",
          "data": {
            "text/plain": [
              "(55315, 4)"
            ]
          },
          "metadata": {},
          "execution_count": 84
        }
      ]
    },
    {
      "cell_type": "code",
      "source": [
        "# DataFrame.columns is used to get names of all columns in Dataframe\n",
        "movie_data_frame485.columns"
      ],
      "metadata": {
        "execution": {
          "iopub.status.busy": "2023-08-28T04:10:30.239604Z",
          "iopub.execute_input": "2023-08-28T04:10:30.240339Z",
          "iopub.status.idle": "2023-08-28T04:10:30.252344Z",
          "shell.execute_reply.started": "2023-08-28T04:10:30.240308Z",
          "shell.execute_reply": "2023-08-28T04:10:30.251559Z"
        },
        "trusted": true,
        "colab": {
          "base_uri": "https://localhost:8080/"
        },
        "id": "e89p4NcuFp30",
        "outputId": "52b32c05-a75b-4319-e814-12fd56cd53e2"
      },
      "execution_count": null,
      "outputs": [
        {
          "output_type": "execute_result",
          "data": {
            "text/plain": [
              "Index(['movieid', 'title', 'audienceScore', 'rating', 'ratingContents',\n",
              "       'releaseDateTheaters', 'releaseDateStreaming', 'runtimeMinutes',\n",
              "       'genre', 'originalLanguage', 'director', 'boxOffice', 'distributor',\n",
              "       'soundType'],\n",
              "      dtype='object')"
            ]
          },
          "metadata": {},
          "execution_count": 85
        }
      ]
    },
    {
      "cell_type": "code",
      "source": [
        "# DataFrame.duplicated.count() is used to get count to duplicates in dataframe\n",
        "movie_data_frame485.duplicated().count()"
      ],
      "metadata": {
        "execution": {
          "iopub.status.busy": "2023-08-28T04:10:30.253411Z",
          "iopub.execute_input": "2023-08-28T04:10:30.254065Z",
          "iopub.status.idle": "2023-08-28T04:10:30.512179Z",
          "shell.execute_reply.started": "2023-08-28T04:10:30.254036Z",
          "shell.execute_reply": "2023-08-28T04:10:30.511084Z"
        },
        "trusted": true,
        "colab": {
          "base_uri": "https://localhost:8080/"
        },
        "id": "Q46fZ9MeFp31",
        "outputId": "04dc251e-a8bc-476a-c81d-bfb29aecbcfb"
      },
      "execution_count": null,
      "outputs": [
        {
          "output_type": "execute_result",
          "data": {
            "text/plain": [
              "143258"
            ]
          },
          "metadata": {},
          "execution_count": 86
        }
      ]
    },
    {
      "cell_type": "code",
      "source": [
        "# movie_data.drop_duplicates is used to drop Duplicates based on \"movieid\" column\n",
        "movie_data_frame485 = movie_data_frame485.drop_duplicates(subset=\"movieid\")"
      ],
      "metadata": {
        "execution": {
          "iopub.status.busy": "2023-08-28T04:10:30.513641Z",
          "iopub.execute_input": "2023-08-28T04:10:30.514056Z",
          "iopub.status.idle": "2023-08-28T04:10:30.566809Z",
          "shell.execute_reply.started": "2023-08-28T04:10:30.514019Z",
          "shell.execute_reply": "2023-08-28T04:10:30.565820Z"
        },
        "trusted": true,
        "id": "U_dLhxWpFp32"
      },
      "execution_count": null,
      "outputs": []
    },
    {
      "cell_type": "code",
      "source": [
        "# DataFrame.duplicated.sum() is used to get count to duplicates in dataframe\n",
        "movie_data_frame485.duplicated().sum()"
      ],
      "metadata": {
        "execution": {
          "iopub.status.busy": "2023-08-28T04:10:30.568642Z",
          "iopub.execute_input": "2023-08-28T04:10:30.569042Z",
          "iopub.status.idle": "2023-08-28T04:10:30.774729Z",
          "shell.execute_reply.started": "2023-08-28T04:10:30.569015Z",
          "shell.execute_reply": "2023-08-28T04:10:30.773604Z"
        },
        "trusted": true,
        "colab": {
          "base_uri": "https://localhost:8080/"
        },
        "id": "0QPhzBMpFp32",
        "outputId": "30023360-722d-4344-d737-f451878648e0"
      },
      "execution_count": null,
      "outputs": [
        {
          "output_type": "execute_result",
          "data": {
            "text/plain": [
              "0"
            ]
          },
          "metadata": {},
          "execution_count": 88
        }
      ]
    },
    {
      "cell_type": "code",
      "source": [
        "# movie_data_frame485.shape is used to get dimensionality of movies Data frame\n",
        "movie_data_frame485.shape"
      ],
      "metadata": {
        "execution": {
          "iopub.status.busy": "2023-08-28T04:10:30.776880Z",
          "iopub.execute_input": "2023-08-28T04:10:30.777346Z",
          "iopub.status.idle": "2023-08-28T04:10:30.783923Z",
          "shell.execute_reply.started": "2023-08-28T04:10:30.777309Z",
          "shell.execute_reply": "2023-08-28T04:10:30.782868Z"
        },
        "trusted": true,
        "colab": {
          "base_uri": "https://localhost:8080/"
        },
        "id": "pWIxdoS0Fp33",
        "outputId": "0b0ac240-9eaf-4dc0-d535-450e87c1804b"
      },
      "execution_count": null,
      "outputs": [
        {
          "output_type": "execute_result",
          "data": {
            "text/plain": [
              "(126404, 14)"
            ]
          },
          "metadata": {},
          "execution_count": 89
        }
      ]
    },
    {
      "cell_type": "code",
      "source": [
        "# Perform a left merge on the 'movieid' column. This will combine rows from both DataFrames based on matching 'movieid' values.\n",
        "# Rows from train_data will be preserved, and the corresponding rows from movie_data will be added to the resulting DataFrame.\n",
        "# If a 'movieid' from train_data does not exist in movie_data, the resulting DataFrame will have NaN values in the columns from movie_data.\n",
        "merg_trained_data11 = pd.merge(train_data_frame485,movie_data_frame485, on= 'movieid', how ='left')"
      ],
      "metadata": {
        "execution": {
          "iopub.status.busy": "2023-08-28T04:10:30.883003Z",
          "iopub.execute_input": "2023-08-28T04:10:30.883368Z",
          "iopub.status.idle": "2023-08-28T04:10:31.124884Z",
          "shell.execute_reply.started": "2023-08-28T04:10:30.883341Z",
          "shell.execute_reply": "2023-08-28T04:10:31.124067Z"
        },
        "trusted": true,
        "id": "APnLDbb0Fp34"
      },
      "execution_count": null,
      "outputs": []
    },
    {
      "cell_type": "code",
      "source": [
        "# Perform a left merge on the 'movieid' column. This will combine rows from both DataFrames based on matching 'movieid' values.\n",
        "# Rows from test_data will be preserved, and the corresponding rows from movie_data will be added to the resulting DataFrame.\n",
        "# If a 'movieid' from test_data does not exist in movie_data, the resulting DataFrame will have Null values in the columns from movie_data.\n",
        "merg_test_data11 = pd.merge(test_data_frame485,movie_data_frame485, on= 'movieid', how ='left')"
      ],
      "metadata": {
        "execution": {
          "iopub.status.busy": "2023-08-28T04:10:31.126493Z",
          "iopub.execute_input": "2023-08-28T04:10:31.127600Z",
          "iopub.status.idle": "2023-08-28T04:10:31.273014Z",
          "shell.execute_reply.started": "2023-08-28T04:10:31.127560Z",
          "shell.execute_reply": "2023-08-28T04:10:31.271850Z"
        },
        "trusted": true,
        "id": "hi4PzRXeFp35"
      },
      "execution_count": null,
      "outputs": []
    },
    {
      "cell_type": "code",
      "source": [
        "#DataFrame.head() method is used to display first 5 rows of dataframe by Default\n",
        "merg_trained_data11.head()"
      ],
      "metadata": {
        "execution": {
          "iopub.status.busy": "2023-08-28T04:10:31.345675Z",
          "iopub.execute_input": "2023-08-28T04:10:31.346378Z",
          "iopub.status.idle": "2023-08-28T04:10:31.368050Z",
          "shell.execute_reply.started": "2023-08-28T04:10:31.346343Z",
          "shell.execute_reply": "2023-08-28T04:10:31.366950Z"
        },
        "trusted": true,
        "colab": {
          "base_uri": "https://localhost:8080/",
          "height": 660
        },
        "id": "3VmJ1DiGFp35",
        "outputId": "65307660-5c01-4169-f9b9-8445481fe63f"
      },
      "execution_count": null,
      "outputs": [
        {
          "output_type": "execute_result",
          "data": {
            "text/plain": [
              "                                             movieid         reviewerName  \\\n",
              "0                                   marvelous_pirate       Benjamin Henry   \n",
              "1          tony_montana_frodo_baggins_v_rocky_balboa        Felicia Lopez   \n",
              "2  darth_vader_katniss_everdeen_sorcerer_donnie_d...  Mr. Charles Burgess   \n",
              "3                                 lara_croft_glimmer         Ryan Barrett   \n",
              "4  jason_bourne_surreal_the_terminator_indiana_jones     Alexander Glover   \n",
              "\n",
              "   isFrequentReviewer                                         reviewText  \\\n",
              "0               False  Henry Selick’s first movie since 2009’s Corali...   \n",
              "1               False  With a cast that reads like the Vogue Oscar pa...   \n",
              "2                True  Creed II does not give us anything but another...   \n",
              "3               False  I know what you're thinking, but this is no Li...   \n",
              "4               False  Director Fernando Meirelles tells the story wi...   \n",
              "\n",
              "  sentiment                                              title  audienceScore  \\\n",
              "0  POSITIVE                                   Marvelous Pirate           65.0   \n",
              "1  NEGATIVE          Tony Montana Frodo Baggins V Rocky Balboa            NaN   \n",
              "2  POSITIVE  Darth Vader Katniss Everdeen Sorcerer Donnie D...           80.0   \n",
              "3  POSITIVE                                 Lara Croft Glimmer            NaN   \n",
              "4  POSITIVE  Jason Bourne Surreal The Terminator Indiana Jones           97.0   \n",
              "\n",
              "  rating                                     ratingContents  \\\n",
              "0  PG-13  ['Violence', 'Brief Strong Language', 'Substan...   \n",
              "1    NaN                                                NaN   \n",
              "2  PG-13  ['Language', 'A Scene of Sensuality', 'Sports ...   \n",
              "3    NaN                                                NaN   \n",
              "4      R  ['Language', 'Drug Content', 'Sexuality', 'Str...   \n",
              "\n",
              "  releaseDateTheaters releaseDateStreaming  runtimeMinutes  \\\n",
              "0          2022-10-21           2022-10-28           105.0   \n",
              "1                 NaN           2013-01-08            91.0   \n",
              "2          2018-11-21           2019-02-12           130.0   \n",
              "3                 NaN           2020-06-02            15.0   \n",
              "4          2003-01-17           2004-06-08           131.0   \n",
              "\n",
              "                                   genre     originalLanguage  \\\n",
              "0  Comedy, Animation, Adventure, Fantasy              English   \n",
              "1                                 Action              English   \n",
              "2                                  Drama              English   \n",
              "3                                  Drama              Spanish   \n",
              "4                           Crime, Drama  Portuguese (Brazil)   \n",
              "\n",
              "          director boxOffice                                 distributor  \\\n",
              "0     Bennie Basso       NaN                                     Netflix   \n",
              "1       Alma White       NaN                                         NaN   \n",
              "2     Bobby Oleary   $115.7M  Warner Bros. Pictures, Metro-Goldwyn-Mayer   \n",
              "3  Eric Hutcherson       NaN                                         NaN   \n",
              "4       John Trent     $7.6M                               Miramax Films   \n",
              "\n",
              "                                           soundType  \n",
              "0                                                NaN  \n",
              "1                                                NaN  \n",
              "2                                                NaN  \n",
              "3                                                NaN  \n",
              "4  Surround, Dolby SR, Dolby Digital, Dolby A, Do...  "
            ],
            "text/html": [
              "\n",
              "  <div id=\"df-d3f8fd99-d618-41b8-92dc-c0bc92cbd856\" class=\"colab-df-container\">\n",
              "    <div>\n",
              "<style scoped>\n",
              "    .dataframe tbody tr th:only-of-type {\n",
              "        vertical-align: middle;\n",
              "    }\n",
              "\n",
              "    .dataframe tbody tr th {\n",
              "        vertical-align: top;\n",
              "    }\n",
              "\n",
              "    .dataframe thead th {\n",
              "        text-align: right;\n",
              "    }\n",
              "</style>\n",
              "<table border=\"1\" class=\"dataframe\">\n",
              "  <thead>\n",
              "    <tr style=\"text-align: right;\">\n",
              "      <th></th>\n",
              "      <th>movieid</th>\n",
              "      <th>reviewerName</th>\n",
              "      <th>isFrequentReviewer</th>\n",
              "      <th>reviewText</th>\n",
              "      <th>sentiment</th>\n",
              "      <th>title</th>\n",
              "      <th>audienceScore</th>\n",
              "      <th>rating</th>\n",
              "      <th>ratingContents</th>\n",
              "      <th>releaseDateTheaters</th>\n",
              "      <th>releaseDateStreaming</th>\n",
              "      <th>runtimeMinutes</th>\n",
              "      <th>genre</th>\n",
              "      <th>originalLanguage</th>\n",
              "      <th>director</th>\n",
              "      <th>boxOffice</th>\n",
              "      <th>distributor</th>\n",
              "      <th>soundType</th>\n",
              "    </tr>\n",
              "  </thead>\n",
              "  <tbody>\n",
              "    <tr>\n",
              "      <th>0</th>\n",
              "      <td>marvelous_pirate</td>\n",
              "      <td>Benjamin Henry</td>\n",
              "      <td>False</td>\n",
              "      <td>Henry Selick’s first movie since 2009’s Corali...</td>\n",
              "      <td>POSITIVE</td>\n",
              "      <td>Marvelous Pirate</td>\n",
              "      <td>65.0</td>\n",
              "      <td>PG-13</td>\n",
              "      <td>['Violence', 'Brief Strong Language', 'Substan...</td>\n",
              "      <td>2022-10-21</td>\n",
              "      <td>2022-10-28</td>\n",
              "      <td>105.0</td>\n",
              "      <td>Comedy, Animation, Adventure, Fantasy</td>\n",
              "      <td>English</td>\n",
              "      <td>Bennie Basso</td>\n",
              "      <td>NaN</td>\n",
              "      <td>Netflix</td>\n",
              "      <td>NaN</td>\n",
              "    </tr>\n",
              "    <tr>\n",
              "      <th>1</th>\n",
              "      <td>tony_montana_frodo_baggins_v_rocky_balboa</td>\n",
              "      <td>Felicia Lopez</td>\n",
              "      <td>False</td>\n",
              "      <td>With a cast that reads like the Vogue Oscar pa...</td>\n",
              "      <td>NEGATIVE</td>\n",
              "      <td>Tony Montana Frodo Baggins V Rocky Balboa</td>\n",
              "      <td>NaN</td>\n",
              "      <td>NaN</td>\n",
              "      <td>NaN</td>\n",
              "      <td>NaN</td>\n",
              "      <td>2013-01-08</td>\n",
              "      <td>91.0</td>\n",
              "      <td>Action</td>\n",
              "      <td>English</td>\n",
              "      <td>Alma White</td>\n",
              "      <td>NaN</td>\n",
              "      <td>NaN</td>\n",
              "      <td>NaN</td>\n",
              "    </tr>\n",
              "    <tr>\n",
              "      <th>2</th>\n",
              "      <td>darth_vader_katniss_everdeen_sorcerer_donnie_d...</td>\n",
              "      <td>Mr. Charles Burgess</td>\n",
              "      <td>True</td>\n",
              "      <td>Creed II does not give us anything but another...</td>\n",
              "      <td>POSITIVE</td>\n",
              "      <td>Darth Vader Katniss Everdeen Sorcerer Donnie D...</td>\n",
              "      <td>80.0</td>\n",
              "      <td>PG-13</td>\n",
              "      <td>['Language', 'A Scene of Sensuality', 'Sports ...</td>\n",
              "      <td>2018-11-21</td>\n",
              "      <td>2019-02-12</td>\n",
              "      <td>130.0</td>\n",
              "      <td>Drama</td>\n",
              "      <td>English</td>\n",
              "      <td>Bobby Oleary</td>\n",
              "      <td>$115.7M</td>\n",
              "      <td>Warner Bros. Pictures, Metro-Goldwyn-Mayer</td>\n",
              "      <td>NaN</td>\n",
              "    </tr>\n",
              "    <tr>\n",
              "      <th>3</th>\n",
              "      <td>lara_croft_glimmer</td>\n",
              "      <td>Ryan Barrett</td>\n",
              "      <td>False</td>\n",
              "      <td>I know what you're thinking, but this is no Li...</td>\n",
              "      <td>POSITIVE</td>\n",
              "      <td>Lara Croft Glimmer</td>\n",
              "      <td>NaN</td>\n",
              "      <td>NaN</td>\n",
              "      <td>NaN</td>\n",
              "      <td>NaN</td>\n",
              "      <td>2020-06-02</td>\n",
              "      <td>15.0</td>\n",
              "      <td>Drama</td>\n",
              "      <td>Spanish</td>\n",
              "      <td>Eric Hutcherson</td>\n",
              "      <td>NaN</td>\n",
              "      <td>NaN</td>\n",
              "      <td>NaN</td>\n",
              "    </tr>\n",
              "    <tr>\n",
              "      <th>4</th>\n",
              "      <td>jason_bourne_surreal_the_terminator_indiana_jones</td>\n",
              "      <td>Alexander Glover</td>\n",
              "      <td>False</td>\n",
              "      <td>Director Fernando Meirelles tells the story wi...</td>\n",
              "      <td>POSITIVE</td>\n",
              "      <td>Jason Bourne Surreal The Terminator Indiana Jones</td>\n",
              "      <td>97.0</td>\n",
              "      <td>R</td>\n",
              "      <td>['Language', 'Drug Content', 'Sexuality', 'Str...</td>\n",
              "      <td>2003-01-17</td>\n",
              "      <td>2004-06-08</td>\n",
              "      <td>131.0</td>\n",
              "      <td>Crime, Drama</td>\n",
              "      <td>Portuguese (Brazil)</td>\n",
              "      <td>John Trent</td>\n",
              "      <td>$7.6M</td>\n",
              "      <td>Miramax Films</td>\n",
              "      <td>Surround, Dolby SR, Dolby Digital, Dolby A, Do...</td>\n",
              "    </tr>\n",
              "  </tbody>\n",
              "</table>\n",
              "</div>\n",
              "    <div class=\"colab-df-buttons\">\n",
              "\n",
              "  <div class=\"colab-df-container\">\n",
              "    <button class=\"colab-df-convert\" onclick=\"convertToInteractive('df-d3f8fd99-d618-41b8-92dc-c0bc92cbd856')\"\n",
              "            title=\"Convert this dataframe to an interactive table.\"\n",
              "            style=\"display:none;\">\n",
              "\n",
              "  <svg xmlns=\"http://www.w3.org/2000/svg\" height=\"24px\" viewBox=\"0 -960 960 960\">\n",
              "    <path d=\"M120-120v-720h720v720H120Zm60-500h600v-160H180v160Zm220 220h160v-160H400v160Zm0 220h160v-160H400v160ZM180-400h160v-160H180v160Zm440 0h160v-160H620v160ZM180-180h160v-160H180v160Zm440 0h160v-160H620v160Z\"/>\n",
              "  </svg>\n",
              "    </button>\n",
              "\n",
              "  <style>\n",
              "    .colab-df-container {\n",
              "      display:flex;\n",
              "      gap: 12px;\n",
              "    }\n",
              "\n",
              "    .colab-df-convert {\n",
              "      background-color: #E8F0FE;\n",
              "      border: none;\n",
              "      border-radius: 50%;\n",
              "      cursor: pointer;\n",
              "      display: none;\n",
              "      fill: #1967D2;\n",
              "      height: 32px;\n",
              "      padding: 0 0 0 0;\n",
              "      width: 32px;\n",
              "    }\n",
              "\n",
              "    .colab-df-convert:hover {\n",
              "      background-color: #E2EBFA;\n",
              "      box-shadow: 0px 1px 2px rgba(60, 64, 67, 0.3), 0px 1px 3px 1px rgba(60, 64, 67, 0.15);\n",
              "      fill: #174EA6;\n",
              "    }\n",
              "\n",
              "    .colab-df-buttons div {\n",
              "      margin-bottom: 4px;\n",
              "    }\n",
              "\n",
              "    [theme=dark] .colab-df-convert {\n",
              "      background-color: #3B4455;\n",
              "      fill: #D2E3FC;\n",
              "    }\n",
              "\n",
              "    [theme=dark] .colab-df-convert:hover {\n",
              "      background-color: #434B5C;\n",
              "      box-shadow: 0px 1px 3px 1px rgba(0, 0, 0, 0.15);\n",
              "      filter: drop-shadow(0px 1px 2px rgba(0, 0, 0, 0.3));\n",
              "      fill: #FFFFFF;\n",
              "    }\n",
              "  </style>\n",
              "\n",
              "    <script>\n",
              "      const buttonEl =\n",
              "        document.querySelector('#df-d3f8fd99-d618-41b8-92dc-c0bc92cbd856 button.colab-df-convert');\n",
              "      buttonEl.style.display =\n",
              "        google.colab.kernel.accessAllowed ? 'block' : 'none';\n",
              "\n",
              "      async function convertToInteractive(key) {\n",
              "        const element = document.querySelector('#df-d3f8fd99-d618-41b8-92dc-c0bc92cbd856');\n",
              "        const dataTable =\n",
              "          await google.colab.kernel.invokeFunction('convertToInteractive',\n",
              "                                                    [key], {});\n",
              "        if (!dataTable) return;\n",
              "\n",
              "        const docLinkHtml = 'Like what you see? Visit the ' +\n",
              "          '<a target=\"_blank\" href=https://colab.research.google.com/notebooks/data_table.ipynb>data table notebook</a>'\n",
              "          + ' to learn more about interactive tables.';\n",
              "        element.innerHTML = '';\n",
              "        dataTable['output_type'] = 'display_data';\n",
              "        await google.colab.output.renderOutput(dataTable, element);\n",
              "        const docLink = document.createElement('div');\n",
              "        docLink.innerHTML = docLinkHtml;\n",
              "        element.appendChild(docLink);\n",
              "      }\n",
              "    </script>\n",
              "  </div>\n",
              "\n",
              "\n",
              "<div id=\"df-5733ab11-4424-4e38-916e-87d610eec0b7\">\n",
              "  <button class=\"colab-df-quickchart\" onclick=\"quickchart('df-5733ab11-4424-4e38-916e-87d610eec0b7')\"\n",
              "            title=\"Suggest charts\"\n",
              "            style=\"display:none;\">\n",
              "\n",
              "<svg xmlns=\"http://www.w3.org/2000/svg\" height=\"24px\"viewBox=\"0 0 24 24\"\n",
              "     width=\"24px\">\n",
              "    <g>\n",
              "        <path d=\"M19 3H5c-1.1 0-2 .9-2 2v14c0 1.1.9 2 2 2h14c1.1 0 2-.9 2-2V5c0-1.1-.9-2-2-2zM9 17H7v-7h2v7zm4 0h-2V7h2v10zm4 0h-2v-4h2v4z\"/>\n",
              "    </g>\n",
              "</svg>\n",
              "  </button>\n",
              "\n",
              "<style>\n",
              "  .colab-df-quickchart {\n",
              "      --bg-color: #E8F0FE;\n",
              "      --fill-color: #1967D2;\n",
              "      --hover-bg-color: #E2EBFA;\n",
              "      --hover-fill-color: #174EA6;\n",
              "      --disabled-fill-color: #AAA;\n",
              "      --disabled-bg-color: #DDD;\n",
              "  }\n",
              "\n",
              "  [theme=dark] .colab-df-quickchart {\n",
              "      --bg-color: #3B4455;\n",
              "      --fill-color: #D2E3FC;\n",
              "      --hover-bg-color: #434B5C;\n",
              "      --hover-fill-color: #FFFFFF;\n",
              "      --disabled-bg-color: #3B4455;\n",
              "      --disabled-fill-color: #666;\n",
              "  }\n",
              "\n",
              "  .colab-df-quickchart {\n",
              "    background-color: var(--bg-color);\n",
              "    border: none;\n",
              "    border-radius: 50%;\n",
              "    cursor: pointer;\n",
              "    display: none;\n",
              "    fill: var(--fill-color);\n",
              "    height: 32px;\n",
              "    padding: 0;\n",
              "    width: 32px;\n",
              "  }\n",
              "\n",
              "  .colab-df-quickchart:hover {\n",
              "    background-color: var(--hover-bg-color);\n",
              "    box-shadow: 0 1px 2px rgba(60, 64, 67, 0.3), 0 1px 3px 1px rgba(60, 64, 67, 0.15);\n",
              "    fill: var(--button-hover-fill-color);\n",
              "  }\n",
              "\n",
              "  .colab-df-quickchart-complete:disabled,\n",
              "  .colab-df-quickchart-complete:disabled:hover {\n",
              "    background-color: var(--disabled-bg-color);\n",
              "    fill: var(--disabled-fill-color);\n",
              "    box-shadow: none;\n",
              "  }\n",
              "\n",
              "  .colab-df-spinner {\n",
              "    border: 2px solid var(--fill-color);\n",
              "    border-color: transparent;\n",
              "    border-bottom-color: var(--fill-color);\n",
              "    animation:\n",
              "      spin 1s steps(1) infinite;\n",
              "  }\n",
              "\n",
              "  @keyframes spin {\n",
              "    0% {\n",
              "      border-color: transparent;\n",
              "      border-bottom-color: var(--fill-color);\n",
              "      border-left-color: var(--fill-color);\n",
              "    }\n",
              "    20% {\n",
              "      border-color: transparent;\n",
              "      border-left-color: var(--fill-color);\n",
              "      border-top-color: var(--fill-color);\n",
              "    }\n",
              "    30% {\n",
              "      border-color: transparent;\n",
              "      border-left-color: var(--fill-color);\n",
              "      border-top-color: var(--fill-color);\n",
              "      border-right-color: var(--fill-color);\n",
              "    }\n",
              "    40% {\n",
              "      border-color: transparent;\n",
              "      border-right-color: var(--fill-color);\n",
              "      border-top-color: var(--fill-color);\n",
              "    }\n",
              "    60% {\n",
              "      border-color: transparent;\n",
              "      border-right-color: var(--fill-color);\n",
              "    }\n",
              "    80% {\n",
              "      border-color: transparent;\n",
              "      border-right-color: var(--fill-color);\n",
              "      border-bottom-color: var(--fill-color);\n",
              "    }\n",
              "    90% {\n",
              "      border-color: transparent;\n",
              "      border-bottom-color: var(--fill-color);\n",
              "    }\n",
              "  }\n",
              "</style>\n",
              "\n",
              "  <script>\n",
              "    async function quickchart(key) {\n",
              "      const quickchartButtonEl =\n",
              "        document.querySelector('#' + key + ' button');\n",
              "      quickchartButtonEl.disabled = true;  // To prevent multiple clicks.\n",
              "      quickchartButtonEl.classList.add('colab-df-spinner');\n",
              "      try {\n",
              "        const charts = await google.colab.kernel.invokeFunction(\n",
              "            'suggestCharts', [key], {});\n",
              "      } catch (error) {\n",
              "        console.error('Error during call to suggestCharts:', error);\n",
              "      }\n",
              "      quickchartButtonEl.classList.remove('colab-df-spinner');\n",
              "      quickchartButtonEl.classList.add('colab-df-quickchart-complete');\n",
              "    }\n",
              "    (() => {\n",
              "      let quickchartButtonEl =\n",
              "        document.querySelector('#df-5733ab11-4424-4e38-916e-87d610eec0b7 button');\n",
              "      quickchartButtonEl.style.display =\n",
              "        google.colab.kernel.accessAllowed ? 'block' : 'none';\n",
              "    })();\n",
              "  </script>\n",
              "</div>\n",
              "\n",
              "    </div>\n",
              "  </div>\n"
            ]
          },
          "metadata": {},
          "execution_count": 92
        }
      ]
    },
    {
      "cell_type": "code",
      "source": [
        "#.info is used to provide Count of Non Null values in Column with There Data Type\n",
        "merg_trained_data11.info()"
      ],
      "metadata": {
        "execution": {
          "iopub.status.busy": "2023-08-28T04:10:31.587685Z",
          "iopub.execute_input": "2023-08-28T04:10:31.588064Z",
          "iopub.status.idle": "2023-08-28T04:10:31.982450Z",
          "shell.execute_reply.started": "2023-08-28T04:10:31.588036Z",
          "shell.execute_reply": "2023-08-28T04:10:31.981392Z"
        },
        "trusted": true,
        "colab": {
          "base_uri": "https://localhost:8080/"
        },
        "id": "VTQ5ikoQFp36",
        "outputId": "e6424984-c514-4965-98c6-23a8d97bc7d9"
      },
      "execution_count": null,
      "outputs": [
        {
          "output_type": "stream",
          "name": "stdout",
          "text": [
            "<class 'pandas.core.frame.DataFrame'>\n",
            "Int64Index: 162758 entries, 0 to 162757\n",
            "Data columns (total 18 columns):\n",
            " #   Column                Non-Null Count   Dtype  \n",
            "---  ------                --------------   -----  \n",
            " 0   movieid               162758 non-null  object \n",
            " 1   reviewerName          162758 non-null  object \n",
            " 2   isFrequentReviewer    162758 non-null  bool   \n",
            " 3   reviewText            156311 non-null  object \n",
            " 4   sentiment             162758 non-null  object \n",
            " 5   title                 162758 non-null  object \n",
            " 6   audienceScore         149510 non-null  float64\n",
            " 7   rating                99034 non-null   object \n",
            " 8   ratingContents        99034 non-null   object \n",
            " 9   releaseDateTheaters   126924 non-null  object \n",
            " 10  releaseDateStreaming  146573 non-null  object \n",
            " 11  runtimeMinutes        159382 non-null  float64\n",
            " 12  genre                 160320 non-null  object \n",
            " 13  originalLanguage      159468 non-null  object \n",
            " 14  director              162758 non-null  object \n",
            " 15  boxOffice             109982 non-null  object \n",
            " 16  distributor           122095 non-null  object \n",
            " 17  soundType             77391 non-null   object \n",
            "dtypes: bool(1), float64(2), object(15)\n",
            "memory usage: 22.5+ MB\n"
          ]
        }
      ]
    },
    {
      "cell_type": "code",
      "source": [
        "#.describe() method in pandas is used to generate descriptive statistics\n",
        "merg_trained_data11.describe()"
      ],
      "metadata": {
        "execution": {
          "iopub.status.busy": "2023-08-28T04:10:31.984505Z",
          "iopub.execute_input": "2023-08-28T04:10:31.985402Z",
          "iopub.status.idle": "2023-08-28T04:10:32.024622Z",
          "shell.execute_reply.started": "2023-08-28T04:10:31.985360Z",
          "shell.execute_reply": "2023-08-28T04:10:32.023593Z"
        },
        "trusted": true,
        "colab": {
          "base_uri": "https://localhost:8080/",
          "height": 300
        },
        "id": "X2QHMNA0Fp37",
        "outputId": "7b9027f0-3e2a-4ae7-ec79-fc67f8deb549"
      },
      "execution_count": null,
      "outputs": [
        {
          "output_type": "execute_result",
          "data": {
            "text/plain": [
              "       audienceScore  runtimeMinutes\n",
              "count  149510.000000   159382.000000\n",
              "mean       65.214541      106.911828\n",
              "std        19.937695       22.138131\n",
              "min         0.000000        4.000000\n",
              "25%        51.000000       93.000000\n",
              "50%        68.000000      104.000000\n",
              "75%        82.000000      118.000000\n",
              "max       100.000000      561.000000"
            ],
            "text/html": [
              "\n",
              "  <div id=\"df-cf998c27-ee53-46e8-a642-84b1485c3b76\" class=\"colab-df-container\">\n",
              "    <div>\n",
              "<style scoped>\n",
              "    .dataframe tbody tr th:only-of-type {\n",
              "        vertical-align: middle;\n",
              "    }\n",
              "\n",
              "    .dataframe tbody tr th {\n",
              "        vertical-align: top;\n",
              "    }\n",
              "\n",
              "    .dataframe thead th {\n",
              "        text-align: right;\n",
              "    }\n",
              "</style>\n",
              "<table border=\"1\" class=\"dataframe\">\n",
              "  <thead>\n",
              "    <tr style=\"text-align: right;\">\n",
              "      <th></th>\n",
              "      <th>audienceScore</th>\n",
              "      <th>runtimeMinutes</th>\n",
              "    </tr>\n",
              "  </thead>\n",
              "  <tbody>\n",
              "    <tr>\n",
              "      <th>count</th>\n",
              "      <td>149510.000000</td>\n",
              "      <td>159382.000000</td>\n",
              "    </tr>\n",
              "    <tr>\n",
              "      <th>mean</th>\n",
              "      <td>65.214541</td>\n",
              "      <td>106.911828</td>\n",
              "    </tr>\n",
              "    <tr>\n",
              "      <th>std</th>\n",
              "      <td>19.937695</td>\n",
              "      <td>22.138131</td>\n",
              "    </tr>\n",
              "    <tr>\n",
              "      <th>min</th>\n",
              "      <td>0.000000</td>\n",
              "      <td>4.000000</td>\n",
              "    </tr>\n",
              "    <tr>\n",
              "      <th>25%</th>\n",
              "      <td>51.000000</td>\n",
              "      <td>93.000000</td>\n",
              "    </tr>\n",
              "    <tr>\n",
              "      <th>50%</th>\n",
              "      <td>68.000000</td>\n",
              "      <td>104.000000</td>\n",
              "    </tr>\n",
              "    <tr>\n",
              "      <th>75%</th>\n",
              "      <td>82.000000</td>\n",
              "      <td>118.000000</td>\n",
              "    </tr>\n",
              "    <tr>\n",
              "      <th>max</th>\n",
              "      <td>100.000000</td>\n",
              "      <td>561.000000</td>\n",
              "    </tr>\n",
              "  </tbody>\n",
              "</table>\n",
              "</div>\n",
              "    <div class=\"colab-df-buttons\">\n",
              "\n",
              "  <div class=\"colab-df-container\">\n",
              "    <button class=\"colab-df-convert\" onclick=\"convertToInteractive('df-cf998c27-ee53-46e8-a642-84b1485c3b76')\"\n",
              "            title=\"Convert this dataframe to an interactive table.\"\n",
              "            style=\"display:none;\">\n",
              "\n",
              "  <svg xmlns=\"http://www.w3.org/2000/svg\" height=\"24px\" viewBox=\"0 -960 960 960\">\n",
              "    <path d=\"M120-120v-720h720v720H120Zm60-500h600v-160H180v160Zm220 220h160v-160H400v160Zm0 220h160v-160H400v160ZM180-400h160v-160H180v160Zm440 0h160v-160H620v160ZM180-180h160v-160H180v160Zm440 0h160v-160H620v160Z\"/>\n",
              "  </svg>\n",
              "    </button>\n",
              "\n",
              "  <style>\n",
              "    .colab-df-container {\n",
              "      display:flex;\n",
              "      gap: 12px;\n",
              "    }\n",
              "\n",
              "    .colab-df-convert {\n",
              "      background-color: #E8F0FE;\n",
              "      border: none;\n",
              "      border-radius: 50%;\n",
              "      cursor: pointer;\n",
              "      display: none;\n",
              "      fill: #1967D2;\n",
              "      height: 32px;\n",
              "      padding: 0 0 0 0;\n",
              "      width: 32px;\n",
              "    }\n",
              "\n",
              "    .colab-df-convert:hover {\n",
              "      background-color: #E2EBFA;\n",
              "      box-shadow: 0px 1px 2px rgba(60, 64, 67, 0.3), 0px 1px 3px 1px rgba(60, 64, 67, 0.15);\n",
              "      fill: #174EA6;\n",
              "    }\n",
              "\n",
              "    .colab-df-buttons div {\n",
              "      margin-bottom: 4px;\n",
              "    }\n",
              "\n",
              "    [theme=dark] .colab-df-convert {\n",
              "      background-color: #3B4455;\n",
              "      fill: #D2E3FC;\n",
              "    }\n",
              "\n",
              "    [theme=dark] .colab-df-convert:hover {\n",
              "      background-color: #434B5C;\n",
              "      box-shadow: 0px 1px 3px 1px rgba(0, 0, 0, 0.15);\n",
              "      filter: drop-shadow(0px 1px 2px rgba(0, 0, 0, 0.3));\n",
              "      fill: #FFFFFF;\n",
              "    }\n",
              "  </style>\n",
              "\n",
              "    <script>\n",
              "      const buttonEl =\n",
              "        document.querySelector('#df-cf998c27-ee53-46e8-a642-84b1485c3b76 button.colab-df-convert');\n",
              "      buttonEl.style.display =\n",
              "        google.colab.kernel.accessAllowed ? 'block' : 'none';\n",
              "\n",
              "      async function convertToInteractive(key) {\n",
              "        const element = document.querySelector('#df-cf998c27-ee53-46e8-a642-84b1485c3b76');\n",
              "        const dataTable =\n",
              "          await google.colab.kernel.invokeFunction('convertToInteractive',\n",
              "                                                    [key], {});\n",
              "        if (!dataTable) return;\n",
              "\n",
              "        const docLinkHtml = 'Like what you see? Visit the ' +\n",
              "          '<a target=\"_blank\" href=https://colab.research.google.com/notebooks/data_table.ipynb>data table notebook</a>'\n",
              "          + ' to learn more about interactive tables.';\n",
              "        element.innerHTML = '';\n",
              "        dataTable['output_type'] = 'display_data';\n",
              "        await google.colab.output.renderOutput(dataTable, element);\n",
              "        const docLink = document.createElement('div');\n",
              "        docLink.innerHTML = docLinkHtml;\n",
              "        element.appendChild(docLink);\n",
              "      }\n",
              "    </script>\n",
              "  </div>\n",
              "\n",
              "\n",
              "<div id=\"df-c1dcee57-ed30-4fd3-8782-0b4cf75d60df\">\n",
              "  <button class=\"colab-df-quickchart\" onclick=\"quickchart('df-c1dcee57-ed30-4fd3-8782-0b4cf75d60df')\"\n",
              "            title=\"Suggest charts\"\n",
              "            style=\"display:none;\">\n",
              "\n",
              "<svg xmlns=\"http://www.w3.org/2000/svg\" height=\"24px\"viewBox=\"0 0 24 24\"\n",
              "     width=\"24px\">\n",
              "    <g>\n",
              "        <path d=\"M19 3H5c-1.1 0-2 .9-2 2v14c0 1.1.9 2 2 2h14c1.1 0 2-.9 2-2V5c0-1.1-.9-2-2-2zM9 17H7v-7h2v7zm4 0h-2V7h2v10zm4 0h-2v-4h2v4z\"/>\n",
              "    </g>\n",
              "</svg>\n",
              "  </button>\n",
              "\n",
              "<style>\n",
              "  .colab-df-quickchart {\n",
              "      --bg-color: #E8F0FE;\n",
              "      --fill-color: #1967D2;\n",
              "      --hover-bg-color: #E2EBFA;\n",
              "      --hover-fill-color: #174EA6;\n",
              "      --disabled-fill-color: #AAA;\n",
              "      --disabled-bg-color: #DDD;\n",
              "  }\n",
              "\n",
              "  [theme=dark] .colab-df-quickchart {\n",
              "      --bg-color: #3B4455;\n",
              "      --fill-color: #D2E3FC;\n",
              "      --hover-bg-color: #434B5C;\n",
              "      --hover-fill-color: #FFFFFF;\n",
              "      --disabled-bg-color: #3B4455;\n",
              "      --disabled-fill-color: #666;\n",
              "  }\n",
              "\n",
              "  .colab-df-quickchart {\n",
              "    background-color: var(--bg-color);\n",
              "    border: none;\n",
              "    border-radius: 50%;\n",
              "    cursor: pointer;\n",
              "    display: none;\n",
              "    fill: var(--fill-color);\n",
              "    height: 32px;\n",
              "    padding: 0;\n",
              "    width: 32px;\n",
              "  }\n",
              "\n",
              "  .colab-df-quickchart:hover {\n",
              "    background-color: var(--hover-bg-color);\n",
              "    box-shadow: 0 1px 2px rgba(60, 64, 67, 0.3), 0 1px 3px 1px rgba(60, 64, 67, 0.15);\n",
              "    fill: var(--button-hover-fill-color);\n",
              "  }\n",
              "\n",
              "  .colab-df-quickchart-complete:disabled,\n",
              "  .colab-df-quickchart-complete:disabled:hover {\n",
              "    background-color: var(--disabled-bg-color);\n",
              "    fill: var(--disabled-fill-color);\n",
              "    box-shadow: none;\n",
              "  }\n",
              "\n",
              "  .colab-df-spinner {\n",
              "    border: 2px solid var(--fill-color);\n",
              "    border-color: transparent;\n",
              "    border-bottom-color: var(--fill-color);\n",
              "    animation:\n",
              "      spin 1s steps(1) infinite;\n",
              "  }\n",
              "\n",
              "  @keyframes spin {\n",
              "    0% {\n",
              "      border-color: transparent;\n",
              "      border-bottom-color: var(--fill-color);\n",
              "      border-left-color: var(--fill-color);\n",
              "    }\n",
              "    20% {\n",
              "      border-color: transparent;\n",
              "      border-left-color: var(--fill-color);\n",
              "      border-top-color: var(--fill-color);\n",
              "    }\n",
              "    30% {\n",
              "      border-color: transparent;\n",
              "      border-left-color: var(--fill-color);\n",
              "      border-top-color: var(--fill-color);\n",
              "      border-right-color: var(--fill-color);\n",
              "    }\n",
              "    40% {\n",
              "      border-color: transparent;\n",
              "      border-right-color: var(--fill-color);\n",
              "      border-top-color: var(--fill-color);\n",
              "    }\n",
              "    60% {\n",
              "      border-color: transparent;\n",
              "      border-right-color: var(--fill-color);\n",
              "    }\n",
              "    80% {\n",
              "      border-color: transparent;\n",
              "      border-right-color: var(--fill-color);\n",
              "      border-bottom-color: var(--fill-color);\n",
              "    }\n",
              "    90% {\n",
              "      border-color: transparent;\n",
              "      border-bottom-color: var(--fill-color);\n",
              "    }\n",
              "  }\n",
              "</style>\n",
              "\n",
              "  <script>\n",
              "    async function quickchart(key) {\n",
              "      const quickchartButtonEl =\n",
              "        document.querySelector('#' + key + ' button');\n",
              "      quickchartButtonEl.disabled = true;  // To prevent multiple clicks.\n",
              "      quickchartButtonEl.classList.add('colab-df-spinner');\n",
              "      try {\n",
              "        const charts = await google.colab.kernel.invokeFunction(\n",
              "            'suggestCharts', [key], {});\n",
              "      } catch (error) {\n",
              "        console.error('Error during call to suggestCharts:', error);\n",
              "      }\n",
              "      quickchartButtonEl.classList.remove('colab-df-spinner');\n",
              "      quickchartButtonEl.classList.add('colab-df-quickchart-complete');\n",
              "    }\n",
              "    (() => {\n",
              "      let quickchartButtonEl =\n",
              "        document.querySelector('#df-c1dcee57-ed30-4fd3-8782-0b4cf75d60df button');\n",
              "      quickchartButtonEl.style.display =\n",
              "        google.colab.kernel.accessAllowed ? 'block' : 'none';\n",
              "    })();\n",
              "  </script>\n",
              "</div>\n",
              "\n",
              "    </div>\n",
              "  </div>\n"
            ]
          },
          "metadata": {},
          "execution_count": 94
        }
      ]
    },
    {
      "cell_type": "code",
      "source": [
        "#By using Heatmap from seaborn Library we have vivualize null values from Merge Train DataSet\n",
        "plt.figure(figsize=(10, 8))\n",
        "sns.heatmap(merg_trained_data11.isna(), cmap='viridis')\n",
        "plt.title('Missing values in Merge Train Data')\n",
        "plt.show()"
      ],
      "metadata": {
        "execution": {
          "iopub.status.busy": "2023-08-28T04:10:32.031740Z",
          "iopub.execute_input": "2023-08-28T04:10:32.032770Z",
          "iopub.status.idle": "2023-08-28T04:10:36.116305Z",
          "shell.execute_reply.started": "2023-08-28T04:10:32.032724Z",
          "shell.execute_reply": "2023-08-28T04:10:36.115466Z"
        },
        "trusted": true,
        "colab": {
          "base_uri": "https://localhost:8080/",
          "height": 840
        },
        "id": "9eUO3LUPFp38",
        "outputId": "2b7ee84b-1b99-4d7e-c7b0-2884af50eee9"
      },
      "execution_count": null,
      "outputs": [
        {
          "output_type": "display_data",
          "data": {
            "text/plain": [
              "<Figure size 1000x800 with 2 Axes>"
            ],
            "image/png": "[encoded data removed]"
          },
          "metadata": {}
        }
      ]
    },
    {
      "cell_type": "code",
      "source": [
        "#By using barplot we have plotted Sentiment Distribution of sentiment Column of merge tarined DataSet\n",
        "#Do value_counts on merg_trained_data11 sentiment column to get count of positive,negative in it\n",
        "pos_neg_count = merg_trained_data11['sentiment'].value_counts()\n",
        "colors11 = ['#00FF00','#F00000'] #Green red shades\n",
        "plt.bar(pos_neg_count.index, pos_neg_count.values,color=colors11) #.index retrives Index of pos_neg Counts,.values provides corresponding counts\n",
        "# Set labels and title for the plot\n",
        "plt.xlabel('Sentiment')\n",
        "plt.ylabel('Count')\n",
        "plt.title('Sentiment Distribution')\n",
        "plt.show()"
      ],
      "metadata": {
        "execution": {
          "iopub.status.busy": "2023-08-28T04:10:36.118044Z",
          "iopub.execute_input": "2023-08-28T04:10:36.118625Z",
          "iopub.status.idle": "2023-08-28T04:10:36.340383Z",
          "shell.execute_reply.started": "2023-08-28T04:10:36.118592Z",
          "shell.execute_reply": "2023-08-28T04:10:36.339267Z"
        },
        "trusted": true,
        "colab": {
          "base_uri": "https://localhost:8080/",
          "height": 472
        },
        "id": "i4cBx3snFp39",
        "outputId": "4a7d17ed-95cd-4a90-ccbf-cf3474ec9b0c"
      },
      "execution_count": null,
      "outputs": [
        {
          "output_type": "display_data",
          "data": {
            "text/plain": [
              "<Figure size 640x480 with 1 Axes>"
            ],
            "image/png": "[encoded data removed]"
          },
          "metadata": {}
        }
      ]
    },
    {
      "cell_type": "markdown",
      "source": [
        "This Above Plot Indicates data is Imbalanced So it might be case it can Give biased predictions for Negative Label So tried out with Hyperparameter Tunning and SMOTE to reduce Imbalance"
      ],
      "metadata": {
        "id": "s0sDcScHFp3-"
      }
    },
    {
      "cell_type": "code",
      "source": [
        "#To get to know how Numerical Columns are well releated Heatmap is used to get Correlation among various Columns of Merge Train Dataset\n",
        "sns.heatmap(merg_trained_data11.corr(),annot=True)"
      ],
      "metadata": {
        "execution": {
          "iopub.status.busy": "2023-08-28T04:10:36.341515Z",
          "iopub.execute_input": "2023-08-28T04:10:36.341820Z",
          "iopub.status.idle": "2023-08-28T04:10:36.659934Z",
          "shell.execute_reply.started": "2023-08-28T04:10:36.341795Z",
          "shell.execute_reply": "2023-08-28T04:10:36.659097Z"
        },
        "trusted": true,
        "colab": {
          "base_uri": "https://localhost:8080/",
          "height": 508
        },
        "id": "PpodG9gvFp3-",
        "outputId": "af1d2ce3-810f-4fe1-8fe7-9af2568e677e"
      },
      "execution_count": null,
      "outputs": [
        {
          "output_type": "stream",
          "name": "stderr",
          "text": [
            "<ipython-input-97-80e084aaf737>:2: FutureWarning: The default value of numeric_only in DataFrame.corr is deprecated. In a future version, it will default to False. Select only valid columns or specify the value of numeric_only to silence this warning.\n",
            "  sns.heatmap(merg_trained_data11.corr(),annot=True)\n"
          ]
        },
        {
          "output_type": "execute_result",
          "data": {
            "text/plain": [
              "<Axes: >"
            ]
          },
          "metadata": {},
          "execution_count": 97
        },
        {
          "output_type": "display_data",
          "data": {
            "text/plain": [
              "<Figure size 640x480 with 2 Axes>"
            ],
            "image/png": "[encoded data removed]"
          },
          "metadata": {}
        }
      ]
    },
    {
      "cell_type": "code",
      "source": [
        "#From the Above Heatmap We can Conclude that only runtimeMinutes and audienceScore are having Some Correaltion other all columns are 0 correalted with each other\n",
        "#From this correlation chart we can Conclude that FrequentReviewer Column and audiencescore/runtimeMinutes are Weakly Correlated or Uncorreated\n",
        "#2nd Thing to Conclude audienceScore and runtimeMinutes are Weakly Correalted i.e on Avg Bases auidence Score Increases as runtimeMinutes increases"
      ],
      "metadata": {
        "execution": {
          "iopub.status.busy": "2023-08-28T04:10:36.661821Z",
          "iopub.execute_input": "2023-08-28T04:10:36.662666Z",
          "iopub.status.idle": "2023-08-28T04:10:36.667106Z",
          "shell.execute_reply.started": "2023-08-28T04:10:36.662635Z",
          "shell.execute_reply": "2023-08-28T04:10:36.666190Z"
        },
        "trusted": true,
        "id": "S6d18FtkFp3_"
      },
      "execution_count": null,
      "outputs": []
    },
    {
      "cell_type": "code",
      "source": [
        "#Above block is used to get names of Columns which are having more than 30 percent Null Values\n",
        "\n",
        "# Calculate the fraction of missing values in each column\n",
        "missing_fraction = merg_trained_data11.isna().sum() / len(merg_trained_data11)\n",
        "\n",
        "# Filter columns with missing values exceeding 30%\n",
        "columns_with_missing_Values  = missing_fraction[missing_fraction > 0.3]\n",
        "\n",
        "# Plot the percentage of missing values in each column\n",
        "plt.figure(figsize=(8, 6))\n",
        "columns_with_missing_Values.plot(kind='bar')\n",
        "plt.title('Columns with >30% Missing Values')\n",
        "plt.xlabel('Columns')\n",
        "plt.ylabel('Percentage Missing')\n",
        "plt.xticks(rotation=39)\n",
        "plt.show()"
      ],
      "metadata": {
        "execution": {
          "iopub.status.busy": "2023-08-28T04:10:36.668433Z",
          "iopub.execute_input": "2023-08-28T04:10:36.668729Z",
          "iopub.status.idle": "2023-08-28T04:10:37.360021Z",
          "shell.execute_reply.started": "2023-08-28T04:10:36.668705Z",
          "shell.execute_reply": "2023-08-28T04:10:37.359155Z"
        },
        "trusted": true,
        "colab": {
          "base_uri": "https://localhost:8080/",
          "height": 626
        },
        "id": "JT8XQjP1Fp4A",
        "outputId": "f0219dda-2a08-44b4-f8ef-c847b2c7a84c"
      },
      "execution_count": null,
      "outputs": [
        {
          "output_type": "display_data",
          "data": {
            "text/plain": [
              "<Figure size 800x600 with 1 Axes>"
            ],
            "image/png": "[encoded data removed]"
          },
          "metadata": {}
        }
      ]
    },
    {
      "cell_type": "code",
      "source": [
        "#Above Columns are Having Higher Null Values So it is Need to Either Impute Them Properly or exculded for training models"
      ],
      "metadata": {
        "execution": {
          "iopub.status.busy": "2023-08-28T04:10:37.361310Z",
          "iopub.execute_input": "2023-08-28T04:10:37.362220Z",
          "iopub.status.idle": "2023-08-28T04:10:37.366214Z",
          "shell.execute_reply.started": "2023-08-28T04:10:37.362188Z",
          "shell.execute_reply": "2023-08-28T04:10:37.365272Z"
        },
        "trusted": true,
        "id": "_mqI6nyyFp4A"
      },
      "execution_count": null,
      "outputs": []
    },
    {
      "cell_type": "code",
      "source": [
        "#This boxOffice_conversion function is used to preprocess boxOffice Column which are having Symbols like \"$\"/'M'/'K' which are replaced using this function\n",
        "def boxOffice_conversion(x):\n",
        "    if isinstance(x,str):\n",
        "        x= x.replace('$','').replace('M','')\n",
        "        if 'K' in x:\n",
        "            x = x.replace('K', '')\n",
        "            return float(x) * 0.001\n",
        "        else:\n",
        "            return float(x)\n",
        "    elif isinstance(x,(int,float)):\n",
        "        return float(x)\n",
        "    else:\n",
        "        return None\n"
      ],
      "metadata": {
        "execution": {
          "iopub.status.busy": "2023-08-28T04:10:37.367588Z",
          "iopub.execute_input": "2023-08-28T04:10:37.368066Z",
          "iopub.status.idle": "2023-08-28T04:10:37.380842Z",
          "shell.execute_reply.started": "2023-08-28T04:10:37.368038Z",
          "shell.execute_reply": "2023-08-28T04:10:37.379765Z"
        },
        "trusted": true,
        "id": "8fCW-9gVFp4B"
      },
      "execution_count": null,
      "outputs": []
    },
    {
      "cell_type": "code",
      "source": [
        "# Function is used to clean the text using translation and Remove unused symbols\n",
        "t = str.maketrans('', '', '[],!.?\\'\"_')\n",
        "def ratingContents(a):\n",
        "    if isinstance(a, str):  # Check if the value is a string\n",
        "        ratingContents = a.translate(t)\n",
        "        return ratingContents\n",
        "    else:\n",
        "        return ''  # Return an empty string for non-string values\n"
      ],
      "metadata": {
        "execution": {
          "iopub.status.busy": "2023-08-28T04:10:37.382203Z",
          "iopub.execute_input": "2023-08-28T04:10:37.382734Z",
          "iopub.status.idle": "2023-08-28T04:10:37.390530Z",
          "shell.execute_reply.started": "2023-08-28T04:10:37.382695Z",
          "shell.execute_reply": "2023-08-28T04:10:37.389774Z"
        },
        "trusted": true,
        "id": "0aTyk2v1Fp4C"
      },
      "execution_count": null,
      "outputs": []
    },
    {
      "cell_type": "code",
      "source": [
        "#Function soundType is used to preprocess soundType column of Merge Data\n",
        "def soundType(q):\n",
        "    if isinstance(q,str):\n",
        "         return ' '.join(q.replace(',', ' ').split())\n",
        "    else:\n",
        "         return q"
      ],
      "metadata": {
        "execution": {
          "iopub.status.busy": "2023-08-28T04:10:37.393366Z",
          "iopub.execute_input": "2023-08-28T04:10:37.394739Z",
          "iopub.status.idle": "2023-08-28T04:10:37.402769Z",
          "shell.execute_reply.started": "2023-08-28T04:10:37.394697Z",
          "shell.execute_reply": "2023-08-28T04:10:37.401487Z"
        },
        "trusted": true,
        "id": "MvNxVYUQFp4D"
      },
      "execution_count": null,
      "outputs": []
    },
    {
      "cell_type": "code",
      "source": [
        "#Function movieid is used to preprocess movieid column of Merge Data\n",
        "def movieid(q):\n",
        "    return ' '.join(q.replace('_', ' ').split())\n"
      ],
      "metadata": {
        "execution": {
          "iopub.status.busy": "2023-08-28T04:10:37.405698Z",
          "iopub.execute_input": "2023-08-28T04:10:37.406551Z",
          "iopub.status.idle": "2023-08-28T04:10:37.414583Z",
          "shell.execute_reply.started": "2023-08-28T04:10:37.406507Z",
          "shell.execute_reply": "2023-08-28T04:10:37.413479Z"
        },
        "trusted": true,
        "id": "lkWAo88KFp4D"
      },
      "execution_count": null,
      "outputs": []
    },
    {
      "cell_type": "code",
      "source": [
        "#Function boxOffice_conversion is Applied to boxOffice column of merge data\n",
        "merg_trained_data11['boxOffice'] = merg_trained_data11['boxOffice'].apply(boxOffice_conversion)"
      ],
      "metadata": {
        "execution": {
          "iopub.status.busy": "2023-08-28T04:10:37.416096Z",
          "iopub.execute_input": "2023-08-28T04:10:37.416596Z",
          "iopub.status.idle": "2023-08-28T04:10:37.543426Z",
          "shell.execute_reply.started": "2023-08-28T04:10:37.416564Z",
          "shell.execute_reply": "2023-08-28T04:10:37.542392Z"
        },
        "trusted": true,
        "id": "pWd3QquOFp4E"
      },
      "execution_count": null,
      "outputs": []
    },
    {
      "cell_type": "code",
      "source": [
        "#Function ratingContents is Applied to ratingContents Column of merge data\n",
        "merg_trained_data11['ratingContents'] = merg_trained_data11['ratingContents'].apply(ratingContents)"
      ],
      "metadata": {
        "execution": {
          "iopub.status.busy": "2023-08-28T04:10:37.544614Z",
          "iopub.execute_input": "2023-08-28T04:10:37.544918Z",
          "iopub.status.idle": "2023-08-28T04:10:37.833348Z",
          "shell.execute_reply.started": "2023-08-28T04:10:37.544894Z",
          "shell.execute_reply": "2023-08-28T04:10:37.831904Z"
        },
        "trusted": true,
        "id": "pco6S-JRFp4F"
      },
      "execution_count": null,
      "outputs": []
    },
    {
      "cell_type": "code",
      "source": [
        "#Function movieid is Applied to movieid Column of merge data\n",
        "merg_trained_data11['movieid'] = merg_trained_data11['movieid'].apply(movieid)"
      ],
      "metadata": {
        "execution": {
          "iopub.status.busy": "2023-08-28T04:10:37.834909Z",
          "iopub.execute_input": "2023-08-28T04:10:37.835607Z",
          "iopub.status.idle": "2023-08-28T04:10:38.000114Z",
          "shell.execute_reply.started": "2023-08-28T04:10:37.835574Z",
          "shell.execute_reply": "2023-08-28T04:10:37.999086Z"
        },
        "trusted": true,
        "id": "u30RIKn1Fp4G"
      },
      "execution_count": null,
      "outputs": []
    },
    {
      "cell_type": "code",
      "source": [
        "#Function soundType is Applied to soundType Column of merge data\n",
        "merg_trained_data11['soundType'] = merg_trained_data11['soundType'].apply(soundType)"
      ],
      "metadata": {
        "execution": {
          "iopub.status.busy": "2023-08-28T04:10:38.001484Z",
          "iopub.execute_input": "2023-08-28T04:10:38.003184Z",
          "iopub.status.idle": "2023-08-28T04:10:38.096779Z",
          "shell.execute_reply.started": "2023-08-28T04:10:38.003150Z",
          "shell.execute_reply": "2023-08-28T04:10:38.095683Z"
        },
        "trusted": true,
        "id": "7kt01gLlFp4H"
      },
      "execution_count": null,
      "outputs": []
    },
    {
      "cell_type": "code",
      "source": [
        "#It is used to get names of Columns in merge data\n",
        "merg_trained_data11.columns"
      ],
      "metadata": {
        "execution": {
          "iopub.status.busy": "2023-08-28T04:10:38.098373Z",
          "iopub.execute_input": "2023-08-28T04:10:38.098796Z",
          "iopub.status.idle": "2023-08-28T04:10:38.106721Z",
          "shell.execute_reply.started": "2023-08-28T04:10:38.098765Z",
          "shell.execute_reply": "2023-08-28T04:10:38.105617Z"
        },
        "trusted": true,
        "colab": {
          "base_uri": "https://localhost:8080/"
        },
        "id": "QZqmD3N-Fp4v",
        "outputId": "1c5a0051-3bd2-4c2d-9ff5-eb6d127484e1"
      },
      "execution_count": null,
      "outputs": [
        {
          "output_type": "execute_result",
          "data": {
            "text/plain": [
              "Index(['movieid', 'reviewerName', 'isFrequentReviewer', 'reviewText',\n",
              "       'sentiment', 'title', 'audienceScore', 'rating', 'ratingContents',\n",
              "       'releaseDateTheaters', 'releaseDateStreaming', 'runtimeMinutes',\n",
              "       'genre', 'originalLanguage', 'director', 'boxOffice', 'distributor',\n",
              "       'soundType'],\n",
              "      dtype='object')"
            ]
          },
          "metadata": {},
          "execution_count": 109
        }
      ]
    },
    {
      "cell_type": "code",
      "source": [
        "# It is used to preprocess genre Column of merge data by replacing unnecessary characters\n",
        "merg_trained_data11['genre'] = merg_trained_data11['genre'].str.replace('&',' ')"
      ],
      "metadata": {
        "execution": {
          "iopub.status.busy": "2023-08-28T04:10:38.108330Z",
          "iopub.execute_input": "2023-08-28T04:10:38.108994Z",
          "iopub.status.idle": "2023-08-28T04:10:38.186423Z",
          "shell.execute_reply.started": "2023-08-28T04:10:38.108955Z",
          "shell.execute_reply": "2023-08-28T04:10:38.185480Z"
        },
        "trusted": true,
        "id": "mgayTvOGFp4x"
      },
      "execution_count": null,
      "outputs": []
    },
    {
      "cell_type": "code",
      "source": [
        "#Selecting the columns which are Required for training model from merge data\n",
        "train_select_columns11 = merg_trained_data11[[\"reviewText\", \"audienceScore\", \"runtimeMinutes\",\"boxOffice\",\"genre\",\"originalLanguage\",'distributor',\"director\",\"rating\",\"ratingContents\",\"movieid\",\"reviewerName\",\"isFrequentReviewer\",\"title\",'soundType',\"sentiment\"]]"
      ],
      "metadata": {
        "execution": {
          "iopub.status.busy": "2023-08-28T04:10:38.189201Z",
          "iopub.execute_input": "2023-08-28T04:10:38.189556Z",
          "iopub.status.idle": "2023-08-28T04:10:38.274445Z",
          "shell.execute_reply.started": "2023-08-28T04:10:38.189529Z",
          "shell.execute_reply": "2023-08-28T04:10:38.273501Z"
        },
        "trusted": true,
        "id": "Jp0MZB4rFp4x"
      },
      "execution_count": null,
      "outputs": []
    },
    {
      "cell_type": "code",
      "source": [
        "# Sentiment Column is Dropped from X_sel and that Label is provided to y\n",
        "X_sel = train_select_columns11.iloc[:,:-1]\n",
        "y= train_select_columns11.iloc[:,-1]"
      ],
      "metadata": {
        "execution": {
          "iopub.status.busy": "2023-08-28T04:10:38.275783Z",
          "iopub.execute_input": "2023-08-28T04:10:38.276181Z",
          "iopub.status.idle": "2023-08-28T04:10:38.313950Z",
          "shell.execute_reply.started": "2023-08-28T04:10:38.276146Z",
          "shell.execute_reply": "2023-08-28T04:10:38.312739Z"
        },
        "trusted": true,
        "id": "lNEAV1DQFp4y"
      },
      "execution_count": null,
      "outputs": []
    },
    {
      "cell_type": "code",
      "source": [
        "# Splitted Data For Evaluating models\n",
        "X_train_com22,X_test_com22,y_train_com22,y_test_com22 = train_test_split(X_sel,y,test_size=0.2,random_state=42)"
      ],
      "metadata": {
        "execution": {
          "iopub.status.busy": "2023-08-28T04:10:40.002192Z",
          "iopub.execute_input": "2023-08-28T04:10:40.002599Z",
          "iopub.status.idle": "2023-08-28T04:10:40.132928Z",
          "shell.execute_reply.started": "2023-08-28T04:10:40.002567Z",
          "shell.execute_reply": "2023-08-28T04:10:40.131980Z"
        },
        "trusted": true,
        "id": "LQbadStsFp4z"
      },
      "execution_count": null,
      "outputs": []
    },
    {
      "cell_type": "code",
      "source": [
        "#from seaborn library .boxplot() method is used for drawing boxplot of Numerical columns in train selected dataframe\n",
        "sns.boxplot(X_train_com22)"
      ],
      "metadata": {
        "execution": {
          "iopub.status.busy": "2023-08-28T04:23:02.724089Z",
          "iopub.execute_input": "2023-08-28T04:23:02.724524Z",
          "iopub.status.idle": "2023-08-28T04:23:03.346102Z",
          "shell.execute_reply.started": "2023-08-28T04:23:02.724492Z",
          "shell.execute_reply": "2023-08-28T04:23:03.345160Z"
        },
        "trusted": true,
        "colab": {
          "base_uri": "https://localhost:8080/",
          "height": 447
        },
        "id": "HMb2hr3wFp4z",
        "outputId": "19a9d6cc-0391-42d4-cec7-8811a71dcb0c"
      },
      "execution_count": null,
      "outputs": [
        {
          "output_type": "execute_result",
          "data": {
            "text/plain": [
              "<Axes: >"
            ]
          },
          "metadata": {},
          "execution_count": 114
        },
        {
          "output_type": "display_data",
          "data": {
            "text/plain": [
              "<Figure size 640x480 with 1 Axes>"
            ],
            "image/png": "[encoded data removed]"
          },
          "metadata": {}
        }
      ]
    },
    {
      "cell_type": "code",
      "source": [
        "#It is used to Calculate Skewness of boxOffice column of train selected dataframe\n",
        "X_train_com22['boxOffice'].skew()"
      ],
      "metadata": {
        "execution": {
          "iopub.status.busy": "2023-08-28T04:10:42.234311Z",
          "iopub.execute_input": "2023-08-28T04:10:42.234691Z",
          "iopub.status.idle": "2023-08-28T04:10:42.245073Z",
          "shell.execute_reply.started": "2023-08-28T04:10:42.234663Z",
          "shell.execute_reply": "2023-08-28T04:10:42.244210Z"
        },
        "trusted": true,
        "colab": {
          "base_uri": "https://localhost:8080/"
        },
        "id": "xPq36U0iFp40",
        "outputId": "bdca7466-3396-4606-defa-10c29cad00b9"
      },
      "execution_count": null,
      "outputs": [
        {
          "output_type": "execute_result",
          "data": {
            "text/plain": [
              "3.8276676547500648"
            ]
          },
          "metadata": {},
          "execution_count": 115
        }
      ]
    },
    {
      "cell_type": "markdown",
      "source": [
        "As boxOffice Column of Train Dataset is Positively Skewed with skewness of 3.82.This indicates that the data distribution has a long tail on the right side, with some larger values that contribute to the skewness.If I impute it with mean it will not be considered as better Option because as boxOffice also contains Outliers so Outliers or larger values on the right side of the distribution can significantly influence the mean, pulling it towards the longer tail.So median Can be considered to impute it is a more robust measure of central tendency that is less influenced by outliers, which could provide a more accurate representation of the typical runtime"
      ],
      "metadata": {
        "id": "qNPAGKkoFp41"
      }
    },
    {
      "cell_type": "code",
      "source": [
        "#Violinplot of boxOffice Column of Train Dataset is Drawn to Indicate Distribution\n",
        "sns.violinplot(data=X_train_com22, x='boxOffice')\n",
        "plt.show()"
      ],
      "metadata": {
        "execution": {
          "iopub.status.busy": "2023-08-28T04:27:05.463589Z",
          "iopub.execute_input": "2023-08-28T04:27:05.464041Z",
          "iopub.status.idle": "2023-08-28T04:27:05.893218Z",
          "shell.execute_reply.started": "2023-08-28T04:27:05.464010Z",
          "shell.execute_reply": "2023-08-28T04:27:05.891778Z"
        },
        "trusted": true,
        "colab": {
          "base_uri": "https://localhost:8080/",
          "height": 449
        },
        "id": "lMXfogPmFp41",
        "outputId": "e3221618-f5f8-4c2d-b239-ac6020548b7b"
      },
      "execution_count": null,
      "outputs": [
        {
          "output_type": "display_data",
          "data": {
            "text/plain": [
              "<Figure size 640x480 with 1 Axes>"
            ],
            "image/png": "[encoded data removed]"
          },
          "metadata": {}
        }
      ]
    },
    {
      "cell_type": "code",
      "source": [
        "#It is used to Calculate Skewness of audienceScore column of train selected dataframe\n",
        "X_train_com22['audienceScore'].skew()"
      ],
      "metadata": {
        "execution": {
          "iopub.status.busy": "2023-08-28T04:10:44.704095Z",
          "iopub.execute_input": "2023-08-28T04:10:44.704519Z",
          "iopub.status.idle": "2023-08-28T04:10:44.712970Z",
          "shell.execute_reply.started": "2023-08-28T04:10:44.704488Z",
          "shell.execute_reply": "2023-08-28T04:10:44.711856Z"
        },
        "trusted": true,
        "colab": {
          "base_uri": "https://localhost:8080/"
        },
        "id": "vaQUcdHAFp42",
        "outputId": "13cbcb0d-a406-4d87-8a5b-84dc2b6c0ed8"
      },
      "execution_count": null,
      "outputs": [
        {
          "output_type": "execute_result",
          "data": {
            "text/plain": [
              "-0.522208591933888"
            ]
          },
          "metadata": {},
          "execution_count": 117
        }
      ]
    },
    {
      "cell_type": "markdown",
      "source": [
        "As AudianceScore is Slightly Negative Skewed(0 to -1) As well as it don't have Outlier So As it is Slightly Skewed So it is having majority of its Values at Higher end Doesn't has much effect of Outlier So strategy to impute it by mean can be considered as a good option for Accurate Result"
      ],
      "metadata": {
        "id": "yr9wtiDSFp43"
      }
    },
    {
      "cell_type": "code",
      "source": [
        "#Violinplot of audienceScore Column of Train Dataset is Drawn to Indicate Distribution\n",
        "sns.violinplot(data=X_train_com22, x='audienceScore')\n",
        "plt.show()"
      ],
      "metadata": {
        "execution": {
          "iopub.status.busy": "2023-08-28T04:26:02.971244Z",
          "iopub.execute_input": "2023-08-28T04:26:02.971633Z",
          "iopub.status.idle": "2023-08-28T04:26:03.478259Z",
          "shell.execute_reply.started": "2023-08-28T04:26:02.971604Z",
          "shell.execute_reply": "2023-08-28T04:26:03.477008Z"
        },
        "trusted": true,
        "colab": {
          "base_uri": "https://localhost:8080/",
          "height": 449
        },
        "id": "pKP_CBBSFp44",
        "outputId": "54b3e15a-3535-4d9f-d614-b546d4c85564"
      },
      "execution_count": null,
      "outputs": [
        {
          "output_type": "display_data",
          "data": {
            "text/plain": [
              "<Figure size 640x480 with 1 Axes>"
            ],
            "image/png": "[encoded data removed]"
          },
          "metadata": {}
        }
      ]
    },
    {
      "cell_type": "code",
      "source": [
        "#It is used to Calculate Skewness of audienceScore column of train_selected dataframe\n",
        "X_train_com22['runtimeMinutes'].skew()"
      ],
      "metadata": {
        "execution": {
          "iopub.status.busy": "2023-08-28T04:16:12.543082Z",
          "iopub.execute_input": "2023-08-28T04:16:12.543575Z",
          "iopub.status.idle": "2023-08-28T04:16:12.553202Z",
          "shell.execute_reply.started": "2023-08-28T04:16:12.543540Z",
          "shell.execute_reply": "2023-08-28T04:16:12.551952Z"
        },
        "trusted": true,
        "colab": {
          "base_uri": "https://localhost:8080/"
        },
        "id": "IF6fJZ3ZFp44",
        "outputId": "99a8431d-41a7-4fcc-d375-e9c2834dd5e3"
      },
      "execution_count": null,
      "outputs": [
        {
          "output_type": "execute_result",
          "data": {
            "text/plain": [
              "1.8701846197915315"
            ]
          },
          "metadata": {},
          "execution_count": 119
        }
      ]
    },
    {
      "cell_type": "markdown",
      "source": [
        "As RuntimeMinutes Column of Train Dataset is Positively Skewed with skewness of 1.87.This indicates that the data distribution has a long tail on the right side, with some larger values that contribute to the skewness.If I impute it with mean it will not be considered as better Option because as runtimeminutes also contains Outliers so Outliers or larger values on the right side of the distribution can significantly influence the mean, pulling it towards the longer tail.So median Can be considered to impute it by median is a more robust measure of central tendency that is less influenced by outliers, which could provide a more accurate representation of the typical runtime"
      ],
      "metadata": {
        "id": "Rq50lpnyFp45"
      }
    },
    {
      "cell_type": "code",
      "source": [
        "#Violinplot of runtimeMinutes Column of Train Dataset is Drawn to Indicate Distribution\n",
        "sns.violinplot(data=X_train_com22, x='runtimeMinutes')\n",
        "plt.show()"
      ],
      "metadata": {
        "execution": {
          "iopub.status.busy": "2023-08-28T04:27:38.252220Z",
          "iopub.execute_input": "2023-08-28T04:27:38.252670Z",
          "iopub.status.idle": "2023-08-28T04:27:38.726819Z",
          "shell.execute_reply.started": "2023-08-28T04:27:38.252636Z",
          "shell.execute_reply": "2023-08-28T04:27:38.725645Z"
        },
        "trusted": true,
        "colab": {
          "base_uri": "https://localhost:8080/",
          "height": 449
        },
        "id": "kvyVEjt1Fp46",
        "outputId": "f6425b4d-17ef-44ee-ea92-1554e8f05cde"
      },
      "execution_count": null,
      "outputs": [
        {
          "output_type": "display_data",
          "data": {
            "text/plain": [
              "<Figure size 640x480 with 1 Axes>"
            ],
            "image/png": "[encoded data removed]"
          },
          "metadata": {}
        }
      ]
    },
    {
      "cell_type": "code",
      "source": [
        "#sns.histplot() is used to draw histogram of boxOffice Coloumn of train selected DataFrame through this also we can conclude skewness\n",
        "sns.histplot(data=X_train_com22, x='boxOffice', kde=True, bins=80)"
      ],
      "metadata": {
        "execution": {
          "iopub.status.busy": "2023-08-28T04:22:34.890491Z",
          "iopub.execute_input": "2023-08-28T04:22:34.890898Z",
          "iopub.status.idle": "2023-08-28T04:22:35.771185Z",
          "shell.execute_reply.started": "2023-08-28T04:22:34.890870Z",
          "shell.execute_reply": "2023-08-28T04:22:35.769871Z"
        },
        "trusted": true,
        "colab": {
          "base_uri": "https://localhost:8080/",
          "height": 466
        },
        "id": "KERatoopFp47",
        "outputId": "93b8740b-6b52-481f-eac0-7aec50e46180"
      },
      "execution_count": null,
      "outputs": [
        {
          "output_type": "execute_result",
          "data": {
            "text/plain": [
              "<Axes: xlabel='boxOffice', ylabel='Count'>"
            ]
          },
          "metadata": {},
          "execution_count": 121
        },
        {
          "output_type": "display_data",
          "data": {
            "text/plain": [
              "<Figure size 640x480 with 1 Axes>"
            ],
            "image/png": "[encoded data removed]"
          },
          "metadata": {}
        }
      ]
    },
    {
      "cell_type": "code",
      "source": [
        "#sns.histplot() is used to draw histogram of runtimeMinutes Coloumn of train selected DataFrame through this also we can conclude skewness\n",
        "plt.figure(figsize=(7, 6), dpi=150)\n",
        "sns.histplot(data=X_train_com22, x='runtimeMinutes', kde=True, bins=100)"
      ],
      "metadata": {
        "execution": {
          "iopub.status.busy": "2023-08-28T04:22:12.747775Z",
          "iopub.execute_input": "2023-08-28T04:22:12.748146Z",
          "iopub.status.idle": "2023-08-28T04:22:13.837843Z",
          "shell.execute_reply.started": "2023-08-28T04:22:12.748120Z",
          "shell.execute_reply": "2023-08-28T04:22:13.836296Z"
        },
        "trusted": true,
        "colab": {
          "base_uri": "https://localhost:8080/",
          "height": 819
        },
        "id": "32QWIsGhFp48",
        "outputId": "1407c734-fc3b-4320-a079-e9f8083a8651"
      },
      "execution_count": null,
      "outputs": [
        {
          "output_type": "execute_result",
          "data": {
            "text/plain": [
              "<Axes: xlabel='runtimeMinutes', ylabel='Count'>"
            ]
          },
          "metadata": {},
          "execution_count": 122
        },
        {
          "output_type": "display_data",
          "data": {
            "text/plain": [
              "<Figure size 1050x900 with 1 Axes>"
            ],
            "image/png": "[encoded data removed]"
          },
          "metadata": {}
        }
      ]
    },
    {
      "cell_type": "code",
      "source": [
        "#.histplot() is used to draw histogram of audienceScore Coloumn of train_selected DataFrame through this also we can conclude skewness\n",
        "sns.histplot(data=X_train_com22, x='audienceScore', kde=True)"
      ],
      "metadata": {
        "execution": {
          "iopub.status.busy": "2023-08-28T04:21:55.242860Z",
          "iopub.execute_input": "2023-08-28T04:21:55.243276Z",
          "iopub.status.idle": "2023-08-28T04:21:56.125740Z",
          "shell.execute_reply.started": "2023-08-28T04:21:55.243245Z",
          "shell.execute_reply": "2023-08-28T04:21:56.124586Z"
        },
        "trusted": true,
        "colab": {
          "base_uri": "https://localhost:8080/",
          "height": 466
        },
        "id": "Bh5Tuk4DFp49",
        "outputId": "483d5759-00b2-471e-d122-f8c85dd4ebfe"
      },
      "execution_count": null,
      "outputs": [
        {
          "output_type": "execute_result",
          "data": {
            "text/plain": [
              "<Axes: xlabel='audienceScore', ylabel='Count'>"
            ]
          },
          "metadata": {},
          "execution_count": 123
        },
        {
          "output_type": "display_data",
          "data": {
            "text/plain": [
              "<Figure size 640x480 with 1 Axes>"
            ],
            "image/png": "[encoded data removed]"
          },
          "metadata": {}
        }
      ]
    },
    {
      "cell_type": "code",
      "source": [
        "#This .columns is used to get names of Column in merge_data_test dataFrame\n",
        "merg_test_data11.columns"
      ],
      "metadata": {
        "execution": {
          "iopub.status.busy": "2023-08-28T04:25:23.961934Z",
          "iopub.execute_input": "2023-08-28T04:25:23.962360Z",
          "iopub.status.idle": "2023-08-28T04:25:23.970650Z",
          "shell.execute_reply.started": "2023-08-28T04:25:23.962333Z",
          "shell.execute_reply": "2023-08-28T04:25:23.969228Z"
        },
        "trusted": true,
        "colab": {
          "base_uri": "https://localhost:8080/"
        },
        "id": "GGawOy3zFp4-",
        "outputId": "7b647125-0971-4dd3-b753-64d74ee0ba4b"
      },
      "execution_count": null,
      "outputs": [
        {
          "output_type": "execute_result",
          "data": {
            "text/plain": [
              "Index(['movieid', 'reviewerName', 'isTopCritic', 'reviewText', 'title',\n",
              "       'audienceScore', 'rating', 'ratingContents', 'releaseDateTheaters',\n",
              "       'releaseDateStreaming', 'runtimeMinutes', 'genre', 'originalLanguage',\n",
              "       'director', 'boxOffice', 'distributor', 'soundType'],\n",
              "      dtype='object')"
            ]
          },
          "metadata": {},
          "execution_count": 124
        }
      ]
    },
    {
      "cell_type": "code",
      "source": [
        "#All Functions are applied to Respective Columns of merge test data in order to preprocess same like merge train Data\n",
        "merg_test_data11['boxOffice'] = merg_test_data11['boxOffice'].apply(boxOffice_conversion)\n",
        "merg_test_data11['ratingContents'] = merg_test_data11['ratingContents'].apply(ratingContents)\n",
        "merg_test_data11['movieid'] = merg_test_data11['movieid'].apply(movieid)\n",
        "merg_test_data11['soundType'] = merg_test_data11['soundType'].apply(soundType)\n",
        "merg_test_data11['genre'] = merg_test_data11['genre'].apply(soundType)\n",
        "merg_test_data11['genre'] = merg_test_data11['genre'].str.replace('&',' ')"
      ],
      "metadata": {
        "execution": {
          "iopub.status.busy": "2023-08-28T04:25:24.306203Z",
          "iopub.execute_input": "2023-08-28T04:25:24.306630Z",
          "iopub.status.idle": "2023-08-28T04:25:24.605309Z",
          "shell.execute_reply.started": "2023-08-28T04:25:24.306591Z",
          "shell.execute_reply": "2023-08-28T04:25:24.604309Z"
        },
        "trusted": true,
        "id": "446Eq2DHFp4_"
      },
      "execution_count": null,
      "outputs": []
    },
    {
      "cell_type": "code",
      "source": [
        "#Selecting the columns which are Required for test model from merge_data_test same as merge train data\n",
        "test_select_columns11 =merg_test_data11[[\"reviewText\", \"audienceScore\",\"boxOffice\", \"runtimeMinutes\",\"genre\",\"originalLanguage\",'distributor',\"director\",\"rating\",\"ratingContents\",\"movieid\",\"reviewerName\",'isTopCritic','title',\"soundType\"]]"
      ],
      "metadata": {
        "execution": {
          "iopub.status.busy": "2023-08-28T04:25:25.367772Z",
          "iopub.execute_input": "2023-08-28T04:25:25.368486Z",
          "iopub.status.idle": "2023-08-28T04:25:25.413211Z",
          "shell.execute_reply.started": "2023-08-28T04:25:25.368452Z",
          "shell.execute_reply": "2023-08-28T04:25:25.412076Z"
        },
        "trusted": true,
        "id": "U-qvjzTSFp4_"
      },
      "execution_count": null,
      "outputs": []
    },
    {
      "cell_type": "code",
      "source": [
        "#Through this we can see top 5 and bottom 5 headers of dataframe\n",
        "test_select_columns11"
      ],
      "metadata": {
        "execution": {
          "iopub.status.busy": "2023-08-28T04:25:26.505147Z",
          "iopub.execute_input": "2023-08-28T04:25:26.505571Z",
          "iopub.status.idle": "2023-08-28T04:25:26.531658Z",
          "shell.execute_reply.started": "2023-08-28T04:25:26.505541Z",
          "shell.execute_reply": "2023-08-28T04:25:26.530501Z"
        },
        "trusted": true,
        "colab": {
          "base_uri": "https://localhost:8080/",
          "height": 1000
        },
        "id": "sGE7LBtHFp5A",
        "outputId": "3de9dda9-3d22-47a6-f494-5e7dd6114b48"
      },
      "execution_count": null,
      "outputs": [
        {
          "output_type": "execute_result",
          "data": {
            "text/plain": [
              "                                              reviewText  audienceScore  \\\n",
              "0      Green slowly cranks up the dread with style an...           57.0   \n",
              "1      Philip Noyce's direction is elegant and unforc...           86.0   \n",
              "2      It wouldn't do to say what path Maria ultimate...           62.0   \n",
              "3      Pig is not exactly the arthouse John Wick that...           84.0   \n",
              "4      An imaginative no-budget musical of sorts abou...            NaN   \n",
              "...                                                  ...            ...   \n",
              "55310  Ron Howard delivers an unconventional romantic...           29.0   \n",
              "55311  As an oddball art film that openly invites you...           71.0   \n",
              "55312  Nicholson wears his devilish grin from his fir...           60.0   \n",
              "55313  It's hard not be entertained by two dozen of C...           65.0   \n",
              "55314  Not clever enough for Smith fans, not gross en...           75.0   \n",
              "\n",
              "       boxOffice  runtimeMinutes                              genre  \\\n",
              "0        64.0000           111.0  Holiday Horror Mystery   thriller   \n",
              "1         6.2000            94.0                    Drama Adventure   \n",
              "2            NaN             NaN                              Drama   \n",
              "3         3.1000            92.0           Drama Mystery   thriller   \n",
              "4            NaN            66.0                      Drama Musical   \n",
              "...          ...             ...                                ...   \n",
              "55310    48.4000           111.0                             Comedy   \n",
              "55311     0.6411           116.0               Comedy Drama Fantasy   \n",
              "55312   133.8000           106.0                             Comedy   \n",
              "55313    13.3000           125.0     Musical Biography Drama Lgbtq+   \n",
              "55314    30.1000           104.0                             Comedy   \n",
              "\n",
              "      originalLanguage          distributor           director rating  \\\n",
              "0              English   Universal Pictures       Sara Barnett      R   \n",
              "1              English        Miramax Films      Cindy Flander     PG   \n",
              "2               French                  NaN  Charlotte Bramble    NaN   \n",
              "3              English                 Neon        Jean Gainer    NaN   \n",
              "4               Arabic                  NaN       Marvin Short    NaN   \n",
              "...                ...                  ...                ...    ...   \n",
              "55310          English   Universal Pictures        Jill Fraser  PG-13   \n",
              "55311          English             Indomina       Daryl Wilson    NaN   \n",
              "55312          English    Columbia Pictures       Maria Tejada  PG-13   \n",
              "55313          English  Metro-Goldwyn-Mayer  Jermaine Fantasia  PG-13   \n",
              "55314          English                  NaN      Jeffrey Hogue      R   \n",
              "\n",
              "                                          ratingContents  \\\n",
              "0      Gore Bloody Horror Violence Language Throughou...   \n",
              "1                            Emotional Thematic Material   \n",
              "2                                                          \n",
              "3                                                          \n",
              "4                                                          \n",
              "...                                                  ...   \n",
              "55310            Sexual Content Mature Thematic Elements   \n",
              "55311                                                      \n",
              "55312                      Language Crude Sexual Content   \n",
              "55313                                     Sexual Content   \n",
              "55314  Nonstop Crude Humor Drug Content Nonstop Sexua...   \n",
              "\n",
              "                                            movieid     reviewerName  \\\n",
              "0                         legend marty mcfly oracle         John Kim   \n",
              "1               terminator katniss everdeen glimmer     Brian Chaney   \n",
              "2                       james bond labyrinth gollum  Danielle Parker   \n",
              "3                         v quest han solo wondrous    Brittany Lane   \n",
              "4                     enigma hulk surreal starlight    Justin Willis   \n",
              "...                                             ...              ...   \n",
              "55310                             celestial radiant   Jose Mccormick   \n",
              "55311                           vivid james t. kirk   Thomas Osborne   \n",
              "55312  scarlett o'hara neo scarlett o'hara infinite      Julie Kirby   \n",
              "55313           terminator epic rocky balboa mystic      Tina Sutton   \n",
              "55314        wolverine enigma ellis redding gandalf    Taylor Wilcox   \n",
              "\n",
              "       isTopCritic                                         title  \\\n",
              "0            False                     Legend Marty McFly Oracle   \n",
              "1            False           Terminator Katniss Everdeen Glimmer   \n",
              "2            False                   James Bond Labyrinth Gollum   \n",
              "3            False                     V Quest Han Solo Wondrous   \n",
              "4            False                 Enigma Hulk Surreal Starlight   \n",
              "...            ...                                           ...   \n",
              "55310        False                             Celestial Radiant   \n",
              "55311        False                           Vivid James T. Kirk   \n",
              "55312        False  Scarlett O'Hara Neo Scarlett O'Hara Infinite   \n",
              "55313         True           Terminator Epic Rocky Balboa Mystic   \n",
              "55314         True        Wolverine Enigma Ellis Redding Gandalf   \n",
              "\n",
              "                                               soundType  \n",
              "0                                            Dolby Atmos  \n",
              "1      Dolby SR DTS Dolby Stereo Surround SDDS Dolby ...  \n",
              "2                                                    NaN  \n",
              "3                                                    NaN  \n",
              "4                                                    NaN  \n",
              "...                                                  ...  \n",
              "55310                                 SDDS Dolby SRD DTS  \n",
              "55311                                              Dolby  \n",
              "55312  Dolby SR DTS Dolby Stereo Surround SDDS Dolby ...  \n",
              "55313                    SDDS Dolby Digital DTS Surround  \n",
              "55314  Dolby SR DTS Dolby Stereo Surround SDDS Dolby ...  \n",
              "\n",
              "[55315 rows x 15 columns]"
            ],
            "text/html": [
              "\n",
              "  <div id=\"df-20f269c6-85b4-4a8b-b99c-c68e68d96ae2\" class=\"colab-df-container\">\n",
              "    <div>\n",
              "<style scoped>\n",
              "    .dataframe tbody tr th:only-of-type {\n",
              "        vertical-align: middle;\n",
              "    }\n",
              "\n",
              "    .dataframe tbody tr th {\n",
              "        vertical-align: top;\n",
              "    }\n",
              "\n",
              "    .dataframe thead th {\n",
              "        text-align: right;\n",
              "    }\n",
              "</style>\n",
              "<table border=\"1\" class=\"dataframe\">\n",
              "  <thead>\n",
              "    <tr style=\"text-align: right;\">\n",
              "      <th></th>\n",
              "      <th>reviewText</th>\n",
              "      <th>audienceScore</th>\n",
              "      <th>boxOffice</th>\n",
              "      <th>runtimeMinutes</th>\n",
              "      <th>genre</th>\n",
              "      <th>originalLanguage</th>\n",
              "      <th>distributor</th>\n",
              "      <th>director</th>\n",
              "      <th>rating</th>\n",
              "      <th>ratingContents</th>\n",
              "      <th>movieid</th>\n",
              "      <th>reviewerName</th>\n",
              "      <th>isTopCritic</th>\n",
              "      <th>title</th>\n",
              "      <th>soundType</th>\n",
              "    </tr>\n",
              "  </thead>\n",
              "  <tbody>\n",
              "    <tr>\n",
              "      <th>0</th>\n",
              "      <td>Green slowly cranks up the dread with style an...</td>\n",
              "      <td>57.0</td>\n",
              "      <td>64.0000</td>\n",
              "      <td>111.0</td>\n",
              "      <td>Holiday Horror Mystery   thriller</td>\n",
              "      <td>English</td>\n",
              "      <td>Universal Pictures</td>\n",
              "      <td>Sara Barnett</td>\n",
              "      <td>R</td>\n",
              "      <td>Gore Bloody Horror Violence Language Throughou...</td>\n",
              "      <td>legend marty mcfly oracle</td>\n",
              "      <td>John Kim</td>\n",
              "      <td>False</td>\n",
              "      <td>Legend Marty McFly Oracle</td>\n",
              "      <td>Dolby Atmos</td>\n",
              "    </tr>\n",
              "    <tr>\n",
              "      <th>1</th>\n",
              "      <td>Philip Noyce's direction is elegant and unforc...</td>\n",
              "      <td>86.0</td>\n",
              "      <td>6.2000</td>\n",
              "      <td>94.0</td>\n",
              "      <td>Drama Adventure</td>\n",
              "      <td>English</td>\n",
              "      <td>Miramax Films</td>\n",
              "      <td>Cindy Flander</td>\n",
              "      <td>PG</td>\n",
              "      <td>Emotional Thematic Material</td>\n",
              "      <td>terminator katniss everdeen glimmer</td>\n",
              "      <td>Brian Chaney</td>\n",
              "      <td>False</td>\n",
              "      <td>Terminator Katniss Everdeen Glimmer</td>\n",
              "      <td>Dolby SR DTS Dolby Stereo Surround SDDS Dolby ...</td>\n",
              "    </tr>\n",
              "    <tr>\n",
              "      <th>2</th>\n",
              "      <td>It wouldn't do to say what path Maria ultimate...</td>\n",
              "      <td>62.0</td>\n",
              "      <td>NaN</td>\n",
              "      <td>NaN</td>\n",
              "      <td>Drama</td>\n",
              "      <td>French</td>\n",
              "      <td>NaN</td>\n",
              "      <td>Charlotte Bramble</td>\n",
              "      <td>NaN</td>\n",
              "      <td></td>\n",
              "      <td>james bond labyrinth gollum</td>\n",
              "      <td>Danielle Parker</td>\n",
              "      <td>False</td>\n",
              "      <td>James Bond Labyrinth Gollum</td>\n",
              "      <td>NaN</td>\n",
              "    </tr>\n",
              "    <tr>\n",
              "      <th>3</th>\n",
              "      <td>Pig is not exactly the arthouse John Wick that...</td>\n",
              "      <td>84.0</td>\n",
              "      <td>3.1000</td>\n",
              "      <td>92.0</td>\n",
              "      <td>Drama Mystery   thriller</td>\n",
              "      <td>English</td>\n",
              "      <td>Neon</td>\n",
              "      <td>Jean Gainer</td>\n",
              "      <td>NaN</td>\n",
              "      <td></td>\n",
              "      <td>v quest han solo wondrous</td>\n",
              "      <td>Brittany Lane</td>\n",
              "      <td>False</td>\n",
              "      <td>V Quest Han Solo Wondrous</td>\n",
              "      <td>NaN</td>\n",
              "    </tr>\n",
              "    <tr>\n",
              "      <th>4</th>\n",
              "      <td>An imaginative no-budget musical of sorts abou...</td>\n",
              "      <td>NaN</td>\n",
              "      <td>NaN</td>\n",
              "      <td>66.0</td>\n",
              "      <td>Drama Musical</td>\n",
              "      <td>Arabic</td>\n",
              "      <td>NaN</td>\n",
              "      <td>Marvin Short</td>\n",
              "      <td>NaN</td>\n",
              "      <td></td>\n",
              "      <td>enigma hulk surreal starlight</td>\n",
              "      <td>Justin Willis</td>\n",
              "      <td>False</td>\n",
              "      <td>Enigma Hulk Surreal Starlight</td>\n",
              "      <td>NaN</td>\n",
              "    </tr>\n",
              "    <tr>\n",
              "      <th>...</th>\n",
              "      <td>...</td>\n",
              "      <td>...</td>\n",
              "      <td>...</td>\n",
              "      <td>...</td>\n",
              "      <td>...</td>\n",
              "      <td>...</td>\n",
              "      <td>...</td>\n",
              "      <td>...</td>\n",
              "      <td>...</td>\n",
              "      <td>...</td>\n",
              "      <td>...</td>\n",
              "      <td>...</td>\n",
              "      <td>...</td>\n",
              "      <td>...</td>\n",
              "      <td>...</td>\n",
              "    </tr>\n",
              "    <tr>\n",
              "      <th>55310</th>\n",
              "      <td>Ron Howard delivers an unconventional romantic...</td>\n",
              "      <td>29.0</td>\n",
              "      <td>48.4000</td>\n",
              "      <td>111.0</td>\n",
              "      <td>Comedy</td>\n",
              "      <td>English</td>\n",
              "      <td>Universal Pictures</td>\n",
              "      <td>Jill Fraser</td>\n",
              "      <td>PG-13</td>\n",
              "      <td>Sexual Content Mature Thematic Elements</td>\n",
              "      <td>celestial radiant</td>\n",
              "      <td>Jose Mccormick</td>\n",
              "      <td>False</td>\n",
              "      <td>Celestial Radiant</td>\n",
              "      <td>SDDS Dolby SRD DTS</td>\n",
              "    </tr>\n",
              "    <tr>\n",
              "      <th>55311</th>\n",
              "      <td>As an oddball art film that openly invites you...</td>\n",
              "      <td>71.0</td>\n",
              "      <td>0.6411</td>\n",
              "      <td>116.0</td>\n",
              "      <td>Comedy Drama Fantasy</td>\n",
              "      <td>English</td>\n",
              "      <td>Indomina</td>\n",
              "      <td>Daryl Wilson</td>\n",
              "      <td>NaN</td>\n",
              "      <td></td>\n",
              "      <td>vivid james t. kirk</td>\n",
              "      <td>Thomas Osborne</td>\n",
              "      <td>False</td>\n",
              "      <td>Vivid James T. Kirk</td>\n",
              "      <td>Dolby</td>\n",
              "    </tr>\n",
              "    <tr>\n",
              "      <th>55312</th>\n",
              "      <td>Nicholson wears his devilish grin from his fir...</td>\n",
              "      <td>60.0</td>\n",
              "      <td>133.8000</td>\n",
              "      <td>106.0</td>\n",
              "      <td>Comedy</td>\n",
              "      <td>English</td>\n",
              "      <td>Columbia Pictures</td>\n",
              "      <td>Maria Tejada</td>\n",
              "      <td>PG-13</td>\n",
              "      <td>Language Crude Sexual Content</td>\n",
              "      <td>scarlett o'hara neo scarlett o'hara infinite</td>\n",
              "      <td>Julie Kirby</td>\n",
              "      <td>False</td>\n",
              "      <td>Scarlett O'Hara Neo Scarlett O'Hara Infinite</td>\n",
              "      <td>Dolby SR DTS Dolby Stereo Surround SDDS Dolby ...</td>\n",
              "    </tr>\n",
              "    <tr>\n",
              "      <th>55313</th>\n",
              "      <td>It's hard not be entertained by two dozen of C...</td>\n",
              "      <td>65.0</td>\n",
              "      <td>13.3000</td>\n",
              "      <td>125.0</td>\n",
              "      <td>Musical Biography Drama Lgbtq+</td>\n",
              "      <td>English</td>\n",
              "      <td>Metro-Goldwyn-Mayer</td>\n",
              "      <td>Jermaine Fantasia</td>\n",
              "      <td>PG-13</td>\n",
              "      <td>Sexual Content</td>\n",
              "      <td>terminator epic rocky balboa mystic</td>\n",
              "      <td>Tina Sutton</td>\n",
              "      <td>True</td>\n",
              "      <td>Terminator Epic Rocky Balboa Mystic</td>\n",
              "      <td>SDDS Dolby Digital DTS Surround</td>\n",
              "    </tr>\n",
              "    <tr>\n",
              "      <th>55314</th>\n",
              "      <td>Not clever enough for Smith fans, not gross en...</td>\n",
              "      <td>75.0</td>\n",
              "      <td>30.1000</td>\n",
              "      <td>104.0</td>\n",
              "      <td>Comedy</td>\n",
              "      <td>English</td>\n",
              "      <td>NaN</td>\n",
              "      <td>Jeffrey Hogue</td>\n",
              "      <td>R</td>\n",
              "      <td>Nonstop Crude Humor Drug Content Nonstop Sexua...</td>\n",
              "      <td>wolverine enigma ellis redding gandalf</td>\n",
              "      <td>Taylor Wilcox</td>\n",
              "      <td>True</td>\n",
              "      <td>Wolverine Enigma Ellis Redding Gandalf</td>\n",
              "      <td>Dolby SR DTS Dolby Stereo Surround SDDS Dolby ...</td>\n",
              "    </tr>\n",
              "  </tbody>\n",
              "</table>\n",
              "<p>55315 rows × 15 columns</p>\n",
              "</div>\n",
              "    <div class=\"colab-df-buttons\">\n",
              "\n",
              "  <div class=\"colab-df-container\">\n",
              "    <button class=\"colab-df-convert\" onclick=\"convertToInteractive('df-20f269c6-85b4-4a8b-b99c-c68e68d96ae2')\"\n",
              "            title=\"Convert this dataframe to an interactive table.\"\n",
              "            style=\"display:none;\">\n",
              "\n",
              "  <svg xmlns=\"http://www.w3.org/2000/svg\" height=\"24px\" viewBox=\"0 -960 960 960\">\n",
              "    <path d=\"M120-120v-720h720v720H120Zm60-500h600v-160H180v160Zm220 220h160v-160H400v160Zm0 220h160v-160H400v160ZM180-400h160v-160H180v160Zm440 0h160v-160H620v160ZM180-180h160v-160H180v160Zm440 0h160v-160H620v160Z\"/>\n",
              "  </svg>\n",
              "    </button>\n",
              "\n",
              "  <style>\n",
              "    .colab-df-container {\n",
              "      display:flex;\n",
              "      gap: 12px;\n",
              "    }\n",
              "\n",
              "    .colab-df-convert {\n",
              "      background-color: #E8F0FE;\n",
              "      border: none;\n",
              "      border-radius: 50%;\n",
              "      cursor: pointer;\n",
              "      display: none;\n",
              "      fill: #1967D2;\n",
              "      height: 32px;\n",
              "      padding: 0 0 0 0;\n",
              "      width: 32px;\n",
              "    }\n",
              "\n",
              "    .colab-df-convert:hover {\n",
              "      background-color: #E2EBFA;\n",
              "      box-shadow: 0px 1px 2px rgba(60, 64, 67, 0.3), 0px 1px 3px 1px rgba(60, 64, 67, 0.15);\n",
              "      fill: #174EA6;\n",
              "    }\n",
              "\n",
              "    .colab-df-buttons div {\n",
              "      margin-bottom: 4px;\n",
              "    }\n",
              "\n",
              "    [theme=dark] .colab-df-convert {\n",
              "      background-color: #3B4455;\n",
              "      fill: #D2E3FC;\n",
              "    }\n",
              "\n",
              "    [theme=dark] .colab-df-convert:hover {\n",
              "      background-color: #434B5C;\n",
              "      box-shadow: 0px 1px 3px 1px rgba(0, 0, 0, 0.15);\n",
              "      filter: drop-shadow(0px 1px 2px rgba(0, 0, 0, 0.3));\n",
              "      fill: #FFFFFF;\n",
              "    }\n",
              "  </style>\n",
              "\n",
              "    <script>\n",
              "      const buttonEl =\n",
              "        document.querySelector('#df-20f269c6-85b4-4a8b-b99c-c68e68d96ae2 button.colab-df-convert');\n",
              "      buttonEl.style.display =\n",
              "        google.colab.kernel.accessAllowed ? 'block' : 'none';\n",
              "\n",
              "      async function convertToInteractive(key) {\n",
              "        const element = document.querySelector('#df-20f269c6-85b4-4a8b-b99c-c68e68d96ae2');\n",
              "        const dataTable =\n",
              "          await google.colab.kernel.invokeFunction('convertToInteractive',\n",
              "                                                    [key], {});\n",
              "        if (!dataTable) return;\n",
              "\n",
              "        const docLinkHtml = 'Like what you see? Visit the ' +\n",
              "          '<a target=\"_blank\" href=https://colab.research.google.com/notebooks/data_table.ipynb>data table notebook</a>'\n",
              "          + ' to learn more about interactive tables.';\n",
              "        element.innerHTML = '';\n",
              "        dataTable['output_type'] = 'display_data';\n",
              "        await google.colab.output.renderOutput(dataTable, element);\n",
              "        const docLink = document.createElement('div');\n",
              "        docLink.innerHTML = docLinkHtml;\n",
              "        element.appendChild(docLink);\n",
              "      }\n",
              "    </script>\n",
              "  </div>\n",
              "\n",
              "\n",
              "<div id=\"df-68230ffb-b145-44f2-bb22-6ddd16f6b1e9\">\n",
              "  <button class=\"colab-df-quickchart\" onclick=\"quickchart('df-68230ffb-b145-44f2-bb22-6ddd16f6b1e9')\"\n",
              "            title=\"Suggest charts\"\n",
              "            style=\"display:none;\">\n",
              "\n",
              "<svg xmlns=\"http://www.w3.org/2000/svg\" height=\"24px\"viewBox=\"0 0 24 24\"\n",
              "     width=\"24px\">\n",
              "    <g>\n",
              "        <path d=\"M19 3H5c-1.1 0-2 .9-2 2v14c0 1.1.9 2 2 2h14c1.1 0 2-.9 2-2V5c0-1.1-.9-2-2-2zM9 17H7v-7h2v7zm4 0h-2V7h2v10zm4 0h-2v-4h2v4z\"/>\n",
              "    </g>\n",
              "</svg>\n",
              "  </button>\n",
              "\n",
              "<style>\n",
              "  .colab-df-quickchart {\n",
              "      --bg-color: #E8F0FE;\n",
              "      --fill-color: #1967D2;\n",
              "      --hover-bg-color: #E2EBFA;\n",
              "      --hover-fill-color: #174EA6;\n",
              "      --disabled-fill-color: #AAA;\n",
              "      --disabled-bg-color: #DDD;\n",
              "  }\n",
              "\n",
              "  [theme=dark] .colab-df-quickchart {\n",
              "      --bg-color: #3B4455;\n",
              "      --fill-color: #D2E3FC;\n",
              "      --hover-bg-color: #434B5C;\n",
              "      --hover-fill-color: #FFFFFF;\n",
              "      --disabled-bg-color: #3B4455;\n",
              "      --disabled-fill-color: #666;\n",
              "  }\n",
              "\n",
              "  .colab-df-quickchart {\n",
              "    background-color: var(--bg-color);\n",
              "    border: none;\n",
              "    border-radius: 50%;\n",
              "    cursor: pointer;\n",
              "    display: none;\n",
              "    fill: var(--fill-color);\n",
              "    height: 32px;\n",
              "    padding: 0;\n",
              "    width: 32px;\n",
              "  }\n",
              "\n",
              "  .colab-df-quickchart:hover {\n",
              "    background-color: var(--hover-bg-color);\n",
              "    box-shadow: 0 1px 2px rgba(60, 64, 67, 0.3), 0 1px 3px 1px rgba(60, 64, 67, 0.15);\n",
              "    fill: var(--button-hover-fill-color);\n",
              "  }\n",
              "\n",
              "  .colab-df-quickchart-complete:disabled,\n",
              "  .colab-df-quickchart-complete:disabled:hover {\n",
              "    background-color: var(--disabled-bg-color);\n",
              "    fill: var(--disabled-fill-color);\n",
              "    box-shadow: none;\n",
              "  }\n",
              "\n",
              "  .colab-df-spinner {\n",
              "    border: 2px solid var(--fill-color);\n",
              "    border-color: transparent;\n",
              "    border-bottom-color: var(--fill-color);\n",
              "    animation:\n",
              "      spin 1s steps(1) infinite;\n",
              "  }\n",
              "\n",
              "  @keyframes spin {\n",
              "    0% {\n",
              "      border-color: transparent;\n",
              "      border-bottom-color: var(--fill-color);\n",
              "      border-left-color: var(--fill-color);\n",
              "    }\n",
              "    20% {\n",
              "      border-color: transparent;\n",
              "      border-left-color: var(--fill-color);\n",
              "      border-top-color: var(--fill-color);\n",
              "    }\n",
              "    30% {\n",
              "      border-color: transparent;\n",
              "      border-left-color: var(--fill-color);\n",
              "      border-top-color: var(--fill-color);\n",
              "      border-right-color: var(--fill-color);\n",
              "    }\n",
              "    40% {\n",
              "      border-color: transparent;\n",
              "      border-right-color: var(--fill-color);\n",
              "      border-top-color: var(--fill-color);\n",
              "    }\n",
              "    60% {\n",
              "      border-color: transparent;\n",
              "      border-right-color: var(--fill-color);\n",
              "    }\n",
              "    80% {\n",
              "      border-color: transparent;\n",
              "      border-right-color: var(--fill-color);\n",
              "      border-bottom-color: var(--fill-color);\n",
              "    }\n",
              "    90% {\n",
              "      border-color: transparent;\n",
              "      border-bottom-color: var(--fill-color);\n",
              "    }\n",
              "  }\n",
              "</style>\n",
              "\n",
              "  <script>\n",
              "    async function quickchart(key) {\n",
              "      const quickchartButtonEl =\n",
              "        document.querySelector('#' + key + ' button');\n",
              "      quickchartButtonEl.disabled = true;  // To prevent multiple clicks.\n",
              "      quickchartButtonEl.classList.add('colab-df-spinner');\n",
              "      try {\n",
              "        const charts = await google.colab.kernel.invokeFunction(\n",
              "            'suggestCharts', [key], {});\n",
              "      } catch (error) {\n",
              "        console.error('Error during call to suggestCharts:', error);\n",
              "      }\n",
              "      quickchartButtonEl.classList.remove('colab-df-spinner');\n",
              "      quickchartButtonEl.classList.add('colab-df-quickchart-complete');\n",
              "    }\n",
              "    (() => {\n",
              "      let quickchartButtonEl =\n",
              "        document.querySelector('#df-68230ffb-b145-44f2-bb22-6ddd16f6b1e9 button');\n",
              "      quickchartButtonEl.style.display =\n",
              "        google.colab.kernel.accessAllowed ? 'block' : 'none';\n",
              "    })();\n",
              "  </script>\n",
              "</div>\n",
              "\n",
              "  <div id=\"id_94fe8cbd-7db1-44b2-b0aa-28d3212352de\">\n",
              "    <style>\n",
              "      .colab-df-generate {\n",
              "        background-color: #E8F0FE;\n",
              "        border: none;\n",
              "        border-radius: 50%;\n",
              "        cursor: pointer;\n",
              "        display: none;\n",
              "        fill: #1967D2;\n",
              "        height: 32px;\n",
              "        padding: 0 0 0 0;\n",
              "        width: 32px;\n",
              "      }\n",
              "\n",
              "      .colab-df-generate:hover {\n",
              "        background-color: #E2EBFA;\n",
              "        box-shadow: 0px 1px 2px rgba(60, 64, 67, 0.3), 0px 1px 3px 1px rgba(60, 64, 67, 0.15);\n",
              "        fill: #174EA6;\n",
              "      }\n",
              "\n",
              "      [theme=dark] .colab-df-generate {\n",
              "        background-color: #3B4455;\n",
              "        fill: #D2E3FC;\n",
              "      }\n",
              "\n",
              "      [theme=dark] .colab-df-generate:hover {\n",
              "        background-color: #434B5C;\n",
              "        box-shadow: 0px 1px 3px 1px rgba(0, 0, 0, 0.15);\n",
              "        filter: drop-shadow(0px 1px 2px rgba(0, 0, 0, 0.3));\n",
              "        fill: #FFFFFF;\n",
              "      }\n",
              "    </style>\n",
              "    <button class=\"colab-df-generate\" onclick=\"generateWithVariable('test_select_columns11')\"\n",
              "            title=\"Generate code using this dataframe.\"\n",
              "            style=\"display:none;\">\n",
              "\n",
              "  <svg xmlns=\"http://www.w3.org/2000/svg\" height=\"24px\"viewBox=\"0 0 24 24\"\n",
              "       width=\"24px\">\n",
              "    <path d=\"M7,19H8.4L18.45,9,17,7.55,7,17.6ZM5,21V16.75L18.45,3.32a2,2,0,0,1,2.83,0l1.4,1.43a1.91,1.91,0,0,1,.58,1.4,1.91,1.91,0,0,1-.58,1.4L9.25,21ZM18.45,9,17,7.55Zm-12,3A5.31,5.31,0,0,0,4.9,8.1,5.31,5.31,0,0,0,1,6.5,5.31,5.31,0,0,0,4.9,4.9,5.31,5.31,0,0,0,6.5,1,5.31,5.31,0,0,0,8.1,4.9,5.31,5.31,0,0,0,12,6.5,5.46,5.46,0,0,0,6.5,12Z\"/>\n",
              "  </svg>\n",
              "    </button>\n",
              "    <script>\n",
              "      (() => {\n",
              "      const buttonEl =\n",
              "        document.querySelector('#id_94fe8cbd-7db1-44b2-b0aa-28d3212352de button.colab-df-generate');\n",
              "      buttonEl.style.display =\n",
              "        google.colab.kernel.accessAllowed ? 'block' : 'none';\n",
              "\n",
              "      buttonEl.onclick = () => {\n",
              "        google.colab.notebook.generateWithVariable('test_select_columns11');\n",
              "      }\n",
              "      })();\n",
              "    </script>\n",
              "  </div>\n",
              "\n",
              "    </div>\n",
              "  </div>\n"
            ]
          },
          "metadata": {},
          "execution_count": 127
        }
      ]
    },
    {
      "cell_type": "markdown",
      "source": [
        "# Detecting Null/missing values in data and imputating Using SimpleImputer"
      ],
      "metadata": {
        "id": "50d_9Q1eFp5B"
      }
    },
    {
      "cell_type": "code",
      "source": [
        "#It is used to compute sum of Missing values of X_train_com22 dataframe\n",
        "X_train_com22.isna().sum()"
      ],
      "metadata": {
        "execution": {
          "iopub.status.busy": "2023-08-28T04:10:41.580026Z",
          "iopub.execute_input": "2023-08-28T04:10:41.580510Z",
          "iopub.status.idle": "2023-08-28T04:10:41.863597Z",
          "shell.execute_reply.started": "2023-08-28T04:10:41.580473Z",
          "shell.execute_reply": "2023-08-28T04:10:41.862461Z"
        },
        "trusted": true,
        "colab": {
          "base_uri": "https://localhost:8080/"
        },
        "id": "1L0VbnqZFp5B",
        "outputId": "ad25fe09-a492-490c-ceef-ce552cdb2073"
      },
      "execution_count": null,
      "outputs": [
        {
          "output_type": "execute_result",
          "data": {
            "text/plain": [
              "reviewText             5228\n",
              "audienceScore         10617\n",
              "runtimeMinutes         2695\n",
              "boxOffice             42186\n",
              "genre                  1964\n",
              "originalLanguage       2648\n",
              "distributor           32570\n",
              "director                  0\n",
              "rating                51013\n",
              "ratingContents            0\n",
              "movieid                   0\n",
              "reviewerName              0\n",
              "isFrequentReviewer        0\n",
              "title                     0\n",
              "soundType             68262\n",
              "dtype: int64"
            ]
          },
          "metadata": {},
          "execution_count": 128
        }
      ]
    },
    {
      "cell_type": "code",
      "source": [
        "#Simple Imputer is used to impute null values in X_train_com2 and Transform same in X_test_com22\n",
        "\n",
        "#In si1 imputer strategy to impute null values is selected as median as \"boxOffice\",\"runtimeMinutes\" column of X_train_com22 having Positive Skewness with Outliers\n",
        "si1 = SimpleImputer(missing_values=np.nan,strategy='median')\n",
        "X_train_com22['boxOffice'] = si1.fit_transform(X_train_com22[['boxOffice']])\n",
        "X_test_com22['boxOffice'] = si1.transform(X_test_com22[['boxOffice']])\n",
        "test_select_columns11['boxOffice'] = si1.transform(test_select_columns11[['boxOffice']])\n",
        "X_train_com22['runtimeMinutes'] = si1.fit_transform(X_train_com22[['runtimeMinutes']])\n",
        "X_test_com22['runtimeMinutes'] = si1.transform(X_test_com22[['runtimeMinutes']])\n",
        "test_select_columns11['runtimeMinutes'] = si1.transform(test_select_columns11[['runtimeMinutes']])\n",
        "\n",
        "#In si2 imputer strategy to impute null values is selected as mean as \"audienceScore\" column of X_train_com22 having Slightly Negative Skewness(0 to -1)\n",
        "si2 = SimpleImputer(missing_values=np.nan,strategy='mean')\n",
        "X_train_com22['audienceScore'] = si2.fit_transform(X_train_com22[['audienceScore']])\n",
        "X_test_com22['audienceScore'] = si2.transform(X_test_com22[['audienceScore']])\n",
        "test_select_columns11['audienceScore'] = si2.transform(test_select_columns11[['audienceScore']])\n",
        "\n",
        "\n",
        "#In si3 imputer strategy to impute null values is selected as contant as \"reviewText\",\"genre\",\"distributor\",\"originalLanguage\" columns\n",
        "#of X_train_com22 having text data so it would be better to fill it with space\n",
        "si3 = SimpleImputer(missing_values=np.nan,strategy='constant',fill_value='')\n",
        "X_train_com22['reviewText'] = si3.fit_transform(X_train_com22[['reviewText']])\n",
        "X_test_com22['reviewText'] = si3.transform(X_test_com22[['reviewText']])\n",
        "test_select_columns11['reviewText'] = si3.transform(test_select_columns11[['reviewText']])\n",
        "X_train_com22['genre'] = si3.fit_transform(X_train_com22[['genre']])\n",
        "X_test_com22['genre'] = si3.transform(X_test_com22[['genre']])\n",
        "test_select_columns11['genre'] = si3.transform(test_select_columns11[['genre']])\n",
        "X_train_com22['distributor'] = si3.fit_transform(X_train_com22[['distributor']])\n",
        "X_test_com22['distributor'] = si3.transform(X_test_com22[['distributor']])\n",
        "test_select_columns11['distributor'] = si3.transform(test_select_columns11[['distributor']])\n",
        "X_train_com22['originalLanguage'] = si3.fit_transform(X_train_com22[['originalLanguage']])\n",
        "X_test_com22['originalLanguage'] = si3.transform(X_test_com22[['originalLanguage']])\n",
        "test_select_columns11['originalLanguage'] = si3.transform(test_select_columns11[['originalLanguage']])\n",
        "X_train_com22['rating'] = si3.fit_transform(X_train_com22[['rating']])\n",
        "X_test_com22['rating'] = si3.transform(X_test_com22[['rating']])\n",
        "test_select_columns11['rating'] = si3.transform(test_select_columns11[['rating']])\n",
        "X_train_com22['soundType'] = si3.fit_transform(X_train_com22[['soundType']])\n",
        "X_test_com22['soundType'] = si3.transform(X_test_com22[['soundType']])\n",
        "test_select_columns11['soundType'] = si3.transform(test_select_columns11[['soundType']])"
      ],
      "metadata": {
        "execution": {
          "iopub.status.busy": "2023-08-28T04:40:44.235604Z",
          "iopub.execute_input": "2023-08-28T04:40:44.236369Z",
          "iopub.status.idle": "2023-08-28T04:40:45.241602Z",
          "shell.execute_reply.started": "2023-08-28T04:40:44.236334Z",
          "shell.execute_reply": "2023-08-28T04:40:45.240629Z"
        },
        "trusted": true,
        "colab": {
          "base_uri": "https://localhost:8080/"
        },
        "id": "Yo524eOXFp5C",
        "outputId": "dc3c73a7-6e74-424e-c548-498eb9dafb47"
      },
      "execution_count": null,
      "outputs": [
        {
          "output_type": "stream",
          "name": "stderr",
          "text": [
            "<ipython-input-129-5739112396d0>:7: SettingWithCopyWarning: \n",
            "A value is trying to be set on a copy of a slice from a DataFrame.\n",
            "Try using .loc[row_indexer,col_indexer] = value instead\n",
            "\n",
            "See the caveats in the documentation: https://pandas.pydata.org/pandas-docs/stable/user_guide/indexing.html#returning-a-view-versus-a-copy\n",
            "  test_select_columns11['boxOffice'] = si1.transform(test_select_columns11[['boxOffice']])\n",
            "<ipython-input-129-5739112396d0>:10: SettingWithCopyWarning: \n",
            "A value is trying to be set on a copy of a slice from a DataFrame.\n",
            "Try using .loc[row_indexer,col_indexer] = value instead\n",
            "\n",
            "See the caveats in the documentation: https://pandas.pydata.org/pandas-docs/stable/user_guide/indexing.html#returning-a-view-versus-a-copy\n",
            "  test_select_columns11['runtimeMinutes'] = si1.transform(test_select_columns11[['runtimeMinutes']])\n",
            "<ipython-input-129-5739112396d0>:16: SettingWithCopyWarning: \n",
            "A value is trying to be set on a copy of a slice from a DataFrame.\n",
            "Try using .loc[row_indexer,col_indexer] = value instead\n",
            "\n",
            "See the caveats in the documentation: https://pandas.pydata.org/pandas-docs/stable/user_guide/indexing.html#returning-a-view-versus-a-copy\n",
            "  test_select_columns11['audienceScore'] = si2.transform(test_select_columns11[['audienceScore']])\n",
            "<ipython-input-129-5739112396d0>:24: SettingWithCopyWarning: \n",
            "A value is trying to be set on a copy of a slice from a DataFrame.\n",
            "Try using .loc[row_indexer,col_indexer] = value instead\n",
            "\n",
            "See the caveats in the documentation: https://pandas.pydata.org/pandas-docs/stable/user_guide/indexing.html#returning-a-view-versus-a-copy\n",
            "  test_select_columns11['reviewText'] = si3.transform(test_select_columns11[['reviewText']])\n",
            "<ipython-input-129-5739112396d0>:27: SettingWithCopyWarning: \n",
            "A value is trying to be set on a copy of a slice from a DataFrame.\n",
            "Try using .loc[row_indexer,col_indexer] = value instead\n",
            "\n",
            "See the caveats in the documentation: https://pandas.pydata.org/pandas-docs/stable/user_guide/indexing.html#returning-a-view-versus-a-copy\n",
            "  test_select_columns11['genre'] = si3.transform(test_select_columns11[['genre']])\n",
            "<ipython-input-129-5739112396d0>:30: SettingWithCopyWarning: \n",
            "A value is trying to be set on a copy of a slice from a DataFrame.\n",
            "Try using .loc[row_indexer,col_indexer] = value instead\n",
            "\n",
            "See the caveats in the documentation: https://pandas.pydata.org/pandas-docs/stable/user_guide/indexing.html#returning-a-view-versus-a-copy\n",
            "  test_select_columns11['distributor'] = si3.transform(test_select_columns11[['distributor']])\n",
            "<ipython-input-129-5739112396d0>:33: SettingWithCopyWarning: \n",
            "A value is trying to be set on a copy of a slice from a DataFrame.\n",
            "Try using .loc[row_indexer,col_indexer] = value instead\n",
            "\n",
            "See the caveats in the documentation: https://pandas.pydata.org/pandas-docs/stable/user_guide/indexing.html#returning-a-view-versus-a-copy\n",
            "  test_select_columns11['originalLanguage'] = si3.transform(test_select_columns11[['originalLanguage']])\n",
            "<ipython-input-129-5739112396d0>:36: SettingWithCopyWarning: \n",
            "A value is trying to be set on a copy of a slice from a DataFrame.\n",
            "Try using .loc[row_indexer,col_indexer] = value instead\n",
            "\n",
            "See the caveats in the documentation: https://pandas.pydata.org/pandas-docs/stable/user_guide/indexing.html#returning-a-view-versus-a-copy\n",
            "  test_select_columns11['rating'] = si3.transform(test_select_columns11[['rating']])\n",
            "<ipython-input-129-5739112396d0>:39: SettingWithCopyWarning: \n",
            "A value is trying to be set on a copy of a slice from a DataFrame.\n",
            "Try using .loc[row_indexer,col_indexer] = value instead\n",
            "\n",
            "See the caveats in the documentation: https://pandas.pydata.org/pandas-docs/stable/user_guide/indexing.html#returning-a-view-versus-a-copy\n",
            "  test_select_columns11['soundType'] = si3.transform(test_select_columns11[['soundType']])\n"
          ]
        }
      ]
    },
    {
      "cell_type": "markdown",
      "source": [
        "# Scaling numerical features Using Standard Scaler and Robust Scaler"
      ],
      "metadata": {
        "id": "mcJo9ixEFp5D"
      }
    },
    {
      "cell_type": "code",
      "source": [
        "#Standard scaler is used to Scale Numerical Features through which it is Ensured that they are Compatible Scale\n",
        "scaler = StandardScaler()\n",
        "\n",
        "#Here I fit transformed audienceScore Column of X_train_com22 by using Standard Scaler and transfomed test data Accordingly\n",
        "X_train_com22['audienceScore'] = scaler.fit_transform(X_train_com22[['audienceScore']])\n",
        "X_test_com22['audienceScore'] = scaler.transform(X_test_com22[['audienceScore']])\n",
        "test_select_columns11['audienceScore'] = scaler.transform(test_select_columns11[['audienceScore']])\n",
        "\n",
        "# The RobustScaler method scales features using statistics that are robust to the presence of outliers.\n",
        "# Instead of using the mean and standard deviation like in Standard Scaler,\n",
        "# it uses the median and the interquartile range (IQR) to scale the data.\n",
        "robust = RobustScaler()\n",
        "\n",
        "#Here I fit transformed boxOffice Column of X_train_com22 by using Robust Scaler as it contains Outlier and transfomed test data Accordingly\n",
        "X_train_com22['boxOffice'] = robust.fit_transform(X_train_com22[['boxOffice']])\n",
        "X_test_com22['boxOffice'] = robust.transform(X_test_com22[['boxOffice']])\n",
        "test_select_columns11['boxOffice'] = robust.transform(test_select_columns11[['boxOffice']])\n",
        "\n",
        "\n",
        "\n",
        "#Here I fit transformed runtimeMinutes Column of train selected by using Robust Scaler as it contains Outliers and transfomed test data Accordingly\n",
        "X_train_com22['runtimeMinutes'] = robust.fit_transform(X_train_com22[['runtimeMinutes']])\n",
        "X_test_com22['runtimeMinutes'] = robust.transform(X_test_com22[['runtimeMinutes']])\n",
        "test_select_columns11['runtimeMinutes'] = robust.transform(test_select_columns11[['runtimeMinutes']])"
      ],
      "metadata": {
        "execution": {
          "iopub.status.busy": "2023-08-28T04:45:02.702584Z",
          "iopub.execute_input": "2023-08-28T04:45:02.703027Z",
          "iopub.status.idle": "2023-08-28T04:45:02.844592Z",
          "shell.execute_reply.started": "2023-08-28T04:45:02.703000Z",
          "shell.execute_reply": "2023-08-28T04:45:02.843328Z"
        },
        "trusted": true,
        "colab": {
          "base_uri": "https://localhost:8080/"
        },
        "id": "z7aNCGmnFp5E",
        "outputId": "6f50bb5c-9901-46f7-fc67-f862f6a382d1"
      },
      "execution_count": null,
      "outputs": [
        {
          "output_type": "stream",
          "name": "stderr",
          "text": [
            "<ipython-input-130-4e68088a8f4c>:7: SettingWithCopyWarning: \n",
            "A value is trying to be set on a copy of a slice from a DataFrame.\n",
            "Try using .loc[row_indexer,col_indexer] = value instead\n",
            "\n",
            "See the caveats in the documentation: https://pandas.pydata.org/pandas-docs/stable/user_guide/indexing.html#returning-a-view-versus-a-copy\n",
            "  test_select_columns11['audienceScore'] = scaler.transform(test_select_columns11[['audienceScore']])\n",
            "<ipython-input-130-4e68088a8f4c>:17: SettingWithCopyWarning: \n",
            "A value is trying to be set on a copy of a slice from a DataFrame.\n",
            "Try using .loc[row_indexer,col_indexer] = value instead\n",
            "\n",
            "See the caveats in the documentation: https://pandas.pydata.org/pandas-docs/stable/user_guide/indexing.html#returning-a-view-versus-a-copy\n",
            "  test_select_columns11['boxOffice'] = robust.transform(test_select_columns11[['boxOffice']])\n",
            "<ipython-input-130-4e68088a8f4c>:24: SettingWithCopyWarning: \n",
            "A value is trying to be set on a copy of a slice from a DataFrame.\n",
            "Try using .loc[row_indexer,col_indexer] = value instead\n",
            "\n",
            "See the caveats in the documentation: https://pandas.pydata.org/pandas-docs/stable/user_guide/indexing.html#returning-a-view-versus-a-copy\n",
            "  test_select_columns11['runtimeMinutes'] = robust.transform(test_select_columns11[['runtimeMinutes']])\n"
          ]
        }
      ]
    },
    {
      "cell_type": "markdown",
      "source": [
        "# Label Encoder for Encoding Categorical Features"
      ],
      "metadata": {
        "id": "9AuJ88AnFp5F"
      }
    },
    {
      "cell_type": "code",
      "source": [
        "#Here Label Encoder is Used for replacing Positive,Negative values in sentiment Column of train_selected by 1,0 respectively\n",
        "y_train_com22 = y_train_com22.replace(['POSITIVE','NEGATIVE'],[1,0])\n"
      ],
      "metadata": {
        "execution": {
          "iopub.status.busy": "2023-08-28T04:46:18.691097Z",
          "iopub.execute_input": "2023-08-28T04:46:18.691500Z",
          "iopub.status.idle": "2023-08-28T04:46:18.749634Z",
          "shell.execute_reply.started": "2023-08-28T04:46:18.691471Z",
          "shell.execute_reply": "2023-08-28T04:46:18.748754Z"
        },
        "trusted": true,
        "id": "cpOKp9ODFp5F"
      },
      "execution_count": null,
      "outputs": []
    },
    {
      "cell_type": "code",
      "source": [
        "#Here Label Encoder is Used for replacing Positive,Negative values in sentiment Column of test by 1,0 respectively\n",
        "y_test_com22 = y_test_com22.replace(['POSITIVE','NEGATIVE'],[1,0])"
      ],
      "metadata": {
        "execution": {
          "iopub.status.busy": "2023-08-28T04:46:19.072007Z",
          "iopub.execute_input": "2023-08-28T04:46:19.072410Z",
          "iopub.status.idle": "2023-08-28T04:46:19.091282Z",
          "shell.execute_reply.started": "2023-08-28T04:46:19.072378Z",
          "shell.execute_reply": "2023-08-28T04:46:19.090164Z"
        },
        "trusted": true,
        "id": "fxFmQS1KFp5G"
      },
      "execution_count": null,
      "outputs": []
    },
    {
      "cell_type": "markdown",
      "source": [
        "# Text Combining and Vectorizing"
      ],
      "metadata": {
        "id": "2qJnuKy6Fp5H"
      }
    },
    {
      "cell_type": "code",
      "source": [
        "#Concating text Columns\n",
        "train_com_train =pd.concat([X_train_com22['reviewText'],X_train_com22['genre'],X_train_com22['originalLanguage'],X_train_com22['distributor'],X_train_com22['director'],X_train_com22['rating'],X_train_com22['ratingContents'],X_train_com22['movieid'],X_train_com22['reviewerName'],X_train_com22['isFrequentReviewer'],X_train_com22['title'],X_train_com22['soundType']],axis=1)\n",
        "#New Column is added namely Combined text which Containes Cobmination all Columns Combined\n",
        "train_com_train['combined_text'] = train_com_train['reviewText'] + ' ' + train_com_train['genre']+ ' '+train_com_train['originalLanguage']+ ' ' +train_com_train['distributor']+' '+train_com_train['director']+ ' '+train_com_train['rating']+' '+train_com_train['ratingContents']+' '+train_com_train['movieid']+' '+train_com_train['reviewerName']+' '+train_com_train['isFrequentReviewer'].astype(str)+' '+train_com_train['title']+' '+train_com_train['soundType']"
      ],
      "metadata": {
        "execution": {
          "iopub.status.busy": "2023-08-28T04:46:20.832184Z",
          "iopub.execute_input": "2023-08-28T04:46:20.832635Z",
          "iopub.status.idle": "2023-08-28T04:46:21.770949Z",
          "shell.execute_reply.started": "2023-08-28T04:46:20.832603Z",
          "shell.execute_reply": "2023-08-28T04:46:21.769827Z"
        },
        "trusted": true,
        "id": "JWHZbCCEFp5H"
      },
      "execution_count": null,
      "outputs": []
    },
    {
      "cell_type": "code",
      "source": [
        "#Concating text Columns\n",
        "test_com_test =pd.concat([X_test_com22['reviewText'],X_test_com22['genre'],X_test_com22['originalLanguage'],X_test_com22['distributor'],X_test_com22['director'],X_test_com22['rating'],X_test_com22['ratingContents'],X_test_com22['movieid'],X_test_com22['reviewerName'],X_test_com22['isFrequentReviewer'],X_test_com22['title'],X_test_com22['soundType']],axis=1)\n",
        "#New Column is added namely Combined text which Containes Cobmination all Columns Combined\n",
        "test_com_test['combined_text'] = test_com_test['reviewText'] + ' ' + test_com_test['genre']+ ' '+test_com_test['originalLanguage']+ ' ' +test_com_test['distributor']+' '+test_com_test['director']+ ' '+test_com_test['rating']+' '+test_com_test['ratingContents']+' '+test_com_test['movieid']+' '+test_com_test['reviewerName']+' '+test_com_test['isFrequentReviewer'].astype(str)+' '+test_com_test['title']+' '+test_com_test['soundType']"
      ],
      "metadata": {
        "execution": {
          "iopub.status.busy": "2023-08-28T04:46:21.773092Z",
          "iopub.execute_input": "2023-08-28T04:46:21.773569Z",
          "iopub.status.idle": "2023-08-28T04:46:22.020210Z",
          "shell.execute_reply.started": "2023-08-28T04:46:21.773529Z",
          "shell.execute_reply": "2023-08-28T04:46:22.018912Z"
        },
        "trusted": true,
        "id": "UgUM_ldnFp5I"
      },
      "execution_count": null,
      "outputs": []
    },
    {
      "cell_type": "code",
      "source": [
        "#Concating text Columns\n",
        "test_com =pd.concat([test_select_columns11['reviewText'],test_select_columns11['genre'],test_select_columns11['originalLanguage'],test_select_columns11['distributor'],test_select_columns11['director'],test_select_columns11['rating'],test_select_columns11['ratingContents'],test_select_columns11['movieid'],test_select_columns11['reviewerName'],test_select_columns11['isTopCritic'],test_select_columns11['title'],test_select_columns11['soundType']],axis=1)\n",
        "#New Column is added namely Combined text which Containes Cobmination all Columns Combined\n",
        "test_com['combined_text'] = test_com['reviewText'] + ' ' + test_com['genre']+ ' '+test_com['originalLanguage']+ ' ' +test_com['distributor']+' '+test_com['director']+' '+test_com['rating']+' '+test_com['ratingContents']+' '+test_com['movieid']+' '+test_com['reviewerName']+' '+test_com['isTopCritic'].astype(str)+' '+test_com['title']+' '+test_com['soundType']"
      ],
      "metadata": {
        "execution": {
          "iopub.status.busy": "2023-08-28T04:46:22.048491Z",
          "iopub.execute_input": "2023-08-28T04:46:22.049555Z",
          "iopub.status.idle": "2023-08-28T04:46:22.436128Z",
          "shell.execute_reply.started": "2023-08-28T04:46:22.049519Z",
          "shell.execute_reply": "2023-08-28T04:46:22.434997Z"
        },
        "trusted": true,
        "id": "avXLf_hwFp5J"
      },
      "execution_count": null,
      "outputs": []
    },
    {
      "cell_type": "markdown",
      "source": [
        "* **TFIDF Vectorizer** -\n",
        "  Term Frequency-Inverse Document Frequency(TFIDF) is used to get importance of word in particular document by knowing its Term frequency value in Large Corpus of Words,Term Frequency is Count of word in Document divided total number of words in Document ,IDF means Uniquness of particular words in Document and there are various parameter of TFidf Vectorizer like Stop words (i.e Words like and,a,an which doesn't carries significant value for classification problems they are removed through it,n_gram parameter is used to set how much minimum and maximum size of particular token is to be considered)"
      ],
      "metadata": {
        "id": "YhlIPDY_Fp5J"
      }
    },
    {
      "cell_type": "code",
      "source": [
        "#Tfidf Vectorizer is used to tokenize Combined Text from train and Test combined data\n",
        "vect = TfidfVectorizer(stop_words='english',ngram_range=(1,2))\n",
        "\n",
        "# Fit the vectorizer on the training data and transform both training and test data\n",
        "X_train_com22_vect = vect.fit_transform(train_com_train['combined_text'])\n",
        "X_test_com22_vect = vect.transform(test_com_test['combined_text'])\n",
        "test_vect_com11 = vect.transform(test_com['combined_text'])"
      ],
      "metadata": {
        "execution": {
          "iopub.status.busy": "2023-08-28T04:46:23.376082Z",
          "iopub.execute_input": "2023-08-28T04:46:23.376522Z",
          "iopub.status.idle": "2023-08-28T04:46:50.101155Z",
          "shell.execute_reply.started": "2023-08-28T04:46:23.376488Z",
          "shell.execute_reply": "2023-08-28T04:46:50.100054Z"
        },
        "trusted": true,
        "id": "hC2UWFO-Fp5K"
      },
      "execution_count": null,
      "outputs": []
    },
    {
      "cell_type": "code",
      "source": [
        "#Text columns are removed from train dataframe before passing it to hstack\n",
        "X_train_com22 = X_train_com22.drop(columns=['reviewText','genre','originalLanguage','distributor','director','rating','ratingContents',\"movieid\",\"reviewerName\",\"isFrequentReviewer\",\"title\",'soundType'])"
      ],
      "metadata": {
        "execution": {
          "iopub.status.busy": "2023-08-28T04:46:50.103219Z",
          "iopub.execute_input": "2023-08-28T04:46:50.103558Z",
          "iopub.status.idle": "2023-08-28T04:46:50.123148Z",
          "shell.execute_reply.started": "2023-08-28T04:46:50.103532Z",
          "shell.execute_reply": "2023-08-28T04:46:50.122024Z"
        },
        "trusted": true,
        "id": "d1kRTbhzFp5L"
      },
      "execution_count": null,
      "outputs": []
    },
    {
      "cell_type": "code",
      "source": [
        "#Text columns are removed from test dataframe before passing it to hstack\n",
        "X_test_com22 = X_test_com22.drop(columns=['reviewText','genre','originalLanguage','distributor','director','rating','ratingContents',\"movieid\",\"reviewerName\",'isFrequentReviewer',\"title\",'soundType'])"
      ],
      "metadata": {
        "execution": {
          "iopub.status.busy": "2023-08-28T04:46:50.124701Z",
          "iopub.execute_input": "2023-08-28T04:46:50.125054Z",
          "iopub.status.idle": "2023-08-28T04:46:50.143271Z",
          "shell.execute_reply.started": "2023-08-28T04:46:50.125017Z",
          "shell.execute_reply": "2023-08-28T04:46:50.141996Z"
        },
        "trusted": true,
        "id": "q1r5DOrlFp5L"
      },
      "execution_count": null,
      "outputs": []
    },
    {
      "cell_type": "code",
      "source": [
        "#Text columns are removed from test dataframe before passing it to hstack\n",
        "test_select_columns11 = test_select_columns11.drop(columns=['reviewText','genre','originalLanguage','distributor','director','rating','ratingContents',\"movieid\",\"reviewerName\",'isTopCritic',\"title\",'soundType'])"
      ],
      "metadata": {
        "execution": {
          "iopub.status.busy": "2023-08-28T04:46:50.145912Z",
          "iopub.execute_input": "2023-08-28T04:46:50.146312Z",
          "iopub.status.idle": "2023-08-28T04:46:50.157827Z",
          "shell.execute_reply.started": "2023-08-28T04:46:50.146274Z",
          "shell.execute_reply": "2023-08-28T04:46:50.156218Z"
        },
        "trusted": true,
        "id": "1S4wHOfUFp5M"
      },
      "execution_count": null,
      "outputs": []
    },
    {
      "cell_type": "code",
      "source": [
        "#Hstack is used to stack train feature matrix to create Combined Feature Matrix\n",
        "# The function is used for creating larger arrays by combining smaller arrays in a horizontal manner\n",
        "#It is used to process data further for Feature Engineering / Feature Extraction\n",
        "#By using csr_matrix, it is ensured that the data types are consistent and compatible for the horizontal stacking\n",
        "trained_X_com22 = hstack([X_train_com22_vect,csr_matrix(X_train_com22)])\n",
        "test_X_com22 = hstack([X_test_com22_vect,csr_matrix(X_test_com22)])\n",
        "test_submit = hstack([test_vect_com11,csr_matrix(test_select_columns11)])"
      ],
      "metadata": {
        "execution": {
          "iopub.status.busy": "2023-08-28T04:46:50.159107Z",
          "iopub.execute_input": "2023-08-28T04:46:50.159503Z",
          "iopub.status.idle": "2023-08-28T04:46:50.429943Z",
          "shell.execute_reply.started": "2023-08-28T04:46:50.159449Z",
          "shell.execute_reply": "2023-08-28T04:46:50.429088Z"
        },
        "trusted": true,
        "id": "S9Psb1qEFp5M"
      },
      "execution_count": null,
      "outputs": []
    },
    {
      "cell_type": "code",
      "source": [
        "#Shape of Training Data\n",
        "trained_X_com22.shape"
      ],
      "metadata": {
        "execution": {
          "iopub.status.busy": "2023-08-28T04:46:50.441239Z",
          "iopub.execute_input": "2023-08-28T04:46:50.441709Z",
          "iopub.status.idle": "2023-08-28T04:46:50.452078Z",
          "shell.execute_reply.started": "2023-08-28T04:46:50.441680Z",
          "shell.execute_reply": "2023-08-28T04:46:50.450842Z"
        },
        "trusted": true,
        "colab": {
          "base_uri": "https://localhost:8080/"
        },
        "id": "tjmrbaAlFp5N",
        "outputId": "62e54399-cf67-4f4f-8c30-145d5d418f89"
      },
      "execution_count": null,
      "outputs": [
        {
          "output_type": "execute_result",
          "data": {
            "text/plain": [
              "(130206, 1164285)"
            ]
          },
          "metadata": {},
          "execution_count": 141
        }
      ]
    },
    {
      "cell_type": "code",
      "source": [
        "#Shape of Test Data\n",
        "test_X_com22.shape"
      ],
      "metadata": {
        "execution": {
          "iopub.status.busy": "2023-08-28T04:47:27.131559Z",
          "iopub.execute_input": "2023-08-28T04:47:27.131939Z",
          "iopub.status.idle": "2023-08-28T04:47:27.139017Z",
          "shell.execute_reply.started": "2023-08-28T04:47:27.131912Z",
          "shell.execute_reply": "2023-08-28T04:47:27.137863Z"
        },
        "trusted": true,
        "colab": {
          "base_uri": "https://localhost:8080/"
        },
        "id": "EcbtldBkFp5O",
        "outputId": "35bf74e7-8444-4aa3-fd0d-88761c7cfa66"
      },
      "execution_count": null,
      "outputs": [
        {
          "output_type": "execute_result",
          "data": {
            "text/plain": [
              "(32552, 1164285)"
            ]
          },
          "metadata": {},
          "execution_count": 142
        }
      ]
    },
    {
      "cell_type": "markdown",
      "source": [
        "#  Feature Extraction-\n"
      ],
      "metadata": {
        "id": "uWiZbKZiFp5P"
      }
    },
    {
      "cell_type": "code",
      "source": [
        "#Features Selection using SelectPercentile\n",
        "\n",
        "# Define a pipeline with feature selection and a logistic regression classifier\n",
        "# The feature selection method is SelectPercentile with a scoring function f_classif\n",
        "# The classifier is LogisticRegression\n",
        "pipe = Pipeline([\n",
        "    ('feature_selection', SelectPercentile(score_func=f_classif)),\n",
        "    ('classifier', LogisticRegression())\n",
        "])\n",
        "\n",
        "\n",
        "# Define the parameter grid for hyperparameter tuning\n",
        "parameter_s = {\n",
        "    'feature_selection__percentile': [0.5,1,5,10, 25, 50],\n",
        "    'feature_selection__score_func': [f_classif, chi2],\n",
        "    'classifier__C': [0.1, 1.0, 10.0]\n",
        "}\n",
        "\n",
        "# Define custom scoring metrics: F1 score and ROC AUC\n",
        "scoring_metrics = {\n",
        "    'F1': make_scorer(f1_score),\n",
        "    'ROC_AUC': make_scorer(roc_auc_score)\n",
        "}\n",
        "\n",
        "# Create a GridSearchCV object for hyperparameter tuning\n",
        "grid_ = GridSearchCV(pipe, param_grid=parameter_s, cv=5, scoring=scoring_metrics, refit='ROC_AUC', n_jobs=-1)\n",
        "\n",
        "# Fit the GridSearchCV object to the data\n",
        "# This line executes the hyperparameter search\n",
        "grid_.fit(trained_X_com22, y_train_com22)\n",
        "\n",
        "\n",
        "# Print the best estimator found by GridSearchCV\n",
        "print(grid_.best_estimator_)\n",
        "# Print the best hyperparameters found by GridSearchCV\n",
        "print(grid_.best_params_)\n",
        "# Print the best score (ROC AUC) achieved by the best estimator\n",
        "print(grid_.best_score_)"
      ],
      "metadata": {
        "trusted": true,
        "colab": {
          "base_uri": "https://localhost:8080/",
          "height": 390
        },
        "id": "75HbNZaEFp5Q",
        "outputId": "3a5ae793-23eb-40ca-9514-1a955544eafd"
      },
      "execution_count": null,
      "outputs": [
        {
          "output_type": "error",
          "ename": "KeyboardInterrupt",
          "evalue": "",
          "traceback": [
            "\u001b[0;31m---------------------------------------------------------------------------\u001b[0m",
            "\u001b[0;31mKeyboardInterrupt\u001b[0m                         Traceback (most recent call last)",
            "\u001b[0;32m<ipython-input-143-8f7db59df9e5>\u001b[0m in \u001b[0;36m<cell line: 30>\u001b[0;34m()\u001b[0m\n\u001b[1;32m     28\u001b[0m \u001b[0;31m# Fit the GridSearchCV object to the data\u001b[0m\u001b[0;34m\u001b[0m\u001b[0;34m\u001b[0m\u001b[0m\n\u001b[1;32m     29\u001b[0m \u001b[0;31m# This line executes the hyperparameter search\u001b[0m\u001b[0;34m\u001b[0m\u001b[0;34m\u001b[0m\u001b[0m\n\u001b[0;32m---> 30\u001b[0;31m \u001b[0mgrid_\u001b[0m\u001b[0;34m.\u001b[0m\u001b[0mfit\u001b[0m\u001b[0;34m(\u001b[0m\u001b[0mtrained_X_com22\u001b[0m\u001b[0;34m,\u001b[0m \u001b[0my_train_com22\u001b[0m\u001b[0;34m)\u001b[0m\u001b[0;34m\u001b[0m\u001b[0;34m\u001b[0m\u001b[0m\n\u001b[0m\u001b[1;32m     31\u001b[0m \u001b[0;34m\u001b[0m\u001b[0m\n\u001b[1;32m     32\u001b[0m \u001b[0;34m\u001b[0m\u001b[0m\n",
            "\u001b[0;32m/usr/local/lib/python3.10/dist-packages/sklearn/model_selection/_search.py\u001b[0m in \u001b[0;36mfit\u001b[0;34m(self, X, y, groups, **fit_params)\u001b[0m\n\u001b[1;32m    872\u001b[0m                 \u001b[0;32mreturn\u001b[0m \u001b[0mresults\u001b[0m\u001b[0;34m\u001b[0m\u001b[0;34m\u001b[0m\u001b[0m\n\u001b[1;32m    873\u001b[0m \u001b[0;34m\u001b[0m\u001b[0m\n\u001b[0;32m--> 874\u001b[0;31m             \u001b[0mself\u001b[0m\u001b[0;34m.\u001b[0m\u001b[0m_run_search\u001b[0m\u001b[0;34m(\u001b[0m\u001b[0mevaluate_candidates\u001b[0m\u001b[0;34m)\u001b[0m\u001b[0;34m\u001b[0m\u001b[0;34m\u001b[0m\u001b[0m\n\u001b[0m\u001b[1;32m    875\u001b[0m \u001b[0;34m\u001b[0m\u001b[0m\n\u001b[1;32m    876\u001b[0m             \u001b[0;31m# multimetric is determined here because in the case of a callable\u001b[0m\u001b[0;34m\u001b[0m\u001b[0;34m\u001b[0m\u001b[0m\n",
            "\u001b[0;32m/usr/local/lib/python3.10/dist-packages/sklearn/model_selection/_search.py\u001b[0m in \u001b[0;36m_run_search\u001b[0;34m(self, evaluate_candidates)\u001b[0m\n\u001b[1;32m   1386\u001b[0m     \u001b[0;32mdef\u001b[0m \u001b[0m_run_search\u001b[0m\u001b[0;34m(\u001b[0m\u001b[0mself\u001b[0m\u001b[0;34m,\u001b[0m \u001b[0mevaluate_candidates\u001b[0m\u001b[0;34m)\u001b[0m\u001b[0;34m:\u001b[0m\u001b[0;34m\u001b[0m\u001b[0;34m\u001b[0m\u001b[0m\n\u001b[1;32m   1387\u001b[0m         \u001b[0;34m\"\"\"Search all candidates in param_grid\"\"\"\u001b[0m\u001b[0;34m\u001b[0m\u001b[0;34m\u001b[0m\u001b[0m\n\u001b[0;32m-> 1388\u001b[0;31m         \u001b[0mevaluate_candidates\u001b[0m\u001b[0;34m(\u001b[0m\u001b[0mParameterGrid\u001b[0m\u001b[0;34m(\u001b[0m\u001b[0mself\u001b[0m\u001b[0;34m.\u001b[0m\u001b[0mparam_grid\u001b[0m\u001b[0;34m)\u001b[0m\u001b[0;34m)\u001b[0m\u001b[0;34m\u001b[0m\u001b[0;34m\u001b[0m\u001b[0m\n\u001b[0m\u001b[1;32m   1389\u001b[0m \u001b[0;34m\u001b[0m\u001b[0m\n\u001b[1;32m   1390\u001b[0m \u001b[0;34m\u001b[0m\u001b[0m\n",
            "\u001b[0;32m/usr/local/lib/python3.10/dist-packages/sklearn/model_selection/_search.py\u001b[0m in \u001b[0;36mevaluate_candidates\u001b[0;34m(candidate_params, cv, more_results)\u001b[0m\n\u001b[1;32m    819\u001b[0m                     )\n\u001b[1;32m    820\u001b[0m \u001b[0;34m\u001b[0m\u001b[0m\n\u001b[0;32m--> 821\u001b[0;31m                 out = parallel(\n\u001b[0m\u001b[1;32m    822\u001b[0m                     delayed(_fit_and_score)(\n\u001b[1;32m    823\u001b[0m                         \u001b[0mclone\u001b[0m\u001b[0;34m(\u001b[0m\u001b[0mbase_estimator\u001b[0m\u001b[0;34m)\u001b[0m\u001b[0;34m,\u001b[0m\u001b[0;34m\u001b[0m\u001b[0;34m\u001b[0m\u001b[0m\n",
            "\u001b[0;32m/usr/local/lib/python3.10/dist-packages/sklearn/utils/parallel.py\u001b[0m in \u001b[0;36m__call__\u001b[0;34m(self, iterable)\u001b[0m\n\u001b[1;32m     61\u001b[0m             \u001b[0;32mfor\u001b[0m \u001b[0mdelayed_func\u001b[0m\u001b[0;34m,\u001b[0m \u001b[0margs\u001b[0m\u001b[0;34m,\u001b[0m \u001b[0mkwargs\u001b[0m \u001b[0;32min\u001b[0m \u001b[0miterable\u001b[0m\u001b[0;34m\u001b[0m\u001b[0;34m\u001b[0m\u001b[0m\n\u001b[1;32m     62\u001b[0m         )\n\u001b[0;32m---> 63\u001b[0;31m         \u001b[0;32mreturn\u001b[0m \u001b[0msuper\u001b[0m\u001b[0;34m(\u001b[0m\u001b[0;34m)\u001b[0m\u001b[0;34m.\u001b[0m\u001b[0m__call__\u001b[0m\u001b[0;34m(\u001b[0m\u001b[0miterable_with_config\u001b[0m\u001b[0;34m)\u001b[0m\u001b[0;34m\u001b[0m\u001b[0;34m\u001b[0m\u001b[0m\n\u001b[0m\u001b[1;32m     64\u001b[0m \u001b[0;34m\u001b[0m\u001b[0m\n\u001b[1;32m     65\u001b[0m \u001b[0;34m\u001b[0m\u001b[0m\n",
            "\u001b[0;32m/usr/local/lib/python3.10/dist-packages/joblib/parallel.py\u001b[0m in \u001b[0;36m__call__\u001b[0;34m(self, iterable)\u001b[0m\n\u001b[1;32m   1950\u001b[0m         \u001b[0mnext\u001b[0m\u001b[0;34m(\u001b[0m\u001b[0moutput\u001b[0m\u001b[0;34m)\u001b[0m\u001b[0;34m\u001b[0m\u001b[0;34m\u001b[0m\u001b[0m\n\u001b[1;32m   1951\u001b[0m \u001b[0;34m\u001b[0m\u001b[0m\n\u001b[0;32m-> 1952\u001b[0;31m         \u001b[0;32mreturn\u001b[0m \u001b[0moutput\u001b[0m \u001b[0;32mif\u001b[0m \u001b[0mself\u001b[0m\u001b[0;34m.\u001b[0m\u001b[0mreturn_generator\u001b[0m \u001b[0;32melse\u001b[0m \u001b[0mlist\u001b[0m\u001b[0;34m(\u001b[0m\u001b[0moutput\u001b[0m\u001b[0;34m)\u001b[0m\u001b[0;34m\u001b[0m\u001b[0;34m\u001b[0m\u001b[0m\n\u001b[0m\u001b[1;32m   1953\u001b[0m \u001b[0;34m\u001b[0m\u001b[0m\n\u001b[1;32m   1954\u001b[0m     \u001b[0;32mdef\u001b[0m \u001b[0m__repr__\u001b[0m\u001b[0;34m(\u001b[0m\u001b[0mself\u001b[0m\u001b[0;34m)\u001b[0m\u001b[0;34m:\u001b[0m\u001b[0;34m\u001b[0m\u001b[0;34m\u001b[0m\u001b[0m\n",
            "\u001b[0;32m/usr/local/lib/python3.10/dist-packages/joblib/parallel.py\u001b[0m in \u001b[0;36m_get_outputs\u001b[0;34m(self, iterator, pre_dispatch)\u001b[0m\n\u001b[1;32m   1593\u001b[0m \u001b[0;34m\u001b[0m\u001b[0m\n\u001b[1;32m   1594\u001b[0m             \u001b[0;32mwith\u001b[0m \u001b[0mself\u001b[0m\u001b[0;34m.\u001b[0m\u001b[0m_backend\u001b[0m\u001b[0;34m.\u001b[0m\u001b[0mretrieval_context\u001b[0m\u001b[0;34m(\u001b[0m\u001b[0;34m)\u001b[0m\u001b[0;34m:\u001b[0m\u001b[0;34m\u001b[0m\u001b[0;34m\u001b[0m\u001b[0m\n\u001b[0;32m-> 1595\u001b[0;31m                 \u001b[0;32myield\u001b[0m \u001b[0;32mfrom\u001b[0m \u001b[0mself\u001b[0m\u001b[0;34m.\u001b[0m\u001b[0m_retrieve\u001b[0m\u001b[0;34m(\u001b[0m\u001b[0;34m)\u001b[0m\u001b[0;34m\u001b[0m\u001b[0;34m\u001b[0m\u001b[0m\n\u001b[0m\u001b[1;32m   1596\u001b[0m \u001b[0;34m\u001b[0m\u001b[0m\n\u001b[1;32m   1597\u001b[0m         \u001b[0;32mexcept\u001b[0m \u001b[0mGeneratorExit\u001b[0m\u001b[0;34m:\u001b[0m\u001b[0;34m\u001b[0m\u001b[0;34m\u001b[0m\u001b[0m\n",
            "\u001b[0;32m/usr/local/lib/python3.10/dist-packages/joblib/parallel.py\u001b[0m in \u001b[0;36m_retrieve\u001b[0;34m(self)\u001b[0m\n\u001b[1;32m   1705\u001b[0m                 (self._jobs[0].get_status(\n\u001b[1;32m   1706\u001b[0m                     timeout=self.timeout) == TASK_PENDING)):\n\u001b[0;32m-> 1707\u001b[0;31m                 \u001b[0mtime\u001b[0m\u001b[0;34m.\u001b[0m\u001b[0msleep\u001b[0m\u001b[0;34m(\u001b[0m\u001b[0;36m0.01\u001b[0m\u001b[0;34m)\u001b[0m\u001b[0;34m\u001b[0m\u001b[0;34m\u001b[0m\u001b[0m\n\u001b[0m\u001b[1;32m   1708\u001b[0m                 \u001b[0;32mcontinue\u001b[0m\u001b[0;34m\u001b[0m\u001b[0;34m\u001b[0m\u001b[0m\n\u001b[1;32m   1709\u001b[0m \u001b[0;34m\u001b[0m\u001b[0m\n",
            "\u001b[0;31mKeyboardInterrupt\u001b[0m: "
          ]
        }
      ]
    },
    {
      "cell_type": "code",
      "source": [
        "# best parameters for SelectPercentile for this data\n",
        "print(grid_.best_params_)"
      ],
      "metadata": {
        "execution": {
          "iopub.status.busy": "2023-08-22T04:34:25.552544Z",
          "iopub.execute_input": "2023-08-22T04:34:25.553362Z",
          "iopub.status.idle": "2023-08-22T04:34:25.558386Z",
          "shell.execute_reply.started": "2023-08-22T04:34:25.553331Z",
          "shell.execute_reply": "2023-08-22T04:34:25.557638Z"
        },
        "trusted": true,
        "id": "sitLBcsGFp5Q"
      },
      "execution_count": null,
      "outputs": []
    },
    {
      "cell_type": "code",
      "source": [
        "# Create a SelectPercentile feature selector with a percentile value of 50\n",
        "#feat = SelectPercentile(score_func= f_classif, percentile=50.0)\n",
        "feat = SelectPercentile(percentile=50,score_func= f_classif)\n",
        "\n",
        "# Fit the feature selector to the training data  and target labels\n",
        "train_percentile_feature_matrix = feat.fit_transform(trained_X_com22, y_train_com22)"
      ],
      "metadata": {
        "execution": {
          "iopub.status.busy": "2023-08-28T04:48:07.228435Z",
          "iopub.execute_input": "2023-08-28T04:48:07.228830Z",
          "iopub.status.idle": "2023-08-28T04:48:09.358023Z",
          "shell.execute_reply.started": "2023-08-28T04:48:07.228802Z",
          "shell.execute_reply": "2023-08-28T04:48:09.357155Z"
        },
        "trusted": true,
        "id": "sYQXtNayFp5R"
      },
      "execution_count": null,
      "outputs": []
    },
    {
      "cell_type": "code",
      "source": [
        "#Transform the feature selector to the test data (test_X_com22)\n",
        "test_percentile_feature_matrix = feat.transform(test_X_com22)"
      ],
      "metadata": {
        "execution": {
          "iopub.status.busy": "2023-08-28T04:48:09.359697Z",
          "iopub.execute_input": "2023-08-28T04:48:09.360100Z",
          "iopub.status.idle": "2023-08-28T04:48:09.459782Z",
          "shell.execute_reply.started": "2023-08-28T04:48:09.360061Z",
          "shell.execute_reply": "2023-08-28T04:48:09.458474Z"
        },
        "trusted": true,
        "id": "vpj9VFHlFp5S"
      },
      "execution_count": null,
      "outputs": []
    },
    {
      "cell_type": "code",
      "source": [
        "# Shape of train Feature matrix\n",
        "train_percentile_feature_matrix.shape"
      ],
      "metadata": {
        "execution": {
          "iopub.status.busy": "2023-08-28T04:48:10.428308Z",
          "iopub.execute_input": "2023-08-28T04:48:10.428789Z",
          "iopub.status.idle": "2023-08-28T04:48:10.435988Z",
          "shell.execute_reply.started": "2023-08-28T04:48:10.428756Z",
          "shell.execute_reply": "2023-08-28T04:48:10.434694Z"
        },
        "trusted": true,
        "id": "7HbCmu3SFp5T"
      },
      "execution_count": null,
      "outputs": []
    },
    {
      "cell_type": "code",
      "source": [
        "# Shape of test Feature matrix\n",
        "test_percentile_feature_matrix.shape"
      ],
      "metadata": {
        "execution": {
          "iopub.status.busy": "2023-08-28T04:48:16.902503Z",
          "iopub.execute_input": "2023-08-28T04:48:16.902887Z",
          "iopub.status.idle": "2023-08-28T04:48:16.910067Z",
          "shell.execute_reply.started": "2023-08-28T04:48:16.902859Z",
          "shell.execute_reply": "2023-08-28T04:48:16.908871Z"
        },
        "trusted": true,
        "id": "Xkzzk3UQFp5T"
      },
      "execution_count": null,
      "outputs": []
    },
    {
      "cell_type": "code",
      "source": [
        "# SMOTE\n",
        "# smote = SMOTE(sampling_strategy='auto', random_state=42)\n",
        "# X_train, y_train = smote.fit_resample(X_train, y_train)\n",
        "# I had executed Smote to handle imbalancing in train_data sentiment Column as there was minority class as negative value,\n",
        "# I Assumed that it was not giving good Prediction for negative sentiment.So,tried it out using smote but instead it reduced accuracy and F1 score"
      ],
      "metadata": {
        "id": "1FHGA_kUd6JD",
        "execution": {
          "iopub.status.busy": "2023-08-16T11:28:30.719890Z",
          "iopub.execute_input": "2023-08-16T11:28:30.720490Z",
          "iopub.status.idle": "2023-08-16T11:28:30.737930Z",
          "shell.execute_reply.started": "2023-08-16T11:28:30.720440Z",
          "shell.execute_reply": "2023-08-16T11:28:30.735650Z"
        },
        "trusted": true
      },
      "execution_count": null,
      "outputs": []
    },
    {
      "cell_type": "markdown",
      "source": [
        "# Classification Baseline Model"
      ],
      "metadata": {
        "id": "i87DKqf1Fp5V"
      }
    },
    {
      "cell_type": "markdown",
      "source": [
        "# DummyClassifier-\n",
        " Dummy Classifier is baseline model it doesn't Gives Actual Prediction for problem but it can provide baseline model which can be used for evaluating performance of other models in effective way by Considering some baseline"
      ],
      "metadata": {
        "id": "TjSOmQj3UP5E"
      }
    },
    {
      "cell_type": "code",
      "source": [
        "#Implementation of DummyClassifier Using most_frequent as Strategy\n",
        "\n",
        "dummy_clf = DummyClassifier(strategy=\"most_frequent\")\n",
        "\n",
        "# Fit the Dummy model to the training data and target labels\n",
        "dummy_clf.fit(train_percentile_feature_matrix, y_train_com22)\n",
        "\n",
        "# Predict the labels for the test data\n",
        "predictions = dummy_clf.predict(test_percentile_feature_matrix)\n",
        "\n",
        "print(accuracy_score(y_test_com22,predictions))"
      ],
      "metadata": {
        "id": "TqAFhwYbUGV5",
        "execution": {
          "iopub.status.busy": "2023-08-28T04:48:21.857032Z",
          "iopub.execute_input": "2023-08-28T04:48:21.857462Z",
          "iopub.status.idle": "2023-08-28T04:48:21.874742Z",
          "shell.execute_reply.started": "2023-08-28T04:48:21.857429Z",
          "shell.execute_reply": "2023-08-28T04:48:21.873650Z"
        },
        "trusted": true
      },
      "execution_count": null,
      "outputs": []
    },
    {
      "cell_type": "markdown",
      "source": [
        "# Classification Models"
      ],
      "metadata": {
        "id": "nsABcKFRFp5W"
      }
    },
    {
      "cell_type": "markdown",
      "source": [
        "# Linear_SVC Model -\n",
        "Linear SVC stands for Support Vector Classifier which aims to find best Hyperplane that seperates 2 classes in Feature Space .That Hyperplane can be a Straight Line as well which can be used to Seperate Positive and Negative Classes in This Classification problem.This hyperplane can be a straight line in two-dimensional space, a plane in three-dimensional space, and a higher-dimensional linear subspace in higher dimensions.This Linear SVC Model can be tunned with Perfect parameters in Order to it can Classify Positive and Negative Labels Correctly"
      ],
      "metadata": {
        "id": "N0OjKDJbhOD3"
      }
    },
    {
      "cell_type": "code",
      "source": [
        "#Set Object for LinearSVC model\n",
        "svc = LinearSVC(random_state=42)"
      ],
      "metadata": {
        "id": "cyFWftIHhY20",
        "execution": {
          "iopub.status.busy": "2023-08-28T04:48:34.858250Z",
          "iopub.execute_input": "2023-08-28T04:48:34.858727Z",
          "iopub.status.idle": "2023-08-28T04:48:34.863874Z",
          "shell.execute_reply.started": "2023-08-28T04:48:34.858693Z",
          "shell.execute_reply": "2023-08-28T04:48:34.862648Z"
        },
        "trusted": true
      },
      "execution_count": null,
      "outputs": []
    },
    {
      "cell_type": "code",
      "source": [
        "#Hyperparameters for Linear_SVC Model\n",
        "param_Linear_svc = {\n",
        "    'C': [0.01, 0.1, 1.0, 10.0,20.0],  # Regularization parameter\n",
        "    'loss': ['hinge', 'squared_hinge'],  # Loss function\n",
        "    'max_iter':[100,200,500], #maximum Iteration for Problem to get Converge\n",
        "    'class_weight': [None, 'balanced'], #it tells wheather data balancing is req or not\n",
        "}"
      ],
      "metadata": {
        "execution": {
          "iopub.status.busy": "2023-08-22T04:37:34.473873Z",
          "iopub.execute_input": "2023-08-22T04:37:34.474369Z",
          "iopub.status.idle": "2023-08-22T04:37:34.480495Z",
          "shell.execute_reply.started": "2023-08-22T04:37:34.474334Z",
          "shell.execute_reply": "2023-08-22T04:37:34.479097Z"
        },
        "trusted": true,
        "id": "dL3st0SVFp5X"
      },
      "execution_count": null,
      "outputs": []
    },
    {
      "cell_type": "code",
      "source": [
        "# Create a GridSearchCV object for hyperparameter tuning\n",
        "grid_search = GridSearchCV(svc, param_grid=param_Linear_svc, cv=5, n_jobs=-1,scoring='f1')\n",
        "\n",
        "# Fit the GridSearchCV object to the data\n",
        "# This line executes the hyperparameter search\n",
        "grid_search.fit(trained_X_com11, y_train)"
      ],
      "metadata": {
        "trusted": true,
        "id": "nnpSD2AeFp5X"
      },
      "execution_count": null,
      "outputs": []
    },
    {
      "cell_type": "code",
      "source": [
        "#Best Parameters obtained from LinearSVC grid search\n",
        "grid_search.best_params_"
      ],
      "metadata": {
        "execution": {
          "iopub.status.busy": "2023-08-22T07:12:22.454358Z",
          "iopub.execute_input": "2023-08-22T07:12:22.455092Z",
          "iopub.status.idle": "2023-08-22T07:12:22.462195Z",
          "shell.execute_reply.started": "2023-08-22T07:12:22.455039Z",
          "shell.execute_reply": "2023-08-22T07:12:22.460532Z"
        },
        "trusted": true,
        "id": "Y6ibSuk9Fp5Y"
      },
      "execution_count": null,
      "outputs": []
    },
    {
      "cell_type": "markdown",
      "source": [
        "Best Parameters Obtained From GridSearchCV C= 1.0,loss='squared_hinge', max_iter= 100,class_weight=None"
      ],
      "metadata": {
        "id": "o099ky58Fp5Y"
      }
    },
    {
      "cell_type": "code",
      "source": [
        "# Linear SVC model is Tunned with best parameter obtained from Gridsearch CV\n",
        "svc2 = LinearSVC(C= 1.0,loss='squared_hinge', max_iter= 100,class_weight=None)\n",
        "\n",
        "# Fit the Linear SVC model to the training data and target labels\n",
        "svc2.fit(train_percentile_feature_matrix, y_train_com22)"
      ],
      "metadata": {
        "execution": {
          "iopub.status.busy": "2023-08-28T04:48:41.653748Z",
          "iopub.execute_input": "2023-08-28T04:48:41.654198Z",
          "iopub.status.idle": "2023-08-28T04:48:51.851825Z",
          "shell.execute_reply.started": "2023-08-28T04:48:41.654165Z",
          "shell.execute_reply": "2023-08-28T04:48:51.850436Z"
        },
        "trusted": true,
        "id": "zTk8cCtZFp5Y"
      },
      "execution_count": null,
      "outputs": []
    },
    {
      "cell_type": "code",
      "source": [
        "# Predict the labels for the test data using the trained Support Vector Classifier (svc2) and Store Result in y_pred_svc2\n",
        "y_pred_svc2= svc2.predict(test_percentile_feature_matrix)"
      ],
      "metadata": {
        "execution": {
          "iopub.status.busy": "2023-08-28T04:48:51.854521Z",
          "iopub.execute_input": "2023-08-28T04:48:51.854952Z",
          "iopub.status.idle": "2023-08-28T04:48:51.873172Z",
          "shell.execute_reply.started": "2023-08-28T04:48:51.854914Z",
          "shell.execute_reply": "2023-08-28T04:48:51.871918Z"
        },
        "trusted": true,
        "id": "HEfep1W1Fp5Z"
      },
      "execution_count": null,
      "outputs": []
    },
    {
      "cell_type": "code",
      "source": [
        "# Print a classification report to evaluate the performance of a Linear SVC classifier\n",
        "# The classification report will provide various metrics such as precision, recall, F1-score\n",
        "# It compares the predicted labels (y_pred_svc2) to the true labels (y_test_new11) for the test data\n",
        "# This report is helpful for understanding the model's performance on different classes\n",
        "print(classification_report(y_test_com22,y_pred_svc2))"
      ],
      "metadata": {
        "execution": {
          "iopub.status.busy": "2023-08-28T04:48:51.874871Z",
          "iopub.execute_input": "2023-08-28T04:48:51.875354Z",
          "iopub.status.idle": "2023-08-28T04:48:51.954722Z",
          "shell.execute_reply.started": "2023-08-28T04:48:51.875316Z",
          "shell.execute_reply": "2023-08-28T04:48:51.953601Z"
        },
        "trusted": true,
        "id": "NzE4JUQHFp5Z"
      },
      "execution_count": null,
      "outputs": []
    },
    {
      "cell_type": "code",
      "source": [
        "#print Confusion matrix\n",
        "print(confusion_matrix(y_test_com22,y_pred_svc2))"
      ],
      "metadata": {
        "execution": {
          "iopub.status.busy": "2023-08-28T04:48:53.565922Z",
          "iopub.execute_input": "2023-08-28T04:48:53.566297Z",
          "iopub.status.idle": "2023-08-28T04:48:53.579037Z",
          "shell.execute_reply.started": "2023-08-28T04:48:53.566268Z",
          "shell.execute_reply": "2023-08-28T04:48:53.577928Z"
        },
        "trusted": true,
        "id": "ErmVA_fCFp5a"
      },
      "execution_count": null,
      "outputs": []
    },
    {
      "cell_type": "markdown",
      "source": [
        "# Logistic Regression-\n",
        "Logistic Regression is based on Logistic Function called as Sigmoid function which mapps input between 0 to 1 and Output is probability of Input Belonging to one of 2 classes.logistic function allows smooth transition between 2 classes . It's well-suited when the target variable (the one we're trying to predict) is categorical and has two classes, such as \"Positive/Negative\" ,\"spam/not spam\", \"fraudulent/legitimate\"."
      ],
      "metadata": {
        "id": "uZE4tiy0mIWN"
      }
    },
    {
      "cell_type": "code",
      "source": [
        "#Create the Object for LogisticRegression Model\n",
        "logistic = LogisticRegression(random_state = 42)"
      ],
      "metadata": {
        "execution": {
          "iopub.status.busy": "2023-08-28T05:05:47.466043Z",
          "iopub.execute_input": "2023-08-28T05:05:47.466472Z",
          "iopub.status.idle": "2023-08-28T05:05:47.471088Z",
          "shell.execute_reply.started": "2023-08-28T05:05:47.466444Z",
          "shell.execute_reply": "2023-08-28T05:05:47.470277Z"
        },
        "trusted": true,
        "id": "NqXibUYdFp5b"
      },
      "execution_count": null,
      "outputs": []
    },
    {
      "cell_type": "code",
      "source": [
        "#Hyperparameters for Logistic\n",
        "Logistic_parameters = {\n",
        "    'C': np.logspace(-4,4,10),              # Regularization parameter\n",
        "    'solver': ['liblinear', 'lbfgs','saga'],# solvers during the cross-validation process try to find best solvers\n",
        "    'max_iter':[200,500,1000,2000],         # maximum Iteration for Problem to get Converge\n",
        "    'class_weight':[None,'balanced']        #it tells wheather data balancing is required or not\n",
        "}"
      ],
      "metadata": {
        "id": "RBS8m7Tdl6fY",
        "execution": {
          "iopub.status.busy": "2023-08-27T15:57:55.267182Z",
          "iopub.execute_input": "2023-08-27T15:57:55.267572Z",
          "iopub.status.idle": "2023-08-27T15:57:55.273363Z",
          "shell.execute_reply.started": "2023-08-27T15:57:55.267538Z",
          "shell.execute_reply": "2023-08-27T15:57:55.271952Z"
        },
        "trusted": true
      },
      "execution_count": null,
      "outputs": []
    },
    {
      "cell_type": "code",
      "source": [
        "# Create a Logistic Regression model with a maximum of 1000 iterations\n",
        "model_logistic = LogisticRegression(max_iter=1000,random_state=42)\n",
        "\n",
        "# Set up a GridSearchCV to search for the best hyperparameters for the Logistic Regression model\n",
        "# Logistic_parameters is a predefined dictionary containing hyperparameter values to search over\n",
        "# n_jobs=-1 indicates that the search will use all available CPU cores for parallelization\n",
        "# cv=5 specifies a 5-fold cross-validation for evaluating different hyperparameters\n",
        "# scoring='f1' indicates that the F1-score will be used as the scoring metric for model selection\n",
        "\n",
        "logis = GridSearchCV(model_logistic,param_grid=Logistic_parameters,n_jobs=-1,cv=5,scoring='f1')"
      ],
      "metadata": {
        "id": "0WTNPxxrmW36",
        "trusted": true
      },
      "execution_count": null,
      "outputs": []
    },
    {
      "cell_type": "code",
      "source": [
        "# Fit the GridSearchCV object to the data\n",
        "# This line executes the hyperparameter search\n",
        "logis.fit(X_train_new11,y_train_new11)"
      ],
      "metadata": {
        "id": "whyulYHHma0u",
        "execution": {
          "iopub.status.busy": "2023-08-11T06:25:13.899600Z",
          "iopub.execute_input": "2023-08-11T06:25:13.899937Z",
          "iopub.status.idle": "2023-08-11T11:19:43.364910Z",
          "shell.execute_reply.started": "2023-08-11T06:25:13.899911Z",
          "shell.execute_reply": "2023-08-11T11:19:43.362183Z"
        },
        "trusted": true
      },
      "execution_count": null,
      "outputs": []
    },
    {
      "cell_type": "code",
      "source": [
        "#Best Parameters Obtained from GridSearchCV HyperParameter tunning\n",
        "logis.best_params_"
      ],
      "metadata": {
        "execution": {
          "iopub.status.busy": "2023-08-11T11:20:09.622674Z",
          "iopub.execute_input": "2023-08-11T11:20:09.623024Z",
          "iopub.status.idle": "2023-08-11T11:20:09.630121Z",
          "shell.execute_reply.started": "2023-08-11T11:20:09.622995Z",
          "shell.execute_reply": "2023-08-11T11:20:09.629242Z"
        },
        "trusted": true,
        "id": "9lmSlfrKFp5d"
      },
      "execution_count": null,
      "outputs": []
    },
    {
      "cell_type": "markdown",
      "source": [
        " Best Parameters obtained from GridSearchCV C=21.54434690031882 ,max_iter= 1000,solver= 'lbfgs'"
      ],
      "metadata": {
        "id": "dV5quDhaFp5d"
      }
    },
    {
      "cell_type": "code",
      "source": [
        "# LogisticRegression model is tunned with best parameters which are Obtained from GridSearchCV\n",
        "logis11=LogisticRegression(C=21.54434690031882 ,max_iter= 1000,solver= 'lbfgs')"
      ],
      "metadata": {
        "execution": {
          "iopub.status.busy": "2023-08-28T04:49:43.240091Z",
          "iopub.execute_input": "2023-08-28T04:49:43.240504Z",
          "iopub.status.idle": "2023-08-28T04:49:43.245945Z",
          "shell.execute_reply.started": "2023-08-28T04:49:43.240471Z",
          "shell.execute_reply": "2023-08-28T04:49:43.244589Z"
        },
        "trusted": true,
        "id": "DAyrjwMxFp5d"
      },
      "execution_count": null,
      "outputs": []
    },
    {
      "cell_type": "code",
      "source": [
        "# Fit the LogisticRegression model to the training data (X) and target labels (y_train)\n",
        "logis11.fit(train_percentile_feature_matrix, y_train_com22)"
      ],
      "metadata": {
        "execution": {
          "iopub.status.busy": "2023-08-28T04:58:25.080855Z",
          "iopub.execute_input": "2023-08-28T04:58:25.081284Z",
          "iopub.status.idle": "2023-08-28T05:02:54.583926Z",
          "shell.execute_reply.started": "2023-08-28T04:58:25.081252Z",
          "shell.execute_reply": "2023-08-28T05:02:54.582439Z"
        },
        "trusted": true,
        "id": "zcbt0Wi7Fp5e"
      },
      "execution_count": null,
      "outputs": []
    },
    {
      "cell_type": "code",
      "source": [
        "# Predict the labels for the test data using the trained LogisticRegression model and Store Result in y_pred_svc2\n",
        "y_pred_logis = logis11.predict(test_percentile_feature_matrix)"
      ],
      "metadata": {
        "execution": {
          "iopub.status.busy": "2023-08-28T05:02:54.588880Z",
          "iopub.execute_input": "2023-08-28T05:02:54.589829Z",
          "iopub.status.idle": "2023-08-28T05:02:54.610780Z",
          "shell.execute_reply.started": "2023-08-28T05:02:54.589780Z",
          "shell.execute_reply": "2023-08-28T05:02:54.609526Z"
        },
        "trusted": true,
        "id": "4qgaHx6gFp5e"
      },
      "execution_count": null,
      "outputs": []
    },
    {
      "cell_type": "code",
      "source": [
        "# Print a classification report to evaluate the performance of a LogisticRegression Model\n",
        "# The classification report will provide various metrics such as precision, recall, F1-score\n",
        "# It compares the predicted labels (y_pred_logis) to the true labels (y_test_new11) for the test data\n",
        "# This report is helpful for understanding the model's performance on different classes\n",
        "\n",
        "print(classification_report(y_test_com22,y_pred_logis))"
      ],
      "metadata": {
        "execution": {
          "iopub.status.busy": "2023-08-28T05:02:54.616914Z",
          "iopub.execute_input": "2023-08-28T05:02:54.617929Z",
          "iopub.status.idle": "2023-08-28T05:02:54.691566Z",
          "shell.execute_reply.started": "2023-08-28T05:02:54.617878Z",
          "shell.execute_reply": "2023-08-28T05:02:54.689815Z"
        },
        "trusted": true,
        "id": "EsAdWwIQFp5f"
      },
      "execution_count": null,
      "outputs": []
    },
    {
      "cell_type": "code",
      "source": [
        "#print Confusion matrix\n",
        "print(confusion_matrix(y_test_com22,y_pred_logis))"
      ],
      "metadata": {
        "execution": {
          "iopub.status.busy": "2023-08-28T05:02:54.693244Z",
          "iopub.execute_input": "2023-08-28T05:02:54.693565Z",
          "iopub.status.idle": "2023-08-28T05:02:54.707484Z",
          "shell.execute_reply.started": "2023-08-28T05:02:54.693539Z",
          "shell.execute_reply": "2023-08-28T05:02:54.706289Z"
        },
        "trusted": true,
        "id": "kuDCjqWzFp5f"
      },
      "execution_count": null,
      "outputs": []
    },
    {
      "cell_type": "markdown",
      "source": [
        "# SGD Classifier-\n",
        "SGD Classifier(Stochastic Gradient Descent) is the classification algorithm in Machine Learning ,Its Effective to Handle Large Datasets when dealing with sparse Data,SGD classifer Supports Various Loss functions Like log_loss,hinge we can set it for Hyperparameter tunning for selecting Best possible Loss Function.It also Supports L1,L2 Regularization In order to Handle Overfitting Problem\n"
      ],
      "metadata": {
        "id": "dnzigCN0qZJf"
      }
    },
    {
      "cell_type": "code",
      "source": [
        "#Create the Object for SGDClassifier Model\n",
        "sgd = SGDClassifier(random_state=42)"
      ],
      "metadata": {
        "execution": {
          "iopub.status.busy": "2023-08-27T16:06:17.932086Z",
          "iopub.execute_input": "2023-08-27T16:06:17.932472Z",
          "iopub.status.idle": "2023-08-27T16:06:17.938237Z",
          "shell.execute_reply.started": "2023-08-27T16:06:17.932443Z",
          "shell.execute_reply": "2023-08-27T16:06:17.936804Z"
        },
        "trusted": true,
        "id": "nUTiolLcFp5h"
      },
      "execution_count": null,
      "outputs": []
    },
    {
      "cell_type": "code",
      "source": [
        "#Hyperparameters for SGD Classifer Model\n",
        "param_sgd = {\n",
        "    'alpha': [0.001, 0.01, 0.1,1], # Regularization parameter\n",
        "    'max_iter': [100, 200, 500,1000],   # Maximum number of iterations\n",
        "    'penalty': ['l2', 'l1',None],    # Penalty term(L1,L2)\n",
        "    'learning_rate': ['constant', 'optimal', 'invscaling', 'adaptive'], # Learning rate update strategy\n",
        "    'eta0': [0.01, 0.1, 0.5,1.0],    # Initial learning rate\n",
        "    'shuffle': [True, False],     # Whether to shuffle the training data\n",
        "    'loss': ['hinge', 'log_loss', 'modified_huber', 'perceptron'],    # Loss function to use\n",
        "}"
      ],
      "metadata": {
        "execution": {
          "iopub.status.busy": "2023-08-27T16:06:18.525685Z",
          "iopub.execute_input": "2023-08-27T16:06:18.526332Z",
          "iopub.status.idle": "2023-08-27T16:06:18.531712Z",
          "shell.execute_reply.started": "2023-08-27T16:06:18.526298Z",
          "shell.execute_reply": "2023-08-27T16:06:18.530583Z"
        },
        "trusted": true,
        "id": "XPwYvKynFp5h"
      },
      "execution_count": null,
      "outputs": []
    },
    {
      "cell_type": "code",
      "source": [
        "# Create a GridSearchCV object for hyperparameter tuning\n",
        "grid_search = GridSearchCV(sgd, param_grid=param_sgd, cv=5, n_jobs=-1,scoring='accuracy')"
      ],
      "metadata": {
        "execution": {
          "iopub.status.busy": "2023-08-22T07:24:38.813855Z",
          "iopub.execute_input": "2023-08-22T07:24:38.815001Z",
          "iopub.status.idle": "2023-08-22T07:24:38.820042Z",
          "shell.execute_reply.started": "2023-08-22T07:24:38.814965Z",
          "shell.execute_reply": "2023-08-22T07:24:38.818743Z"
        },
        "trusted": true,
        "id": "Ev8bNtqhFp5h"
      },
      "execution_count": null,
      "outputs": []
    },
    {
      "cell_type": "code",
      "source": [
        "# Fit the GridSearchCV object to the data\n",
        "# This line executes the hyperparameter search\n",
        "grid_search.fit(trained_X_com11,y_train)"
      ],
      "metadata": {
        "id": "eD460qVDqUSw",
        "trusted": true
      },
      "execution_count": null,
      "outputs": []
    },
    {
      "cell_type": "code",
      "source": [
        "#best parameters obtained After Hyperparameter Tunning using Grid Search\n",
        "grid_search.best_params_"
      ],
      "metadata": {
        "trusted": true,
        "id": "N6Knmv0kFp5i"
      },
      "execution_count": null,
      "outputs": []
    },
    {
      "cell_type": "markdown",
      "source": [
        "Best Parameters Obtained from GridSearchCV alpha = 0.1,eta0=0.5,max_iter = 200,penalty=None,loss='log_loss',learning_rate='adaptive',shuffle=True,random_state=42"
      ],
      "metadata": {
        "id": "isx33Io6Fp5o"
      }
    },
    {
      "cell_type": "code",
      "source": [
        "# Stochastic Gradient Descent model is tunned with best parameters which are Obtained from GridSearchCV\n",
        "sgd = SGDClassifier(alpha = 0.1,eta0=0.5,max_iter = 200,penalty=None,loss='log_loss',learning_rate='adaptive',shuffle=True,random_state=42)"
      ],
      "metadata": {
        "execution": {
          "iopub.status.busy": "2023-08-28T05:03:51.378494Z",
          "iopub.execute_input": "2023-08-28T05:03:51.378944Z",
          "iopub.status.idle": "2023-08-28T05:03:51.385010Z",
          "shell.execute_reply.started": "2023-08-28T05:03:51.378914Z",
          "shell.execute_reply": "2023-08-28T05:03:51.383730Z"
        },
        "trusted": true,
        "id": "Uk37ut3_Fp5o"
      },
      "execution_count": null,
      "outputs": []
    },
    {
      "cell_type": "code",
      "source": [
        "# Fit the Stochastic Gradient Descent model to the training data and target labels\n",
        "sgd.fit(train_percentile_feature_matrix, y_train_com22)"
      ],
      "metadata": {
        "execution": {
          "iopub.status.busy": "2023-08-28T05:03:51.755413Z",
          "iopub.execute_input": "2023-08-28T05:03:51.755864Z",
          "iopub.status.idle": "2023-08-28T05:04:04.134561Z",
          "shell.execute_reply.started": "2023-08-28T05:03:51.755832Z",
          "shell.execute_reply": "2023-08-28T05:04:04.133378Z"
        },
        "trusted": true,
        "id": "pJUF6XWuFp5o"
      },
      "execution_count": null,
      "outputs": []
    },
    {
      "cell_type": "code",
      "source": [
        "# Predict the labels for the test data using the trained SGD model and Store Result in y_pred_sgd\n",
        "y_pred_sgd = sgd.predict(test_percentile_feature_matrix)"
      ],
      "metadata": {
        "execution": {
          "iopub.status.busy": "2023-08-28T05:04:04.136326Z",
          "iopub.execute_input": "2023-08-28T05:04:04.136737Z",
          "iopub.status.idle": "2023-08-28T05:04:04.149977Z",
          "shell.execute_reply.started": "2023-08-28T05:04:04.136711Z",
          "shell.execute_reply": "2023-08-28T05:04:04.148756Z"
        },
        "trusted": true,
        "id": "dE2T_3pTFp5p"
      },
      "execution_count": null,
      "outputs": []
    },
    {
      "cell_type": "code",
      "source": [
        "# Print a classification report to evaluate the performance of a LogisticRegression Model\n",
        "# The classification report will provide various metrics such as precision, recall, F1-score\n",
        "# It compares the predicted labels (y_pred_sgd) to the true labels (y_test_new11) for the test data\n",
        "# This report is helpful for understanding the model's performance on different classes\n",
        "\n",
        "print(classification_report(y_test_com22,y_pred_sgd))"
      ],
      "metadata": {
        "execution": {
          "iopub.status.busy": "2023-08-28T05:04:04.151308Z",
          "iopub.execute_input": "2023-08-28T05:04:04.151655Z",
          "iopub.status.idle": "2023-08-28T05:04:04.237943Z",
          "shell.execute_reply.started": "2023-08-28T05:04:04.151627Z",
          "shell.execute_reply": "2023-08-28T05:04:04.236739Z"
        },
        "trusted": true,
        "id": "NnGZtPLsFp5p"
      },
      "execution_count": null,
      "outputs": []
    },
    {
      "cell_type": "code",
      "source": [
        "#print Confusion matrix\n",
        "print(confusion_matrix(y_test_com22,y_pred_sgd))"
      ],
      "metadata": {
        "execution": {
          "iopub.status.busy": "2023-08-28T05:04:04.239758Z",
          "iopub.execute_input": "2023-08-28T05:04:04.240183Z",
          "iopub.status.idle": "2023-08-28T05:04:04.253162Z",
          "shell.execute_reply.started": "2023-08-28T05:04:04.240156Z",
          "shell.execute_reply": "2023-08-28T05:04:04.251947Z"
        },
        "trusted": true,
        "id": "Z3wa1x_YFp5p"
      },
      "execution_count": null,
      "outputs": []
    },
    {
      "cell_type": "markdown",
      "source": [
        "# Combined Ensemble Model-\n",
        "This Model Combines predictions of Multiple models to make Final Predictions.Models Used for this Combined Ensemble Model are Linear_SVC(with Best parameters),LogisticRegression(with best parameters),SGDClassifier(with best parameters).This Ensemble methods can often lead to improved predictive performance, robustness, and generalization, making them a powerful tool in machine learning.As well as this models Reduces Weakness of Each model and Improves Overall performance for Making Predictions\n"
      ],
      "metadata": {
        "id": "3LIh0thEqouk"
      }
    },
    {
      "cell_type": "code",
      "source": [
        "#List of Machine Learning models is created by passing model names and its hyperparameter tunned best parameters and model\n",
        "estimators = [('linear_svc',svc2),('Logistic',logis11),(\"SGD\",sgd)]"
      ],
      "metadata": {
        "id": "4p9dSNLMqi0u",
        "execution": {
          "iopub.status.busy": "2023-08-28T05:06:50.617346Z",
          "iopub.execute_input": "2023-08-28T05:06:50.617825Z",
          "iopub.status.idle": "2023-08-28T05:06:50.623524Z",
          "shell.execute_reply.started": "2023-08-28T05:06:50.617792Z",
          "shell.execute_reply": "2023-08-28T05:06:50.622320Z"
        },
        "trusted": true
      },
      "execution_count": null,
      "outputs": []
    },
    {
      "cell_type": "code",
      "source": [
        "# This is powerfull ensemble Machine Learning Model which combines multiple Machine Learning models to make more accurate predictions\n",
        "# By allowing voting on final predictions the voting classifier Leverages Strength of each model and Lead to better improved performance\n",
        "combined_model = VotingClassifier(estimators)"
      ],
      "metadata": {
        "id": "jH2L9mWprL_S",
        "execution": {
          "iopub.status.busy": "2023-08-28T05:06:50.965853Z",
          "iopub.execute_input": "2023-08-28T05:06:50.966261Z",
          "iopub.status.idle": "2023-08-28T05:06:50.971850Z",
          "shell.execute_reply.started": "2023-08-28T05:06:50.966231Z",
          "shell.execute_reply": "2023-08-28T05:06:50.970479Z"
        },
        "trusted": true
      },
      "execution_count": null,
      "outputs": []
    },
    {
      "cell_type": "code",
      "source": [
        "#This pipeline can be helpful for encapsulating the entire process of the combined ensemble model,\n",
        "#making it easy to fit, predict, and evaluate the combined model\n",
        "pipeline = Pipeline([('combined_model', combined_model)])"
      ],
      "metadata": {
        "id": "rQ-5soefrSQK",
        "execution": {
          "iopub.status.busy": "2023-08-28T05:06:51.565527Z",
          "iopub.execute_input": "2023-08-28T05:06:51.566309Z",
          "iopub.status.idle": "2023-08-28T05:06:51.572401Z",
          "shell.execute_reply.started": "2023-08-28T05:06:51.566268Z",
          "shell.execute_reply": "2023-08-28T05:06:51.570729Z"
        },
        "trusted": true
      },
      "execution_count": null,
      "outputs": []
    },
    {
      "cell_type": "code",
      "source": [
        "# Fit the Combined Model to the training data and target labels\n",
        "pipeline.fit(train_percentile_feature_matrix, y_train_com22)"
      ],
      "metadata": {
        "id": "lfjDIQixrWGr",
        "execution": {
          "iopub.status.busy": "2023-08-28T05:06:52.347285Z",
          "iopub.execute_input": "2023-08-28T05:06:52.348200Z",
          "iopub.status.idle": "2023-08-28T05:11:44.926539Z",
          "shell.execute_reply.started": "2023-08-28T05:06:52.348158Z",
          "shell.execute_reply": "2023-08-28T05:11:44.925193Z"
        },
        "trusted": true
      },
      "execution_count": null,
      "outputs": []
    },
    {
      "cell_type": "code",
      "source": [
        "# Predict the labels for the test data using the trained Combined model and Store Result in y_pred_combined\n",
        "y_pred_combined = pipeline.predict(test_percentile_feature_matrix)"
      ],
      "metadata": {
        "id": "hoyfxs1HrYLK",
        "execution": {
          "iopub.status.busy": "2023-08-28T05:11:44.928792Z",
          "iopub.execute_input": "2023-08-28T05:11:44.929278Z",
          "iopub.status.idle": "2023-08-28T05:11:45.167484Z",
          "shell.execute_reply.started": "2023-08-28T05:11:44.929238Z",
          "shell.execute_reply": "2023-08-28T05:11:45.166327Z"
        },
        "trusted": true
      },
      "execution_count": null,
      "outputs": []
    },
    {
      "cell_type": "code",
      "source": [
        "# Classification report to evaluate the performance of a Combined Model\n",
        "# The classification report will provide various metrics such as precision, recall, F1-score\n",
        "# It compares the predicted labels (y_pred_combined) to the true labels (y_test_new11) for the test data\n",
        "# This report is helpful for understanding the model's performance on different classes\n",
        "\n",
        "print(classification_report(y_test_com22,y_pred_combined))"
      ],
      "metadata": {
        "execution": {
          "iopub.status.busy": "2023-08-28T05:11:45.168569Z",
          "iopub.execute_input": "2023-08-28T05:11:45.168874Z",
          "iopub.status.idle": "2023-08-28T05:11:45.239312Z",
          "shell.execute_reply.started": "2023-08-28T05:11:45.168848Z",
          "shell.execute_reply": "2023-08-28T05:11:45.238245Z"
        },
        "trusted": true,
        "id": "g5riwHYEFp5r"
      },
      "execution_count": null,
      "outputs": []
    },
    {
      "cell_type": "code",
      "source": [
        "#print Confusion matrix\n",
        "print(confusion_matrix(y_test_com22,y_pred_combined))"
      ],
      "metadata": {
        "execution": {
          "iopub.status.busy": "2023-08-28T05:11:45.241220Z",
          "iopub.execute_input": "2023-08-28T05:11:45.241579Z",
          "iopub.status.idle": "2023-08-28T05:11:45.254944Z",
          "shell.execute_reply.started": "2023-08-28T05:11:45.241549Z",
          "shell.execute_reply": "2023-08-28T05:11:45.253613Z"
        },
        "trusted": true,
        "id": "-cPYx6MSFp5s"
      },
      "execution_count": null,
      "outputs": []
    }
  ]
}
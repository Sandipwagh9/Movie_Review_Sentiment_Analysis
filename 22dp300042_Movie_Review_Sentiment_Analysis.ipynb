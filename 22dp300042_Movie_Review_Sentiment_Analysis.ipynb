{
  "cells": [
    {
      "cell_type": "markdown",
      "metadata": {
        "id": "view-in-github",
        "colab_type": "text"
      },
      "source": [
        "<a href=\"https://colab.research.google.com/github/Sandipwagh9/Movie_Review_Sentiment_Analysis/blob/main/22dp300042_Movie_Review_Sentiment_Analysis.ipynb\" target=\"_parent\"><img src=\"https://colab.research.google.com/assets/colab-badge.svg\" alt=\"Open In Colab\"/></a>"
      ]
    },
    {
      "cell_type": "markdown",
      "metadata": {
        "id": "mwwFB8FTe39c"
      },
      "source": [
        "Project-> Movie Review Sentiment Analysis"
      ]
    },
    {
      "cell_type": "markdown",
      "metadata": {
        "id": "xodxoh9OFp3S"
      },
      "source": [
        "# Libraries Used in Project"
      ]
    },
    {
      "cell_type": "code",
      "execution_count": 103,
      "metadata": {
        "id": "crFxKPWALO7n"
      },
      "outputs": [],
      "source": [
        "#This are all Libraries which I have used in project Starting for EDA,Data Visualization,Preprocessing,Feature Extraction,Classification Model,evaluation\n",
        "import numpy as np\n",
        "import matplotlib.pyplot as plt\n",
        "import pandas as pd\n",
        "import seaborn as sns\n",
        "from imblearn.over_sampling import SMOTE\n",
        "from sklearn.dummy import DummyClassifier\n",
        "from sklearn.feature_extraction.text import TfidfVectorizer\n",
        "from sklearn.feature_extraction._stop_words import ENGLISH_STOP_WORDS\n",
        "from sklearn.feature_selection import SelectPercentile,f_classif,chi2\n",
        "from sklearn.impute import SimpleImputer\n",
        "from sklearn.linear_model import LogisticRegression\n",
        "from sklearn.model_selection import GridSearchCV\n",
        "from sklearn.model_selection import RandomizedSearchCV\n",
        "from sklearn.model_selection import train_test_split\n",
        "from sklearn.metrics import accuracy_score,classification_report, confusion_matrix,roc_curve, roc_auc_score, auc,make_scorer,f1_score\n",
        "from sklearn.pipeline import Pipeline\n",
        "from sklearn.preprocessing import StandardScaler,RobustScaler\n",
        "from sklearn.svm import LinearSVC\n",
        "from sklearn.svm import SVC\n",
        "from scipy.sparse import hstack, csr_matrix"
      ]
    },
    {
      "cell_type": "markdown",
      "metadata": {
        "id": "hJZDoQHyS1kl"
      },
      "source": [
        "# Data Reading"
      ]
    },
    {
      "cell_type": "code",
      "execution_count": 3,
      "metadata": {
        "id": "o96Sh0GcvkeJ"
      },
      "outputs": [],
      "source": [
        "import numpy as np\n",
        "import pandas as pd"
      ]
    },
    {
      "cell_type": "code",
      "execution_count": 4,
      "metadata": {
        "id": "dhPl7veLvn7Q"
      },
      "outputs": [],
      "source": [
        "#By help of read_csv method of pandas library we are able to read train.csv file\n",
        "train_data_frame485 = pd.read_csv(\"/content/train.csv\")"
      ]
    },
    {
      "cell_type": "code",
      "execution_count": 5,
      "metadata": {
        "id": "Fqf77yC5wBQl"
      },
      "outputs": [],
      "source": [
        "#By help of read_csv method of pandas library we are able to read test.csv file\n",
        "test_data_frame485 = pd.read_csv(\"/content/test.csv\")"
      ]
    },
    {
      "cell_type": "code",
      "execution_count": 6,
      "metadata": {
        "id": "NZrKST90Fp3p"
      },
      "outputs": [],
      "source": [
        "#By help of read_csv method of pandas library we are able to read movies.csv file\n",
        "movie_data_frame485 = pd.read_csv(\"/content/movies.csv\")"
      ]
    },
    {
      "cell_type": "code",
      "execution_count": 7,
      "metadata": {
        "colab": {
          "base_uri": "https://localhost:8080/",
          "height": 538
        },
        "id": "PVDGDVMeFp3q",
        "outputId": "4a5fd4dc-2479-423e-981b-f2951ac9eaf0"
      },
      "outputs": [
        {
          "output_type": "execute_result",
          "data": {
            "text/plain": [
              "                                             movieid  \\\n",
              "0                  han_solo_heroic_myth_wonder_woman   \n",
              "1              voyage_tyler_durden_han_solo_stardust   \n",
              "2  norman_bates_ferris_bueller_hermione_granger_v...   \n",
              "3                           elegant_hermione_granger   \n",
              "4                             adventure_rocky_balboa   \n",
              "\n",
              "                                               title  audienceScore rating  \\\n",
              "0                  Han Solo Heroic Myth Wonder Woman           50.0    NaN   \n",
              "1              Voyage Tyler Durden Han Solo Stardust            NaN    NaN   \n",
              "2  Norman Bates Ferris Bueller Hermione Granger V...           43.0    NaN   \n",
              "3                           Elegant Hermione Granger           60.0    NaN   \n",
              "4                             Adventure Rocky Balboa           70.0    NaN   \n",
              "\n",
              "  ratingContents releaseDateTheaters releaseDateStreaming  runtimeMinutes  \\\n",
              "0            NaN                 NaN           2018-08-25            75.0   \n",
              "1            NaN                 NaN           2020-02-11           114.0   \n",
              "2            NaN                 NaN                  NaN           120.0   \n",
              "3            NaN                 NaN           2020-10-23            90.0   \n",
              "4            NaN                 NaN           2017-03-27            80.0   \n",
              "\n",
              "                           genre originalLanguage        director boxOffice  \\\n",
              "0         Comedy, Horror, Sci-fi          English  Claude Nicolet       NaN   \n",
              "1                          Drama          English    Nathan Haack       NaN   \n",
              "2                          Drama           Korean   Theresa Smith       NaN   \n",
              "3     Action, Mystery & thriller          English    Donald Lewis       NaN   \n",
              "4  Fantasy, Adventure, Animation          English    Howard Simms       NaN   \n",
              "\n",
              "  distributor soundType  \n",
              "0         NaN       NaN  \n",
              "1         NaN       NaN  \n",
              "2         NaN       NaN  \n",
              "3         NaN       NaN  \n",
              "4         NaN       NaN  "
            ],
            "text/html": [
              "\n",
              "  <div id=\"df-cde5402b-b581-4f7a-b14c-74c9a2e07f55\" class=\"colab-df-container\">\n",
              "    <div>\n",
              "<style scoped>\n",
              "    .dataframe tbody tr th:only-of-type {\n",
              "        vertical-align: middle;\n",
              "    }\n",
              "\n",
              "    .dataframe tbody tr th {\n",
              "        vertical-align: top;\n",
              "    }\n",
              "\n",
              "    .dataframe thead th {\n",
              "        text-align: right;\n",
              "    }\n",
              "</style>\n",
              "<table border=\"1\" class=\"dataframe\">\n",
              "  <thead>\n",
              "    <tr style=\"text-align: right;\">\n",
              "      <th></th>\n",
              "      <th>movieid</th>\n",
              "      <th>title</th>\n",
              "      <th>audienceScore</th>\n",
              "      <th>rating</th>\n",
              "      <th>ratingContents</th>\n",
              "      <th>releaseDateTheaters</th>\n",
              "      <th>releaseDateStreaming</th>\n",
              "      <th>runtimeMinutes</th>\n",
              "      <th>genre</th>\n",
              "      <th>originalLanguage</th>\n",
              "      <th>director</th>\n",
              "      <th>boxOffice</th>\n",
              "      <th>distributor</th>\n",
              "      <th>soundType</th>\n",
              "    </tr>\n",
              "  </thead>\n",
              "  <tbody>\n",
              "    <tr>\n",
              "      <th>0</th>\n",
              "      <td>han_solo_heroic_myth_wonder_woman</td>\n",
              "      <td>Han Solo Heroic Myth Wonder Woman</td>\n",
              "      <td>50.0</td>\n",
              "      <td>NaN</td>\n",
              "      <td>NaN</td>\n",
              "      <td>NaN</td>\n",
              "      <td>2018-08-25</td>\n",
              "      <td>75.0</td>\n",
              "      <td>Comedy, Horror, Sci-fi</td>\n",
              "      <td>English</td>\n",
              "      <td>Claude Nicolet</td>\n",
              "      <td>NaN</td>\n",
              "      <td>NaN</td>\n",
              "      <td>NaN</td>\n",
              "    </tr>\n",
              "    <tr>\n",
              "      <th>1</th>\n",
              "      <td>voyage_tyler_durden_han_solo_stardust</td>\n",
              "      <td>Voyage Tyler Durden Han Solo Stardust</td>\n",
              "      <td>NaN</td>\n",
              "      <td>NaN</td>\n",
              "      <td>NaN</td>\n",
              "      <td>NaN</td>\n",
              "      <td>2020-02-11</td>\n",
              "      <td>114.0</td>\n",
              "      <td>Drama</td>\n",
              "      <td>English</td>\n",
              "      <td>Nathan Haack</td>\n",
              "      <td>NaN</td>\n",
              "      <td>NaN</td>\n",
              "      <td>NaN</td>\n",
              "    </tr>\n",
              "    <tr>\n",
              "      <th>2</th>\n",
              "      <td>norman_bates_ferris_bueller_hermione_granger_v...</td>\n",
              "      <td>Norman Bates Ferris Bueller Hermione Granger V...</td>\n",
              "      <td>43.0</td>\n",
              "      <td>NaN</td>\n",
              "      <td>NaN</td>\n",
              "      <td>NaN</td>\n",
              "      <td>NaN</td>\n",
              "      <td>120.0</td>\n",
              "      <td>Drama</td>\n",
              "      <td>Korean</td>\n",
              "      <td>Theresa Smith</td>\n",
              "      <td>NaN</td>\n",
              "      <td>NaN</td>\n",
              "      <td>NaN</td>\n",
              "    </tr>\n",
              "    <tr>\n",
              "      <th>3</th>\n",
              "      <td>elegant_hermione_granger</td>\n",
              "      <td>Elegant Hermione Granger</td>\n",
              "      <td>60.0</td>\n",
              "      <td>NaN</td>\n",
              "      <td>NaN</td>\n",
              "      <td>NaN</td>\n",
              "      <td>2020-10-23</td>\n",
              "      <td>90.0</td>\n",
              "      <td>Action, Mystery &amp; thriller</td>\n",
              "      <td>English</td>\n",
              "      <td>Donald Lewis</td>\n",
              "      <td>NaN</td>\n",
              "      <td>NaN</td>\n",
              "      <td>NaN</td>\n",
              "    </tr>\n",
              "    <tr>\n",
              "      <th>4</th>\n",
              "      <td>adventure_rocky_balboa</td>\n",
              "      <td>Adventure Rocky Balboa</td>\n",
              "      <td>70.0</td>\n",
              "      <td>NaN</td>\n",
              "      <td>NaN</td>\n",
              "      <td>NaN</td>\n",
              "      <td>2017-03-27</td>\n",
              "      <td>80.0</td>\n",
              "      <td>Fantasy, Adventure, Animation</td>\n",
              "      <td>English</td>\n",
              "      <td>Howard Simms</td>\n",
              "      <td>NaN</td>\n",
              "      <td>NaN</td>\n",
              "      <td>NaN</td>\n",
              "    </tr>\n",
              "  </tbody>\n",
              "</table>\n",
              "</div>\n",
              "    <div class=\"colab-df-buttons\">\n",
              "\n",
              "  <div class=\"colab-df-container\">\n",
              "    <button class=\"colab-df-convert\" onclick=\"convertToInteractive('df-cde5402b-b581-4f7a-b14c-74c9a2e07f55')\"\n",
              "            title=\"Convert this dataframe to an interactive table.\"\n",
              "            style=\"display:none;\">\n",
              "\n",
              "  <svg xmlns=\"http://www.w3.org/2000/svg\" height=\"24px\" viewBox=\"0 -960 960 960\">\n",
              "    <path d=\"M120-120v-720h720v720H120Zm60-500h600v-160H180v160Zm220 220h160v-160H400v160Zm0 220h160v-160H400v160ZM180-400h160v-160H180v160Zm440 0h160v-160H620v160ZM180-180h160v-160H180v160Zm440 0h160v-160H620v160Z\"/>\n",
              "  </svg>\n",
              "    </button>\n",
              "\n",
              "  <style>\n",
              "    .colab-df-container {\n",
              "      display:flex;\n",
              "      gap: 12px;\n",
              "    }\n",
              "\n",
              "    .colab-df-convert {\n",
              "      background-color: #E8F0FE;\n",
              "      border: none;\n",
              "      border-radius: 50%;\n",
              "      cursor: pointer;\n",
              "      display: none;\n",
              "      fill: #1967D2;\n",
              "      height: 32px;\n",
              "      padding: 0 0 0 0;\n",
              "      width: 32px;\n",
              "    }\n",
              "\n",
              "    .colab-df-convert:hover {\n",
              "      background-color: #E2EBFA;\n",
              "      box-shadow: 0px 1px 2px rgba(60, 64, 67, 0.3), 0px 1px 3px 1px rgba(60, 64, 67, 0.15);\n",
              "      fill: #174EA6;\n",
              "    }\n",
              "\n",
              "    .colab-df-buttons div {\n",
              "      margin-bottom: 4px;\n",
              "    }\n",
              "\n",
              "    [theme=dark] .colab-df-convert {\n",
              "      background-color: #3B4455;\n",
              "      fill: #D2E3FC;\n",
              "    }\n",
              "\n",
              "    [theme=dark] .colab-df-convert:hover {\n",
              "      background-color: #434B5C;\n",
              "      box-shadow: 0px 1px 3px 1px rgba(0, 0, 0, 0.15);\n",
              "      filter: drop-shadow(0px 1px 2px rgba(0, 0, 0, 0.3));\n",
              "      fill: #FFFFFF;\n",
              "    }\n",
              "  </style>\n",
              "\n",
              "    <script>\n",
              "      const buttonEl =\n",
              "        document.querySelector('#df-cde5402b-b581-4f7a-b14c-74c9a2e07f55 button.colab-df-convert');\n",
              "      buttonEl.style.display =\n",
              "        google.colab.kernel.accessAllowed ? 'block' : 'none';\n",
              "\n",
              "      async function convertToInteractive(key) {\n",
              "        const element = document.querySelector('#df-cde5402b-b581-4f7a-b14c-74c9a2e07f55');\n",
              "        const dataTable =\n",
              "          await google.colab.kernel.invokeFunction('convertToInteractive',\n",
              "                                                    [key], {});\n",
              "        if (!dataTable) return;\n",
              "\n",
              "        const docLinkHtml = 'Like what you see? Visit the ' +\n",
              "          '<a target=\"_blank\" href=https://colab.research.google.com/notebooks/data_table.ipynb>data table notebook</a>'\n",
              "          + ' to learn more about interactive tables.';\n",
              "        element.innerHTML = '';\n",
              "        dataTable['output_type'] = 'display_data';\n",
              "        await google.colab.output.renderOutput(dataTable, element);\n",
              "        const docLink = document.createElement('div');\n",
              "        docLink.innerHTML = docLinkHtml;\n",
              "        element.appendChild(docLink);\n",
              "      }\n",
              "    </script>\n",
              "  </div>\n",
              "\n",
              "\n",
              "<div id=\"df-d326f52e-3d31-4b92-9ca7-85191c19d00c\">\n",
              "  <button class=\"colab-df-quickchart\" onclick=\"quickchart('df-d326f52e-3d31-4b92-9ca7-85191c19d00c')\"\n",
              "            title=\"Suggest charts\"\n",
              "            style=\"display:none;\">\n",
              "\n",
              "<svg xmlns=\"http://www.w3.org/2000/svg\" height=\"24px\"viewBox=\"0 0 24 24\"\n",
              "     width=\"24px\">\n",
              "    <g>\n",
              "        <path d=\"M19 3H5c-1.1 0-2 .9-2 2v14c0 1.1.9 2 2 2h14c1.1 0 2-.9 2-2V5c0-1.1-.9-2-2-2zM9 17H7v-7h2v7zm4 0h-2V7h2v10zm4 0h-2v-4h2v4z\"/>\n",
              "    </g>\n",
              "</svg>\n",
              "  </button>\n",
              "\n",
              "<style>\n",
              "  .colab-df-quickchart {\n",
              "      --bg-color: #E8F0FE;\n",
              "      --fill-color: #1967D2;\n",
              "      --hover-bg-color: #E2EBFA;\n",
              "      --hover-fill-color: #174EA6;\n",
              "      --disabled-fill-color: #AAA;\n",
              "      --disabled-bg-color: #DDD;\n",
              "  }\n",
              "\n",
              "  [theme=dark] .colab-df-quickchart {\n",
              "      --bg-color: #3B4455;\n",
              "      --fill-color: #D2E3FC;\n",
              "      --hover-bg-color: #434B5C;\n",
              "      --hover-fill-color: #FFFFFF;\n",
              "      --disabled-bg-color: #3B4455;\n",
              "      --disabled-fill-color: #666;\n",
              "  }\n",
              "\n",
              "  .colab-df-quickchart {\n",
              "    background-color: var(--bg-color);\n",
              "    border: none;\n",
              "    border-radius: 50%;\n",
              "    cursor: pointer;\n",
              "    display: none;\n",
              "    fill: var(--fill-color);\n",
              "    height: 32px;\n",
              "    padding: 0;\n",
              "    width: 32px;\n",
              "  }\n",
              "\n",
              "  .colab-df-quickchart:hover {\n",
              "    background-color: var(--hover-bg-color);\n",
              "    box-shadow: 0 1px 2px rgba(60, 64, 67, 0.3), 0 1px 3px 1px rgba(60, 64, 67, 0.15);\n",
              "    fill: var(--button-hover-fill-color);\n",
              "  }\n",
              "\n",
              "  .colab-df-quickchart-complete:disabled,\n",
              "  .colab-df-quickchart-complete:disabled:hover {\n",
              "    background-color: var(--disabled-bg-color);\n",
              "    fill: var(--disabled-fill-color);\n",
              "    box-shadow: none;\n",
              "  }\n",
              "\n",
              "  .colab-df-spinner {\n",
              "    border: 2px solid var(--fill-color);\n",
              "    border-color: transparent;\n",
              "    border-bottom-color: var(--fill-color);\n",
              "    animation:\n",
              "      spin 1s steps(1) infinite;\n",
              "  }\n",
              "\n",
              "  @keyframes spin {\n",
              "    0% {\n",
              "      border-color: transparent;\n",
              "      border-bottom-color: var(--fill-color);\n",
              "      border-left-color: var(--fill-color);\n",
              "    }\n",
              "    20% {\n",
              "      border-color: transparent;\n",
              "      border-left-color: var(--fill-color);\n",
              "      border-top-color: var(--fill-color);\n",
              "    }\n",
              "    30% {\n",
              "      border-color: transparent;\n",
              "      border-left-color: var(--fill-color);\n",
              "      border-top-color: var(--fill-color);\n",
              "      border-right-color: var(--fill-color);\n",
              "    }\n",
              "    40% {\n",
              "      border-color: transparent;\n",
              "      border-right-color: var(--fill-color);\n",
              "      border-top-color: var(--fill-color);\n",
              "    }\n",
              "    60% {\n",
              "      border-color: transparent;\n",
              "      border-right-color: var(--fill-color);\n",
              "    }\n",
              "    80% {\n",
              "      border-color: transparent;\n",
              "      border-right-color: var(--fill-color);\n",
              "      border-bottom-color: var(--fill-color);\n",
              "    }\n",
              "    90% {\n",
              "      border-color: transparent;\n",
              "      border-bottom-color: var(--fill-color);\n",
              "    }\n",
              "  }\n",
              "</style>\n",
              "\n",
              "  <script>\n",
              "    async function quickchart(key) {\n",
              "      const quickchartButtonEl =\n",
              "        document.querySelector('#' + key + ' button');\n",
              "      quickchartButtonEl.disabled = true;  // To prevent multiple clicks.\n",
              "      quickchartButtonEl.classList.add('colab-df-spinner');\n",
              "      try {\n",
              "        const charts = await google.colab.kernel.invokeFunction(\n",
              "            'suggestCharts', [key], {});\n",
              "      } catch (error) {\n",
              "        console.error('Error during call to suggestCharts:', error);\n",
              "      }\n",
              "      quickchartButtonEl.classList.remove('colab-df-spinner');\n",
              "      quickchartButtonEl.classList.add('colab-df-quickchart-complete');\n",
              "    }\n",
              "    (() => {\n",
              "      let quickchartButtonEl =\n",
              "        document.querySelector('#df-d326f52e-3d31-4b92-9ca7-85191c19d00c button');\n",
              "      quickchartButtonEl.style.display =\n",
              "        google.colab.kernel.accessAllowed ? 'block' : 'none';\n",
              "    })();\n",
              "  </script>\n",
              "</div>\n",
              "\n",
              "    </div>\n",
              "  </div>\n"
            ],
            "application/vnd.google.colaboratory.intrinsic+json": {
              "type": "dataframe",
              "variable_name": "movie_data_frame485"
            }
          },
          "metadata": {},
          "execution_count": 7
        }
      ],
      "source": [
        "#DataFrame.head() method is used to display first 5 rows of dataframe by Default\n",
        "movie_data_frame485.head()"
      ]
    },
    {
      "cell_type": "code",
      "execution_count": 8,
      "metadata": {
        "colab": {
          "base_uri": "https://localhost:8080/",
          "height": 206
        },
        "id": "8F5ziCoQFp3s",
        "outputId": "6770533b-8800-4d7d-ee5f-b237ab7738d2"
      },
      "outputs": [
        {
          "output_type": "execute_result",
          "data": {
            "text/plain": [
              "                                             movieid         reviewerName  \\\n",
              "0                                   marvelous_pirate       Benjamin Henry   \n",
              "1          tony_montana_frodo_baggins_v_rocky_balboa        Felicia Lopez   \n",
              "2  darth_vader_katniss_everdeen_sorcerer_donnie_d...  Mr. Charles Burgess   \n",
              "3                                 lara_croft_glimmer         Ryan Barrett   \n",
              "4  jason_bourne_surreal_the_terminator_indiana_jones     Alexander Glover   \n",
              "\n",
              "   isFrequentReviewer                                         reviewText  \\\n",
              "0               False  Henry Selick’s first movie since 2009’s Corali...   \n",
              "1               False  With a cast that reads like the Vogue Oscar pa...   \n",
              "2                True  Creed II does not give us anything but another...   \n",
              "3               False  I know what you're thinking, but this is no Li...   \n",
              "4               False  Director Fernando Meirelles tells the story wi...   \n",
              "\n",
              "  sentiment  \n",
              "0  POSITIVE  \n",
              "1  NEGATIVE  \n",
              "2  POSITIVE  \n",
              "3  POSITIVE  \n",
              "4  POSITIVE  "
            ],
            "text/html": [
              "\n",
              "  <div id=\"df-37dda0f7-fdad-404d-9551-d32c5624af75\" class=\"colab-df-container\">\n",
              "    <div>\n",
              "<style scoped>\n",
              "    .dataframe tbody tr th:only-of-type {\n",
              "        vertical-align: middle;\n",
              "    }\n",
              "\n",
              "    .dataframe tbody tr th {\n",
              "        vertical-align: top;\n",
              "    }\n",
              "\n",
              "    .dataframe thead th {\n",
              "        text-align: right;\n",
              "    }\n",
              "</style>\n",
              "<table border=\"1\" class=\"dataframe\">\n",
              "  <thead>\n",
              "    <tr style=\"text-align: right;\">\n",
              "      <th></th>\n",
              "      <th>movieid</th>\n",
              "      <th>reviewerName</th>\n",
              "      <th>isFrequentReviewer</th>\n",
              "      <th>reviewText</th>\n",
              "      <th>sentiment</th>\n",
              "    </tr>\n",
              "  </thead>\n",
              "  <tbody>\n",
              "    <tr>\n",
              "      <th>0</th>\n",
              "      <td>marvelous_pirate</td>\n",
              "      <td>Benjamin Henry</td>\n",
              "      <td>False</td>\n",
              "      <td>Henry Selick’s first movie since 2009’s Corali...</td>\n",
              "      <td>POSITIVE</td>\n",
              "    </tr>\n",
              "    <tr>\n",
              "      <th>1</th>\n",
              "      <td>tony_montana_frodo_baggins_v_rocky_balboa</td>\n",
              "      <td>Felicia Lopez</td>\n",
              "      <td>False</td>\n",
              "      <td>With a cast that reads like the Vogue Oscar pa...</td>\n",
              "      <td>NEGATIVE</td>\n",
              "    </tr>\n",
              "    <tr>\n",
              "      <th>2</th>\n",
              "      <td>darth_vader_katniss_everdeen_sorcerer_donnie_d...</td>\n",
              "      <td>Mr. Charles Burgess</td>\n",
              "      <td>True</td>\n",
              "      <td>Creed II does not give us anything but another...</td>\n",
              "      <td>POSITIVE</td>\n",
              "    </tr>\n",
              "    <tr>\n",
              "      <th>3</th>\n",
              "      <td>lara_croft_glimmer</td>\n",
              "      <td>Ryan Barrett</td>\n",
              "      <td>False</td>\n",
              "      <td>I know what you're thinking, but this is no Li...</td>\n",
              "      <td>POSITIVE</td>\n",
              "    </tr>\n",
              "    <tr>\n",
              "      <th>4</th>\n",
              "      <td>jason_bourne_surreal_the_terminator_indiana_jones</td>\n",
              "      <td>Alexander Glover</td>\n",
              "      <td>False</td>\n",
              "      <td>Director Fernando Meirelles tells the story wi...</td>\n",
              "      <td>POSITIVE</td>\n",
              "    </tr>\n",
              "  </tbody>\n",
              "</table>\n",
              "</div>\n",
              "    <div class=\"colab-df-buttons\">\n",
              "\n",
              "  <div class=\"colab-df-container\">\n",
              "    <button class=\"colab-df-convert\" onclick=\"convertToInteractive('df-37dda0f7-fdad-404d-9551-d32c5624af75')\"\n",
              "            title=\"Convert this dataframe to an interactive table.\"\n",
              "            style=\"display:none;\">\n",
              "\n",
              "  <svg xmlns=\"http://www.w3.org/2000/svg\" height=\"24px\" viewBox=\"0 -960 960 960\">\n",
              "    <path d=\"M120-120v-720h720v720H120Zm60-500h600v-160H180v160Zm220 220h160v-160H400v160Zm0 220h160v-160H400v160ZM180-400h160v-160H180v160Zm440 0h160v-160H620v160ZM180-180h160v-160H180v160Zm440 0h160v-160H620v160Z\"/>\n",
              "  </svg>\n",
              "    </button>\n",
              "\n",
              "  <style>\n",
              "    .colab-df-container {\n",
              "      display:flex;\n",
              "      gap: 12px;\n",
              "    }\n",
              "\n",
              "    .colab-df-convert {\n",
              "      background-color: #E8F0FE;\n",
              "      border: none;\n",
              "      border-radius: 50%;\n",
              "      cursor: pointer;\n",
              "      display: none;\n",
              "      fill: #1967D2;\n",
              "      height: 32px;\n",
              "      padding: 0 0 0 0;\n",
              "      width: 32px;\n",
              "    }\n",
              "\n",
              "    .colab-df-convert:hover {\n",
              "      background-color: #E2EBFA;\n",
              "      box-shadow: 0px 1px 2px rgba(60, 64, 67, 0.3), 0px 1px 3px 1px rgba(60, 64, 67, 0.15);\n",
              "      fill: #174EA6;\n",
              "    }\n",
              "\n",
              "    .colab-df-buttons div {\n",
              "      margin-bottom: 4px;\n",
              "    }\n",
              "\n",
              "    [theme=dark] .colab-df-convert {\n",
              "      background-color: #3B4455;\n",
              "      fill: #D2E3FC;\n",
              "    }\n",
              "\n",
              "    [theme=dark] .colab-df-convert:hover {\n",
              "      background-color: #434B5C;\n",
              "      box-shadow: 0px 1px 3px 1px rgba(0, 0, 0, 0.15);\n",
              "      filter: drop-shadow(0px 1px 2px rgba(0, 0, 0, 0.3));\n",
              "      fill: #FFFFFF;\n",
              "    }\n",
              "  </style>\n",
              "\n",
              "    <script>\n",
              "      const buttonEl =\n",
              "        document.querySelector('#df-37dda0f7-fdad-404d-9551-d32c5624af75 button.colab-df-convert');\n",
              "      buttonEl.style.display =\n",
              "        google.colab.kernel.accessAllowed ? 'block' : 'none';\n",
              "\n",
              "      async function convertToInteractive(key) {\n",
              "        const element = document.querySelector('#df-37dda0f7-fdad-404d-9551-d32c5624af75');\n",
              "        const dataTable =\n",
              "          await google.colab.kernel.invokeFunction('convertToInteractive',\n",
              "                                                    [key], {});\n",
              "        if (!dataTable) return;\n",
              "\n",
              "        const docLinkHtml = 'Like what you see? Visit the ' +\n",
              "          '<a target=\"_blank\" href=https://colab.research.google.com/notebooks/data_table.ipynb>data table notebook</a>'\n",
              "          + ' to learn more about interactive tables.';\n",
              "        element.innerHTML = '';\n",
              "        dataTable['output_type'] = 'display_data';\n",
              "        await google.colab.output.renderOutput(dataTable, element);\n",
              "        const docLink = document.createElement('div');\n",
              "        docLink.innerHTML = docLinkHtml;\n",
              "        element.appendChild(docLink);\n",
              "      }\n",
              "    </script>\n",
              "  </div>\n",
              "\n",
              "\n",
              "<div id=\"df-97634b3c-72c5-4a24-ad4d-7c91ea90fed5\">\n",
              "  <button class=\"colab-df-quickchart\" onclick=\"quickchart('df-97634b3c-72c5-4a24-ad4d-7c91ea90fed5')\"\n",
              "            title=\"Suggest charts\"\n",
              "            style=\"display:none;\">\n",
              "\n",
              "<svg xmlns=\"http://www.w3.org/2000/svg\" height=\"24px\"viewBox=\"0 0 24 24\"\n",
              "     width=\"24px\">\n",
              "    <g>\n",
              "        <path d=\"M19 3H5c-1.1 0-2 .9-2 2v14c0 1.1.9 2 2 2h14c1.1 0 2-.9 2-2V5c0-1.1-.9-2-2-2zM9 17H7v-7h2v7zm4 0h-2V7h2v10zm4 0h-2v-4h2v4z\"/>\n",
              "    </g>\n",
              "</svg>\n",
              "  </button>\n",
              "\n",
              "<style>\n",
              "  .colab-df-quickchart {\n",
              "      --bg-color: #E8F0FE;\n",
              "      --fill-color: #1967D2;\n",
              "      --hover-bg-color: #E2EBFA;\n",
              "      --hover-fill-color: #174EA6;\n",
              "      --disabled-fill-color: #AAA;\n",
              "      --disabled-bg-color: #DDD;\n",
              "  }\n",
              "\n",
              "  [theme=dark] .colab-df-quickchart {\n",
              "      --bg-color: #3B4455;\n",
              "      --fill-color: #D2E3FC;\n",
              "      --hover-bg-color: #434B5C;\n",
              "      --hover-fill-color: #FFFFFF;\n",
              "      --disabled-bg-color: #3B4455;\n",
              "      --disabled-fill-color: #666;\n",
              "  }\n",
              "\n",
              "  .colab-df-quickchart {\n",
              "    background-color: var(--bg-color);\n",
              "    border: none;\n",
              "    border-radius: 50%;\n",
              "    cursor: pointer;\n",
              "    display: none;\n",
              "    fill: var(--fill-color);\n",
              "    height: 32px;\n",
              "    padding: 0;\n",
              "    width: 32px;\n",
              "  }\n",
              "\n",
              "  .colab-df-quickchart:hover {\n",
              "    background-color: var(--hover-bg-color);\n",
              "    box-shadow: 0 1px 2px rgba(60, 64, 67, 0.3), 0 1px 3px 1px rgba(60, 64, 67, 0.15);\n",
              "    fill: var(--button-hover-fill-color);\n",
              "  }\n",
              "\n",
              "  .colab-df-quickchart-complete:disabled,\n",
              "  .colab-df-quickchart-complete:disabled:hover {\n",
              "    background-color: var(--disabled-bg-color);\n",
              "    fill: var(--disabled-fill-color);\n",
              "    box-shadow: none;\n",
              "  }\n",
              "\n",
              "  .colab-df-spinner {\n",
              "    border: 2px solid var(--fill-color);\n",
              "    border-color: transparent;\n",
              "    border-bottom-color: var(--fill-color);\n",
              "    animation:\n",
              "      spin 1s steps(1) infinite;\n",
              "  }\n",
              "\n",
              "  @keyframes spin {\n",
              "    0% {\n",
              "      border-color: transparent;\n",
              "      border-bottom-color: var(--fill-color);\n",
              "      border-left-color: var(--fill-color);\n",
              "    }\n",
              "    20% {\n",
              "      border-color: transparent;\n",
              "      border-left-color: var(--fill-color);\n",
              "      border-top-color: var(--fill-color);\n",
              "    }\n",
              "    30% {\n",
              "      border-color: transparent;\n",
              "      border-left-color: var(--fill-color);\n",
              "      border-top-color: var(--fill-color);\n",
              "      border-right-color: var(--fill-color);\n",
              "    }\n",
              "    40% {\n",
              "      border-color: transparent;\n",
              "      border-right-color: var(--fill-color);\n",
              "      border-top-color: var(--fill-color);\n",
              "    }\n",
              "    60% {\n",
              "      border-color: transparent;\n",
              "      border-right-color: var(--fill-color);\n",
              "    }\n",
              "    80% {\n",
              "      border-color: transparent;\n",
              "      border-right-color: var(--fill-color);\n",
              "      border-bottom-color: var(--fill-color);\n",
              "    }\n",
              "    90% {\n",
              "      border-color: transparent;\n",
              "      border-bottom-color: var(--fill-color);\n",
              "    }\n",
              "  }\n",
              "</style>\n",
              "\n",
              "  <script>\n",
              "    async function quickchart(key) {\n",
              "      const quickchartButtonEl =\n",
              "        document.querySelector('#' + key + ' button');\n",
              "      quickchartButtonEl.disabled = true;  // To prevent multiple clicks.\n",
              "      quickchartButtonEl.classList.add('colab-df-spinner');\n",
              "      try {\n",
              "        const charts = await google.colab.kernel.invokeFunction(\n",
              "            'suggestCharts', [key], {});\n",
              "      } catch (error) {\n",
              "        console.error('Error during call to suggestCharts:', error);\n",
              "      }\n",
              "      quickchartButtonEl.classList.remove('colab-df-spinner');\n",
              "      quickchartButtonEl.classList.add('colab-df-quickchart-complete');\n",
              "    }\n",
              "    (() => {\n",
              "      let quickchartButtonEl =\n",
              "        document.querySelector('#df-97634b3c-72c5-4a24-ad4d-7c91ea90fed5 button');\n",
              "      quickchartButtonEl.style.display =\n",
              "        google.colab.kernel.accessAllowed ? 'block' : 'none';\n",
              "    })();\n",
              "  </script>\n",
              "</div>\n",
              "\n",
              "    </div>\n",
              "  </div>\n"
            ],
            "application/vnd.google.colaboratory.intrinsic+json": {
              "type": "dataframe",
              "variable_name": "train_data_frame485"
            }
          },
          "metadata": {},
          "execution_count": 8
        }
      ],
      "source": [
        "#DataFrame.head() method is used to display first 5 rows of dataframe by Default\n",
        "train_data_frame485.head()"
      ]
    },
    {
      "cell_type": "code",
      "execution_count": 9,
      "metadata": {
        "colab": {
          "base_uri": "https://localhost:8080/",
          "height": 206
        },
        "id": "0-5-s1KtFp3u",
        "outputId": "1c792cf8-f7b5-48bf-d8ef-ec7ddaa9eacb"
      },
      "outputs": [
        {
          "output_type": "execute_result",
          "data": {
            "text/plain": [
              "                               movieid     reviewerName  isTopCritic  \\\n",
              "0            legend_marty_mcfly_oracle         John Kim        False   \n",
              "1  terminator_katniss_everdeen_glimmer     Brian Chaney        False   \n",
              "2          james_bond_labyrinth_gollum  Danielle Parker        False   \n",
              "3            v_quest_han_solo_wondrous    Brittany Lane        False   \n",
              "4        enigma_hulk_surreal_starlight    Justin Willis        False   \n",
              "\n",
              "                                          reviewText  \n",
              "0  Green slowly cranks up the dread with style an...  \n",
              "1  Philip Noyce's direction is elegant and unforc...  \n",
              "2  It wouldn't do to say what path Maria ultimate...  \n",
              "3  Pig is not exactly the arthouse John Wick that...  \n",
              "4  An imaginative no-budget musical of sorts abou...  "
            ],
            "text/html": [
              "\n",
              "  <div id=\"df-7dffa8e7-f1e4-4afb-a860-fa8ecdff4b81\" class=\"colab-df-container\">\n",
              "    <div>\n",
              "<style scoped>\n",
              "    .dataframe tbody tr th:only-of-type {\n",
              "        vertical-align: middle;\n",
              "    }\n",
              "\n",
              "    .dataframe tbody tr th {\n",
              "        vertical-align: top;\n",
              "    }\n",
              "\n",
              "    .dataframe thead th {\n",
              "        text-align: right;\n",
              "    }\n",
              "</style>\n",
              "<table border=\"1\" class=\"dataframe\">\n",
              "  <thead>\n",
              "    <tr style=\"text-align: right;\">\n",
              "      <th></th>\n",
              "      <th>movieid</th>\n",
              "      <th>reviewerName</th>\n",
              "      <th>isTopCritic</th>\n",
              "      <th>reviewText</th>\n",
              "    </tr>\n",
              "  </thead>\n",
              "  <tbody>\n",
              "    <tr>\n",
              "      <th>0</th>\n",
              "      <td>legend_marty_mcfly_oracle</td>\n",
              "      <td>John Kim</td>\n",
              "      <td>False</td>\n",
              "      <td>Green slowly cranks up the dread with style an...</td>\n",
              "    </tr>\n",
              "    <tr>\n",
              "      <th>1</th>\n",
              "      <td>terminator_katniss_everdeen_glimmer</td>\n",
              "      <td>Brian Chaney</td>\n",
              "      <td>False</td>\n",
              "      <td>Philip Noyce's direction is elegant and unforc...</td>\n",
              "    </tr>\n",
              "    <tr>\n",
              "      <th>2</th>\n",
              "      <td>james_bond_labyrinth_gollum</td>\n",
              "      <td>Danielle Parker</td>\n",
              "      <td>False</td>\n",
              "      <td>It wouldn't do to say what path Maria ultimate...</td>\n",
              "    </tr>\n",
              "    <tr>\n",
              "      <th>3</th>\n",
              "      <td>v_quest_han_solo_wondrous</td>\n",
              "      <td>Brittany Lane</td>\n",
              "      <td>False</td>\n",
              "      <td>Pig is not exactly the arthouse John Wick that...</td>\n",
              "    </tr>\n",
              "    <tr>\n",
              "      <th>4</th>\n",
              "      <td>enigma_hulk_surreal_starlight</td>\n",
              "      <td>Justin Willis</td>\n",
              "      <td>False</td>\n",
              "      <td>An imaginative no-budget musical of sorts abou...</td>\n",
              "    </tr>\n",
              "  </tbody>\n",
              "</table>\n",
              "</div>\n",
              "    <div class=\"colab-df-buttons\">\n",
              "\n",
              "  <div class=\"colab-df-container\">\n",
              "    <button class=\"colab-df-convert\" onclick=\"convertToInteractive('df-7dffa8e7-f1e4-4afb-a860-fa8ecdff4b81')\"\n",
              "            title=\"Convert this dataframe to an interactive table.\"\n",
              "            style=\"display:none;\">\n",
              "\n",
              "  <svg xmlns=\"http://www.w3.org/2000/svg\" height=\"24px\" viewBox=\"0 -960 960 960\">\n",
              "    <path d=\"M120-120v-720h720v720H120Zm60-500h600v-160H180v160Zm220 220h160v-160H400v160Zm0 220h160v-160H400v160ZM180-400h160v-160H180v160Zm440 0h160v-160H620v160ZM180-180h160v-160H180v160Zm440 0h160v-160H620v160Z\"/>\n",
              "  </svg>\n",
              "    </button>\n",
              "\n",
              "  <style>\n",
              "    .colab-df-container {\n",
              "      display:flex;\n",
              "      gap: 12px;\n",
              "    }\n",
              "\n",
              "    .colab-df-convert {\n",
              "      background-color: #E8F0FE;\n",
              "      border: none;\n",
              "      border-radius: 50%;\n",
              "      cursor: pointer;\n",
              "      display: none;\n",
              "      fill: #1967D2;\n",
              "      height: 32px;\n",
              "      padding: 0 0 0 0;\n",
              "      width: 32px;\n",
              "    }\n",
              "\n",
              "    .colab-df-convert:hover {\n",
              "      background-color: #E2EBFA;\n",
              "      box-shadow: 0px 1px 2px rgba(60, 64, 67, 0.3), 0px 1px 3px 1px rgba(60, 64, 67, 0.15);\n",
              "      fill: #174EA6;\n",
              "    }\n",
              "\n",
              "    .colab-df-buttons div {\n",
              "      margin-bottom: 4px;\n",
              "    }\n",
              "\n",
              "    [theme=dark] .colab-df-convert {\n",
              "      background-color: #3B4455;\n",
              "      fill: #D2E3FC;\n",
              "    }\n",
              "\n",
              "    [theme=dark] .colab-df-convert:hover {\n",
              "      background-color: #434B5C;\n",
              "      box-shadow: 0px 1px 3px 1px rgba(0, 0, 0, 0.15);\n",
              "      filter: drop-shadow(0px 1px 2px rgba(0, 0, 0, 0.3));\n",
              "      fill: #FFFFFF;\n",
              "    }\n",
              "  </style>\n",
              "\n",
              "    <script>\n",
              "      const buttonEl =\n",
              "        document.querySelector('#df-7dffa8e7-f1e4-4afb-a860-fa8ecdff4b81 button.colab-df-convert');\n",
              "      buttonEl.style.display =\n",
              "        google.colab.kernel.accessAllowed ? 'block' : 'none';\n",
              "\n",
              "      async function convertToInteractive(key) {\n",
              "        const element = document.querySelector('#df-7dffa8e7-f1e4-4afb-a860-fa8ecdff4b81');\n",
              "        const dataTable =\n",
              "          await google.colab.kernel.invokeFunction('convertToInteractive',\n",
              "                                                    [key], {});\n",
              "        if (!dataTable) return;\n",
              "\n",
              "        const docLinkHtml = 'Like what you see? Visit the ' +\n",
              "          '<a target=\"_blank\" href=https://colab.research.google.com/notebooks/data_table.ipynb>data table notebook</a>'\n",
              "          + ' to learn more about interactive tables.';\n",
              "        element.innerHTML = '';\n",
              "        dataTable['output_type'] = 'display_data';\n",
              "        await google.colab.output.renderOutput(dataTable, element);\n",
              "        const docLink = document.createElement('div');\n",
              "        docLink.innerHTML = docLinkHtml;\n",
              "        element.appendChild(docLink);\n",
              "      }\n",
              "    </script>\n",
              "  </div>\n",
              "\n",
              "\n",
              "<div id=\"df-a97df5dd-6ba5-4d54-80d3-11407f0dfe86\">\n",
              "  <button class=\"colab-df-quickchart\" onclick=\"quickchart('df-a97df5dd-6ba5-4d54-80d3-11407f0dfe86')\"\n",
              "            title=\"Suggest charts\"\n",
              "            style=\"display:none;\">\n",
              "\n",
              "<svg xmlns=\"http://www.w3.org/2000/svg\" height=\"24px\"viewBox=\"0 0 24 24\"\n",
              "     width=\"24px\">\n",
              "    <g>\n",
              "        <path d=\"M19 3H5c-1.1 0-2 .9-2 2v14c0 1.1.9 2 2 2h14c1.1 0 2-.9 2-2V5c0-1.1-.9-2-2-2zM9 17H7v-7h2v7zm4 0h-2V7h2v10zm4 0h-2v-4h2v4z\"/>\n",
              "    </g>\n",
              "</svg>\n",
              "  </button>\n",
              "\n",
              "<style>\n",
              "  .colab-df-quickchart {\n",
              "      --bg-color: #E8F0FE;\n",
              "      --fill-color: #1967D2;\n",
              "      --hover-bg-color: #E2EBFA;\n",
              "      --hover-fill-color: #174EA6;\n",
              "      --disabled-fill-color: #AAA;\n",
              "      --disabled-bg-color: #DDD;\n",
              "  }\n",
              "\n",
              "  [theme=dark] .colab-df-quickchart {\n",
              "      --bg-color: #3B4455;\n",
              "      --fill-color: #D2E3FC;\n",
              "      --hover-bg-color: #434B5C;\n",
              "      --hover-fill-color: #FFFFFF;\n",
              "      --disabled-bg-color: #3B4455;\n",
              "      --disabled-fill-color: #666;\n",
              "  }\n",
              "\n",
              "  .colab-df-quickchart {\n",
              "    background-color: var(--bg-color);\n",
              "    border: none;\n",
              "    border-radius: 50%;\n",
              "    cursor: pointer;\n",
              "    display: none;\n",
              "    fill: var(--fill-color);\n",
              "    height: 32px;\n",
              "    padding: 0;\n",
              "    width: 32px;\n",
              "  }\n",
              "\n",
              "  .colab-df-quickchart:hover {\n",
              "    background-color: var(--hover-bg-color);\n",
              "    box-shadow: 0 1px 2px rgba(60, 64, 67, 0.3), 0 1px 3px 1px rgba(60, 64, 67, 0.15);\n",
              "    fill: var(--button-hover-fill-color);\n",
              "  }\n",
              "\n",
              "  .colab-df-quickchart-complete:disabled,\n",
              "  .colab-df-quickchart-complete:disabled:hover {\n",
              "    background-color: var(--disabled-bg-color);\n",
              "    fill: var(--disabled-fill-color);\n",
              "    box-shadow: none;\n",
              "  }\n",
              "\n",
              "  .colab-df-spinner {\n",
              "    border: 2px solid var(--fill-color);\n",
              "    border-color: transparent;\n",
              "    border-bottom-color: var(--fill-color);\n",
              "    animation:\n",
              "      spin 1s steps(1) infinite;\n",
              "  }\n",
              "\n",
              "  @keyframes spin {\n",
              "    0% {\n",
              "      border-color: transparent;\n",
              "      border-bottom-color: var(--fill-color);\n",
              "      border-left-color: var(--fill-color);\n",
              "    }\n",
              "    20% {\n",
              "      border-color: transparent;\n",
              "      border-left-color: var(--fill-color);\n",
              "      border-top-color: var(--fill-color);\n",
              "    }\n",
              "    30% {\n",
              "      border-color: transparent;\n",
              "      border-left-color: var(--fill-color);\n",
              "      border-top-color: var(--fill-color);\n",
              "      border-right-color: var(--fill-color);\n",
              "    }\n",
              "    40% {\n",
              "      border-color: transparent;\n",
              "      border-right-color: var(--fill-color);\n",
              "      border-top-color: var(--fill-color);\n",
              "    }\n",
              "    60% {\n",
              "      border-color: transparent;\n",
              "      border-right-color: var(--fill-color);\n",
              "    }\n",
              "    80% {\n",
              "      border-color: transparent;\n",
              "      border-right-color: var(--fill-color);\n",
              "      border-bottom-color: var(--fill-color);\n",
              "    }\n",
              "    90% {\n",
              "      border-color: transparent;\n",
              "      border-bottom-color: var(--fill-color);\n",
              "    }\n",
              "  }\n",
              "</style>\n",
              "\n",
              "  <script>\n",
              "    async function quickchart(key) {\n",
              "      const quickchartButtonEl =\n",
              "        document.querySelector('#' + key + ' button');\n",
              "      quickchartButtonEl.disabled = true;  // To prevent multiple clicks.\n",
              "      quickchartButtonEl.classList.add('colab-df-spinner');\n",
              "      try {\n",
              "        const charts = await google.colab.kernel.invokeFunction(\n",
              "            'suggestCharts', [key], {});\n",
              "      } catch (error) {\n",
              "        console.error('Error during call to suggestCharts:', error);\n",
              "      }\n",
              "      quickchartButtonEl.classList.remove('colab-df-spinner');\n",
              "      quickchartButtonEl.classList.add('colab-df-quickchart-complete');\n",
              "    }\n",
              "    (() => {\n",
              "      let quickchartButtonEl =\n",
              "        document.querySelector('#df-a97df5dd-6ba5-4d54-80d3-11407f0dfe86 button');\n",
              "      quickchartButtonEl.style.display =\n",
              "        google.colab.kernel.accessAllowed ? 'block' : 'none';\n",
              "    })();\n",
              "  </script>\n",
              "</div>\n",
              "\n",
              "    </div>\n",
              "  </div>\n"
            ],
            "application/vnd.google.colaboratory.intrinsic+json": {
              "type": "dataframe",
              "variable_name": "test_data_frame485",
              "summary": "{\n  \"name\": \"test_data_frame485\",\n  \"rows\": 55315,\n  \"fields\": [\n    {\n      \"column\": \"movieid\",\n      \"properties\": {\n        \"dtype\": \"category\",\n        \"num_unique_values\": 16786,\n        \"samples\": [\n          \"katniss_everdeen_jon_snow_norman_bates\",\n          \"michael_corleone_hermione_granger_treasure_james_bond\",\n          \"scarlett_o'hara_terminator_hulk\"\n        ],\n        \"semantic_type\": \"\",\n        \"description\": \"\"\n      }\n    },\n    {\n      \"column\": \"reviewerName\",\n      \"properties\": {\n        \"dtype\": \"category\",\n        \"num_unique_values\": 4495,\n        \"samples\": [\n          \"Laura Dickerson\",\n          \"Monica Ochoa\",\n          \"Carol George\"\n        ],\n        \"semantic_type\": \"\",\n        \"description\": \"\"\n      }\n    },\n    {\n      \"column\": \"isTopCritic\",\n      \"properties\": {\n        \"dtype\": \"boolean\",\n        \"num_unique_values\": 2,\n        \"samples\": [\n          true,\n          false\n        ],\n        \"semantic_type\": \"\",\n        \"description\": \"\"\n      }\n    },\n    {\n      \"column\": \"reviewText\",\n      \"properties\": {\n        \"dtype\": \"string\",\n        \"num_unique_values\": 52686,\n        \"samples\": [\n          \"It'd be more openly ridiculous, feel far more manipulative, if not for Damon's performance... [His] magic is in making a certain plainness, a near-anonymity, defiantly charismatic.\",\n          \"Harron's thoughtful, psychologically complex approach to films about killers and pinup models have a way of undermining the subject's inherent salaciousness.\"\n        ],\n        \"semantic_type\": \"\",\n        \"description\": \"\"\n      }\n    }\n  ]\n}"
            }
          },
          "metadata": {},
          "execution_count": 9
        }
      ],
      "source": [
        "#DataFrame.head() method is used to display first 5 rows of dataframe by Default\n",
        "test_data_frame485.head()"
      ]
    },
    {
      "cell_type": "markdown",
      "metadata": {
        "id": "WRZKvVz2Fp3v"
      },
      "source": [
        "# Exploratory Data Analysis and Data Visualization"
      ]
    },
    {
      "cell_type": "code",
      "execution_count": 10,
      "metadata": {
        "colab": {
          "base_uri": "https://localhost:8080/"
        },
        "id": "CGYlubvDFp3w",
        "outputId": "e3b34945-fc73-476a-c3d2-9a694a427f0c"
      },
      "outputs": [
        {
          "output_type": "execute_result",
          "data": {
            "text/plain": [
              "(143258, 14)"
            ]
          },
          "metadata": {},
          "execution_count": 10
        }
      ],
      "source": [
        "#.shape is used to get Dimension of DataFrame\n",
        "movie_data_frame485.shape"
      ]
    },
    {
      "cell_type": "code",
      "execution_count": 11,
      "metadata": {
        "colab": {
          "base_uri": "https://localhost:8080/"
        },
        "id": "pIaS5IipFp3y",
        "outputId": "03ad123c-d644-4334-c454-ceac5772f315"
      },
      "outputs": [
        {
          "output_type": "execute_result",
          "data": {
            "text/plain": [
              "(162758, 5)"
            ]
          },
          "metadata": {},
          "execution_count": 11
        }
      ],
      "source": [
        "#.shape is used to get Dimension of DataFrame\n",
        "train_data_frame485.shape"
      ]
    },
    {
      "cell_type": "code",
      "execution_count": 12,
      "metadata": {
        "colab": {
          "base_uri": "https://localhost:8080/"
        },
        "id": "ywDim4Y-Fp3z",
        "outputId": "d815ba8d-02e3-4ef1-9031-70e50e65fe8b"
      },
      "outputs": [
        {
          "output_type": "execute_result",
          "data": {
            "text/plain": [
              "(55315, 4)"
            ]
          },
          "metadata": {},
          "execution_count": 12
        }
      ],
      "source": [
        "#.shape is used to get Dimension of DataFrame\n",
        "test_data_frame485.shape"
      ]
    },
    {
      "cell_type": "code",
      "execution_count": 13,
      "metadata": {
        "colab": {
          "base_uri": "https://localhost:8080/"
        },
        "id": "e89p4NcuFp30",
        "outputId": "e28f3ae6-4a45-4d0a-f317-01f305c41665"
      },
      "outputs": [
        {
          "output_type": "execute_result",
          "data": {
            "text/plain": [
              "Index(['movieid', 'title', 'audienceScore', 'rating', 'ratingContents',\n",
              "       'releaseDateTheaters', 'releaseDateStreaming', 'runtimeMinutes',\n",
              "       'genre', 'originalLanguage', 'director', 'boxOffice', 'distributor',\n",
              "       'soundType'],\n",
              "      dtype='object')"
            ]
          },
          "metadata": {},
          "execution_count": 13
        }
      ],
      "source": [
        "# DataFrame.columns is used to get names of all columns in Dataframe\n",
        "movie_data_frame485.columns"
      ]
    },
    {
      "cell_type": "code",
      "execution_count": 14,
      "metadata": {
        "colab": {
          "base_uri": "https://localhost:8080/"
        },
        "id": "Q46fZ9MeFp31",
        "outputId": "efb78199-6a1d-4972-9cb1-fe9516283932"
      },
      "outputs": [
        {
          "output_type": "execute_result",
          "data": {
            "text/plain": [
              "143258"
            ]
          },
          "metadata": {},
          "execution_count": 14
        }
      ],
      "source": [
        "# DataFrame.duplicated.count() is used to get count to duplicates in dataframe\n",
        "movie_data_frame485.duplicated().count()"
      ]
    },
    {
      "cell_type": "code",
      "execution_count": 15,
      "metadata": {
        "id": "U_dLhxWpFp32"
      },
      "outputs": [],
      "source": [
        "# movie_data.drop_duplicates is used to drop Duplicates based on \"movieid\" column\n",
        "movie_data_frame485 = movie_data_frame485.drop_duplicates(subset=\"movieid\")"
      ]
    },
    {
      "cell_type": "code",
      "execution_count": 16,
      "metadata": {
        "colab": {
          "base_uri": "https://localhost:8080/"
        },
        "id": "0QPhzBMpFp32",
        "outputId": "03a9e99d-018a-4df3-b008-c5414629cdaf"
      },
      "outputs": [
        {
          "output_type": "execute_result",
          "data": {
            "text/plain": [
              "0"
            ]
          },
          "metadata": {},
          "execution_count": 16
        }
      ],
      "source": [
        "# DataFrame.duplicated.sum() is used to get count to duplicates in dataframe\n",
        "movie_data_frame485.duplicated().sum()"
      ]
    },
    {
      "cell_type": "code",
      "execution_count": 17,
      "metadata": {
        "colab": {
          "base_uri": "https://localhost:8080/"
        },
        "id": "pWIxdoS0Fp33",
        "outputId": "3d132c40-d3be-4fb2-8827-23b02235f6c3"
      },
      "outputs": [
        {
          "output_type": "execute_result",
          "data": {
            "text/plain": [
              "(126404, 14)"
            ]
          },
          "metadata": {},
          "execution_count": 17
        }
      ],
      "source": [
        "# movie_data_frame485.shape is used to get dimensionality of movies Data frame\n",
        "movie_data_frame485.shape"
      ]
    },
    {
      "cell_type": "code",
      "execution_count": 18,
      "metadata": {
        "id": "APnLDbb0Fp34"
      },
      "outputs": [],
      "source": [
        "# Perform a left merge on the 'movieid' column. This will combine rows from both DataFrames based on matching 'movieid' values.\n",
        "# Rows from train_data will be preserved, and the corresponding rows from movie_data will be added to the resulting DataFrame.\n",
        "# If a 'movieid' from train_data does not exist in movie_data, the resulting DataFrame will have NaN values in the columns from movie_data.\n",
        "merg_trained_data11 = pd.merge(train_data_frame485,movie_data_frame485, on= 'movieid', how ='left')"
      ]
    },
    {
      "cell_type": "code",
      "execution_count": 19,
      "metadata": {
        "id": "hi4PzRXeFp35"
      },
      "outputs": [],
      "source": [
        "# Perform a left merge on the 'movieid' column. This will combine rows from both DataFrames based on matching 'movieid' values.\n",
        "# Rows from test_data will be preserved, and the corresponding rows from movie_data will be added to the resulting DataFrame.\n",
        "# If a 'movieid' from test_data does not exist in movie_data, the resulting DataFrame will have Null values in the columns from movie_data.\n",
        "merg_test_data11 = pd.merge(test_data_frame485,movie_data_frame485, on= 'movieid', how ='left')"
      ]
    },
    {
      "cell_type": "code",
      "execution_count": 20,
      "metadata": {
        "colab": {
          "base_uri": "https://localhost:8080/",
          "height": 660
        },
        "id": "3VmJ1DiGFp35",
        "outputId": "22fff36d-d43a-4bcd-ac47-8998161d0934"
      },
      "outputs": [
        {
          "output_type": "execute_result",
          "data": {
            "text/plain": [
              "                                             movieid         reviewerName  \\\n",
              "0                                   marvelous_pirate       Benjamin Henry   \n",
              "1          tony_montana_frodo_baggins_v_rocky_balboa        Felicia Lopez   \n",
              "2  darth_vader_katniss_everdeen_sorcerer_donnie_d...  Mr. Charles Burgess   \n",
              "3                                 lara_croft_glimmer         Ryan Barrett   \n",
              "4  jason_bourne_surreal_the_terminator_indiana_jones     Alexander Glover   \n",
              "\n",
              "   isFrequentReviewer                                         reviewText  \\\n",
              "0               False  Henry Selick’s first movie since 2009’s Corali...   \n",
              "1               False  With a cast that reads like the Vogue Oscar pa...   \n",
              "2                True  Creed II does not give us anything but another...   \n",
              "3               False  I know what you're thinking, but this is no Li...   \n",
              "4               False  Director Fernando Meirelles tells the story wi...   \n",
              "\n",
              "  sentiment                                              title  audienceScore  \\\n",
              "0  POSITIVE                                   Marvelous Pirate           65.0   \n",
              "1  NEGATIVE          Tony Montana Frodo Baggins V Rocky Balboa            NaN   \n",
              "2  POSITIVE  Darth Vader Katniss Everdeen Sorcerer Donnie D...           80.0   \n",
              "3  POSITIVE                                 Lara Croft Glimmer            NaN   \n",
              "4  POSITIVE  Jason Bourne Surreal The Terminator Indiana Jones           97.0   \n",
              "\n",
              "  rating                                     ratingContents  \\\n",
              "0  PG-13  ['Violence', 'Brief Strong Language', 'Substan...   \n",
              "1    NaN                                                NaN   \n",
              "2  PG-13  ['Language', 'A Scene of Sensuality', 'Sports ...   \n",
              "3    NaN                                                NaN   \n",
              "4      R  ['Language', 'Drug Content', 'Sexuality', 'Str...   \n",
              "\n",
              "  releaseDateTheaters releaseDateStreaming  runtimeMinutes  \\\n",
              "0          2022-10-21           2022-10-28           105.0   \n",
              "1                 NaN           2013-01-08            91.0   \n",
              "2          2018-11-21           2019-02-12           130.0   \n",
              "3                 NaN           2020-06-02            15.0   \n",
              "4          2003-01-17           2004-06-08           131.0   \n",
              "\n",
              "                                   genre     originalLanguage  \\\n",
              "0  Comedy, Animation, Adventure, Fantasy              English   \n",
              "1                                 Action              English   \n",
              "2                                  Drama              English   \n",
              "3                                  Drama              Spanish   \n",
              "4                           Crime, Drama  Portuguese (Brazil)   \n",
              "\n",
              "          director boxOffice                                 distributor  \\\n",
              "0     Bennie Basso       NaN                                     Netflix   \n",
              "1       Alma White       NaN                                         NaN   \n",
              "2     Bobby Oleary   $115.7M  Warner Bros. Pictures, Metro-Goldwyn-Mayer   \n",
              "3  Eric Hutcherson       NaN                                         NaN   \n",
              "4       John Trent     $7.6M                               Miramax Films   \n",
              "\n",
              "                                           soundType  \n",
              "0                                                NaN  \n",
              "1                                                NaN  \n",
              "2                                                NaN  \n",
              "3                                                NaN  \n",
              "4  Surround, Dolby SR, Dolby Digital, Dolby A, Do...  "
            ],
            "text/html": [
              "\n",
              "  <div id=\"df-4ed0174e-a087-4706-88f1-1430235d6337\" class=\"colab-df-container\">\n",
              "    <div>\n",
              "<style scoped>\n",
              "    .dataframe tbody tr th:only-of-type {\n",
              "        vertical-align: middle;\n",
              "    }\n",
              "\n",
              "    .dataframe tbody tr th {\n",
              "        vertical-align: top;\n",
              "    }\n",
              "\n",
              "    .dataframe thead th {\n",
              "        text-align: right;\n",
              "    }\n",
              "</style>\n",
              "<table border=\"1\" class=\"dataframe\">\n",
              "  <thead>\n",
              "    <tr style=\"text-align: right;\">\n",
              "      <th></th>\n",
              "      <th>movieid</th>\n",
              "      <th>reviewerName</th>\n",
              "      <th>isFrequentReviewer</th>\n",
              "      <th>reviewText</th>\n",
              "      <th>sentiment</th>\n",
              "      <th>title</th>\n",
              "      <th>audienceScore</th>\n",
              "      <th>rating</th>\n",
              "      <th>ratingContents</th>\n",
              "      <th>releaseDateTheaters</th>\n",
              "      <th>releaseDateStreaming</th>\n",
              "      <th>runtimeMinutes</th>\n",
              "      <th>genre</th>\n",
              "      <th>originalLanguage</th>\n",
              "      <th>director</th>\n",
              "      <th>boxOffice</th>\n",
              "      <th>distributor</th>\n",
              "      <th>soundType</th>\n",
              "    </tr>\n",
              "  </thead>\n",
              "  <tbody>\n",
              "    <tr>\n",
              "      <th>0</th>\n",
              "      <td>marvelous_pirate</td>\n",
              "      <td>Benjamin Henry</td>\n",
              "      <td>False</td>\n",
              "      <td>Henry Selick’s first movie since 2009’s Corali...</td>\n",
              "      <td>POSITIVE</td>\n",
              "      <td>Marvelous Pirate</td>\n",
              "      <td>65.0</td>\n",
              "      <td>PG-13</td>\n",
              "      <td>['Violence', 'Brief Strong Language', 'Substan...</td>\n",
              "      <td>2022-10-21</td>\n",
              "      <td>2022-10-28</td>\n",
              "      <td>105.0</td>\n",
              "      <td>Comedy, Animation, Adventure, Fantasy</td>\n",
              "      <td>English</td>\n",
              "      <td>Bennie Basso</td>\n",
              "      <td>NaN</td>\n",
              "      <td>Netflix</td>\n",
              "      <td>NaN</td>\n",
              "    </tr>\n",
              "    <tr>\n",
              "      <th>1</th>\n",
              "      <td>tony_montana_frodo_baggins_v_rocky_balboa</td>\n",
              "      <td>Felicia Lopez</td>\n",
              "      <td>False</td>\n",
              "      <td>With a cast that reads like the Vogue Oscar pa...</td>\n",
              "      <td>NEGATIVE</td>\n",
              "      <td>Tony Montana Frodo Baggins V Rocky Balboa</td>\n",
              "      <td>NaN</td>\n",
              "      <td>NaN</td>\n",
              "      <td>NaN</td>\n",
              "      <td>NaN</td>\n",
              "      <td>2013-01-08</td>\n",
              "      <td>91.0</td>\n",
              "      <td>Action</td>\n",
              "      <td>English</td>\n",
              "      <td>Alma White</td>\n",
              "      <td>NaN</td>\n",
              "      <td>NaN</td>\n",
              "      <td>NaN</td>\n",
              "    </tr>\n",
              "    <tr>\n",
              "      <th>2</th>\n",
              "      <td>darth_vader_katniss_everdeen_sorcerer_donnie_d...</td>\n",
              "      <td>Mr. Charles Burgess</td>\n",
              "      <td>True</td>\n",
              "      <td>Creed II does not give us anything but another...</td>\n",
              "      <td>POSITIVE</td>\n",
              "      <td>Darth Vader Katniss Everdeen Sorcerer Donnie D...</td>\n",
              "      <td>80.0</td>\n",
              "      <td>PG-13</td>\n",
              "      <td>['Language', 'A Scene of Sensuality', 'Sports ...</td>\n",
              "      <td>2018-11-21</td>\n",
              "      <td>2019-02-12</td>\n",
              "      <td>130.0</td>\n",
              "      <td>Drama</td>\n",
              "      <td>English</td>\n",
              "      <td>Bobby Oleary</td>\n",
              "      <td>$115.7M</td>\n",
              "      <td>Warner Bros. Pictures, Metro-Goldwyn-Mayer</td>\n",
              "      <td>NaN</td>\n",
              "    </tr>\n",
              "    <tr>\n",
              "      <th>3</th>\n",
              "      <td>lara_croft_glimmer</td>\n",
              "      <td>Ryan Barrett</td>\n",
              "      <td>False</td>\n",
              "      <td>I know what you're thinking, but this is no Li...</td>\n",
              "      <td>POSITIVE</td>\n",
              "      <td>Lara Croft Glimmer</td>\n",
              "      <td>NaN</td>\n",
              "      <td>NaN</td>\n",
              "      <td>NaN</td>\n",
              "      <td>NaN</td>\n",
              "      <td>2020-06-02</td>\n",
              "      <td>15.0</td>\n",
              "      <td>Drama</td>\n",
              "      <td>Spanish</td>\n",
              "      <td>Eric Hutcherson</td>\n",
              "      <td>NaN</td>\n",
              "      <td>NaN</td>\n",
              "      <td>NaN</td>\n",
              "    </tr>\n",
              "    <tr>\n",
              "      <th>4</th>\n",
              "      <td>jason_bourne_surreal_the_terminator_indiana_jones</td>\n",
              "      <td>Alexander Glover</td>\n",
              "      <td>False</td>\n",
              "      <td>Director Fernando Meirelles tells the story wi...</td>\n",
              "      <td>POSITIVE</td>\n",
              "      <td>Jason Bourne Surreal The Terminator Indiana Jones</td>\n",
              "      <td>97.0</td>\n",
              "      <td>R</td>\n",
              "      <td>['Language', 'Drug Content', 'Sexuality', 'Str...</td>\n",
              "      <td>2003-01-17</td>\n",
              "      <td>2004-06-08</td>\n",
              "      <td>131.0</td>\n",
              "      <td>Crime, Drama</td>\n",
              "      <td>Portuguese (Brazil)</td>\n",
              "      <td>John Trent</td>\n",
              "      <td>$7.6M</td>\n",
              "      <td>Miramax Films</td>\n",
              "      <td>Surround, Dolby SR, Dolby Digital, Dolby A, Do...</td>\n",
              "    </tr>\n",
              "  </tbody>\n",
              "</table>\n",
              "</div>\n",
              "    <div class=\"colab-df-buttons\">\n",
              "\n",
              "  <div class=\"colab-df-container\">\n",
              "    <button class=\"colab-df-convert\" onclick=\"convertToInteractive('df-4ed0174e-a087-4706-88f1-1430235d6337')\"\n",
              "            title=\"Convert this dataframe to an interactive table.\"\n",
              "            style=\"display:none;\">\n",
              "\n",
              "  <svg xmlns=\"http://www.w3.org/2000/svg\" height=\"24px\" viewBox=\"0 -960 960 960\">\n",
              "    <path d=\"M120-120v-720h720v720H120Zm60-500h600v-160H180v160Zm220 220h160v-160H400v160Zm0 220h160v-160H400v160ZM180-400h160v-160H180v160Zm440 0h160v-160H620v160ZM180-180h160v-160H180v160Zm440 0h160v-160H620v160Z\"/>\n",
              "  </svg>\n",
              "    </button>\n",
              "\n",
              "  <style>\n",
              "    .colab-df-container {\n",
              "      display:flex;\n",
              "      gap: 12px;\n",
              "    }\n",
              "\n",
              "    .colab-df-convert {\n",
              "      background-color: #E8F0FE;\n",
              "      border: none;\n",
              "      border-radius: 50%;\n",
              "      cursor: pointer;\n",
              "      display: none;\n",
              "      fill: #1967D2;\n",
              "      height: 32px;\n",
              "      padding: 0 0 0 0;\n",
              "      width: 32px;\n",
              "    }\n",
              "\n",
              "    .colab-df-convert:hover {\n",
              "      background-color: #E2EBFA;\n",
              "      box-shadow: 0px 1px 2px rgba(60, 64, 67, 0.3), 0px 1px 3px 1px rgba(60, 64, 67, 0.15);\n",
              "      fill: #174EA6;\n",
              "    }\n",
              "\n",
              "    .colab-df-buttons div {\n",
              "      margin-bottom: 4px;\n",
              "    }\n",
              "\n",
              "    [theme=dark] .colab-df-convert {\n",
              "      background-color: #3B4455;\n",
              "      fill: #D2E3FC;\n",
              "    }\n",
              "\n",
              "    [theme=dark] .colab-df-convert:hover {\n",
              "      background-color: #434B5C;\n",
              "      box-shadow: 0px 1px 3px 1px rgba(0, 0, 0, 0.15);\n",
              "      filter: drop-shadow(0px 1px 2px rgba(0, 0, 0, 0.3));\n",
              "      fill: #FFFFFF;\n",
              "    }\n",
              "  </style>\n",
              "\n",
              "    <script>\n",
              "      const buttonEl =\n",
              "        document.querySelector('#df-4ed0174e-a087-4706-88f1-1430235d6337 button.colab-df-convert');\n",
              "      buttonEl.style.display =\n",
              "        google.colab.kernel.accessAllowed ? 'block' : 'none';\n",
              "\n",
              "      async function convertToInteractive(key) {\n",
              "        const element = document.querySelector('#df-4ed0174e-a087-4706-88f1-1430235d6337');\n",
              "        const dataTable =\n",
              "          await google.colab.kernel.invokeFunction('convertToInteractive',\n",
              "                                                    [key], {});\n",
              "        if (!dataTable) return;\n",
              "\n",
              "        const docLinkHtml = 'Like what you see? Visit the ' +\n",
              "          '<a target=\"_blank\" href=https://colab.research.google.com/notebooks/data_table.ipynb>data table notebook</a>'\n",
              "          + ' to learn more about interactive tables.';\n",
              "        element.innerHTML = '';\n",
              "        dataTable['output_type'] = 'display_data';\n",
              "        await google.colab.output.renderOutput(dataTable, element);\n",
              "        const docLink = document.createElement('div');\n",
              "        docLink.innerHTML = docLinkHtml;\n",
              "        element.appendChild(docLink);\n",
              "      }\n",
              "    </script>\n",
              "  </div>\n",
              "\n",
              "\n",
              "<div id=\"df-40e40791-bae9-4c10-a576-889e600bb917\">\n",
              "  <button class=\"colab-df-quickchart\" onclick=\"quickchart('df-40e40791-bae9-4c10-a576-889e600bb917')\"\n",
              "            title=\"Suggest charts\"\n",
              "            style=\"display:none;\">\n",
              "\n",
              "<svg xmlns=\"http://www.w3.org/2000/svg\" height=\"24px\"viewBox=\"0 0 24 24\"\n",
              "     width=\"24px\">\n",
              "    <g>\n",
              "        <path d=\"M19 3H5c-1.1 0-2 .9-2 2v14c0 1.1.9 2 2 2h14c1.1 0 2-.9 2-2V5c0-1.1-.9-2-2-2zM9 17H7v-7h2v7zm4 0h-2V7h2v10zm4 0h-2v-4h2v4z\"/>\n",
              "    </g>\n",
              "</svg>\n",
              "  </button>\n",
              "\n",
              "<style>\n",
              "  .colab-df-quickchart {\n",
              "      --bg-color: #E8F0FE;\n",
              "      --fill-color: #1967D2;\n",
              "      --hover-bg-color: #E2EBFA;\n",
              "      --hover-fill-color: #174EA6;\n",
              "      --disabled-fill-color: #AAA;\n",
              "      --disabled-bg-color: #DDD;\n",
              "  }\n",
              "\n",
              "  [theme=dark] .colab-df-quickchart {\n",
              "      --bg-color: #3B4455;\n",
              "      --fill-color: #D2E3FC;\n",
              "      --hover-bg-color: #434B5C;\n",
              "      --hover-fill-color: #FFFFFF;\n",
              "      --disabled-bg-color: #3B4455;\n",
              "      --disabled-fill-color: #666;\n",
              "  }\n",
              "\n",
              "  .colab-df-quickchart {\n",
              "    background-color: var(--bg-color);\n",
              "    border: none;\n",
              "    border-radius: 50%;\n",
              "    cursor: pointer;\n",
              "    display: none;\n",
              "    fill: var(--fill-color);\n",
              "    height: 32px;\n",
              "    padding: 0;\n",
              "    width: 32px;\n",
              "  }\n",
              "\n",
              "  .colab-df-quickchart:hover {\n",
              "    background-color: var(--hover-bg-color);\n",
              "    box-shadow: 0 1px 2px rgba(60, 64, 67, 0.3), 0 1px 3px 1px rgba(60, 64, 67, 0.15);\n",
              "    fill: var(--button-hover-fill-color);\n",
              "  }\n",
              "\n",
              "  .colab-df-quickchart-complete:disabled,\n",
              "  .colab-df-quickchart-complete:disabled:hover {\n",
              "    background-color: var(--disabled-bg-color);\n",
              "    fill: var(--disabled-fill-color);\n",
              "    box-shadow: none;\n",
              "  }\n",
              "\n",
              "  .colab-df-spinner {\n",
              "    border: 2px solid var(--fill-color);\n",
              "    border-color: transparent;\n",
              "    border-bottom-color: var(--fill-color);\n",
              "    animation:\n",
              "      spin 1s steps(1) infinite;\n",
              "  }\n",
              "\n",
              "  @keyframes spin {\n",
              "    0% {\n",
              "      border-color: transparent;\n",
              "      border-bottom-color: var(--fill-color);\n",
              "      border-left-color: var(--fill-color);\n",
              "    }\n",
              "    20% {\n",
              "      border-color: transparent;\n",
              "      border-left-color: var(--fill-color);\n",
              "      border-top-color: var(--fill-color);\n",
              "    }\n",
              "    30% {\n",
              "      border-color: transparent;\n",
              "      border-left-color: var(--fill-color);\n",
              "      border-top-color: var(--fill-color);\n",
              "      border-right-color: var(--fill-color);\n",
              "    }\n",
              "    40% {\n",
              "      border-color: transparent;\n",
              "      border-right-color: var(--fill-color);\n",
              "      border-top-color: var(--fill-color);\n",
              "    }\n",
              "    60% {\n",
              "      border-color: transparent;\n",
              "      border-right-color: var(--fill-color);\n",
              "    }\n",
              "    80% {\n",
              "      border-color: transparent;\n",
              "      border-right-color: var(--fill-color);\n",
              "      border-bottom-color: var(--fill-color);\n",
              "    }\n",
              "    90% {\n",
              "      border-color: transparent;\n",
              "      border-bottom-color: var(--fill-color);\n",
              "    }\n",
              "  }\n",
              "</style>\n",
              "\n",
              "  <script>\n",
              "    async function quickchart(key) {\n",
              "      const quickchartButtonEl =\n",
              "        document.querySelector('#' + key + ' button');\n",
              "      quickchartButtonEl.disabled = true;  // To prevent multiple clicks.\n",
              "      quickchartButtonEl.classList.add('colab-df-spinner');\n",
              "      try {\n",
              "        const charts = await google.colab.kernel.invokeFunction(\n",
              "            'suggestCharts', [key], {});\n",
              "      } catch (error) {\n",
              "        console.error('Error during call to suggestCharts:', error);\n",
              "      }\n",
              "      quickchartButtonEl.classList.remove('colab-df-spinner');\n",
              "      quickchartButtonEl.classList.add('colab-df-quickchart-complete');\n",
              "    }\n",
              "    (() => {\n",
              "      let quickchartButtonEl =\n",
              "        document.querySelector('#df-40e40791-bae9-4c10-a576-889e600bb917 button');\n",
              "      quickchartButtonEl.style.display =\n",
              "        google.colab.kernel.accessAllowed ? 'block' : 'none';\n",
              "    })();\n",
              "  </script>\n",
              "</div>\n",
              "\n",
              "    </div>\n",
              "  </div>\n"
            ],
            "application/vnd.google.colaboratory.intrinsic+json": {
              "type": "dataframe",
              "variable_name": "merg_trained_data11"
            }
          },
          "metadata": {},
          "execution_count": 20
        }
      ],
      "source": [
        "#DataFrame.head() method is used to display first 5 rows of dataframe by Default\n",
        "merg_trained_data11.head()"
      ]
    },
    {
      "cell_type": "code",
      "execution_count": 21,
      "metadata": {
        "colab": {
          "base_uri": "https://localhost:8080/"
        },
        "id": "VTQ5ikoQFp36",
        "outputId": "be9f20ed-1d0e-46b9-d902-3c494538aa94"
      },
      "outputs": [
        {
          "output_type": "stream",
          "name": "stdout",
          "text": [
            "<class 'pandas.core.frame.DataFrame'>\n",
            "Int64Index: 162758 entries, 0 to 162757\n",
            "Data columns (total 18 columns):\n",
            " #   Column                Non-Null Count   Dtype  \n",
            "---  ------                --------------   -----  \n",
            " 0   movieid               162758 non-null  object \n",
            " 1   reviewerName          162758 non-null  object \n",
            " 2   isFrequentReviewer    162758 non-null  bool   \n",
            " 3   reviewText            156311 non-null  object \n",
            " 4   sentiment             162758 non-null  object \n",
            " 5   title                 162758 non-null  object \n",
            " 6   audienceScore         149510 non-null  float64\n",
            " 7   rating                99034 non-null   object \n",
            " 8   ratingContents        99034 non-null   object \n",
            " 9   releaseDateTheaters   126924 non-null  object \n",
            " 10  releaseDateStreaming  146573 non-null  object \n",
            " 11  runtimeMinutes        159382 non-null  float64\n",
            " 12  genre                 160320 non-null  object \n",
            " 13  originalLanguage      159468 non-null  object \n",
            " 14  director              162758 non-null  object \n",
            " 15  boxOffice             109982 non-null  object \n",
            " 16  distributor           122095 non-null  object \n",
            " 17  soundType             77391 non-null   object \n",
            "dtypes: bool(1), float64(2), object(15)\n",
            "memory usage: 22.5+ MB\n"
          ]
        }
      ],
      "source": [
        "#.info is used to provide Count of Non Null values in Column with There Data Type\n",
        "merg_trained_data11.info()"
      ]
    },
    {
      "cell_type": "code",
      "execution_count": 22,
      "metadata": {
        "colab": {
          "base_uri": "https://localhost:8080/",
          "height": 300
        },
        "id": "X2QHMNA0Fp37",
        "outputId": "d2fb08b6-4989-45cc-9dba-f7f01b7eccc0"
      },
      "outputs": [
        {
          "output_type": "execute_result",
          "data": {
            "text/plain": [
              "       audienceScore  runtimeMinutes\n",
              "count  149510.000000   159382.000000\n",
              "mean       65.214541      106.911828\n",
              "std        19.937695       22.138131\n",
              "min         0.000000        4.000000\n",
              "25%        51.000000       93.000000\n",
              "50%        68.000000      104.000000\n",
              "75%        82.000000      118.000000\n",
              "max       100.000000      561.000000"
            ],
            "text/html": [
              "\n",
              "  <div id=\"df-d3f31cc0-629c-48f8-a477-f1601a3c635c\" class=\"colab-df-container\">\n",
              "    <div>\n",
              "<style scoped>\n",
              "    .dataframe tbody tr th:only-of-type {\n",
              "        vertical-align: middle;\n",
              "    }\n",
              "\n",
              "    .dataframe tbody tr th {\n",
              "        vertical-align: top;\n",
              "    }\n",
              "\n",
              "    .dataframe thead th {\n",
              "        text-align: right;\n",
              "    }\n",
              "</style>\n",
              "<table border=\"1\" class=\"dataframe\">\n",
              "  <thead>\n",
              "    <tr style=\"text-align: right;\">\n",
              "      <th></th>\n",
              "      <th>audienceScore</th>\n",
              "      <th>runtimeMinutes</th>\n",
              "    </tr>\n",
              "  </thead>\n",
              "  <tbody>\n",
              "    <tr>\n",
              "      <th>count</th>\n",
              "      <td>149510.000000</td>\n",
              "      <td>159382.000000</td>\n",
              "    </tr>\n",
              "    <tr>\n",
              "      <th>mean</th>\n",
              "      <td>65.214541</td>\n",
              "      <td>106.911828</td>\n",
              "    </tr>\n",
              "    <tr>\n",
              "      <th>std</th>\n",
              "      <td>19.937695</td>\n",
              "      <td>22.138131</td>\n",
              "    </tr>\n",
              "    <tr>\n",
              "      <th>min</th>\n",
              "      <td>0.000000</td>\n",
              "      <td>4.000000</td>\n",
              "    </tr>\n",
              "    <tr>\n",
              "      <th>25%</th>\n",
              "      <td>51.000000</td>\n",
              "      <td>93.000000</td>\n",
              "    </tr>\n",
              "    <tr>\n",
              "      <th>50%</th>\n",
              "      <td>68.000000</td>\n",
              "      <td>104.000000</td>\n",
              "    </tr>\n",
              "    <tr>\n",
              "      <th>75%</th>\n",
              "      <td>82.000000</td>\n",
              "      <td>118.000000</td>\n",
              "    </tr>\n",
              "    <tr>\n",
              "      <th>max</th>\n",
              "      <td>100.000000</td>\n",
              "      <td>561.000000</td>\n",
              "    </tr>\n",
              "  </tbody>\n",
              "</table>\n",
              "</div>\n",
              "    <div class=\"colab-df-buttons\">\n",
              "\n",
              "  <div class=\"colab-df-container\">\n",
              "    <button class=\"colab-df-convert\" onclick=\"convertToInteractive('df-d3f31cc0-629c-48f8-a477-f1601a3c635c')\"\n",
              "            title=\"Convert this dataframe to an interactive table.\"\n",
              "            style=\"display:none;\">\n",
              "\n",
              "  <svg xmlns=\"http://www.w3.org/2000/svg\" height=\"24px\" viewBox=\"0 -960 960 960\">\n",
              "    <path d=\"M120-120v-720h720v720H120Zm60-500h600v-160H180v160Zm220 220h160v-160H400v160Zm0 220h160v-160H400v160ZM180-400h160v-160H180v160Zm440 0h160v-160H620v160ZM180-180h160v-160H180v160Zm440 0h160v-160H620v160Z\"/>\n",
              "  </svg>\n",
              "    </button>\n",
              "\n",
              "  <style>\n",
              "    .colab-df-container {\n",
              "      display:flex;\n",
              "      gap: 12px;\n",
              "    }\n",
              "\n",
              "    .colab-df-convert {\n",
              "      background-color: #E8F0FE;\n",
              "      border: none;\n",
              "      border-radius: 50%;\n",
              "      cursor: pointer;\n",
              "      display: none;\n",
              "      fill: #1967D2;\n",
              "      height: 32px;\n",
              "      padding: 0 0 0 0;\n",
              "      width: 32px;\n",
              "    }\n",
              "\n",
              "    .colab-df-convert:hover {\n",
              "      background-color: #E2EBFA;\n",
              "      box-shadow: 0px 1px 2px rgba(60, 64, 67, 0.3), 0px 1px 3px 1px rgba(60, 64, 67, 0.15);\n",
              "      fill: #174EA6;\n",
              "    }\n",
              "\n",
              "    .colab-df-buttons div {\n",
              "      margin-bottom: 4px;\n",
              "    }\n",
              "\n",
              "    [theme=dark] .colab-df-convert {\n",
              "      background-color: #3B4455;\n",
              "      fill: #D2E3FC;\n",
              "    }\n",
              "\n",
              "    [theme=dark] .colab-df-convert:hover {\n",
              "      background-color: #434B5C;\n",
              "      box-shadow: 0px 1px 3px 1px rgba(0, 0, 0, 0.15);\n",
              "      filter: drop-shadow(0px 1px 2px rgba(0, 0, 0, 0.3));\n",
              "      fill: #FFFFFF;\n",
              "    }\n",
              "  </style>\n",
              "\n",
              "    <script>\n",
              "      const buttonEl =\n",
              "        document.querySelector('#df-d3f31cc0-629c-48f8-a477-f1601a3c635c button.colab-df-convert');\n",
              "      buttonEl.style.display =\n",
              "        google.colab.kernel.accessAllowed ? 'block' : 'none';\n",
              "\n",
              "      async function convertToInteractive(key) {\n",
              "        const element = document.querySelector('#df-d3f31cc0-629c-48f8-a477-f1601a3c635c');\n",
              "        const dataTable =\n",
              "          await google.colab.kernel.invokeFunction('convertToInteractive',\n",
              "                                                    [key], {});\n",
              "        if (!dataTable) return;\n",
              "\n",
              "        const docLinkHtml = 'Like what you see? Visit the ' +\n",
              "          '<a target=\"_blank\" href=https://colab.research.google.com/notebooks/data_table.ipynb>data table notebook</a>'\n",
              "          + ' to learn more about interactive tables.';\n",
              "        element.innerHTML = '';\n",
              "        dataTable['output_type'] = 'display_data';\n",
              "        await google.colab.output.renderOutput(dataTable, element);\n",
              "        const docLink = document.createElement('div');\n",
              "        docLink.innerHTML = docLinkHtml;\n",
              "        element.appendChild(docLink);\n",
              "      }\n",
              "    </script>\n",
              "  </div>\n",
              "\n",
              "\n",
              "<div id=\"df-6ec1d196-35ab-4950-9c14-9efb06e1dd58\">\n",
              "  <button class=\"colab-df-quickchart\" onclick=\"quickchart('df-6ec1d196-35ab-4950-9c14-9efb06e1dd58')\"\n",
              "            title=\"Suggest charts\"\n",
              "            style=\"display:none;\">\n",
              "\n",
              "<svg xmlns=\"http://www.w3.org/2000/svg\" height=\"24px\"viewBox=\"0 0 24 24\"\n",
              "     width=\"24px\">\n",
              "    <g>\n",
              "        <path d=\"M19 3H5c-1.1 0-2 .9-2 2v14c0 1.1.9 2 2 2h14c1.1 0 2-.9 2-2V5c0-1.1-.9-2-2-2zM9 17H7v-7h2v7zm4 0h-2V7h2v10zm4 0h-2v-4h2v4z\"/>\n",
              "    </g>\n",
              "</svg>\n",
              "  </button>\n",
              "\n",
              "<style>\n",
              "  .colab-df-quickchart {\n",
              "      --bg-color: #E8F0FE;\n",
              "      --fill-color: #1967D2;\n",
              "      --hover-bg-color: #E2EBFA;\n",
              "      --hover-fill-color: #174EA6;\n",
              "      --disabled-fill-color: #AAA;\n",
              "      --disabled-bg-color: #DDD;\n",
              "  }\n",
              "\n",
              "  [theme=dark] .colab-df-quickchart {\n",
              "      --bg-color: #3B4455;\n",
              "      --fill-color: #D2E3FC;\n",
              "      --hover-bg-color: #434B5C;\n",
              "      --hover-fill-color: #FFFFFF;\n",
              "      --disabled-bg-color: #3B4455;\n",
              "      --disabled-fill-color: #666;\n",
              "  }\n",
              "\n",
              "  .colab-df-quickchart {\n",
              "    background-color: var(--bg-color);\n",
              "    border: none;\n",
              "    border-radius: 50%;\n",
              "    cursor: pointer;\n",
              "    display: none;\n",
              "    fill: var(--fill-color);\n",
              "    height: 32px;\n",
              "    padding: 0;\n",
              "    width: 32px;\n",
              "  }\n",
              "\n",
              "  .colab-df-quickchart:hover {\n",
              "    background-color: var(--hover-bg-color);\n",
              "    box-shadow: 0 1px 2px rgba(60, 64, 67, 0.3), 0 1px 3px 1px rgba(60, 64, 67, 0.15);\n",
              "    fill: var(--button-hover-fill-color);\n",
              "  }\n",
              "\n",
              "  .colab-df-quickchart-complete:disabled,\n",
              "  .colab-df-quickchart-complete:disabled:hover {\n",
              "    background-color: var(--disabled-bg-color);\n",
              "    fill: var(--disabled-fill-color);\n",
              "    box-shadow: none;\n",
              "  }\n",
              "\n",
              "  .colab-df-spinner {\n",
              "    border: 2px solid var(--fill-color);\n",
              "    border-color: transparent;\n",
              "    border-bottom-color: var(--fill-color);\n",
              "    animation:\n",
              "      spin 1s steps(1) infinite;\n",
              "  }\n",
              "\n",
              "  @keyframes spin {\n",
              "    0% {\n",
              "      border-color: transparent;\n",
              "      border-bottom-color: var(--fill-color);\n",
              "      border-left-color: var(--fill-color);\n",
              "    }\n",
              "    20% {\n",
              "      border-color: transparent;\n",
              "      border-left-color: var(--fill-color);\n",
              "      border-top-color: var(--fill-color);\n",
              "    }\n",
              "    30% {\n",
              "      border-color: transparent;\n",
              "      border-left-color: var(--fill-color);\n",
              "      border-top-color: var(--fill-color);\n",
              "      border-right-color: var(--fill-color);\n",
              "    }\n",
              "    40% {\n",
              "      border-color: transparent;\n",
              "      border-right-color: var(--fill-color);\n",
              "      border-top-color: var(--fill-color);\n",
              "    }\n",
              "    60% {\n",
              "      border-color: transparent;\n",
              "      border-right-color: var(--fill-color);\n",
              "    }\n",
              "    80% {\n",
              "      border-color: transparent;\n",
              "      border-right-color: var(--fill-color);\n",
              "      border-bottom-color: var(--fill-color);\n",
              "    }\n",
              "    90% {\n",
              "      border-color: transparent;\n",
              "      border-bottom-color: var(--fill-color);\n",
              "    }\n",
              "  }\n",
              "</style>\n",
              "\n",
              "  <script>\n",
              "    async function quickchart(key) {\n",
              "      const quickchartButtonEl =\n",
              "        document.querySelector('#' + key + ' button');\n",
              "      quickchartButtonEl.disabled = true;  // To prevent multiple clicks.\n",
              "      quickchartButtonEl.classList.add('colab-df-spinner');\n",
              "      try {\n",
              "        const charts = await google.colab.kernel.invokeFunction(\n",
              "            'suggestCharts', [key], {});\n",
              "      } catch (error) {\n",
              "        console.error('Error during call to suggestCharts:', error);\n",
              "      }\n",
              "      quickchartButtonEl.classList.remove('colab-df-spinner');\n",
              "      quickchartButtonEl.classList.add('colab-df-quickchart-complete');\n",
              "    }\n",
              "    (() => {\n",
              "      let quickchartButtonEl =\n",
              "        document.querySelector('#df-6ec1d196-35ab-4950-9c14-9efb06e1dd58 button');\n",
              "      quickchartButtonEl.style.display =\n",
              "        google.colab.kernel.accessAllowed ? 'block' : 'none';\n",
              "    })();\n",
              "  </script>\n",
              "</div>\n",
              "\n",
              "    </div>\n",
              "  </div>\n"
            ],
            "application/vnd.google.colaboratory.intrinsic+json": {
              "type": "dataframe",
              "summary": "{\n  \"name\": \"merg_trained_data11\",\n  \"rows\": 8,\n  \"fields\": [\n    {\n      \"column\": \"audienceScore\",\n      \"properties\": {\n        \"dtype\": \"number\",\n        \"std\": 52840.273659069375,\n        \"min\": 0.0,\n        \"max\": 149510.0,\n        \"num_unique_values\": 8,\n        \"samples\": [\n          65.21454083338907,\n          68.0,\n          149510.0\n        ],\n        \"semantic_type\": \"\",\n        \"description\": \"\"\n      }\n    },\n    {\n      \"column\": \"runtimeMinutes\",\n      \"properties\": {\n        \"dtype\": \"number\",\n        \"std\": 56299.354039485945,\n        \"min\": 4.0,\n        \"max\": 159382.0,\n        \"num_unique_values\": 8,\n        \"samples\": [\n          106.91182818636986,\n          104.0,\n          159382.0\n        ],\n        \"semantic_type\": \"\",\n        \"description\": \"\"\n      }\n    }\n  ]\n}"
            }
          },
          "metadata": {},
          "execution_count": 22
        }
      ],
      "source": [
        "#.describe() method in pandas is used to generate descriptive statistics\n",
        "merg_trained_data11.describe()"
      ]
    },
    {
      "cell_type": "code",
      "execution_count": 23,
      "metadata": {
        "colab": {
          "base_uri": "https://localhost:8080/",
          "height": 840
        },
        "id": "9eUO3LUPFp38",
        "outputId": "ca27f1c1-c948-47e9-dfa5-d0e26b526469"
      },
      "outputs": [
        {
          "output_type": "display_data",
          "data": {
            "text/plain": [
              "<Figure size 1000x800 with 2 Axes>"
            ],
            "image/png": "[encoded data removed]"
          },
          "metadata": {}
        }
      ],
      "source": [
        "#By using Heatmap from seaborn Library we have vivualize null values from Merge Train DataSet\n",
        "plt.figure(figsize=(10, 8))\n",
        "sns.heatmap(merg_trained_data11.isna(), cmap='viridis')\n",
        "plt.title('Missing values in Merge Train Data')\n",
        "plt.show()"
      ]
    },
    {
      "cell_type": "code",
      "execution_count": 24,
      "metadata": {
        "colab": {
          "base_uri": "https://localhost:8080/",
          "height": 472
        },
        "id": "i4cBx3snFp39",
        "outputId": "35c81699-63bc-4673-89b0-24920a4f9094"
      },
      "outputs": [
        {
          "output_type": "display_data",
          "data": {
            "text/plain": [
              "<Figure size 640x480 with 1 Axes>"
            ],
            "image/png": "[encoded data removed]"
          },
          "metadata": {}
        }
      ],
      "source": [
        "#By using barplot we have plotted Sentiment Distribution of sentiment Column of merge tarined DataSet\n",
        "#Do value_counts on merg_trained_data11 sentiment column to get count of positive,negative in it\n",
        "pos_neg_count = merg_trained_data11['sentiment'].value_counts()\n",
        "colors11 = ['#00FF00','#F00000'] #Green red shades\n",
        "plt.bar(pos_neg_count.index, pos_neg_count.values,color=colors11) #.index retrives Index of pos_neg Counts,.values provides corresponding counts\n",
        "# Set labels and title for the plot\n",
        "plt.xlabel('Sentiment')\n",
        "plt.ylabel('Count')\n",
        "plt.title('Sentiment Distribution')\n",
        "plt.show()"
      ]
    },
    {
      "cell_type": "markdown",
      "metadata": {
        "id": "s0sDcScHFp3-"
      },
      "source": [
        "This Above Plot Indicates data is Imbalanced So it might be case it can Give biased predictions for Negative Label So tried out with Hyperparameter Tunning and SMOTE to reduce Imbalance"
      ]
    },
    {
      "cell_type": "code",
      "execution_count": 25,
      "metadata": {
        "colab": {
          "base_uri": "https://localhost:8080/",
          "height": 508
        },
        "id": "PpodG9gvFp3-",
        "outputId": "c01fd16c-d3ca-4c07-c78e-07dbc3b01d27"
      },
      "outputs": [
        {
          "output_type": "stream",
          "name": "stderr",
          "text": [
            "<ipython-input-25-80e084aaf737>:2: FutureWarning: The default value of numeric_only in DataFrame.corr is deprecated. In a future version, it will default to False. Select only valid columns or specify the value of numeric_only to silence this warning.\n",
            "  sns.heatmap(merg_trained_data11.corr(),annot=True)\n"
          ]
        },
        {
          "output_type": "execute_result",
          "data": {
            "text/plain": [
              "<Axes: >"
            ]
          },
          "metadata": {},
          "execution_count": 25
        },
        {
          "output_type": "display_data",
          "data": {
            "text/plain": [
              "<Figure size 640x480 with 2 Axes>"
            ],
            "image/png": "[encoded data removed]"
          },
          "metadata": {}
        }
      ],
      "source": [
        "#To get to know how Numerical Columns are well releated Heatmap is used to get Correlation among various Columns of Merge Train Dataset\n",
        "sns.heatmap(merg_trained_data11.corr(),annot=True)"
      ]
    },
    {
      "cell_type": "code",
      "execution_count": 26,
      "metadata": {
        "id": "S6d18FtkFp3_"
      },
      "outputs": [],
      "source": [
        "#From the Above Heatmap We can Conclude that only runtimeMinutes and audienceScore are having Some Correaltion other all columns are 0 correalted with each other\n",
        "#From this correlation chart we can Conclude that FrequentReviewer Column and audiencescore/runtimeMinutes are Weakly Correlated or Uncorreated\n",
        "#2nd Thing to Conclude audienceScore and runtimeMinutes are Weakly Correalted i.e on Avg Bases auidence Score Increases as runtimeMinutes increases"
      ]
    },
    {
      "cell_type": "code",
      "execution_count": 27,
      "metadata": {
        "colab": {
          "base_uri": "https://localhost:8080/",
          "height": 626
        },
        "id": "JT8XQjP1Fp4A",
        "outputId": "cf0ab6fa-bfed-4cff-e14f-65e839b4b092"
      },
      "outputs": [
        {
          "output_type": "display_data",
          "data": {
            "text/plain": [
              "<Figure size 800x600 with 1 Axes>"
            ],
            "image/png": "[encoded data removed]"
          },
          "metadata": {}
        }
      ],
      "source": [
        "#Above block is used to get names of Columns which are having more than 30 percent Null Values\n",
        "\n",
        "# Calculate the fraction of missing values in each column\n",
        "missing_fraction = merg_trained_data11.isna().sum() / len(merg_trained_data11)\n",
        "\n",
        "# Filter columns with missing values exceeding 30%\n",
        "columns_with_missing_Values  = missing_fraction[missing_fraction > 0.3]\n",
        "\n",
        "# Plot the percentage of missing values in each column\n",
        "plt.figure(figsize=(8, 6))\n",
        "columns_with_missing_Values.plot(kind='bar')\n",
        "plt.title('Columns with >30% Missing Values')\n",
        "plt.xlabel('Columns')\n",
        "plt.ylabel('Percentage Missing')\n",
        "plt.xticks(rotation=39)\n",
        "plt.show()"
      ]
    },
    {
      "cell_type": "code",
      "execution_count": 28,
      "metadata": {
        "id": "_mqI6nyyFp4A"
      },
      "outputs": [],
      "source": [
        "#Above Columns are Having Higher Null Values So it is Need to Either Impute Them Properly or exculded for training models"
      ]
    },
    {
      "cell_type": "code",
      "execution_count": 29,
      "metadata": {
        "id": "8fCW-9gVFp4B"
      },
      "outputs": [],
      "source": [
        "#This boxOffice_conversion function is used to preprocess boxOffice Column which are having Symbols like \"$\"/'M'/'K' which are replaced using this function\n",
        "def boxOffice_conversion(x):\n",
        "    if isinstance(x,str):\n",
        "        x= x.replace('$','').replace('M','')\n",
        "        if 'K' in x:\n",
        "            x = x.replace('K', '')\n",
        "            return float(x) * 0.001\n",
        "        else:\n",
        "            return float(x)\n",
        "    elif isinstance(x,(int,float)):\n",
        "        return float(x)\n",
        "    else:\n",
        "        return None\n"
      ]
    },
    {
      "cell_type": "code",
      "execution_count": 30,
      "metadata": {
        "id": "0aTyk2v1Fp4C"
      },
      "outputs": [],
      "source": [
        "# Function is used to clean the text using translation and Remove unused symbols\n",
        "t = str.maketrans('', '', '[],!.?\\'\"_')\n",
        "def ratingContents(a):\n",
        "    if isinstance(a, str):  # Check if the value is a string\n",
        "        ratingContents = a.translate(t)\n",
        "        return ratingContents\n",
        "    else:\n",
        "        return ''  # Return an empty string for non-string values\n"
      ]
    },
    {
      "cell_type": "code",
      "execution_count": 31,
      "metadata": {
        "id": "MvNxVYUQFp4D"
      },
      "outputs": [],
      "source": [
        "#Function soundType is used to preprocess soundType column of Merge Data\n",
        "def soundType(q):\n",
        "    if isinstance(q,str):\n",
        "         return ' '.join(q.replace(',', ' ').split())\n",
        "    else:\n",
        "         return q"
      ]
    },
    {
      "cell_type": "code",
      "execution_count": 32,
      "metadata": {
        "id": "lkWAo88KFp4D"
      },
      "outputs": [],
      "source": [
        "#Function movieid is used to preprocess movieid column of Merge Data\n",
        "def movieid(q):\n",
        "    return ' '.join(q.replace('_', ' ').split())\n"
      ]
    },
    {
      "cell_type": "code",
      "execution_count": 33,
      "metadata": {
        "id": "pWd3QquOFp4E"
      },
      "outputs": [],
      "source": [
        "#Function boxOffice_conversion is Applied to boxOffice column of merge data\n",
        "merg_trained_data11['boxOffice'] = merg_trained_data11['boxOffice'].apply(boxOffice_conversion)"
      ]
    },
    {
      "cell_type": "code",
      "execution_count": 34,
      "metadata": {
        "id": "pco6S-JRFp4F"
      },
      "outputs": [],
      "source": [
        "#Function ratingContents is Applied to ratingContents Column of merge data\n",
        "merg_trained_data11['ratingContents'] = merg_trained_data11['ratingContents'].apply(ratingContents)"
      ]
    },
    {
      "cell_type": "code",
      "execution_count": 35,
      "metadata": {
        "id": "u30RIKn1Fp4G"
      },
      "outputs": [],
      "source": [
        "#Function movieid is Applied to movieid Column of merge data\n",
        "merg_trained_data11['movieid'] = merg_trained_data11['movieid'].apply(movieid)"
      ]
    },
    {
      "cell_type": "code",
      "execution_count": 36,
      "metadata": {
        "id": "7kt01gLlFp4H"
      },
      "outputs": [],
      "source": [
        "#Function soundType is Applied to soundType Column of merge data\n",
        "merg_trained_data11['soundType'] = merg_trained_data11['soundType'].apply(soundType)"
      ]
    },
    {
      "cell_type": "code",
      "execution_count": 37,
      "metadata": {
        "colab": {
          "base_uri": "https://localhost:8080/"
        },
        "id": "QZqmD3N-Fp4v",
        "outputId": "8a3aa0d5-7cff-4db2-cf00-d1e8cdfcd23c"
      },
      "outputs": [
        {
          "output_type": "execute_result",
          "data": {
            "text/plain": [
              "Index(['movieid', 'reviewerName', 'isFrequentReviewer', 'reviewText',\n",
              "       'sentiment', 'title', 'audienceScore', 'rating', 'ratingContents',\n",
              "       'releaseDateTheaters', 'releaseDateStreaming', 'runtimeMinutes',\n",
              "       'genre', 'originalLanguage', 'director', 'boxOffice', 'distributor',\n",
              "       'soundType'],\n",
              "      dtype='object')"
            ]
          },
          "metadata": {},
          "execution_count": 37
        }
      ],
      "source": [
        "#It is used to get names of Columns in merge data\n",
        "merg_trained_data11.columns"
      ]
    },
    {
      "cell_type": "code",
      "execution_count": 38,
      "metadata": {
        "id": "mgayTvOGFp4x"
      },
      "outputs": [],
      "source": [
        "# It is used to preprocess genre Column of merge data by replacing unnecessary characters\n",
        "merg_trained_data11['genre'] = merg_trained_data11['genre'].str.replace('&',' ')"
      ]
    },
    {
      "cell_type": "code",
      "execution_count": 39,
      "metadata": {
        "id": "Jp0MZB4rFp4x"
      },
      "outputs": [],
      "source": [
        "#Selecting the columns which are Required for training model from merge data\n",
        "train_select_columns11 = merg_trained_data11[[\"reviewText\", \"audienceScore\", \"runtimeMinutes\",\"boxOffice\",\"genre\",\"originalLanguage\",'distributor',\"director\",\"rating\",\"ratingContents\",\"movieid\",\"reviewerName\",\"isFrequentReviewer\",\"title\",'soundType',\"sentiment\"]]"
      ]
    },
    {
      "cell_type": "code",
      "execution_count": 40,
      "metadata": {
        "id": "lNEAV1DQFp4y"
      },
      "outputs": [],
      "source": [
        "# Sentiment Column is Dropped from X_sel and that Label is provided to y\n",
        "X_sel = train_select_columns11.iloc[:,:-1]\n",
        "y= train_select_columns11.iloc[:,-1]"
      ]
    },
    {
      "cell_type": "code",
      "execution_count": 41,
      "metadata": {
        "id": "LQbadStsFp4z"
      },
      "outputs": [],
      "source": [
        "# Splitted Data For Evaluating models\n",
        "X_train_com22,X_test_com22,y_train_com22,y_test_com22 = train_test_split(X_sel,y,test_size=0.2,random_state=42)"
      ]
    },
    {
      "cell_type": "code",
      "execution_count": 42,
      "metadata": {
        "colab": {
          "base_uri": "https://localhost:8080/",
          "height": 447
        },
        "id": "HMb2hr3wFp4z",
        "outputId": "50fb8800-3fb6-4091-80dd-7fec6aefa70e"
      },
      "outputs": [
        {
          "output_type": "execute_result",
          "data": {
            "text/plain": [
              "<Axes: >"
            ]
          },
          "metadata": {},
          "execution_count": 42
        },
        {
          "output_type": "display_data",
          "data": {
            "text/plain": [
              "<Figure size 640x480 with 1 Axes>"
            ],
            "image/png": "[encoded data removed]"
          },
          "metadata": {}
        }
      ],
      "source": [
        "#from seaborn library .boxplot() method is used for drawing boxplot of Numerical columns in train selected dataframe\n",
        "sns.boxplot(X_train_com22)"
      ]
    },
    {
      "cell_type": "code",
      "execution_count": 43,
      "metadata": {
        "colab": {
          "base_uri": "https://localhost:8080/"
        },
        "id": "xPq36U0iFp40",
        "outputId": "e6a5532e-eed3-48b4-b8e9-3c1f407c9e2a"
      },
      "outputs": [
        {
          "output_type": "execute_result",
          "data": {
            "text/plain": [
              "3.8276676547500648"
            ]
          },
          "metadata": {},
          "execution_count": 43
        }
      ],
      "source": [
        "#It is used to Calculate Skewness of boxOffice column of train selected dataframe\n",
        "X_train_com22['boxOffice'].skew()"
      ]
    },
    {
      "cell_type": "markdown",
      "metadata": {
        "id": "qNPAGKkoFp41"
      },
      "source": [
        "As boxOffice Column of Train Dataset is Positively Skewed with skewness of 3.82.This indicates that the data distribution has a long tail on the right side, with some larger values that contribute to the skewness.If I impute it with mean it will not be considered as better Option because as boxOffice also contains Outliers so Outliers or larger values on the right side of the distribution can significantly influence the mean, pulling it towards the longer tail.So median Can be considered to impute it is a more robust measure of central tendency that is less influenced by outliers, which could provide a more accurate representation of the typical runtime"
      ]
    },
    {
      "cell_type": "code",
      "execution_count": 44,
      "metadata": {
        "colab": {
          "base_uri": "https://localhost:8080/",
          "height": 449
        },
        "id": "lMXfogPmFp41",
        "outputId": "0ebddec4-f14d-4f64-dbe6-f5f4df5289d3"
      },
      "outputs": [
        {
          "output_type": "display_data",
          "data": {
            "text/plain": [
              "<Figure size 640x480 with 1 Axes>"
            ],
            "image/png": "[encoded data removed]"
          },
          "metadata": {}
        }
      ],
      "source": [
        "#Violinplot of boxOffice Column of Train Dataset is Drawn to Indicate Distribution\n",
        "sns.violinplot(data=X_train_com22, x='boxOffice')\n",
        "plt.show()"
      ]
    },
    {
      "cell_type": "code",
      "execution_count": 45,
      "metadata": {
        "colab": {
          "base_uri": "https://localhost:8080/"
        },
        "id": "vaQUcdHAFp42",
        "outputId": "864360e4-b550-4e60-cb00-0eff7e652e6a"
      },
      "outputs": [
        {
          "output_type": "execute_result",
          "data": {
            "text/plain": [
              "-0.522208591933888"
            ]
          },
          "metadata": {},
          "execution_count": 45
        }
      ],
      "source": [
        "#It is used to Calculate Skewness of audienceScore column of train selected dataframe\n",
        "X_train_com22['audienceScore'].skew()"
      ]
    },
    {
      "cell_type": "markdown",
      "metadata": {
        "id": "yr9wtiDSFp43"
      },
      "source": [
        "As AudianceScore is Slightly Negative Skewed(0 to -1) As well as it don't have Outlier So As it is Slightly Skewed So it is having majority of its Values at Higher end Doesn't has much effect of Outlier So strategy to impute it by mean can be considered as a good option for Accurate Result"
      ]
    },
    {
      "cell_type": "code",
      "execution_count": 46,
      "metadata": {
        "colab": {
          "base_uri": "https://localhost:8080/",
          "height": 449
        },
        "id": "pKP_CBBSFp44",
        "outputId": "d8f75665-6dbd-4ad9-8890-5f78d16f1fe2"
      },
      "outputs": [
        {
          "output_type": "display_data",
          "data": {
            "text/plain": [
              "<Figure size 640x480 with 1 Axes>"
            ],
            "image/png": "[encoded data removed]"
          },
          "metadata": {}
        }
      ],
      "source": [
        "#Violinplot of audienceScore Column of Train Dataset is Drawn to Indicate Distribution\n",
        "sns.violinplot(data=X_train_com22, x='audienceScore')\n",
        "plt.show()"
      ]
    },
    {
      "cell_type": "code",
      "execution_count": 47,
      "metadata": {
        "colab": {
          "base_uri": "https://localhost:8080/"
        },
        "id": "IF6fJZ3ZFp44",
        "outputId": "2e7d067c-0607-4321-cfe7-342e0911814e"
      },
      "outputs": [
        {
          "output_type": "execute_result",
          "data": {
            "text/plain": [
              "1.8701846197915315"
            ]
          },
          "metadata": {},
          "execution_count": 47
        }
      ],
      "source": [
        "#It is used to Calculate Skewness of audienceScore column of train_selected dataframe\n",
        "X_train_com22['runtimeMinutes'].skew()"
      ]
    },
    {
      "cell_type": "markdown",
      "metadata": {
        "id": "Rq50lpnyFp45"
      },
      "source": [
        "As RuntimeMinutes Column of Train Dataset is Positively Skewed with skewness of 1.87.This indicates that the data distribution has a long tail on the right side, with some larger values that contribute to the skewness.If I impute it with mean it will not be considered as better Option because as runtimeminutes also contains Outliers so Outliers or larger values on the right side of the distribution can significantly influence the mean, pulling it towards the longer tail.So median Can be considered to impute it by median is a more robust measure of central tendency that is less influenced by outliers, which could provide a more accurate representation of the typical runtime"
      ]
    },
    {
      "cell_type": "code",
      "execution_count": 48,
      "metadata": {
        "colab": {
          "base_uri": "https://localhost:8080/",
          "height": 449
        },
        "id": "kvyVEjt1Fp46",
        "outputId": "14213c63-e5c2-4fe1-875b-f20ef8181c09"
      },
      "outputs": [
        {
          "output_type": "display_data",
          "data": {
            "text/plain": [
              "<Figure size 640x480 with 1 Axes>"
            ],
            "image/png": "[encoded data removed]"
          },
          "metadata": {}
        }
      ],
      "source": [
        "#Violinplot of runtimeMinutes Column of Train Dataset is Drawn to Indicate Distribution\n",
        "sns.violinplot(data=X_train_com22, x='runtimeMinutes')\n",
        "plt.show()"
      ]
    },
    {
      "cell_type": "code",
      "execution_count": 49,
      "metadata": {
        "colab": {
          "base_uri": "https://localhost:8080/",
          "height": 466
        },
        "id": "KERatoopFp47",
        "outputId": "1b8017cf-f4bb-49fa-a537-8a20261468e5"
      },
      "outputs": [
        {
          "output_type": "execute_result",
          "data": {
            "text/plain": [
              "<Axes: xlabel='boxOffice', ylabel='Count'>"
            ]
          },
          "metadata": {},
          "execution_count": 49
        },
        {
          "output_type": "display_data",
          "data": {
            "text/plain": [
              "<Figure size 640x480 with 1 Axes>"
            ],
            "image/png": "[encoded data removed]"
          },
          "metadata": {}
        }
      ],
      "source": [
        "#sns.histplot() is used to draw histogram of boxOffice Coloumn of train selected DataFrame through this also we can conclude skewness\n",
        "sns.histplot(data=X_train_com22, x='boxOffice', kde=True, bins=80)"
      ]
    },
    {
      "cell_type": "code",
      "execution_count": 50,
      "metadata": {
        "colab": {
          "base_uri": "https://localhost:8080/",
          "height": 819
        },
        "id": "32QWIsGhFp48",
        "outputId": "e1e36b87-c81c-4bda-c00b-c9053742e49e"
      },
      "outputs": [
        {
          "output_type": "execute_result",
          "data": {
            "text/plain": [
              "<Axes: xlabel='runtimeMinutes', ylabel='Count'>"
            ]
          },
          "metadata": {},
          "execution_count": 50
        },
        {
          "output_type": "display_data",
          "data": {
            "text/plain": [
              "<Figure size 1050x900 with 1 Axes>"
            ],
            "image/png": "[encoded data removed]"
          },
          "metadata": {}
        }
      ],
      "source": [
        "#sns.histplot() is used to draw histogram of runtimeMinutes Coloumn of train selected DataFrame through this also we can conclude skewness\n",
        "plt.figure(figsize=(7, 6), dpi=150)\n",
        "sns.histplot(data=X_train_com22, x='runtimeMinutes', kde=True, bins=100)"
      ]
    },
    {
      "cell_type": "code",
      "execution_count": 51,
      "metadata": {
        "colab": {
          "base_uri": "https://localhost:8080/",
          "height": 466
        },
        "id": "Bh5Tuk4DFp49",
        "outputId": "31ce8fb9-3b36-4ff9-9194-9d7636fa0cc7"
      },
      "outputs": [
        {
          "output_type": "execute_result",
          "data": {
            "text/plain": [
              "<Axes: xlabel='audienceScore', ylabel='Count'>"
            ]
          },
          "metadata": {},
          "execution_count": 51
        },
        {
          "output_type": "display_data",
          "data": {
            "text/plain": [
              "<Figure size 640x480 with 1 Axes>"
            ],
            "image/png": "[encoded data removed]"
          },
          "metadata": {}
        }
      ],
      "source": [
        "#.histplot() is used to draw histogram of audienceScore Coloumn of train_selected DataFrame through this also we can conclude skewness\n",
        "sns.histplot(data=X_train_com22, x='audienceScore', kde=True)"
      ]
    },
    {
      "cell_type": "code",
      "execution_count": 52,
      "metadata": {
        "colab": {
          "base_uri": "https://localhost:8080/"
        },
        "id": "GGawOy3zFp4-",
        "outputId": "b34f866a-bbdb-4a91-f0cf-62e1c8815b9a"
      },
      "outputs": [
        {
          "output_type": "execute_result",
          "data": {
            "text/plain": [
              "Index(['movieid', 'reviewerName', 'isTopCritic', 'reviewText', 'title',\n",
              "       'audienceScore', 'rating', 'ratingContents', 'releaseDateTheaters',\n",
              "       'releaseDateStreaming', 'runtimeMinutes', 'genre', 'originalLanguage',\n",
              "       'director', 'boxOffice', 'distributor', 'soundType'],\n",
              "      dtype='object')"
            ]
          },
          "metadata": {},
          "execution_count": 52
        }
      ],
      "source": [
        "#This .columns is used to get names of Column in merge_data_test dataFrame\n",
        "merg_test_data11.columns"
      ]
    },
    {
      "cell_type": "code",
      "execution_count": 53,
      "metadata": {
        "id": "446Eq2DHFp4_"
      },
      "outputs": [],
      "source": [
        "#All Functions are applied to Respective Columns of merge test data in order to preprocess same like merge train Data\n",
        "merg_test_data11['boxOffice'] = merg_test_data11['boxOffice'].apply(boxOffice_conversion)\n",
        "merg_test_data11['ratingContents'] = merg_test_data11['ratingContents'].apply(ratingContents)\n",
        "merg_test_data11['movieid'] = merg_test_data11['movieid'].apply(movieid)\n",
        "merg_test_data11['soundType'] = merg_test_data11['soundType'].apply(soundType)\n",
        "merg_test_data11['genre'] = merg_test_data11['genre'].apply(soundType)\n",
        "merg_test_data11['genre'] = merg_test_data11['genre'].str.replace('&',' ')"
      ]
    },
    {
      "cell_type": "code",
      "execution_count": 54,
      "metadata": {
        "id": "U-qvjzTSFp4_"
      },
      "outputs": [],
      "source": [
        "#Selecting the columns which are Required for test model from merge_data_test same as merge train data\n",
        "test_select_columns11 =merg_test_data11[[\"reviewText\", \"audienceScore\",\"boxOffice\", \"runtimeMinutes\",\"genre\",\"originalLanguage\",'distributor',\"director\",\"rating\",\"ratingContents\",\"movieid\",\"reviewerName\",'isTopCritic','title',\"soundType\"]]"
      ]
    },
    {
      "cell_type": "code",
      "execution_count": 55,
      "metadata": {
        "colab": {
          "base_uri": "https://localhost:8080/",
          "height": 1000
        },
        "id": "sGE7LBtHFp5A",
        "outputId": "d092683b-268d-4dce-8a9e-9a77de136b1d"
      },
      "outputs": [
        {
          "output_type": "execute_result",
          "data": {
            "text/plain": [
              "                                              reviewText  audienceScore  \\\n",
              "0      Green slowly cranks up the dread with style an...           57.0   \n",
              "1      Philip Noyce's direction is elegant and unforc...           86.0   \n",
              "2      It wouldn't do to say what path Maria ultimate...           62.0   \n",
              "3      Pig is not exactly the arthouse John Wick that...           84.0   \n",
              "4      An imaginative no-budget musical of sorts abou...            NaN   \n",
              "...                                                  ...            ...   \n",
              "55310  Ron Howard delivers an unconventional romantic...           29.0   \n",
              "55311  As an oddball art film that openly invites you...           71.0   \n",
              "55312  Nicholson wears his devilish grin from his fir...           60.0   \n",
              "55313  It's hard not be entertained by two dozen of C...           65.0   \n",
              "55314  Not clever enough for Smith fans, not gross en...           75.0   \n",
              "\n",
              "       boxOffice  runtimeMinutes                              genre  \\\n",
              "0        64.0000           111.0  Holiday Horror Mystery   thriller   \n",
              "1         6.2000            94.0                    Drama Adventure   \n",
              "2            NaN             NaN                              Drama   \n",
              "3         3.1000            92.0           Drama Mystery   thriller   \n",
              "4            NaN            66.0                      Drama Musical   \n",
              "...          ...             ...                                ...   \n",
              "55310    48.4000           111.0                             Comedy   \n",
              "55311     0.6411           116.0               Comedy Drama Fantasy   \n",
              "55312   133.8000           106.0                             Comedy   \n",
              "55313    13.3000           125.0     Musical Biography Drama Lgbtq+   \n",
              "55314    30.1000           104.0                             Comedy   \n",
              "\n",
              "      originalLanguage          distributor           director rating  \\\n",
              "0              English   Universal Pictures       Sara Barnett      R   \n",
              "1              English        Miramax Films      Cindy Flander     PG   \n",
              "2               French                  NaN  Charlotte Bramble    NaN   \n",
              "3              English                 Neon        Jean Gainer    NaN   \n",
              "4               Arabic                  NaN       Marvin Short    NaN   \n",
              "...                ...                  ...                ...    ...   \n",
              "55310          English   Universal Pictures        Jill Fraser  PG-13   \n",
              "55311          English             Indomina       Daryl Wilson    NaN   \n",
              "55312          English    Columbia Pictures       Maria Tejada  PG-13   \n",
              "55313          English  Metro-Goldwyn-Mayer  Jermaine Fantasia  PG-13   \n",
              "55314          English                  NaN      Jeffrey Hogue      R   \n",
              "\n",
              "                                          ratingContents  \\\n",
              "0      Gore Bloody Horror Violence Language Throughou...   \n",
              "1                            Emotional Thematic Material   \n",
              "2                                                          \n",
              "3                                                          \n",
              "4                                                          \n",
              "...                                                  ...   \n",
              "55310            Sexual Content Mature Thematic Elements   \n",
              "55311                                                      \n",
              "55312                      Language Crude Sexual Content   \n",
              "55313                                     Sexual Content   \n",
              "55314  Nonstop Crude Humor Drug Content Nonstop Sexua...   \n",
              "\n",
              "                                            movieid     reviewerName  \\\n",
              "0                         legend marty mcfly oracle         John Kim   \n",
              "1               terminator katniss everdeen glimmer     Brian Chaney   \n",
              "2                       james bond labyrinth gollum  Danielle Parker   \n",
              "3                         v quest han solo wondrous    Brittany Lane   \n",
              "4                     enigma hulk surreal starlight    Justin Willis   \n",
              "...                                             ...              ...   \n",
              "55310                             celestial radiant   Jose Mccormick   \n",
              "55311                           vivid james t. kirk   Thomas Osborne   \n",
              "55312  scarlett o'hara neo scarlett o'hara infinite      Julie Kirby   \n",
              "55313           terminator epic rocky balboa mystic      Tina Sutton   \n",
              "55314        wolverine enigma ellis redding gandalf    Taylor Wilcox   \n",
              "\n",
              "       isTopCritic                                         title  \\\n",
              "0            False                     Legend Marty McFly Oracle   \n",
              "1            False           Terminator Katniss Everdeen Glimmer   \n",
              "2            False                   James Bond Labyrinth Gollum   \n",
              "3            False                     V Quest Han Solo Wondrous   \n",
              "4            False                 Enigma Hulk Surreal Starlight   \n",
              "...            ...                                           ...   \n",
              "55310        False                             Celestial Radiant   \n",
              "55311        False                           Vivid James T. Kirk   \n",
              "55312        False  Scarlett O'Hara Neo Scarlett O'Hara Infinite   \n",
              "55313         True           Terminator Epic Rocky Balboa Mystic   \n",
              "55314         True        Wolverine Enigma Ellis Redding Gandalf   \n",
              "\n",
              "                                               soundType  \n",
              "0                                            Dolby Atmos  \n",
              "1      Dolby SR DTS Dolby Stereo Surround SDDS Dolby ...  \n",
              "2                                                    NaN  \n",
              "3                                                    NaN  \n",
              "4                                                    NaN  \n",
              "...                                                  ...  \n",
              "55310                                 SDDS Dolby SRD DTS  \n",
              "55311                                              Dolby  \n",
              "55312  Dolby SR DTS Dolby Stereo Surround SDDS Dolby ...  \n",
              "55313                    SDDS Dolby Digital DTS Surround  \n",
              "55314  Dolby SR DTS Dolby Stereo Surround SDDS Dolby ...  \n",
              "\n",
              "[55315 rows x 15 columns]"
            ],
            "text/html": [
              "\n",
              "  <div id=\"df-7f23be0b-dc31-4dd1-ba84-f4d940a539ab\" class=\"colab-df-container\">\n",
              "    <div>\n",
              "<style scoped>\n",
              "    .dataframe tbody tr th:only-of-type {\n",
              "        vertical-align: middle;\n",
              "    }\n",
              "\n",
              "    .dataframe tbody tr th {\n",
              "        vertical-align: top;\n",
              "    }\n",
              "\n",
              "    .dataframe thead th {\n",
              "        text-align: right;\n",
              "    }\n",
              "</style>\n",
              "<table border=\"1\" class=\"dataframe\">\n",
              "  <thead>\n",
              "    <tr style=\"text-align: right;\">\n",
              "      <th></th>\n",
              "      <th>reviewText</th>\n",
              "      <th>audienceScore</th>\n",
              "      <th>boxOffice</th>\n",
              "      <th>runtimeMinutes</th>\n",
              "      <th>genre</th>\n",
              "      <th>originalLanguage</th>\n",
              "      <th>distributor</th>\n",
              "      <th>director</th>\n",
              "      <th>rating</th>\n",
              "      <th>ratingContents</th>\n",
              "      <th>movieid</th>\n",
              "      <th>reviewerName</th>\n",
              "      <th>isTopCritic</th>\n",
              "      <th>title</th>\n",
              "      <th>soundType</th>\n",
              "    </tr>\n",
              "  </thead>\n",
              "  <tbody>\n",
              "    <tr>\n",
              "      <th>0</th>\n",
              "      <td>Green slowly cranks up the dread with style an...</td>\n",
              "      <td>57.0</td>\n",
              "      <td>64.0000</td>\n",
              "      <td>111.0</td>\n",
              "      <td>Holiday Horror Mystery   thriller</td>\n",
              "      <td>English</td>\n",
              "      <td>Universal Pictures</td>\n",
              "      <td>Sara Barnett</td>\n",
              "      <td>R</td>\n",
              "      <td>Gore Bloody Horror Violence Language Throughou...</td>\n",
              "      <td>legend marty mcfly oracle</td>\n",
              "      <td>John Kim</td>\n",
              "      <td>False</td>\n",
              "      <td>Legend Marty McFly Oracle</td>\n",
              "      <td>Dolby Atmos</td>\n",
              "    </tr>\n",
              "    <tr>\n",
              "      <th>1</th>\n",
              "      <td>Philip Noyce's direction is elegant and unforc...</td>\n",
              "      <td>86.0</td>\n",
              "      <td>6.2000</td>\n",
              "      <td>94.0</td>\n",
              "      <td>Drama Adventure</td>\n",
              "      <td>English</td>\n",
              "      <td>Miramax Films</td>\n",
              "      <td>Cindy Flander</td>\n",
              "      <td>PG</td>\n",
              "      <td>Emotional Thematic Material</td>\n",
              "      <td>terminator katniss everdeen glimmer</td>\n",
              "      <td>Brian Chaney</td>\n",
              "      <td>False</td>\n",
              "      <td>Terminator Katniss Everdeen Glimmer</td>\n",
              "      <td>Dolby SR DTS Dolby Stereo Surround SDDS Dolby ...</td>\n",
              "    </tr>\n",
              "    <tr>\n",
              "      <th>2</th>\n",
              "      <td>It wouldn't do to say what path Maria ultimate...</td>\n",
              "      <td>62.0</td>\n",
              "      <td>NaN</td>\n",
              "      <td>NaN</td>\n",
              "      <td>Drama</td>\n",
              "      <td>French</td>\n",
              "      <td>NaN</td>\n",
              "      <td>Charlotte Bramble</td>\n",
              "      <td>NaN</td>\n",
              "      <td></td>\n",
              "      <td>james bond labyrinth gollum</td>\n",
              "      <td>Danielle Parker</td>\n",
              "      <td>False</td>\n",
              "      <td>James Bond Labyrinth Gollum</td>\n",
              "      <td>NaN</td>\n",
              "    </tr>\n",
              "    <tr>\n",
              "      <th>3</th>\n",
              "      <td>Pig is not exactly the arthouse John Wick that...</td>\n",
              "      <td>84.0</td>\n",
              "      <td>3.1000</td>\n",
              "      <td>92.0</td>\n",
              "      <td>Drama Mystery   thriller</td>\n",
              "      <td>English</td>\n",
              "      <td>Neon</td>\n",
              "      <td>Jean Gainer</td>\n",
              "      <td>NaN</td>\n",
              "      <td></td>\n",
              "      <td>v quest han solo wondrous</td>\n",
              "      <td>Brittany Lane</td>\n",
              "      <td>False</td>\n",
              "      <td>V Quest Han Solo Wondrous</td>\n",
              "      <td>NaN</td>\n",
              "    </tr>\n",
              "    <tr>\n",
              "      <th>4</th>\n",
              "      <td>An imaginative no-budget musical of sorts abou...</td>\n",
              "      <td>NaN</td>\n",
              "      <td>NaN</td>\n",
              "      <td>66.0</td>\n",
              "      <td>Drama Musical</td>\n",
              "      <td>Arabic</td>\n",
              "      <td>NaN</td>\n",
              "      <td>Marvin Short</td>\n",
              "      <td>NaN</td>\n",
              "      <td></td>\n",
              "      <td>enigma hulk surreal starlight</td>\n",
              "      <td>Justin Willis</td>\n",
              "      <td>False</td>\n",
              "      <td>Enigma Hulk Surreal Starlight</td>\n",
              "      <td>NaN</td>\n",
              "    </tr>\n",
              "    <tr>\n",
              "      <th>...</th>\n",
              "      <td>...</td>\n",
              "      <td>...</td>\n",
              "      <td>...</td>\n",
              "      <td>...</td>\n",
              "      <td>...</td>\n",
              "      <td>...</td>\n",
              "      <td>...</td>\n",
              "      <td>...</td>\n",
              "      <td>...</td>\n",
              "      <td>...</td>\n",
              "      <td>...</td>\n",
              "      <td>...</td>\n",
              "      <td>...</td>\n",
              "      <td>...</td>\n",
              "      <td>...</td>\n",
              "    </tr>\n",
              "    <tr>\n",
              "      <th>55310</th>\n",
              "      <td>Ron Howard delivers an unconventional romantic...</td>\n",
              "      <td>29.0</td>\n",
              "      <td>48.4000</td>\n",
              "      <td>111.0</td>\n",
              "      <td>Comedy</td>\n",
              "      <td>English</td>\n",
              "      <td>Universal Pictures</td>\n",
              "      <td>Jill Fraser</td>\n",
              "      <td>PG-13</td>\n",
              "      <td>Sexual Content Mature Thematic Elements</td>\n",
              "      <td>celestial radiant</td>\n",
              "      <td>Jose Mccormick</td>\n",
              "      <td>False</td>\n",
              "      <td>Celestial Radiant</td>\n",
              "      <td>SDDS Dolby SRD DTS</td>\n",
              "    </tr>\n",
              "    <tr>\n",
              "      <th>55311</th>\n",
              "      <td>As an oddball art film that openly invites you...</td>\n",
              "      <td>71.0</td>\n",
              "      <td>0.6411</td>\n",
              "      <td>116.0</td>\n",
              "      <td>Comedy Drama Fantasy</td>\n",
              "      <td>English</td>\n",
              "      <td>Indomina</td>\n",
              "      <td>Daryl Wilson</td>\n",
              "      <td>NaN</td>\n",
              "      <td></td>\n",
              "      <td>vivid james t. kirk</td>\n",
              "      <td>Thomas Osborne</td>\n",
              "      <td>False</td>\n",
              "      <td>Vivid James T. Kirk</td>\n",
              "      <td>Dolby</td>\n",
              "    </tr>\n",
              "    <tr>\n",
              "      <th>55312</th>\n",
              "      <td>Nicholson wears his devilish grin from his fir...</td>\n",
              "      <td>60.0</td>\n",
              "      <td>133.8000</td>\n",
              "      <td>106.0</td>\n",
              "      <td>Comedy</td>\n",
              "      <td>English</td>\n",
              "      <td>Columbia Pictures</td>\n",
              "      <td>Maria Tejada</td>\n",
              "      <td>PG-13</td>\n",
              "      <td>Language Crude Sexual Content</td>\n",
              "      <td>scarlett o'hara neo scarlett o'hara infinite</td>\n",
              "      <td>Julie Kirby</td>\n",
              "      <td>False</td>\n",
              "      <td>Scarlett O'Hara Neo Scarlett O'Hara Infinite</td>\n",
              "      <td>Dolby SR DTS Dolby Stereo Surround SDDS Dolby ...</td>\n",
              "    </tr>\n",
              "    <tr>\n",
              "      <th>55313</th>\n",
              "      <td>It's hard not be entertained by two dozen of C...</td>\n",
              "      <td>65.0</td>\n",
              "      <td>13.3000</td>\n",
              "      <td>125.0</td>\n",
              "      <td>Musical Biography Drama Lgbtq+</td>\n",
              "      <td>English</td>\n",
              "      <td>Metro-Goldwyn-Mayer</td>\n",
              "      <td>Jermaine Fantasia</td>\n",
              "      <td>PG-13</td>\n",
              "      <td>Sexual Content</td>\n",
              "      <td>terminator epic rocky balboa mystic</td>\n",
              "      <td>Tina Sutton</td>\n",
              "      <td>True</td>\n",
              "      <td>Terminator Epic Rocky Balboa Mystic</td>\n",
              "      <td>SDDS Dolby Digital DTS Surround</td>\n",
              "    </tr>\n",
              "    <tr>\n",
              "      <th>55314</th>\n",
              "      <td>Not clever enough for Smith fans, not gross en...</td>\n",
              "      <td>75.0</td>\n",
              "      <td>30.1000</td>\n",
              "      <td>104.0</td>\n",
              "      <td>Comedy</td>\n",
              "      <td>English</td>\n",
              "      <td>NaN</td>\n",
              "      <td>Jeffrey Hogue</td>\n",
              "      <td>R</td>\n",
              "      <td>Nonstop Crude Humor Drug Content Nonstop Sexua...</td>\n",
              "      <td>wolverine enigma ellis redding gandalf</td>\n",
              "      <td>Taylor Wilcox</td>\n",
              "      <td>True</td>\n",
              "      <td>Wolverine Enigma Ellis Redding Gandalf</td>\n",
              "      <td>Dolby SR DTS Dolby Stereo Surround SDDS Dolby ...</td>\n",
              "    </tr>\n",
              "  </tbody>\n",
              "</table>\n",
              "<p>55315 rows × 15 columns</p>\n",
              "</div>\n",
              "    <div class=\"colab-df-buttons\">\n",
              "\n",
              "  <div class=\"colab-df-container\">\n",
              "    <button class=\"colab-df-convert\" onclick=\"convertToInteractive('df-7f23be0b-dc31-4dd1-ba84-f4d940a539ab')\"\n",
              "            title=\"Convert this dataframe to an interactive table.\"\n",
              "            style=\"display:none;\">\n",
              "\n",
              "  <svg xmlns=\"http://www.w3.org/2000/svg\" height=\"24px\" viewBox=\"0 -960 960 960\">\n",
              "    <path d=\"M120-120v-720h720v720H120Zm60-500h600v-160H180v160Zm220 220h160v-160H400v160Zm0 220h160v-160H400v160ZM180-400h160v-160H180v160Zm440 0h160v-160H620v160ZM180-180h160v-160H180v160Zm440 0h160v-160H620v160Z\"/>\n",
              "  </svg>\n",
              "    </button>\n",
              "\n",
              "  <style>\n",
              "    .colab-df-container {\n",
              "      display:flex;\n",
              "      gap: 12px;\n",
              "    }\n",
              "\n",
              "    .colab-df-convert {\n",
              "      background-color: #E8F0FE;\n",
              "      border: none;\n",
              "      border-radius: 50%;\n",
              "      cursor: pointer;\n",
              "      display: none;\n",
              "      fill: #1967D2;\n",
              "      height: 32px;\n",
              "      padding: 0 0 0 0;\n",
              "      width: 32px;\n",
              "    }\n",
              "\n",
              "    .colab-df-convert:hover {\n",
              "      background-color: #E2EBFA;\n",
              "      box-shadow: 0px 1px 2px rgba(60, 64, 67, 0.3), 0px 1px 3px 1px rgba(60, 64, 67, 0.15);\n",
              "      fill: #174EA6;\n",
              "    }\n",
              "\n",
              "    .colab-df-buttons div {\n",
              "      margin-bottom: 4px;\n",
              "    }\n",
              "\n",
              "    [theme=dark] .colab-df-convert {\n",
              "      background-color: #3B4455;\n",
              "      fill: #D2E3FC;\n",
              "    }\n",
              "\n",
              "    [theme=dark] .colab-df-convert:hover {\n",
              "      background-color: #434B5C;\n",
              "      box-shadow: 0px 1px 3px 1px rgba(0, 0, 0, 0.15);\n",
              "      filter: drop-shadow(0px 1px 2px rgba(0, 0, 0, 0.3));\n",
              "      fill: #FFFFFF;\n",
              "    }\n",
              "  </style>\n",
              "\n",
              "    <script>\n",
              "      const buttonEl =\n",
              "        document.querySelector('#df-7f23be0b-dc31-4dd1-ba84-f4d940a539ab button.colab-df-convert');\n",
              "      buttonEl.style.display =\n",
              "        google.colab.kernel.accessAllowed ? 'block' : 'none';\n",
              "\n",
              "      async function convertToInteractive(key) {\n",
              "        const element = document.querySelector('#df-7f23be0b-dc31-4dd1-ba84-f4d940a539ab');\n",
              "        const dataTable =\n",
              "          await google.colab.kernel.invokeFunction('convertToInteractive',\n",
              "                                                    [key], {});\n",
              "        if (!dataTable) return;\n",
              "\n",
              "        const docLinkHtml = 'Like what you see? Visit the ' +\n",
              "          '<a target=\"_blank\" href=https://colab.research.google.com/notebooks/data_table.ipynb>data table notebook</a>'\n",
              "          + ' to learn more about interactive tables.';\n",
              "        element.innerHTML = '';\n",
              "        dataTable['output_type'] = 'display_data';\n",
              "        await google.colab.output.renderOutput(dataTable, element);\n",
              "        const docLink = document.createElement('div');\n",
              "        docLink.innerHTML = docLinkHtml;\n",
              "        element.appendChild(docLink);\n",
              "      }\n",
              "    </script>\n",
              "  </div>\n",
              "\n",
              "\n",
              "<div id=\"df-b603a016-ee9c-461e-8525-1a0c47c52658\">\n",
              "  <button class=\"colab-df-quickchart\" onclick=\"quickchart('df-b603a016-ee9c-461e-8525-1a0c47c52658')\"\n",
              "            title=\"Suggest charts\"\n",
              "            style=\"display:none;\">\n",
              "\n",
              "<svg xmlns=\"http://www.w3.org/2000/svg\" height=\"24px\"viewBox=\"0 0 24 24\"\n",
              "     width=\"24px\">\n",
              "    <g>\n",
              "        <path d=\"M19 3H5c-1.1 0-2 .9-2 2v14c0 1.1.9 2 2 2h14c1.1 0 2-.9 2-2V5c0-1.1-.9-2-2-2zM9 17H7v-7h2v7zm4 0h-2V7h2v10zm4 0h-2v-4h2v4z\"/>\n",
              "    </g>\n",
              "</svg>\n",
              "  </button>\n",
              "\n",
              "<style>\n",
              "  .colab-df-quickchart {\n",
              "      --bg-color: #E8F0FE;\n",
              "      --fill-color: #1967D2;\n",
              "      --hover-bg-color: #E2EBFA;\n",
              "      --hover-fill-color: #174EA6;\n",
              "      --disabled-fill-color: #AAA;\n",
              "      --disabled-bg-color: #DDD;\n",
              "  }\n",
              "\n",
              "  [theme=dark] .colab-df-quickchart {\n",
              "      --bg-color: #3B4455;\n",
              "      --fill-color: #D2E3FC;\n",
              "      --hover-bg-color: #434B5C;\n",
              "      --hover-fill-color: #FFFFFF;\n",
              "      --disabled-bg-color: #3B4455;\n",
              "      --disabled-fill-color: #666;\n",
              "  }\n",
              "\n",
              "  .colab-df-quickchart {\n",
              "    background-color: var(--bg-color);\n",
              "    border: none;\n",
              "    border-radius: 50%;\n",
              "    cursor: pointer;\n",
              "    display: none;\n",
              "    fill: var(--fill-color);\n",
              "    height: 32px;\n",
              "    padding: 0;\n",
              "    width: 32px;\n",
              "  }\n",
              "\n",
              "  .colab-df-quickchart:hover {\n",
              "    background-color: var(--hover-bg-color);\n",
              "    box-shadow: 0 1px 2px rgba(60, 64, 67, 0.3), 0 1px 3px 1px rgba(60, 64, 67, 0.15);\n",
              "    fill: var(--button-hover-fill-color);\n",
              "  }\n",
              "\n",
              "  .colab-df-quickchart-complete:disabled,\n",
              "  .colab-df-quickchart-complete:disabled:hover {\n",
              "    background-color: var(--disabled-bg-color);\n",
              "    fill: var(--disabled-fill-color);\n",
              "    box-shadow: none;\n",
              "  }\n",
              "\n",
              "  .colab-df-spinner {\n",
              "    border: 2px solid var(--fill-color);\n",
              "    border-color: transparent;\n",
              "    border-bottom-color: var(--fill-color);\n",
              "    animation:\n",
              "      spin 1s steps(1) infinite;\n",
              "  }\n",
              "\n",
              "  @keyframes spin {\n",
              "    0% {\n",
              "      border-color: transparent;\n",
              "      border-bottom-color: var(--fill-color);\n",
              "      border-left-color: var(--fill-color);\n",
              "    }\n",
              "    20% {\n",
              "      border-color: transparent;\n",
              "      border-left-color: var(--fill-color);\n",
              "      border-top-color: var(--fill-color);\n",
              "    }\n",
              "    30% {\n",
              "      border-color: transparent;\n",
              "      border-left-color: var(--fill-color);\n",
              "      border-top-color: var(--fill-color);\n",
              "      border-right-color: var(--fill-color);\n",
              "    }\n",
              "    40% {\n",
              "      border-color: transparent;\n",
              "      border-right-color: var(--fill-color);\n",
              "      border-top-color: var(--fill-color);\n",
              "    }\n",
              "    60% {\n",
              "      border-color: transparent;\n",
              "      border-right-color: var(--fill-color);\n",
              "    }\n",
              "    80% {\n",
              "      border-color: transparent;\n",
              "      border-right-color: var(--fill-color);\n",
              "      border-bottom-color: var(--fill-color);\n",
              "    }\n",
              "    90% {\n",
              "      border-color: transparent;\n",
              "      border-bottom-color: var(--fill-color);\n",
              "    }\n",
              "  }\n",
              "</style>\n",
              "\n",
              "  <script>\n",
              "    async function quickchart(key) {\n",
              "      const quickchartButtonEl =\n",
              "        document.querySelector('#' + key + ' button');\n",
              "      quickchartButtonEl.disabled = true;  // To prevent multiple clicks.\n",
              "      quickchartButtonEl.classList.add('colab-df-spinner');\n",
              "      try {\n",
              "        const charts = await google.colab.kernel.invokeFunction(\n",
              "            'suggestCharts', [key], {});\n",
              "      } catch (error) {\n",
              "        console.error('Error during call to suggestCharts:', error);\n",
              "      }\n",
              "      quickchartButtonEl.classList.remove('colab-df-spinner');\n",
              "      quickchartButtonEl.classList.add('colab-df-quickchart-complete');\n",
              "    }\n",
              "    (() => {\n",
              "      let quickchartButtonEl =\n",
              "        document.querySelector('#df-b603a016-ee9c-461e-8525-1a0c47c52658 button');\n",
              "      quickchartButtonEl.style.display =\n",
              "        google.colab.kernel.accessAllowed ? 'block' : 'none';\n",
              "    })();\n",
              "  </script>\n",
              "</div>\n",
              "\n",
              "  <div id=\"id_a36ee809-f974-48a2-b08e-5a14d4e2b096\">\n",
              "    <style>\n",
              "      .colab-df-generate {\n",
              "        background-color: #E8F0FE;\n",
              "        border: none;\n",
              "        border-radius: 50%;\n",
              "        cursor: pointer;\n",
              "        display: none;\n",
              "        fill: #1967D2;\n",
              "        height: 32px;\n",
              "        padding: 0 0 0 0;\n",
              "        width: 32px;\n",
              "      }\n",
              "\n",
              "      .colab-df-generate:hover {\n",
              "        background-color: #E2EBFA;\n",
              "        box-shadow: 0px 1px 2px rgba(60, 64, 67, 0.3), 0px 1px 3px 1px rgba(60, 64, 67, 0.15);\n",
              "        fill: #174EA6;\n",
              "      }\n",
              "\n",
              "      [theme=dark] .colab-df-generate {\n",
              "        background-color: #3B4455;\n",
              "        fill: #D2E3FC;\n",
              "      }\n",
              "\n",
              "      [theme=dark] .colab-df-generate:hover {\n",
              "        background-color: #434B5C;\n",
              "        box-shadow: 0px 1px 3px 1px rgba(0, 0, 0, 0.15);\n",
              "        filter: drop-shadow(0px 1px 2px rgba(0, 0, 0, 0.3));\n",
              "        fill: #FFFFFF;\n",
              "      }\n",
              "    </style>\n",
              "    <button class=\"colab-df-generate\" onclick=\"generateWithVariable('test_select_columns11')\"\n",
              "            title=\"Generate code using this dataframe.\"\n",
              "            style=\"display:none;\">\n",
              "\n",
              "  <svg xmlns=\"http://www.w3.org/2000/svg\" height=\"24px\"viewBox=\"0 0 24 24\"\n",
              "       width=\"24px\">\n",
              "    <path d=\"M7,19H8.4L18.45,9,17,7.55,7,17.6ZM5,21V16.75L18.45,3.32a2,2,0,0,1,2.83,0l1.4,1.43a1.91,1.91,0,0,1,.58,1.4,1.91,1.91,0,0,1-.58,1.4L9.25,21ZM18.45,9,17,7.55Zm-12,3A5.31,5.31,0,0,0,4.9,8.1,5.31,5.31,0,0,0,1,6.5,5.31,5.31,0,0,0,4.9,4.9,5.31,5.31,0,0,0,6.5,1,5.31,5.31,0,0,0,8.1,4.9,5.31,5.31,0,0,0,12,6.5,5.46,5.46,0,0,0,6.5,12Z\"/>\n",
              "  </svg>\n",
              "    </button>\n",
              "    <script>\n",
              "      (() => {\n",
              "      const buttonEl =\n",
              "        document.querySelector('#id_a36ee809-f974-48a2-b08e-5a14d4e2b096 button.colab-df-generate');\n",
              "      buttonEl.style.display =\n",
              "        google.colab.kernel.accessAllowed ? 'block' : 'none';\n",
              "\n",
              "      buttonEl.onclick = () => {\n",
              "        google.colab.notebook.generateWithVariable('test_select_columns11');\n",
              "      }\n",
              "      })();\n",
              "    </script>\n",
              "  </div>\n",
              "\n",
              "    </div>\n",
              "  </div>\n"
            ],
            "application/vnd.google.colaboratory.intrinsic+json": {
              "type": "dataframe",
              "variable_name": "test_select_columns11",
              "summary": "{\n  \"name\": \"test_select_columns11\",\n  \"rows\": 55315,\n  \"fields\": [\n    {\n      \"column\": \"reviewText\",\n      \"properties\": {\n        \"dtype\": \"string\",\n        \"num_unique_values\": 52686,\n        \"samples\": [\n          \"It'd be more openly ridiculous, feel far more manipulative, if not for Damon's performance... [His] magic is in making a certain plainness, a near-anonymity, defiantly charismatic.\",\n          \"Harron's thoughtful, psychologically complex approach to films about killers and pinup models have a way of undermining the subject's inherent salaciousness.\",\n          \"A rich, challenging mood piece that may not cohere thematically but takes us on a compelling, unique journey.\"\n        ],\n        \"semantic_type\": \"\",\n        \"description\": \"\"\n      }\n    },\n    {\n      \"column\": \"audienceScore\",\n      \"properties\": {\n        \"dtype\": \"number\",\n        \"std\": 20.10876435670682,\n        \"min\": 0.0,\n        \"max\": 100.0,\n        \"num_unique_values\": 100,\n        \"samples\": [\n          23.0,\n          99.0,\n          50.0\n        ],\n        \"semantic_type\": \"\",\n        \"description\": \"\"\n      }\n    },\n    {\n      \"column\": \"boxOffice\",\n      \"properties\": {\n        \"dtype\": \"number\",\n        \"std\": 89.58711507771783,\n        \"min\": 0.0,\n        \"max\": 978.0,\n        \"num_unique_values\": 3522,\n        \"samples\": [\n          165.0,\n          0.305,\n          0.025500000000000002\n        ],\n        \"semantic_type\": \"\",\n        \"description\": \"\"\n      }\n    },\n    {\n      \"column\": \"runtimeMinutes\",\n      \"properties\": {\n        \"dtype\": \"number\",\n        \"std\": 22.146178407568495,\n        \"min\": 4.0,\n        \"max\": 561.0,\n        \"num_unique_values\": 218,\n        \"samples\": [\n          142.0,\n          238.0,\n          56.0\n        ],\n        \"semantic_type\": \"\",\n        \"description\": \"\"\n      }\n    },\n    {\n      \"column\": \"genre\",\n      \"properties\": {\n        \"dtype\": \"category\",\n        \"num_unique_values\": 1157,\n        \"samples\": [\n          \"Western Biography\",\n          \"Comedy Drama Romance Music\",\n          \"Drama Music\"\n        ],\n        \"semantic_type\": \"\",\n        \"description\": \"\"\n      }\n    },\n    {\n      \"column\": \"originalLanguage\",\n      \"properties\": {\n        \"dtype\": \"category\",\n        \"num_unique_values\": 90,\n        \"samples\": [\n          \"Danish\",\n          \"Bambara\",\n          \"Croatian\"\n        ],\n        \"semantic_type\": \"\",\n        \"description\": \"\"\n      }\n    },\n    {\n      \"column\": \"distributor\",\n      \"properties\": {\n        \"dtype\": \"category\",\n        \"num_unique_values\": 1616,\n        \"samples\": [\n          \"United Artists Releasing\",\n          \"TriStar Pictures, Columbia Tristar\",\n          \"Area23a, WestMidWest Productions\"\n        ],\n        \"semantic_type\": \"\",\n        \"description\": \"\"\n      }\n    },\n    {\n      \"column\": \"director\",\n      \"properties\": {\n        \"dtype\": \"category\",\n        \"num_unique_values\": 9479,\n        \"samples\": [\n          \"Annette Lumpkin\",\n          \"James Buchanan\",\n          \"Amy Turk\"\n        ],\n        \"semantic_type\": \"\",\n        \"description\": \"\"\n      }\n    },\n    {\n      \"column\": \"rating\",\n      \"properties\": {\n        \"dtype\": \"category\",\n        \"num_unique_values\": 7,\n        \"samples\": [\n          \"R\",\n          \"PG\",\n          \"TVPG\"\n        ],\n        \"semantic_type\": \"\",\n        \"description\": \"\"\n      }\n    },\n    {\n      \"column\": \"ratingContents\",\n      \"properties\": {\n        \"dtype\": \"category\",\n        \"num_unique_values\": 4472,\n        \"samples\": [\n          \"Some Sexual Content Language Disturbing Images\",\n          \"Strong Bloody Violence Some Language Graphic Nudity\",\n          \"Language Drug Content Partial Nudity Sexual Situations Some Violence\"\n        ],\n        \"semantic_type\": \"\",\n        \"description\": \"\"\n      }\n    },\n    {\n      \"column\": \"movieid\",\n      \"properties\": {\n        \"dtype\": \"category\",\n        \"num_unique_values\": 16786,\n        \"samples\": [\n          \"katniss everdeen jon snow norman bates\",\n          \"michael corleone hermione granger treasure james bond\",\n          \"scarlett o'hara terminator hulk\"\n        ],\n        \"semantic_type\": \"\",\n        \"description\": \"\"\n      }\n    },\n    {\n      \"column\": \"reviewerName\",\n      \"properties\": {\n        \"dtype\": \"category\",\n        \"num_unique_values\": 4495,\n        \"samples\": [\n          \"Laura Dickerson\",\n          \"Monica Ochoa\",\n          \"Carol George\"\n        ],\n        \"semantic_type\": \"\",\n        \"description\": \"\"\n      }\n    },\n    {\n      \"column\": \"isTopCritic\",\n      \"properties\": {\n        \"dtype\": \"boolean\",\n        \"num_unique_values\": 2,\n        \"samples\": [\n          true,\n          false\n        ],\n        \"semantic_type\": \"\",\n        \"description\": \"\"\n      }\n    },\n    {\n      \"column\": \"title\",\n      \"properties\": {\n        \"dtype\": \"category\",\n        \"num_unique_values\": 16786,\n        \"samples\": [\n          \"Katniss Everdeen Jon Snow Norman Bates\",\n          \"Michael Corleone Hermione Granger Treasure James Bond\"\n        ],\n        \"semantic_type\": \"\",\n        \"description\": \"\"\n      }\n    },\n    {\n      \"column\": \"soundType\",\n      \"properties\": {\n        \"dtype\": \"category\",\n        \"num_unique_values\": 433,\n        \"samples\": [\n          \"Surround Dolby SR Dolby Digital DTS Dolby Stereo\",\n          \"Dolby Stereo Dolby Digital Dolby A Surround DTS Dolby SR\"\n        ],\n        \"semantic_type\": \"\",\n        \"description\": \"\"\n      }\n    }\n  ]\n}"
            }
          },
          "metadata": {},
          "execution_count": 55
        }
      ],
      "source": [
        "#Through this we can see top 5 and bottom 5 headers of dataframe\n",
        "test_select_columns11"
      ]
    },
    {
      "cell_type": "markdown",
      "metadata": {
        "id": "50d_9Q1eFp5B"
      },
      "source": [
        "# Detecting Null/missing values in data and imputating Using SimpleImputer"
      ]
    },
    {
      "cell_type": "code",
      "execution_count": 56,
      "metadata": {
        "colab": {
          "base_uri": "https://localhost:8080/"
        },
        "id": "1L0VbnqZFp5B",
        "outputId": "613ed401-64a6-43d4-82b4-f7194c431a41"
      },
      "outputs": [
        {
          "output_type": "execute_result",
          "data": {
            "text/plain": [
              "reviewText             5228\n",
              "audienceScore         10617\n",
              "runtimeMinutes         2695\n",
              "boxOffice             42186\n",
              "genre                  1964\n",
              "originalLanguage       2648\n",
              "distributor           32570\n",
              "director                  0\n",
              "rating                51013\n",
              "ratingContents            0\n",
              "movieid                   0\n",
              "reviewerName              0\n",
              "isFrequentReviewer        0\n",
              "title                     0\n",
              "soundType             68262\n",
              "dtype: int64"
            ]
          },
          "metadata": {},
          "execution_count": 56
        }
      ],
      "source": [
        "#It is used to compute sum of Missing values of X_train_com22 dataframe\n",
        "X_train_com22.isna().sum()"
      ]
    },
    {
      "cell_type": "code",
      "execution_count": 57,
      "metadata": {
        "colab": {
          "base_uri": "https://localhost:8080/"
        },
        "id": "Yo524eOXFp5C",
        "outputId": "1c6e0488-2598-447b-b4a3-abb054ee69d7"
      },
      "outputs": [
        {
          "output_type": "stream",
          "name": "stderr",
          "text": [
            "<ipython-input-57-691383589ef8>:7: SettingWithCopyWarning: \n",
            "A value is trying to be set on a copy of a slice from a DataFrame.\n",
            "Try using .loc[row_indexer,col_indexer] = value instead\n",
            "\n",
            "See the caveats in the documentation: https://pandas.pydata.org/pandas-docs/stable/user_guide/indexing.html#returning-a-view-versus-a-copy\n",
            "  test_select_columns11['boxOffice'] = si1.transform(test_select_columns11[['boxOffice']])\n",
            "<ipython-input-57-691383589ef8>:10: SettingWithCopyWarning: \n",
            "A value is trying to be set on a copy of a slice from a DataFrame.\n",
            "Try using .loc[row_indexer,col_indexer] = value instead\n",
            "\n",
            "See the caveats in the documentation: https://pandas.pydata.org/pandas-docs/stable/user_guide/indexing.html#returning-a-view-versus-a-copy\n",
            "  test_select_columns11['runtimeMinutes'] = si1.transform(test_select_columns11[['runtimeMinutes']])\n",
            "<ipython-input-57-691383589ef8>:16: SettingWithCopyWarning: \n",
            "A value is trying to be set on a copy of a slice from a DataFrame.\n",
            "Try using .loc[row_indexer,col_indexer] = value instead\n",
            "\n",
            "See the caveats in the documentation: https://pandas.pydata.org/pandas-docs/stable/user_guide/indexing.html#returning-a-view-versus-a-copy\n",
            "  test_select_columns11['audienceScore'] = si2.transform(test_select_columns11[['audienceScore']])\n",
            "<ipython-input-57-691383589ef8>:24: SettingWithCopyWarning: \n",
            "A value is trying to be set on a copy of a slice from a DataFrame.\n",
            "Try using .loc[row_indexer,col_indexer] = value instead\n",
            "\n",
            "See the caveats in the documentation: https://pandas.pydata.org/pandas-docs/stable/user_guide/indexing.html#returning-a-view-versus-a-copy\n",
            "  test_select_columns11['reviewText'] = si3.transform(test_select_columns11[['reviewText']])\n",
            "<ipython-input-57-691383589ef8>:27: SettingWithCopyWarning: \n",
            "A value is trying to be set on a copy of a slice from a DataFrame.\n",
            "Try using .loc[row_indexer,col_indexer] = value instead\n",
            "\n",
            "See the caveats in the documentation: https://pandas.pydata.org/pandas-docs/stable/user_guide/indexing.html#returning-a-view-versus-a-copy\n",
            "  test_select_columns11['genre'] = si3.transform(test_select_columns11[['genre']])\n",
            "<ipython-input-57-691383589ef8>:30: SettingWithCopyWarning: \n",
            "A value is trying to be set on a copy of a slice from a DataFrame.\n",
            "Try using .loc[row_indexer,col_indexer] = value instead\n",
            "\n",
            "See the caveats in the documentation: https://pandas.pydata.org/pandas-docs/stable/user_guide/indexing.html#returning-a-view-versus-a-copy\n",
            "  test_select_columns11['distributor'] = si3.transform(test_select_columns11[['distributor']])\n",
            "<ipython-input-57-691383589ef8>:33: SettingWithCopyWarning: \n",
            "A value is trying to be set on a copy of a slice from a DataFrame.\n",
            "Try using .loc[row_indexer,col_indexer] = value instead\n",
            "\n",
            "See the caveats in the documentation: https://pandas.pydata.org/pandas-docs/stable/user_guide/indexing.html#returning-a-view-versus-a-copy\n",
            "  test_select_columns11['originalLanguage'] = si3.transform(test_select_columns11[['originalLanguage']])\n",
            "<ipython-input-57-691383589ef8>:36: SettingWithCopyWarning: \n",
            "A value is trying to be set on a copy of a slice from a DataFrame.\n",
            "Try using .loc[row_indexer,col_indexer] = value instead\n",
            "\n",
            "See the caveats in the documentation: https://pandas.pydata.org/pandas-docs/stable/user_guide/indexing.html#returning-a-view-versus-a-copy\n",
            "  test_select_columns11['rating'] = si3.transform(test_select_columns11[['rating']])\n",
            "<ipython-input-57-691383589ef8>:39: SettingWithCopyWarning: \n",
            "A value is trying to be set on a copy of a slice from a DataFrame.\n",
            "Try using .loc[row_indexer,col_indexer] = value instead\n",
            "\n",
            "See the caveats in the documentation: https://pandas.pydata.org/pandas-docs/stable/user_guide/indexing.html#returning-a-view-versus-a-copy\n",
            "  test_select_columns11['soundType'] = si3.transform(test_select_columns11[['soundType']])\n"
          ]
        }
      ],
      "source": [
        "#Simple Imputer is used to impute null values in X_train_com2 and Transform same in X_test_com22\n",
        "\n",
        "#In si1 imputer strategy to impute null values is selected as median as \"boxOffice\",\"runtimeMinutes\" column of X_train_com22 having Positive Skewness with Outliers\n",
        "si1 = SimpleImputer(missing_values=np.nan,strategy='median')\n",
        "X_train_com22['boxOffice'] = si1.fit_transform(X_train_com22[['boxOffice']])\n",
        "X_test_com22['boxOffice'] = si1.transform(X_test_com22[['boxOffice']])\n",
        "test_select_columns11['boxOffice'] = si1.transform(test_select_columns11[['boxOffice']])\n",
        "X_train_com22['runtimeMinutes'] = si1.fit_transform(X_train_com22[['runtimeMinutes']])\n",
        "X_test_com22['runtimeMinutes'] = si1.transform(X_test_com22[['runtimeMinutes']])\n",
        "test_select_columns11['runtimeMinutes'] = si1.transform(test_select_columns11[['runtimeMinutes']])\n",
        "\n",
        "#In si2 imputer strategy to impute null values is selected as mean as \"audienceScore\" column of X_train_com22 having Slightly Negative Skewness(0 to -1)\n",
        "si2 = SimpleImputer(missing_values=np.nan,strategy='mean')\n",
        "X_train_com22['audienceScore'] = si2.fit_transform(X_train_com22[['audienceScore']])\n",
        "X_test_com22['audienceScore'] = si2.transform(X_test_com22[['audienceScore']])\n",
        "test_select_columns11['audienceScore'] = si2.transform(test_select_columns11[['audienceScore']])\n",
        "\n",
        "\n",
        "#In si3 imputer strategy to impute null values is selected as contant as \"reviewText\",\"genre\",\"distributor\",\"originalLanguage\" columns\n",
        "#of X_train_com22 having text data so it would be better to fill it with space\n",
        "si3 = SimpleImputer(missing_values=np.nan,strategy='constant',fill_value='')\n",
        "X_train_com22['reviewText'] = si3.fit_transform(X_train_com22[['reviewText']])\n",
        "X_test_com22['reviewText'] = si3.transform(X_test_com22[['reviewText']])\n",
        "test_select_columns11['reviewText'] = si3.transform(test_select_columns11[['reviewText']])\n",
        "X_train_com22['genre'] = si3.fit_transform(X_train_com22[['genre']])\n",
        "X_test_com22['genre'] = si3.transform(X_test_com22[['genre']])\n",
        "test_select_columns11['genre'] = si3.transform(test_select_columns11[['genre']])\n",
        "X_train_com22['distributor'] = si3.fit_transform(X_train_com22[['distributor']])\n",
        "X_test_com22['distributor'] = si3.transform(X_test_com22[['distributor']])\n",
        "test_select_columns11['distributor'] = si3.transform(test_select_columns11[['distributor']])\n",
        "X_train_com22['originalLanguage'] = si3.fit_transform(X_train_com22[['originalLanguage']])\n",
        "X_test_com22['originalLanguage'] = si3.transform(X_test_com22[['originalLanguage']])\n",
        "test_select_columns11['originalLanguage'] = si3.transform(test_select_columns11[['originalLanguage']])\n",
        "X_train_com22['rating'] = si3.fit_transform(X_train_com22[['rating']])\n",
        "X_test_com22['rating'] = si3.transform(X_test_com22[['rating']])\n",
        "test_select_columns11['rating'] = si3.transform(test_select_columns11[['rating']])\n",
        "X_train_com22['soundType'] = si3.fit_transform(X_train_com22[['soundType']])\n",
        "X_test_com22['soundType'] = si3.transform(X_test_com22[['soundType']])\n",
        "test_select_columns11['soundType'] = si3.transform(test_select_columns11[['soundType']])"
      ]
    },
    {
      "cell_type": "markdown",
      "metadata": {
        "id": "mcJo9ixEFp5D"
      },
      "source": [
        "# Scaling numerical features Using Standard Scaler and Robust Scaler"
      ]
    },
    {
      "cell_type": "code",
      "execution_count": 58,
      "metadata": {
        "colab": {
          "base_uri": "https://localhost:8080/"
        },
        "id": "z7aNCGmnFp5E",
        "outputId": "6bc8f360-3c4d-4971-c177-a33e164b2b0a"
      },
      "outputs": [
        {
          "output_type": "stream",
          "name": "stderr",
          "text": [
            "<ipython-input-58-4330c6e260fa>:7: SettingWithCopyWarning: \n",
            "A value is trying to be set on a copy of a slice from a DataFrame.\n",
            "Try using .loc[row_indexer,col_indexer] = value instead\n",
            "\n",
            "See the caveats in the documentation: https://pandas.pydata.org/pandas-docs/stable/user_guide/indexing.html#returning-a-view-versus-a-copy\n",
            "  test_select_columns11['audienceScore'] = scaler.transform(test_select_columns11[['audienceScore']])\n",
            "<ipython-input-58-4330c6e260fa>:17: SettingWithCopyWarning: \n",
            "A value is trying to be set on a copy of a slice from a DataFrame.\n",
            "Try using .loc[row_indexer,col_indexer] = value instead\n",
            "\n",
            "See the caveats in the documentation: https://pandas.pydata.org/pandas-docs/stable/user_guide/indexing.html#returning-a-view-versus-a-copy\n",
            "  test_select_columns11['boxOffice'] = robust.transform(test_select_columns11[['boxOffice']])\n",
            "<ipython-input-58-4330c6e260fa>:24: SettingWithCopyWarning: \n",
            "A value is trying to be set on a copy of a slice from a DataFrame.\n",
            "Try using .loc[row_indexer,col_indexer] = value instead\n",
            "\n",
            "See the caveats in the documentation: https://pandas.pydata.org/pandas-docs/stable/user_guide/indexing.html#returning-a-view-versus-a-copy\n",
            "  test_select_columns11['runtimeMinutes'] = robust.transform(test_select_columns11[['runtimeMinutes']])\n"
          ]
        }
      ],
      "source": [
        "#Standard scaler is used to Scale Numerical Features through which it is Ensured that they are Compatible Scale\n",
        "scaler = StandardScaler()\n",
        "\n",
        "#Here I fit transformed audienceScore Column of X_train_com22 by using Standard Scaler and transfomed test data Accordingly\n",
        "X_train_com22['audienceScore'] = scaler.fit_transform(X_train_com22[['audienceScore']])\n",
        "X_test_com22['audienceScore'] = scaler.transform(X_test_com22[['audienceScore']])\n",
        "test_select_columns11['audienceScore'] = scaler.transform(test_select_columns11[['audienceScore']])\n",
        "\n",
        "# The RobustScaler method scales features using statistics that are robust to the presence of outliers.\n",
        "# Instead of using the mean and standard deviation like in Standard Scaler,\n",
        "# it uses the median and the interquartile range (IQR) to scale the data.\n",
        "robust = RobustScaler()\n",
        "\n",
        "#Here I fit transformed boxOffice Column of X_train_com22 by using Robust Scaler as it contains Outlier and transfomed test data Accordingly\n",
        "X_train_com22['boxOffice'] = robust.fit_transform(X_train_com22[['boxOffice']])\n",
        "X_test_com22['boxOffice'] = robust.transform(X_test_com22[['boxOffice']])\n",
        "test_select_columns11['boxOffice'] = robust.transform(test_select_columns11[['boxOffice']])\n",
        "\n",
        "\n",
        "\n",
        "#Here I fit transformed runtimeMinutes Column of train selected by using Robust Scaler as it contains Outliers and transfomed test data Accordingly\n",
        "X_train_com22['runtimeMinutes'] = robust.fit_transform(X_train_com22[['runtimeMinutes']])\n",
        "X_test_com22['runtimeMinutes'] = robust.transform(X_test_com22[['runtimeMinutes']])\n",
        "test_select_columns11['runtimeMinutes'] = robust.transform(test_select_columns11[['runtimeMinutes']])"
      ]
    },
    {
      "cell_type": "markdown",
      "metadata": {
        "id": "9AuJ88AnFp5F"
      },
      "source": [
        "# Label Encoder for Encoding Categorical Features"
      ]
    },
    {
      "cell_type": "code",
      "execution_count": 59,
      "metadata": {
        "id": "cpOKp9ODFp5F"
      },
      "outputs": [],
      "source": [
        "#Here Label Encoder is Used for replacing Positive,Negative values in sentiment Column of train_selected by 1,0 respectively\n",
        "y_train_com22 = y_train_com22.replace(['POSITIVE','NEGATIVE'],[1,0])\n"
      ]
    },
    {
      "cell_type": "code",
      "execution_count": 60,
      "metadata": {
        "id": "fxFmQS1KFp5G"
      },
      "outputs": [],
      "source": [
        "#Here Label Encoder is Used for replacing Positive,Negative values in sentiment Column of test by 1,0 respectively\n",
        "y_test_com22 = y_test_com22.replace(['POSITIVE','NEGATIVE'],[1,0])"
      ]
    },
    {
      "cell_type": "markdown",
      "metadata": {
        "id": "2qJnuKy6Fp5H"
      },
      "source": [
        "# Text Combining and Vectorizing"
      ]
    },
    {
      "cell_type": "code",
      "execution_count": 61,
      "metadata": {
        "id": "JWHZbCCEFp5H"
      },
      "outputs": [],
      "source": [
        "#Concating text Columns\n",
        "train_com_train =pd.concat([X_train_com22['reviewText'],X_train_com22['genre'],X_train_com22['originalLanguage'],X_train_com22['distributor'],X_train_com22['director'],X_train_com22['rating'],X_train_com22['ratingContents'],X_train_com22['movieid'],X_train_com22['reviewerName'],X_train_com22['isFrequentReviewer'],X_train_com22['title'],X_train_com22['soundType']],axis=1)\n",
        "#New Column is added namely Combined text which Containes Cobmination all Columns Combined\n",
        "train_com_train['combined_text'] = train_com_train['reviewText'] + ' ' + train_com_train['genre']+ ' '+train_com_train['originalLanguage']+ ' ' +train_com_train['distributor']+' '+train_com_train['director']+ ' '+train_com_train['rating']+' '+train_com_train['ratingContents']+' '+train_com_train['movieid']+' '+train_com_train['reviewerName']+' '+train_com_train['isFrequentReviewer'].astype(str)+' '+train_com_train['title']+' '+train_com_train['soundType']"
      ]
    },
    {
      "cell_type": "code",
      "execution_count": 62,
      "metadata": {
        "id": "UgUM_ldnFp5I"
      },
      "outputs": [],
      "source": [
        "#Concating text Columns\n",
        "test_com_test =pd.concat([X_test_com22['reviewText'],X_test_com22['genre'],X_test_com22['originalLanguage'],X_test_com22['distributor'],X_test_com22['director'],X_test_com22['rating'],X_test_com22['ratingContents'],X_test_com22['movieid'],X_test_com22['reviewerName'],X_test_com22['isFrequentReviewer'],X_test_com22['title'],X_test_com22['soundType']],axis=1)\n",
        "#New Column is added namely Combined text which Containes Cobmination all Columns Combined\n",
        "test_com_test['combined_text'] = test_com_test['reviewText'] + ' ' + test_com_test['genre']+ ' '+test_com_test['originalLanguage']+ ' ' +test_com_test['distributor']+' '+test_com_test['director']+ ' '+test_com_test['rating']+' '+test_com_test['ratingContents']+' '+test_com_test['movieid']+' '+test_com_test['reviewerName']+' '+test_com_test['isFrequentReviewer'].astype(str)+' '+test_com_test['title']+' '+test_com_test['soundType']"
      ]
    },
    {
      "cell_type": "code",
      "execution_count": 63,
      "metadata": {
        "id": "avXLf_hwFp5J"
      },
      "outputs": [],
      "source": [
        "#Concating text Columns\n",
        "test_com =pd.concat([test_select_columns11['reviewText'],test_select_columns11['genre'],test_select_columns11['originalLanguage'],test_select_columns11['distributor'],test_select_columns11['director'],test_select_columns11['rating'],test_select_columns11['ratingContents'],test_select_columns11['movieid'],test_select_columns11['reviewerName'],test_select_columns11['isTopCritic'],test_select_columns11['title'],test_select_columns11['soundType']],axis=1)\n",
        "#New Column is added namely Combined text which Containes Cobmination all Columns Combined\n",
        "test_com['combined_text'] = test_com['reviewText'] + ' ' + test_com['genre']+ ' '+test_com['originalLanguage']+ ' ' +test_com['distributor']+' '+test_com['director']+' '+test_com['rating']+' '+test_com['ratingContents']+' '+test_com['movieid']+' '+test_com['reviewerName']+' '+test_com['isTopCritic'].astype(str)+' '+test_com['title']+' '+test_com['soundType']"
      ]
    },
    {
      "cell_type": "markdown",
      "metadata": {
        "id": "YhlIPDY_Fp5J"
      },
      "source": [
        "* **TFIDF Vectorizer** -\n",
        "  Term Frequency-Inverse Document Frequency(TFIDF) is used to get importance of word in particular document by knowing its Term frequency value in Large Corpus of Words,Term Frequency is Count of word in Document divided total number of words in Document ,IDF means Uniquness of particular words in Document and there are various parameter of TFidf Vectorizer like Stop words (i.e Words like and,a,an which doesn't carries significant value for classification problems they are removed through it,n_gram parameter is used to set how much minimum and maximum size of particular token is to be considered)"
      ]
    },
    {
      "cell_type": "code",
      "execution_count": 64,
      "metadata": {
        "id": "hC2UWFO-Fp5K"
      },
      "outputs": [],
      "source": [
        "#Tfidf Vectorizer is used to tokenize Combined Text from train and Test combined data\n",
        "vect = TfidfVectorizer(stop_words='english',ngram_range=(1,2))\n",
        "\n",
        "# Fit the vectorizer on the training data and transform both training and test data\n",
        "X_train_com22_vect = vect.fit_transform(train_com_train['combined_text'])\n",
        "X_test_com22_vect = vect.transform(test_com_test['combined_text'])\n",
        "test_vect_com11 = vect.transform(test_com['combined_text'])"
      ]
    },
    {
      "cell_type": "code",
      "execution_count": 65,
      "metadata": {
        "id": "d1kRTbhzFp5L"
      },
      "outputs": [],
      "source": [
        "#Text columns are removed from train dataframe before passing it to hstack\n",
        "X_train_com22 = X_train_com22.drop(columns=['reviewText','genre','originalLanguage','distributor','director','rating','ratingContents',\"movieid\",\"reviewerName\",\"isFrequentReviewer\",\"title\",'soundType'])"
      ]
    },
    {
      "cell_type": "code",
      "execution_count": 66,
      "metadata": {
        "id": "q1r5DOrlFp5L"
      },
      "outputs": [],
      "source": [
        "#Text columns are removed from test dataframe before passing it to hstack\n",
        "X_test_com22 = X_test_com22.drop(columns=['reviewText','genre','originalLanguage','distributor','director','rating','ratingContents',\"movieid\",\"reviewerName\",'isFrequentReviewer',\"title\",'soundType'])"
      ]
    },
    {
      "cell_type": "code",
      "execution_count": 67,
      "metadata": {
        "id": "1S4wHOfUFp5M"
      },
      "outputs": [],
      "source": [
        "#Text columns are removed from test dataframe before passing it to hstack\n",
        "test_select_columns11 = test_select_columns11.drop(columns=['reviewText','genre','originalLanguage','distributor','director','rating','ratingContents',\"movieid\",\"reviewerName\",'isTopCritic',\"title\",'soundType'])"
      ]
    },
    {
      "cell_type": "code",
      "execution_count": 68,
      "metadata": {
        "id": "S9Psb1qEFp5M"
      },
      "outputs": [],
      "source": [
        "#Hstack is used to stack train feature matrix to create Combined Feature Matrix\n",
        "# The function is used for creating larger arrays by combining smaller arrays in a horizontal manner\n",
        "#It is used to process data further for Feature Engineering / Feature Extraction\n",
        "#By using csr_matrix, it is ensured that the data types are consistent and compatible for the horizontal stacking\n",
        "trained_X_com22 = hstack([X_train_com22_vect,csr_matrix(X_train_com22)])\n",
        "test_X_com22 = hstack([X_test_com22_vect,csr_matrix(X_test_com22)])\n",
        "test_submit = hstack([test_vect_com11,csr_matrix(test_select_columns11)])"
      ]
    },
    {
      "cell_type": "code",
      "execution_count": 69,
      "metadata": {
        "colab": {
          "base_uri": "https://localhost:8080/"
        },
        "id": "tjmrbaAlFp5N",
        "outputId": "f232e9c3-983b-4922-ce4c-ae8d476a8676"
      },
      "outputs": [
        {
          "output_type": "execute_result",
          "data": {
            "text/plain": [
              "(130206, 1164285)"
            ]
          },
          "metadata": {},
          "execution_count": 69
        }
      ],
      "source": [
        "#Shape of Training Data\n",
        "trained_X_com22.shape"
      ]
    },
    {
      "cell_type": "code",
      "execution_count": 70,
      "metadata": {
        "colab": {
          "base_uri": "https://localhost:8080/"
        },
        "id": "EcbtldBkFp5O",
        "outputId": "7289abbe-5580-44b3-d94e-986385666154"
      },
      "outputs": [
        {
          "output_type": "execute_result",
          "data": {
            "text/plain": [
              "(32552, 1164285)"
            ]
          },
          "metadata": {},
          "execution_count": 70
        }
      ],
      "source": [
        "#Shape of Test Data\n",
        "test_X_com22.shape"
      ]
    },
    {
      "cell_type": "markdown",
      "metadata": {
        "id": "uWiZbKZiFp5P"
      },
      "source": [
        "#  Feature Extraction-\n"
      ]
    },
    {
      "cell_type": "code",
      "execution_count": 71,
      "metadata": {
        "colab": {
          "base_uri": "https://localhost:8080/"
        },
        "id": "75HbNZaEFp5Q",
        "outputId": "d6d9c93b-9291-43c2-e2cc-da5b6b8b49ea"
      },
      "outputs": [
        {
          "output_type": "stream",
          "name": "stderr",
          "text": [
            "/usr/local/lib/python3.10/dist-packages/sklearn/model_selection/_validation.py:378: FitFailedWarning: \n",
            "90 fits failed out of a total of 180.\n",
            "The score on these train-test partitions for these parameters will be set to nan.\n",
            "If these failures are not expected, you can try to debug them by setting error_score='raise'.\n",
            "\n",
            "Below are more details about the failures:\n",
            "--------------------------------------------------------------------------------\n",
            "90 fits failed with the following error:\n",
            "Traceback (most recent call last):\n",
            "  File \"/usr/local/lib/python3.10/dist-packages/sklearn/model_selection/_validation.py\", line 686, in _fit_and_score\n",
            "    estimator.fit(X_train, y_train, **fit_params)\n",
            "  File \"/usr/local/lib/python3.10/dist-packages/sklearn/pipeline.py\", line 401, in fit\n",
            "    Xt = self._fit(X, y, **fit_params_steps)\n",
            "  File \"/usr/local/lib/python3.10/dist-packages/sklearn/pipeline.py\", line 359, in _fit\n",
            "    X, fitted_transformer = fit_transform_one_cached(\n",
            "  File \"/usr/local/lib/python3.10/dist-packages/joblib/memory.py\", line 353, in __call__\n",
            "    return self.func(*args, **kwargs)\n",
            "  File \"/usr/local/lib/python3.10/dist-packages/sklearn/pipeline.py\", line 893, in _fit_transform_one\n",
            "    res = transformer.fit_transform(X, y, **fit_params)\n",
            "  File \"/usr/local/lib/python3.10/dist-packages/sklearn/utils/_set_output.py\", line 140, in wrapped\n",
            "    data_to_wrap = f(self, X, *args, **kwargs)\n",
            "  File \"/usr/local/lib/python3.10/dist-packages/sklearn/base.py\", line 881, in fit_transform\n",
            "    return self.fit(X, y, **fit_params).transform(X)\n",
            "  File \"/usr/local/lib/python3.10/dist-packages/sklearn/feature_selection/_univariate_selection.py\", line 472, in fit\n",
            "    score_func_ret = self.score_func(X, y)\n",
            "  File \"/usr/local/lib/python3.10/dist-packages/sklearn/feature_selection/_univariate_selection.py\", line 217, in chi2\n",
            "    raise ValueError(\"Input X must be non-negative.\")\n",
            "ValueError: Input X must be non-negative.\n",
            "\n",
            "  warnings.warn(some_fits_failed_message, FitFailedWarning)\n",
            "/usr/local/lib/python3.10/dist-packages/sklearn/model_selection/_search.py:952: UserWarning: One or more of the test scores are non-finite: [0.81611354        nan 0.81757147        nan 0.81979095        nan\n",
            " 0.81978242        nan 0.81978391        nan 0.82077292        nan\n",
            " 0.84560064        nan 0.84988686        nan 0.85345154        nan\n",
            " 0.8533565         nan 0.85380019        nan 0.8540541         nan\n",
            " 0.85422903        nan 0.85828717        nan 0.85802553        nan\n",
            " 0.85912049        nan 0.85827517        nan 0.85861225        nan]\n",
            "  warnings.warn(\n",
            "/usr/local/lib/python3.10/dist-packages/sklearn/model_selection/_search.py:952: UserWarning: One or more of the test scores are non-finite: [0.6323341         nan 0.63514942        nan 0.63945321        nan\n",
            " 0.63933179        nan 0.63885747        nan 0.64086539        nan\n",
            " 0.70574678        nan 0.71679153        nan 0.72627829        nan\n",
            " 0.72756316        nan 0.72544923        nan 0.72814396        nan\n",
            " 0.74461434        nan 0.75390831        nan 0.75703395        nan\n",
            " 0.75988639        nan 0.75287267        nan 0.75990635        nan]\n",
            "  warnings.warn(\n"
          ]
        },
        {
          "output_type": "stream",
          "name": "stdout",
          "text": [
            "Pipeline(steps=[('feature_selection', SelectPercentile(percentile=50)),\n",
            "                ('classifier', LogisticRegression(C=10.0))])\n",
            "{'classifier__C': 10.0, 'feature_selection__percentile': 50, 'feature_selection__score_func': <function f_classif at 0x7b55299d8670>}\n",
            "0.7599063479394628\n"
          ]
        },
        {
          "output_type": "stream",
          "name": "stderr",
          "text": [
            "/usr/local/lib/python3.10/dist-packages/sklearn/linear_model/_logistic.py:458: ConvergenceWarning: lbfgs failed to converge (status=1):\n",
            "STOP: TOTAL NO. of ITERATIONS REACHED LIMIT.\n",
            "\n",
            "Increase the number of iterations (max_iter) or scale the data as shown in:\n",
            "    https://scikit-learn.org/stable/modules/preprocessing.html\n",
            "Please also refer to the documentation for alternative solver options:\n",
            "    https://scikit-learn.org/stable/modules/linear_model.html#logistic-regression\n",
            "  n_iter_i = _check_optimize_result(\n"
          ]
        }
      ],
      "source": [
        "#Features Selection using SelectPercentile\n",
        "\n",
        "# Define a pipeline with feature selection and a logistic regression classifier\n",
        "# The feature selection method is SelectPercentile with a scoring function f_classif\n",
        "# The classifier is LogisticRegression\n",
        "pipe = Pipeline([\n",
        "    ('feature_selection', SelectPercentile(score_func=f_classif)),\n",
        "    ('classifier', LogisticRegression())\n",
        "])\n",
        "\n",
        "\n",
        "# Define the parameter grid for hyperparameter tuning\n",
        "parameter_s = {\n",
        "    'feature_selection__percentile': [0.5,1,5,10, 25, 50],\n",
        "    'feature_selection__score_func': [f_classif, chi2],\n",
        "    'classifier__C': [0.1, 1.0, 10.0]\n",
        "}\n",
        "\n",
        "# Define custom scoring metrics: F1 score and ROC AUC\n",
        "scoring_metrics = {\n",
        "    'F1': make_scorer(f1_score),\n",
        "    'ROC_AUC': make_scorer(roc_auc_score)\n",
        "}\n",
        "\n",
        "# Create a GridSearchCV object for hyperparameter tuning\n",
        "grid_ = GridSearchCV(pipe, param_grid=parameter_s, cv=5, scoring=scoring_metrics, refit='ROC_AUC', n_jobs=-1)\n",
        "\n",
        "# Fit the GridSearchCV object to the data\n",
        "# This line executes the hyperparameter search\n",
        "grid_.fit(trained_X_com22, y_train_com22)\n",
        "\n",
        "\n",
        "# Print the best estimator found by GridSearchCV\n",
        "print(grid_.best_estimator_)\n",
        "# Print the best hyperparameters found by GridSearchCV\n",
        "print(grid_.best_params_)\n",
        "# Print the best score (ROC AUC) achieved by the best estimator\n",
        "print(grid_.best_score_)"
      ]
    },
    {
      "cell_type": "code",
      "execution_count": 72,
      "metadata": {
        "colab": {
          "base_uri": "https://localhost:8080/"
        },
        "id": "sitLBcsGFp5Q",
        "outputId": "80df7847-8a13-428e-f4d4-c0117e2604fe"
      },
      "outputs": [
        {
          "output_type": "stream",
          "name": "stdout",
          "text": [
            "{'classifier__C': 10.0, 'feature_selection__percentile': 50, 'feature_selection__score_func': <function f_classif at 0x7b55299d8670>}\n"
          ]
        }
      ],
      "source": [
        "# best parameters for SelectPercentile for this data\n",
        "print(grid_.best_params_)"
      ]
    },
    {
      "cell_type": "code",
      "execution_count": 73,
      "metadata": {
        "id": "sYQXtNayFp5R"
      },
      "outputs": [],
      "source": [
        "# Create a SelectPercentile feature selector with a percentile value of 50\n",
        "#feat = SelectPercentile(score_func= f_classif, percentile=50.0)\n",
        "feat = SelectPercentile(percentile=50,score_func= f_classif)\n",
        "\n",
        "# Fit the feature selector to the training data  and target labels\n",
        "train_percentile_feature_matrix = feat.fit_transform(trained_X_com22, y_train_com22)"
      ]
    },
    {
      "cell_type": "code",
      "execution_count": 74,
      "metadata": {
        "id": "vpj9VFHlFp5S"
      },
      "outputs": [],
      "source": [
        "#Transform the feature selector to the test data (test_X_com22)\n",
        "test_percentile_feature_matrix = feat.transform(test_X_com22)"
      ]
    },
    {
      "cell_type": "code",
      "execution_count": 75,
      "metadata": {
        "colab": {
          "base_uri": "https://localhost:8080/"
        },
        "id": "7HbCmu3SFp5T",
        "outputId": "363985f3-86d9-4518-d65b-a27ff290bd9c"
      },
      "outputs": [
        {
          "output_type": "execute_result",
          "data": {
            "text/plain": [
              "(130206, 582142)"
            ]
          },
          "metadata": {},
          "execution_count": 75
        }
      ],
      "source": [
        "# Shape of train Feature matrix\n",
        "train_percentile_feature_matrix.shape"
      ]
    },
    {
      "cell_type": "code",
      "execution_count": 76,
      "metadata": {
        "colab": {
          "base_uri": "https://localhost:8080/"
        },
        "id": "Xkzzk3UQFp5T",
        "outputId": "b013f2b2-c766-414e-fb54-3355d8554da0"
      },
      "outputs": [
        {
          "output_type": "execute_result",
          "data": {
            "text/plain": [
              "(32552, 582142)"
            ]
          },
          "metadata": {},
          "execution_count": 76
        }
      ],
      "source": [
        "# Shape of test Feature matrix\n",
        "test_percentile_feature_matrix.shape"
      ]
    },
    {
      "cell_type": "code",
      "execution_count": 77,
      "metadata": {
        "id": "1FHGA_kUd6JD"
      },
      "outputs": [],
      "source": [
        "# SMOTE\n",
        "# smote = SMOTE(sampling_strategy='auto', random_state=42)\n",
        "# X_train, y_train = smote.fit_resample(X_train, y_train)\n",
        "# I had executed Smote to handle imbalancing in train_data sentiment Column as there was minority class as negative value,\n",
        "# I Assumed that it was not giving good Prediction for negative sentiment.So,tried it out using smote but instead it reduced accuracy and F1 score"
      ]
    },
    {
      "cell_type": "markdown",
      "metadata": {
        "id": "i87DKqf1Fp5V"
      },
      "source": [
        "# Classification Baseline Model"
      ]
    },
    {
      "cell_type": "markdown",
      "metadata": {
        "id": "TjSOmQj3UP5E"
      },
      "source": [
        "# DummyClassifier-\n",
        " Dummy Classifier is baseline model it doesn't Gives Actual Prediction for problem but it can provide baseline model which can be used for evaluating performance of other models in effective way by Considering some baseline"
      ]
    },
    {
      "cell_type": "code",
      "execution_count": 78,
      "metadata": {
        "colab": {
          "base_uri": "https://localhost:8080/"
        },
        "id": "TqAFhwYbUGV5",
        "outputId": "c0da7c9e-4b78-4e94-a9cb-743d6bbcc95e"
      },
      "outputs": [
        {
          "output_type": "stream",
          "name": "stdout",
          "text": [
            "0.6714180388301794\n"
          ]
        }
      ],
      "source": [
        "#Implementation of DummyClassifier Using most_frequent as Strategy\n",
        "\n",
        "dummy_clf = DummyClassifier(strategy=\"most_frequent\")\n",
        "\n",
        "# Fit the Dummy model to the training data and target labels\n",
        "dummy_clf.fit(train_percentile_feature_matrix, y_train_com22)\n",
        "\n",
        "# Predict the labels for the test data\n",
        "predictions = dummy_clf.predict(test_percentile_feature_matrix)\n",
        "\n",
        "print(accuracy_score(y_test_com22,predictions))"
      ]
    },
    {
      "cell_type": "markdown",
      "metadata": {
        "id": "nsABcKFRFp5W"
      },
      "source": [
        "# Classification Models"
      ]
    },
    {
      "cell_type": "markdown",
      "metadata": {
        "id": "N0OjKDJbhOD3"
      },
      "source": [
        "# Linear_SVC Model -\n",
        "Linear SVC stands for Support Vector Classifier which aims to find best Hyperplane that seperates 2 classes in Feature Space .That Hyperplane can be a Straight Line as well which can be used to Seperate Positive and Negative Classes in This Classification problem.This hyperplane can be a straight line in two-dimensional space, a plane in three-dimensional space, and a higher-dimensional linear subspace in higher dimensions.This Linear SVC Model can be tunned with Perfect parameters in Order to it can Classify Positive and Negative Labels Correctly"
      ]
    },
    {
      "cell_type": "code",
      "execution_count": 79,
      "metadata": {
        "id": "cyFWftIHhY20"
      },
      "outputs": [],
      "source": [
        "#Set Object for LinearSVC model\n",
        "svc = LinearSVC(random_state=42)"
      ]
    },
    {
      "cell_type": "code",
      "execution_count": 80,
      "metadata": {
        "id": "dL3st0SVFp5X"
      },
      "outputs": [],
      "source": [
        "#Hyperparameters for Linear_SVC Model\n",
        "param_Linear_svc = {\n",
        "    'C': [0.01, 0.1, 1.0, 10.0,20.0],  # Regularization parameter\n",
        "    'loss': ['hinge', 'squared_hinge'],  # Loss function\n",
        "    'max_iter':[100,200,500], #maximum Iteration for Problem to get Converge\n",
        "    'class_weight': [None, 'balanced'], #it tells wheather data balancing is req or not\n",
        "}"
      ]
    },
    {
      "cell_type": "code",
      "execution_count": 81,
      "metadata": {
        "colab": {
          "base_uri": "https://localhost:8080/",
          "height": 171
        },
        "id": "nnpSD2AeFp5X",
        "outputId": "686910aa-7162-49af-d586-275d19a2eaf7"
      },
      "outputs": [
        {
          "output_type": "stream",
          "name": "stderr",
          "text": [
            "/usr/local/lib/python3.10/dist-packages/sklearn/svm/_base.py:1244: ConvergenceWarning: Liblinear failed to converge, increase the number of iterations.\n",
            "  warnings.warn(\n"
          ]
        },
        {
          "output_type": "execute_result",
          "data": {
            "text/plain": [
              "GridSearchCV(cv=5, estimator=LinearSVC(random_state=42), n_jobs=-1,\n",
              "             param_grid={'C': [0.01, 0.1, 1.0, 10.0, 20.0],\n",
              "                         'class_weight': [None, 'balanced'],\n",
              "                         'loss': ['hinge', 'squared_hinge'],\n",
              "                         'max_iter': [100, 200, 500]},\n",
              "             scoring='f1')"
            ],
            "text/html": [
              "<style>#sk-container-id-1 {color: black;background-color: white;}#sk-container-id-1 pre{padding: 0;}#sk-container-id-1 div.sk-toggleable {background-color: white;}#sk-container-id-1 label.sk-toggleable__label {cursor: pointer;display: block;width: 100%;margin-bottom: 0;padding: 0.3em;box-sizing: border-box;text-align: center;}#sk-container-id-1 label.sk-toggleable__label-arrow:before {content: \"▸\";float: left;margin-right: 0.25em;color: #696969;}#sk-container-id-1 label.sk-toggleable__label-arrow:hover:before {color: black;}#sk-container-id-1 div.sk-estimator:hover label.sk-toggleable__label-arrow:before {color: black;}#sk-container-id-1 div.sk-toggleable__content {max-height: 0;max-width: 0;overflow: hidden;text-align: left;background-color: #f0f8ff;}#sk-container-id-1 div.sk-toggleable__content pre {margin: 0.2em;color: black;border-radius: 0.25em;background-color: #f0f8ff;}#sk-container-id-1 input.sk-toggleable__control:checked~div.sk-toggleable__content {max-height: 200px;max-width: 100%;overflow: auto;}#sk-container-id-1 input.sk-toggleable__control:checked~label.sk-toggleable__label-arrow:before {content: \"▾\";}#sk-container-id-1 div.sk-estimator input.sk-toggleable__control:checked~label.sk-toggleable__label {background-color: #d4ebff;}#sk-container-id-1 div.sk-label input.sk-toggleable__control:checked~label.sk-toggleable__label {background-color: #d4ebff;}#sk-container-id-1 input.sk-hidden--visually {border: 0;clip: rect(1px 1px 1px 1px);clip: rect(1px, 1px, 1px, 1px);height: 1px;margin: -1px;overflow: hidden;padding: 0;position: absolute;width: 1px;}#sk-container-id-1 div.sk-estimator {font-family: monospace;background-color: #f0f8ff;border: 1px dotted black;border-radius: 0.25em;box-sizing: border-box;margin-bottom: 0.5em;}#sk-container-id-1 div.sk-estimator:hover {background-color: #d4ebff;}#sk-container-id-1 div.sk-parallel-item::after {content: \"\";width: 100%;border-bottom: 1px solid gray;flex-grow: 1;}#sk-container-id-1 div.sk-label:hover label.sk-toggleable__label {background-color: #d4ebff;}#sk-container-id-1 div.sk-serial::before {content: \"\";position: absolute;border-left: 1px solid gray;box-sizing: border-box;top: 0;bottom: 0;left: 50%;z-index: 0;}#sk-container-id-1 div.sk-serial {display: flex;flex-direction: column;align-items: center;background-color: white;padding-right: 0.2em;padding-left: 0.2em;position: relative;}#sk-container-id-1 div.sk-item {position: relative;z-index: 1;}#sk-container-id-1 div.sk-parallel {display: flex;align-items: stretch;justify-content: center;background-color: white;position: relative;}#sk-container-id-1 div.sk-item::before, #sk-container-id-1 div.sk-parallel-item::before {content: \"\";position: absolute;border-left: 1px solid gray;box-sizing: border-box;top: 0;bottom: 0;left: 50%;z-index: -1;}#sk-container-id-1 div.sk-parallel-item {display: flex;flex-direction: column;z-index: 1;position: relative;background-color: white;}#sk-container-id-1 div.sk-parallel-item:first-child::after {align-self: flex-end;width: 50%;}#sk-container-id-1 div.sk-parallel-item:last-child::after {align-self: flex-start;width: 50%;}#sk-container-id-1 div.sk-parallel-item:only-child::after {width: 0;}#sk-container-id-1 div.sk-dashed-wrapped {border: 1px dashed gray;margin: 0 0.4em 0.5em 0.4em;box-sizing: border-box;padding-bottom: 0.4em;background-color: white;}#sk-container-id-1 div.sk-label label {font-family: monospace;font-weight: bold;display: inline-block;line-height: 1.2em;}#sk-container-id-1 div.sk-label-container {text-align: center;}#sk-container-id-1 div.sk-container {/* jupyter's `normalize.less` sets `[hidden] { display: none; }` but bootstrap.min.css set `[hidden] { display: none !important; }` so we also need the `!important` here to be able to override the default hidden behavior on the sphinx rendered scikit-learn.org. See: https://github.com/scikit-learn/scikit-learn/issues/21755 */display: inline-block !important;position: relative;}#sk-container-id-1 div.sk-text-repr-fallback {display: none;}</style><div id=\"sk-container-id-1\" class=\"sk-top-container\"><div class=\"sk-text-repr-fallback\"><pre>GridSearchCV(cv=5, estimator=LinearSVC(random_state=42), n_jobs=-1,\n",
              "             param_grid={&#x27;C&#x27;: [0.01, 0.1, 1.0, 10.0, 20.0],\n",
              "                         &#x27;class_weight&#x27;: [None, &#x27;balanced&#x27;],\n",
              "                         &#x27;loss&#x27;: [&#x27;hinge&#x27;, &#x27;squared_hinge&#x27;],\n",
              "                         &#x27;max_iter&#x27;: [100, 200, 500]},\n",
              "             scoring=&#x27;f1&#x27;)</pre><b>In a Jupyter environment, please rerun this cell to show the HTML representation or trust the notebook. <br />On GitHub, the HTML representation is unable to render, please try loading this page with nbviewer.org.</b></div><div class=\"sk-container\" hidden><div class=\"sk-item sk-dashed-wrapped\"><div class=\"sk-label-container\"><div class=\"sk-label sk-toggleable\"><input class=\"sk-toggleable__control sk-hidden--visually\" id=\"sk-estimator-id-1\" type=\"checkbox\" ><label for=\"sk-estimator-id-1\" class=\"sk-toggleable__label sk-toggleable__label-arrow\">GridSearchCV</label><div class=\"sk-toggleable__content\"><pre>GridSearchCV(cv=5, estimator=LinearSVC(random_state=42), n_jobs=-1,\n",
              "             param_grid={&#x27;C&#x27;: [0.01, 0.1, 1.0, 10.0, 20.0],\n",
              "                         &#x27;class_weight&#x27;: [None, &#x27;balanced&#x27;],\n",
              "                         &#x27;loss&#x27;: [&#x27;hinge&#x27;, &#x27;squared_hinge&#x27;],\n",
              "                         &#x27;max_iter&#x27;: [100, 200, 500]},\n",
              "             scoring=&#x27;f1&#x27;)</pre></div></div></div><div class=\"sk-parallel\"><div class=\"sk-parallel-item\"><div class=\"sk-item\"><div class=\"sk-label-container\"><div class=\"sk-label sk-toggleable\"><input class=\"sk-toggleable__control sk-hidden--visually\" id=\"sk-estimator-id-2\" type=\"checkbox\" ><label for=\"sk-estimator-id-2\" class=\"sk-toggleable__label sk-toggleable__label-arrow\">estimator: LinearSVC</label><div class=\"sk-toggleable__content\"><pre>LinearSVC(random_state=42)</pre></div></div></div><div class=\"sk-serial\"><div class=\"sk-item\"><div class=\"sk-estimator sk-toggleable\"><input class=\"sk-toggleable__control sk-hidden--visually\" id=\"sk-estimator-id-3\" type=\"checkbox\" ><label for=\"sk-estimator-id-3\" class=\"sk-toggleable__label sk-toggleable__label-arrow\">LinearSVC</label><div class=\"sk-toggleable__content\"><pre>LinearSVC(random_state=42)</pre></div></div></div></div></div></div></div></div></div></div>"
            ]
          },
          "metadata": {},
          "execution_count": 81
        }
      ],
      "source": [
        "# Create a GridSearchCV object for hyperparameter tuning\n",
        "grid_search = GridSearchCV(svc, param_grid=param_Linear_svc, cv=5, n_jobs=-1,scoring='f1')\n",
        "\n",
        "# Fit the GridSearchCV object to the data\n",
        "# This line executes the hyperparameter search\n",
        "grid_search.fit(trained_X_com22, y_train_com22)"
      ]
    },
    {
      "cell_type": "code",
      "execution_count": 82,
      "metadata": {
        "colab": {
          "base_uri": "https://localhost:8080/"
        },
        "id": "Y6ibSuk9Fp5Y",
        "outputId": "39c84dd8-caa4-4323-b5e6-5d04abfce5b7"
      },
      "outputs": [
        {
          "output_type": "execute_result",
          "data": {
            "text/plain": [
              "{'C': 1.0, 'class_weight': None, 'loss': 'squared_hinge', 'max_iter': 200}"
            ]
          },
          "metadata": {},
          "execution_count": 82
        }
      ],
      "source": [
        "#Best Parameters obtained from LinearSVC grid search\n",
        "grid_search.best_params_"
      ]
    },
    {
      "cell_type": "markdown",
      "metadata": {
        "id": "o099ky58Fp5Y"
      },
      "source": [
        "Best Parameters Obtained From GridSearchCV C= 1.0,loss='squared_hinge', max_iter= 200,class_weight=None"
      ]
    },
    {
      "cell_type": "code",
      "execution_count": 83,
      "metadata": {
        "colab": {
          "base_uri": "https://localhost:8080/",
          "height": 129
        },
        "id": "zTk8cCtZFp5Y",
        "outputId": "a91e1553-d8d7-42ef-f9aa-30c3e80b76b0"
      },
      "outputs": [
        {
          "output_type": "stream",
          "name": "stderr",
          "text": [
            "/usr/local/lib/python3.10/dist-packages/sklearn/svm/_base.py:1244: ConvergenceWarning: Liblinear failed to converge, increase the number of iterations.\n",
            "  warnings.warn(\n"
          ]
        },
        {
          "output_type": "execute_result",
          "data": {
            "text/plain": [
              "LinearSVC(max_iter=100)"
            ],
            "text/html": [
              "<style>#sk-container-id-2 {color: black;background-color: white;}#sk-container-id-2 pre{padding: 0;}#sk-container-id-2 div.sk-toggleable {background-color: white;}#sk-container-id-2 label.sk-toggleable__label {cursor: pointer;display: block;width: 100%;margin-bottom: 0;padding: 0.3em;box-sizing: border-box;text-align: center;}#sk-container-id-2 label.sk-toggleable__label-arrow:before {content: \"▸\";float: left;margin-right: 0.25em;color: #696969;}#sk-container-id-2 label.sk-toggleable__label-arrow:hover:before {color: black;}#sk-container-id-2 div.sk-estimator:hover label.sk-toggleable__label-arrow:before {color: black;}#sk-container-id-2 div.sk-toggleable__content {max-height: 0;max-width: 0;overflow: hidden;text-align: left;background-color: #f0f8ff;}#sk-container-id-2 div.sk-toggleable__content pre {margin: 0.2em;color: black;border-radius: 0.25em;background-color: #f0f8ff;}#sk-container-id-2 input.sk-toggleable__control:checked~div.sk-toggleable__content {max-height: 200px;max-width: 100%;overflow: auto;}#sk-container-id-2 input.sk-toggleable__control:checked~label.sk-toggleable__label-arrow:before {content: \"▾\";}#sk-container-id-2 div.sk-estimator input.sk-toggleable__control:checked~label.sk-toggleable__label {background-color: #d4ebff;}#sk-container-id-2 div.sk-label input.sk-toggleable__control:checked~label.sk-toggleable__label {background-color: #d4ebff;}#sk-container-id-2 input.sk-hidden--visually {border: 0;clip: rect(1px 1px 1px 1px);clip: rect(1px, 1px, 1px, 1px);height: 1px;margin: -1px;overflow: hidden;padding: 0;position: absolute;width: 1px;}#sk-container-id-2 div.sk-estimator {font-family: monospace;background-color: #f0f8ff;border: 1px dotted black;border-radius: 0.25em;box-sizing: border-box;margin-bottom: 0.5em;}#sk-container-id-2 div.sk-estimator:hover {background-color: #d4ebff;}#sk-container-id-2 div.sk-parallel-item::after {content: \"\";width: 100%;border-bottom: 1px solid gray;flex-grow: 1;}#sk-container-id-2 div.sk-label:hover label.sk-toggleable__label {background-color: #d4ebff;}#sk-container-id-2 div.sk-serial::before {content: \"\";position: absolute;border-left: 1px solid gray;box-sizing: border-box;top: 0;bottom: 0;left: 50%;z-index: 0;}#sk-container-id-2 div.sk-serial {display: flex;flex-direction: column;align-items: center;background-color: white;padding-right: 0.2em;padding-left: 0.2em;position: relative;}#sk-container-id-2 div.sk-item {position: relative;z-index: 1;}#sk-container-id-2 div.sk-parallel {display: flex;align-items: stretch;justify-content: center;background-color: white;position: relative;}#sk-container-id-2 div.sk-item::before, #sk-container-id-2 div.sk-parallel-item::before {content: \"\";position: absolute;border-left: 1px solid gray;box-sizing: border-box;top: 0;bottom: 0;left: 50%;z-index: -1;}#sk-container-id-2 div.sk-parallel-item {display: flex;flex-direction: column;z-index: 1;position: relative;background-color: white;}#sk-container-id-2 div.sk-parallel-item:first-child::after {align-self: flex-end;width: 50%;}#sk-container-id-2 div.sk-parallel-item:last-child::after {align-self: flex-start;width: 50%;}#sk-container-id-2 div.sk-parallel-item:only-child::after {width: 0;}#sk-container-id-2 div.sk-dashed-wrapped {border: 1px dashed gray;margin: 0 0.4em 0.5em 0.4em;box-sizing: border-box;padding-bottom: 0.4em;background-color: white;}#sk-container-id-2 div.sk-label label {font-family: monospace;font-weight: bold;display: inline-block;line-height: 1.2em;}#sk-container-id-2 div.sk-label-container {text-align: center;}#sk-container-id-2 div.sk-container {/* jupyter's `normalize.less` sets `[hidden] { display: none; }` but bootstrap.min.css set `[hidden] { display: none !important; }` so we also need the `!important` here to be able to override the default hidden behavior on the sphinx rendered scikit-learn.org. See: https://github.com/scikit-learn/scikit-learn/issues/21755 */display: inline-block !important;position: relative;}#sk-container-id-2 div.sk-text-repr-fallback {display: none;}</style><div id=\"sk-container-id-2\" class=\"sk-top-container\"><div class=\"sk-text-repr-fallback\"><pre>LinearSVC(max_iter=100)</pre><b>In a Jupyter environment, please rerun this cell to show the HTML representation or trust the notebook. <br />On GitHub, the HTML representation is unable to render, please try loading this page with nbviewer.org.</b></div><div class=\"sk-container\" hidden><div class=\"sk-item\"><div class=\"sk-estimator sk-toggleable\"><input class=\"sk-toggleable__control sk-hidden--visually\" id=\"sk-estimator-id-4\" type=\"checkbox\" checked><label for=\"sk-estimator-id-4\" class=\"sk-toggleable__label sk-toggleable__label-arrow\">LinearSVC</label><div class=\"sk-toggleable__content\"><pre>LinearSVC(max_iter=100)</pre></div></div></div></div></div>"
            ]
          },
          "metadata": {},
          "execution_count": 83
        }
      ],
      "source": [
        "# Linear SVC model is Tunned with best parameter obtained from Gridsearch CV\n",
        "svc2 = LinearSVC(C= 1.0,loss='squared_hinge', max_iter= 100,class_weight=None)\n",
        "\n",
        "# Fit the Linear SVC model to the training data and target labels\n",
        "svc2.fit(train_percentile_feature_matrix, y_train_com22)"
      ]
    },
    {
      "cell_type": "code",
      "execution_count": 84,
      "metadata": {
        "id": "HEfep1W1Fp5Z"
      },
      "outputs": [],
      "source": [
        "# Predict the labels for the test data using the trained Support Vector Classifier (svc2) and Store Result in y_pred_svc2\n",
        "y_pred_svc2= svc2.predict(test_percentile_feature_matrix)"
      ]
    },
    {
      "cell_type": "code",
      "execution_count": 85,
      "metadata": {
        "colab": {
          "base_uri": "https://localhost:8080/"
        },
        "id": "NzE4JUQHFp5Z",
        "outputId": "ab573d5c-7f5a-41bd-d3fd-0a7ffda92ef0"
      },
      "outputs": [
        {
          "output_type": "stream",
          "name": "stdout",
          "text": [
            "              precision    recall  f1-score   support\n",
            "\n",
            "           0       0.78      0.64      0.70     10696\n",
            "           1       0.84      0.91      0.87     21856\n",
            "\n",
            "    accuracy                           0.82     32552\n",
            "   macro avg       0.81      0.78      0.79     32552\n",
            "weighted avg       0.82      0.82      0.82     32552\n",
            "\n"
          ]
        }
      ],
      "source": [
        "# Print a classification report to evaluate the performance of a Linear SVC classifier\n",
        "# The classification report will provide various metrics such as precision, recall, F1-score\n",
        "# It compares the predicted labels (y_pred_svc2) to the true labels (y_test_new11) for the test data\n",
        "# This report is helpful for understanding the model's performance on different classes\n",
        "print(classification_report(y_test_com22,y_pred_svc2))"
      ]
    },
    {
      "cell_type": "code",
      "execution_count": 86,
      "metadata": {
        "colab": {
          "base_uri": "https://localhost:8080/"
        },
        "id": "ErmVA_fCFp5a",
        "outputId": "8daf737f-3d49-487b-bc00-2ba63bac50f7"
      },
      "outputs": [
        {
          "output_type": "stream",
          "name": "stdout",
          "text": [
            "[[ 6853  3843]\n",
            " [ 1947 19909]]\n"
          ]
        }
      ],
      "source": [
        "#print Confusion matrix\n",
        "print(confusion_matrix(y_test_com22,y_pred_svc2))"
      ]
    },
    {
      "cell_type": "markdown",
      "metadata": {
        "id": "uZE4tiy0mIWN"
      },
      "source": [
        "# Logistic Regression-\n",
        "Logistic Regression is based on Logistic Function called as Sigmoid function which mapps input between 0 to 1 and Output is probability of Input Belonging to one of 2 classes.logistic function allows smooth transition between 2 classes . It's well-suited when the target variable (the one we're trying to predict) is categorical and has two classes, such as \"Positive/Negative\" ,\"spam/not spam\", \"fraudulent/legitimate\"."
      ]
    },
    {
      "cell_type": "code",
      "execution_count": 87,
      "metadata": {
        "id": "NqXibUYdFp5b"
      },
      "outputs": [],
      "source": [
        "#Create the Object for LogisticRegression Model\n",
        "logistic = LogisticRegression(random_state = 42)"
      ]
    },
    {
      "cell_type": "code",
      "execution_count": 88,
      "metadata": {
        "id": "RBS8m7Tdl6fY"
      },
      "outputs": [],
      "source": [
        "#Hyperparameters for Logistic\n",
        "Logistic_parameters = {\n",
        "    'C': np.logspace(-4,4,10),              # Regularization parameter\n",
        "    'solver': ['liblinear', 'lbfgs','saga'],# solvers during the cross-validation process try to find best solvers\n",
        "    'max_iter':[200,500,1000,2000],         # maximum Iteration for Problem to get Converge\n",
        "    'class_weight':[None,'balanced']        #it tells wheather data balancing is required or not\n",
        "}"
      ]
    },
    {
      "cell_type": "code",
      "execution_count": 97,
      "metadata": {
        "id": "0WTNPxxrmW36"
      },
      "outputs": [],
      "source": [
        "# Create a Logistic Regression model with a maximum of 1000 iterations\n",
        "model_logistic = LogisticRegression(max_iter=1000,random_state=42)\n",
        "\n",
        "# Set up a GridSearchCV to search for the best hyperparameters for the Logistic Regression model\n",
        "# Logistic_parameters is a predefined dictionary containing hyperparameter values to search over\n",
        "# n_jobs=-1 indicates that the search will use all available CPU cores for parallelization\n",
        "# cv=5 specifies a 5-fold cross-validation for evaluating different hyperparameters\n",
        "# scoring='f1' indicates that the F1-score will be used as the scoring metric for model selection\n",
        "\n",
        "logis = RandomizedSearchCV(model_logistic, param_distributions=Logistic_parameters, n_iter=10, n_jobs=-1, cv=5, scoring='f1', random_state=42)"
      ]
    },
    {
      "cell_type": "code",
      "execution_count": 93,
      "metadata": {
        "colab": {
          "base_uri": "https://localhost:8080/",
          "height": 117
        },
        "id": "whyulYHHma0u",
        "outputId": "fc5b900c-ef9d-458e-cf22-27de444edc88"
      },
      "outputs": [
        {
          "output_type": "execute_result",
          "data": {
            "text/plain": [
              "RandomizedSearchCV(cv=5,\n",
              "                   estimator=LogisticRegression(max_iter=1000, random_state=42),\n",
              "                   n_jobs=-1,\n",
              "                   param_distributions={'C': array([1.00000000e-04, 7.74263683e-04, 5.99484250e-03, 4.64158883e-02,\n",
              "       3.59381366e-01, 2.78255940e+00, 2.15443469e+01, 1.66810054e+02,\n",
              "       1.29154967e+03, 1.00000000e+04]),\n",
              "                                        'class_weight': [None, 'balanced'],\n",
              "                                        'max_iter': [200, 500, 1000, 2000],\n",
              "                                        'solver': ['liblinear', 'lbfgs',\n",
              "                                                   'saga']},\n",
              "                   random_state=42, scoring='f1')"
            ],
            "text/html": [
              "<style>#sk-container-id-3 {color: black;background-color: white;}#sk-container-id-3 pre{padding: 0;}#sk-container-id-3 div.sk-toggleable {background-color: white;}#sk-container-id-3 label.sk-toggleable__label {cursor: pointer;display: block;width: 100%;margin-bottom: 0;padding: 0.3em;box-sizing: border-box;text-align: center;}#sk-container-id-3 label.sk-toggleable__label-arrow:before {content: \"▸\";float: left;margin-right: 0.25em;color: #696969;}#sk-container-id-3 label.sk-toggleable__label-arrow:hover:before {color: black;}#sk-container-id-3 div.sk-estimator:hover label.sk-toggleable__label-arrow:before {color: black;}#sk-container-id-3 div.sk-toggleable__content {max-height: 0;max-width: 0;overflow: hidden;text-align: left;background-color: #f0f8ff;}#sk-container-id-3 div.sk-toggleable__content pre {margin: 0.2em;color: black;border-radius: 0.25em;background-color: #f0f8ff;}#sk-container-id-3 input.sk-toggleable__control:checked~div.sk-toggleable__content {max-height: 200px;max-width: 100%;overflow: auto;}#sk-container-id-3 input.sk-toggleable__control:checked~label.sk-toggleable__label-arrow:before {content: \"▾\";}#sk-container-id-3 div.sk-estimator input.sk-toggleable__control:checked~label.sk-toggleable__label {background-color: #d4ebff;}#sk-container-id-3 div.sk-label input.sk-toggleable__control:checked~label.sk-toggleable__label {background-color: #d4ebff;}#sk-container-id-3 input.sk-hidden--visually {border: 0;clip: rect(1px 1px 1px 1px);clip: rect(1px, 1px, 1px, 1px);height: 1px;margin: -1px;overflow: hidden;padding: 0;position: absolute;width: 1px;}#sk-container-id-3 div.sk-estimator {font-family: monospace;background-color: #f0f8ff;border: 1px dotted black;border-radius: 0.25em;box-sizing: border-box;margin-bottom: 0.5em;}#sk-container-id-3 div.sk-estimator:hover {background-color: #d4ebff;}#sk-container-id-3 div.sk-parallel-item::after {content: \"\";width: 100%;border-bottom: 1px solid gray;flex-grow: 1;}#sk-container-id-3 div.sk-label:hover label.sk-toggleable__label {background-color: #d4ebff;}#sk-container-id-3 div.sk-serial::before {content: \"\";position: absolute;border-left: 1px solid gray;box-sizing: border-box;top: 0;bottom: 0;left: 50%;z-index: 0;}#sk-container-id-3 div.sk-serial {display: flex;flex-direction: column;align-items: center;background-color: white;padding-right: 0.2em;padding-left: 0.2em;position: relative;}#sk-container-id-3 div.sk-item {position: relative;z-index: 1;}#sk-container-id-3 div.sk-parallel {display: flex;align-items: stretch;justify-content: center;background-color: white;position: relative;}#sk-container-id-3 div.sk-item::before, #sk-container-id-3 div.sk-parallel-item::before {content: \"\";position: absolute;border-left: 1px solid gray;box-sizing: border-box;top: 0;bottom: 0;left: 50%;z-index: -1;}#sk-container-id-3 div.sk-parallel-item {display: flex;flex-direction: column;z-index: 1;position: relative;background-color: white;}#sk-container-id-3 div.sk-parallel-item:first-child::after {align-self: flex-end;width: 50%;}#sk-container-id-3 div.sk-parallel-item:last-child::after {align-self: flex-start;width: 50%;}#sk-container-id-3 div.sk-parallel-item:only-child::after {width: 0;}#sk-container-id-3 div.sk-dashed-wrapped {border: 1px dashed gray;margin: 0 0.4em 0.5em 0.4em;box-sizing: border-box;padding-bottom: 0.4em;background-color: white;}#sk-container-id-3 div.sk-label label {font-family: monospace;font-weight: bold;display: inline-block;line-height: 1.2em;}#sk-container-id-3 div.sk-label-container {text-align: center;}#sk-container-id-3 div.sk-container {/* jupyter's `normalize.less` sets `[hidden] { display: none; }` but bootstrap.min.css set `[hidden] { display: none !important; }` so we also need the `!important` here to be able to override the default hidden behavior on the sphinx rendered scikit-learn.org. See: https://github.com/scikit-learn/scikit-learn/issues/21755 */display: inline-block !important;position: relative;}#sk-container-id-3 div.sk-text-repr-fallback {display: none;}</style><div id=\"sk-container-id-3\" class=\"sk-top-container\"><div class=\"sk-text-repr-fallback\"><pre>RandomizedSearchCV(cv=5,\n",
              "                   estimator=LogisticRegression(max_iter=1000, random_state=42),\n",
              "                   n_jobs=-1,\n",
              "                   param_distributions={&#x27;C&#x27;: array([1.00000000e-04, 7.74263683e-04, 5.99484250e-03, 4.64158883e-02,\n",
              "       3.59381366e-01, 2.78255940e+00, 2.15443469e+01, 1.66810054e+02,\n",
              "       1.29154967e+03, 1.00000000e+04]),\n",
              "                                        &#x27;class_weight&#x27;: [None, &#x27;balanced&#x27;],\n",
              "                                        &#x27;max_iter&#x27;: [200, 500, 1000, 2000],\n",
              "                                        &#x27;solver&#x27;: [&#x27;liblinear&#x27;, &#x27;lbfgs&#x27;,\n",
              "                                                   &#x27;saga&#x27;]},\n",
              "                   random_state=42, scoring=&#x27;f1&#x27;)</pre><b>In a Jupyter environment, please rerun this cell to show the HTML representation or trust the notebook. <br />On GitHub, the HTML representation is unable to render, please try loading this page with nbviewer.org.</b></div><div class=\"sk-container\" hidden><div class=\"sk-item sk-dashed-wrapped\"><div class=\"sk-label-container\"><div class=\"sk-label sk-toggleable\"><input class=\"sk-toggleable__control sk-hidden--visually\" id=\"sk-estimator-id-5\" type=\"checkbox\" ><label for=\"sk-estimator-id-5\" class=\"sk-toggleable__label sk-toggleable__label-arrow\">RandomizedSearchCV</label><div class=\"sk-toggleable__content\"><pre>RandomizedSearchCV(cv=5,\n",
              "                   estimator=LogisticRegression(max_iter=1000, random_state=42),\n",
              "                   n_jobs=-1,\n",
              "                   param_distributions={&#x27;C&#x27;: array([1.00000000e-04, 7.74263683e-04, 5.99484250e-03, 4.64158883e-02,\n",
              "       3.59381366e-01, 2.78255940e+00, 2.15443469e+01, 1.66810054e+02,\n",
              "       1.29154967e+03, 1.00000000e+04]),\n",
              "                                        &#x27;class_weight&#x27;: [None, &#x27;balanced&#x27;],\n",
              "                                        &#x27;max_iter&#x27;: [200, 500, 1000, 2000],\n",
              "                                        &#x27;solver&#x27;: [&#x27;liblinear&#x27;, &#x27;lbfgs&#x27;,\n",
              "                                                   &#x27;saga&#x27;]},\n",
              "                   random_state=42, scoring=&#x27;f1&#x27;)</pre></div></div></div><div class=\"sk-parallel\"><div class=\"sk-parallel-item\"><div class=\"sk-item\"><div class=\"sk-label-container\"><div class=\"sk-label sk-toggleable\"><input class=\"sk-toggleable__control sk-hidden--visually\" id=\"sk-estimator-id-6\" type=\"checkbox\" ><label for=\"sk-estimator-id-6\" class=\"sk-toggleable__label sk-toggleable__label-arrow\">estimator: LogisticRegression</label><div class=\"sk-toggleable__content\"><pre>LogisticRegression(max_iter=1000, random_state=42)</pre></div></div></div><div class=\"sk-serial\"><div class=\"sk-item\"><div class=\"sk-estimator sk-toggleable\"><input class=\"sk-toggleable__control sk-hidden--visually\" id=\"sk-estimator-id-7\" type=\"checkbox\" ><label for=\"sk-estimator-id-7\" class=\"sk-toggleable__label sk-toggleable__label-arrow\">LogisticRegression</label><div class=\"sk-toggleable__content\"><pre>LogisticRegression(max_iter=1000, random_state=42)</pre></div></div></div></div></div></div></div></div></div></div>"
            ]
          },
          "metadata": {},
          "execution_count": 93
        }
      ],
      "source": [
        "# Fit the GridSearchCV object to the data\n",
        "# This line executes the hyperparameter search\n",
        "logis.fit(X_train_com22, y_train_com22)"
      ]
    },
    {
      "cell_type": "code",
      "execution_count": 94,
      "metadata": {
        "colab": {
          "base_uri": "https://localhost:8080/"
        },
        "id": "9lmSlfrKFp5d",
        "outputId": "8aa32a17-0368-4f6e-e921-0c2baae25738"
      },
      "outputs": [
        {
          "output_type": "execute_result",
          "data": {
            "text/plain": [
              "{'solver': 'liblinear',\n",
              " 'max_iter': 200,\n",
              " 'class_weight': None,\n",
              " 'C': 0.000774263682681127}"
            ]
          },
          "metadata": {},
          "execution_count": 94
        }
      ],
      "source": [
        "#Best Parameters Obtained from GridSearchCV HyperParameter tunning\n",
        "logis.best_params_"
      ]
    },
    {
      "cell_type": "markdown",
      "metadata": {
        "id": "dV5quDhaFp5d"
      },
      "source": [
        " Best Parameters obtained from GridSearchCV C=21.54434690031882 ,max_iter= 1000,solver= 'lbfgs'"
      ]
    },
    {
      "cell_type": "code",
      "execution_count": 98,
      "metadata": {
        "id": "DAyrjwMxFp5d"
      },
      "outputs": [],
      "source": [
        "# LogisticRegression model is tunned with best parameters which are Obtained from GridSearchCV\n",
        "logis11=LogisticRegression(C=0.000774263682681127 ,max_iter= 200,solver= 'liblinear')"
      ]
    },
    {
      "cell_type": "code",
      "execution_count": 99,
      "metadata": {
        "colab": {
          "base_uri": "https://localhost:8080/",
          "height": 74
        },
        "id": "zcbt0Wi7Fp5e",
        "outputId": "f9f1f813-d3c7-4036-adcb-982824655395"
      },
      "outputs": [
        {
          "output_type": "execute_result",
          "data": {
            "text/plain": [
              "LogisticRegression(C=0.000774263682681127, max_iter=200, solver='liblinear')"
            ],
            "text/html": [
              "<style>#sk-container-id-4 {color: black;background-color: white;}#sk-container-id-4 pre{padding: 0;}#sk-container-id-4 div.sk-toggleable {background-color: white;}#sk-container-id-4 label.sk-toggleable__label {cursor: pointer;display: block;width: 100%;margin-bottom: 0;padding: 0.3em;box-sizing: border-box;text-align: center;}#sk-container-id-4 label.sk-toggleable__label-arrow:before {content: \"▸\";float: left;margin-right: 0.25em;color: #696969;}#sk-container-id-4 label.sk-toggleable__label-arrow:hover:before {color: black;}#sk-container-id-4 div.sk-estimator:hover label.sk-toggleable__label-arrow:before {color: black;}#sk-container-id-4 div.sk-toggleable__content {max-height: 0;max-width: 0;overflow: hidden;text-align: left;background-color: #f0f8ff;}#sk-container-id-4 div.sk-toggleable__content pre {margin: 0.2em;color: black;border-radius: 0.25em;background-color: #f0f8ff;}#sk-container-id-4 input.sk-toggleable__control:checked~div.sk-toggleable__content {max-height: 200px;max-width: 100%;overflow: auto;}#sk-container-id-4 input.sk-toggleable__control:checked~label.sk-toggleable__label-arrow:before {content: \"▾\";}#sk-container-id-4 div.sk-estimator input.sk-toggleable__control:checked~label.sk-toggleable__label {background-color: #d4ebff;}#sk-container-id-4 div.sk-label input.sk-toggleable__control:checked~label.sk-toggleable__label {background-color: #d4ebff;}#sk-container-id-4 input.sk-hidden--visually {border: 0;clip: rect(1px 1px 1px 1px);clip: rect(1px, 1px, 1px, 1px);height: 1px;margin: -1px;overflow: hidden;padding: 0;position: absolute;width: 1px;}#sk-container-id-4 div.sk-estimator {font-family: monospace;background-color: #f0f8ff;border: 1px dotted black;border-radius: 0.25em;box-sizing: border-box;margin-bottom: 0.5em;}#sk-container-id-4 div.sk-estimator:hover {background-color: #d4ebff;}#sk-container-id-4 div.sk-parallel-item::after {content: \"\";width: 100%;border-bottom: 1px solid gray;flex-grow: 1;}#sk-container-id-4 div.sk-label:hover label.sk-toggleable__label {background-color: #d4ebff;}#sk-container-id-4 div.sk-serial::before {content: \"\";position: absolute;border-left: 1px solid gray;box-sizing: border-box;top: 0;bottom: 0;left: 50%;z-index: 0;}#sk-container-id-4 div.sk-serial {display: flex;flex-direction: column;align-items: center;background-color: white;padding-right: 0.2em;padding-left: 0.2em;position: relative;}#sk-container-id-4 div.sk-item {position: relative;z-index: 1;}#sk-container-id-4 div.sk-parallel {display: flex;align-items: stretch;justify-content: center;background-color: white;position: relative;}#sk-container-id-4 div.sk-item::before, #sk-container-id-4 div.sk-parallel-item::before {content: \"\";position: absolute;border-left: 1px solid gray;box-sizing: border-box;top: 0;bottom: 0;left: 50%;z-index: -1;}#sk-container-id-4 div.sk-parallel-item {display: flex;flex-direction: column;z-index: 1;position: relative;background-color: white;}#sk-container-id-4 div.sk-parallel-item:first-child::after {align-self: flex-end;width: 50%;}#sk-container-id-4 div.sk-parallel-item:last-child::after {align-self: flex-start;width: 50%;}#sk-container-id-4 div.sk-parallel-item:only-child::after {width: 0;}#sk-container-id-4 div.sk-dashed-wrapped {border: 1px dashed gray;margin: 0 0.4em 0.5em 0.4em;box-sizing: border-box;padding-bottom: 0.4em;background-color: white;}#sk-container-id-4 div.sk-label label {font-family: monospace;font-weight: bold;display: inline-block;line-height: 1.2em;}#sk-container-id-4 div.sk-label-container {text-align: center;}#sk-container-id-4 div.sk-container {/* jupyter's `normalize.less` sets `[hidden] { display: none; }` but bootstrap.min.css set `[hidden] { display: none !important; }` so we also need the `!important` here to be able to override the default hidden behavior on the sphinx rendered scikit-learn.org. See: https://github.com/scikit-learn/scikit-learn/issues/21755 */display: inline-block !important;position: relative;}#sk-container-id-4 div.sk-text-repr-fallback {display: none;}</style><div id=\"sk-container-id-4\" class=\"sk-top-container\"><div class=\"sk-text-repr-fallback\"><pre>LogisticRegression(C=0.000774263682681127, max_iter=200, solver=&#x27;liblinear&#x27;)</pre><b>In a Jupyter environment, please rerun this cell to show the HTML representation or trust the notebook. <br />On GitHub, the HTML representation is unable to render, please try loading this page with nbviewer.org.</b></div><div class=\"sk-container\" hidden><div class=\"sk-item\"><div class=\"sk-estimator sk-toggleable\"><input class=\"sk-toggleable__control sk-hidden--visually\" id=\"sk-estimator-id-8\" type=\"checkbox\" checked><label for=\"sk-estimator-id-8\" class=\"sk-toggleable__label sk-toggleable__label-arrow\">LogisticRegression</label><div class=\"sk-toggleable__content\"><pre>LogisticRegression(C=0.000774263682681127, max_iter=200, solver=&#x27;liblinear&#x27;)</pre></div></div></div></div></div>"
            ]
          },
          "metadata": {},
          "execution_count": 99
        }
      ],
      "source": [
        "# Fit the LogisticRegression model to the training data (X) and target labels (y_train)\n",
        "logis11.fit(train_percentile_feature_matrix, y_train_com22)"
      ]
    },
    {
      "cell_type": "code",
      "execution_count": 100,
      "metadata": {
        "id": "4qgaHx6gFp5e"
      },
      "outputs": [],
      "source": [
        "# Predict the labels for the test data using the trained LogisticRegression model and Store Result in y_pred_svc2\n",
        "y_pred_logis = logis11.predict(test_percentile_feature_matrix)"
      ]
    },
    {
      "cell_type": "code",
      "execution_count": 101,
      "metadata": {
        "colab": {
          "base_uri": "https://localhost:8080/"
        },
        "id": "EsAdWwIQFp5f",
        "outputId": "8d98112e-367f-40b3-f7a6-1f7f98e824a4"
      },
      "outputs": [
        {
          "output_type": "stream",
          "name": "stdout",
          "text": [
            "              precision    recall  f1-score   support\n",
            "\n",
            "           0       0.58      0.27      0.37     10696\n",
            "           1       0.72      0.90      0.80     21856\n",
            "\n",
            "    accuracy                           0.70     32552\n",
            "   macro avg       0.65      0.59      0.59     32552\n",
            "weighted avg       0.67      0.70      0.66     32552\n",
            "\n"
          ]
        }
      ],
      "source": [
        "# Print a classification report to evaluate the performance of a LogisticRegression Model\n",
        "# The classification report will provide various metrics such as precision, recall, F1-score\n",
        "# It compares the predicted labels (y_pred_logis) to the true labels (y_test_new11) for the test data\n",
        "# This report is helpful for understanding the model's performance on different classes\n",
        "\n",
        "print(classification_report(y_test_com22,y_pred_logis))"
      ]
    },
    {
      "cell_type": "code",
      "execution_count": 102,
      "metadata": {
        "colab": {
          "base_uri": "https://localhost:8080/"
        },
        "id": "kuDCjqWzFp5f",
        "outputId": "21f8a2ce-3dd0-46ac-e800-f1dc50a28fc6"
      },
      "outputs": [
        {
          "output_type": "stream",
          "name": "stdout",
          "text": [
            "[[ 2937  7759]\n",
            " [ 2108 19748]]\n"
          ]
        }
      ],
      "source": [
        "#print Confusion matrix\n",
        "print(confusion_matrix(y_test_com22,y_pred_logis))"
      ]
    }
  ],
  "metadata": {
    "colab": {
      "provenance": [],
      "include_colab_link": true
    },
    "kernelspec": {
      "display_name": "Python 3",
      "language": "python",
      "name": "python3"
    },
    "language_info": {
      "codemirror_mode": {
        "name": "ipython",
        "version": 3
      },
      "file_extension": ".py",
      "mimetype": "text/x-python",
      "name": "python",
      "nbconvert_exporter": "python",
      "pygments_lexer": "ipython3",
      "version": "3.10.10"
    }
  },
  "nbformat": 4,
  "nbformat_minor": 0
}